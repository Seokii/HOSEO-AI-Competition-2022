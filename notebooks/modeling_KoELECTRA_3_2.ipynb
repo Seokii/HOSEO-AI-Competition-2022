{
 "cells": [
  {
   "cell_type": "markdown",
   "id": "0306a798",
   "metadata": {},
   "source": [
    "## Import Libraries"
   ]
  },
  {
   "cell_type": "code",
   "execution_count": 1,
   "id": "151ddb59",
   "metadata": {},
   "outputs": [],
   "source": [
    "import numpy as np\n",
    "import pandas as pd\n",
    "import seaborn as sns\n",
    "import matplotlib.pyplot as plt\n",
    "\n",
    "from transformers import AutoTokenizer, AutoModel, TFAutoModel, ElectraModel, ElectraTokenizer\n",
    "from transformers import TFElectraModel\n",
    "import tensorflow as tf\n",
    "from tensorflow.keras.layers import Dense,Input\n",
    "from tensorflow.keras.models import Model\n",
    "from tensorflow.keras.optimizers import Adam\n",
    "\n",
    "from sklearn.preprocessing import LabelEncoder\n",
    "from sklearn.model_selection import train_test_split"
   ]
  },
  {
   "cell_type": "code",
   "execution_count": 2,
   "id": "048d0d65",
   "metadata": {},
   "outputs": [],
   "source": [
    "strategy = tf.distribute.get_strategy()"
   ]
  },
  {
   "cell_type": "markdown",
   "id": "820287d6",
   "metadata": {},
   "source": [
    "## Load Dataset"
   ]
  },
  {
   "cell_type": "code",
   "execution_count": 3,
   "id": "73756656",
   "metadata": {},
   "outputs": [
    {
     "name": "stderr",
     "output_type": "stream",
     "text": [
      "C:\\ProgramData\\Anaconda3\\lib\\site-packages\\IPython\\core\\interactiveshell.py:3444: FutureWarning: The error_bad_lines argument has been deprecated and will be removed in a future version.\n",
      "\n",
      "\n",
      "  exec(code_obj, self.user_global_ns, self.user_ns)\n",
      "b'Skipping line 24426: expected 3 fields, saw 4\\nSkipping line 156343: expected 3 fields, saw 4\\nSkipping line 218766: expected 3 fields, saw 4\\nSkipping line 232318: expected 3 fields, saw 4\\nSkipping line 253493: expected 3 fields, saw 4\\n'\n",
      "b'Skipping line 265734: expected 3 fields, saw 4\\nSkipping line 282588: expected 3 fields, saw 4\\nSkipping line 350969: expected 3 fields, saw 4\\n'\n"
     ]
    }
   ],
   "source": [
    "train = pd.read_csv(\"../dataset/train.csv\", encoding='CP949')\n",
    "test = pd.read_csv(\"../dataset/test.csv\", encoding='CP949')\n",
    "sub = pd.read_csv(\"../dataset/test.csv\", encoding='CP949')\n",
    "train_multinli = pd.read_csv('../dataset/kornli/multinli.train.ko.tsv', delimiter='\\t', error_bad_lines=False)\n",
    "train_snli = pd.read_csv('../dataset/kornli/snli_1.0_train.ko.tsv', delimiter='\\t')"
   ]
  },
  {
   "cell_type": "markdown",
   "id": "bc15a6b4",
   "metadata": {},
   "source": [
    "## EDA"
   ]
  },
  {
   "cell_type": "markdown",
   "id": "400e28c0",
   "metadata": {},
   "source": [
    "### .head() 함수로 데이터셋에 대한 기본 정보 확인"
   ]
  },
  {
   "cell_type": "code",
   "execution_count": 4,
   "id": "ce9eecea",
   "metadata": {},
   "outputs": [
    {
     "data": {
      "text/html": [
       "<div>\n",
       "<style scoped>\n",
       "    .dataframe tbody tr th:only-of-type {\n",
       "        vertical-align: middle;\n",
       "    }\n",
       "\n",
       "    .dataframe tbody tr th {\n",
       "        vertical-align: top;\n",
       "    }\n",
       "\n",
       "    .dataframe thead th {\n",
       "        text-align: right;\n",
       "    }\n",
       "</style>\n",
       "<table border=\"1\" class=\"dataframe\">\n",
       "  <thead>\n",
       "    <tr style=\"text-align: right;\">\n",
       "      <th></th>\n",
       "      <th>index</th>\n",
       "      <th>premise</th>\n",
       "      <th>hypothesis</th>\n",
       "      <th>label</th>\n",
       "    </tr>\n",
       "  </thead>\n",
       "  <tbody>\n",
       "    <tr>\n",
       "      <th>0</th>\n",
       "      <td>1</td>\n",
       "      <td>삼성은 자작극을 벌인 2명에게 형사 고소 등의 법적 대응을 검토 중이라고 하였으나,...</td>\n",
       "      <td>자작극을 벌인 이는 3명이다.</td>\n",
       "      <td>contradiction</td>\n",
       "    </tr>\n",
       "    <tr>\n",
       "      <th>1</th>\n",
       "      <td>2</td>\n",
       "      <td>이를 위해 예측적 범죄예방 시스템을 구축하고 고도화한다.</td>\n",
       "      <td>예측적 범죄예방 시스템 구축하고 고도화하는 것은 목적이 있기 때문이다.</td>\n",
       "      <td>entailment</td>\n",
       "    </tr>\n",
       "    <tr>\n",
       "      <th>2</th>\n",
       "      <td>3</td>\n",
       "      <td>광주광역시가 재개발 정비사업 원주민들에 대한 종합대책을 마련하는 등 원주민 보호에 ...</td>\n",
       "      <td>원주민들은 종합대책에 만족했다.</td>\n",
       "      <td>neutral</td>\n",
       "    </tr>\n",
       "    <tr>\n",
       "      <th>3</th>\n",
       "      <td>4</td>\n",
       "      <td>진정 소비자와 직원들에게 사랑 받는 기업으로 오래 지속되고 싶으면, 이런 상황에서는...</td>\n",
       "      <td>이런 상황에서 책임 있는 모습을 보여주는 기업은 아주 드물다.</td>\n",
       "      <td>neutral</td>\n",
       "    </tr>\n",
       "    <tr>\n",
       "      <th>4</th>\n",
       "      <td>5</td>\n",
       "      <td>이번 증설로 코오롱인더스트리는 기존 생산량 7만7000톤에서 1만6800톤이 늘어나...</td>\n",
       "      <td>코오롱 인더스트리는 총 9만 3800톤의 생산 능력을 확보했다.</td>\n",
       "      <td>entailment</td>\n",
       "    </tr>\n",
       "  </tbody>\n",
       "</table>\n",
       "</div>"
      ],
      "text/plain": [
       "   index                                            premise  \\\n",
       "0      1  삼성은 자작극을 벌인 2명에게 형사 고소 등의 법적 대응을 검토 중이라고 하였으나,...   \n",
       "1      2                    이를 위해 예측적 범죄예방 시스템을 구축하고 고도화한다.   \n",
       "2      3  광주광역시가 재개발 정비사업 원주민들에 대한 종합대책을 마련하는 등 원주민 보호에 ...   \n",
       "3      4  진정 소비자와 직원들에게 사랑 받는 기업으로 오래 지속되고 싶으면, 이런 상황에서는...   \n",
       "4      5  이번 증설로 코오롱인더스트리는 기존 생산량 7만7000톤에서 1만6800톤이 늘어나...   \n",
       "\n",
       "                                hypothesis          label  \n",
       "0                         자작극을 벌인 이는 3명이다.  contradiction  \n",
       "1  예측적 범죄예방 시스템 구축하고 고도화하는 것은 목적이 있기 때문이다.     entailment  \n",
       "2                        원주민들은 종합대책에 만족했다.        neutral  \n",
       "3       이런 상황에서 책임 있는 모습을 보여주는 기업은 아주 드물다.        neutral  \n",
       "4      코오롱 인더스트리는 총 9만 3800톤의 생산 능력을 확보했다.     entailment  "
      ]
     },
     "execution_count": 4,
     "metadata": {},
     "output_type": "execute_result"
    }
   ],
   "source": [
    "train.head()"
   ]
  },
  {
   "cell_type": "code",
   "execution_count": 5,
   "id": "d1d1c1f8",
   "metadata": {},
   "outputs": [
    {
     "data": {
      "text/html": [
       "<div>\n",
       "<style scoped>\n",
       "    .dataframe tbody tr th:only-of-type {\n",
       "        vertical-align: middle;\n",
       "    }\n",
       "\n",
       "    .dataframe tbody tr th {\n",
       "        vertical-align: top;\n",
       "    }\n",
       "\n",
       "    .dataframe thead th {\n",
       "        text-align: right;\n",
       "    }\n",
       "</style>\n",
       "<table border=\"1\" class=\"dataframe\">\n",
       "  <thead>\n",
       "    <tr style=\"text-align: right;\">\n",
       "      <th></th>\n",
       "      <th>index</th>\n",
       "      <th>premise</th>\n",
       "      <th>hypothesis</th>\n",
       "    </tr>\n",
       "  </thead>\n",
       "  <tbody>\n",
       "    <tr>\n",
       "      <th>0</th>\n",
       "      <td>1</td>\n",
       "      <td>진짜 사람하나 캐리어하나만 들어갈수있어요</td>\n",
       "      <td>캐리어는 들어갈 수 없어요.</td>\n",
       "    </tr>\n",
       "    <tr>\n",
       "      <th>1</th>\n",
       "      <td>2</td>\n",
       "      <td>그린 아메리카는 우선 대형 초콜릿 제조업체들을 대상으로 설득작업을 벌이고 있습니다.</td>\n",
       "      <td>초콜릿을 만드는 대형 제조업체가 존재한다.</td>\n",
       "    </tr>\n",
       "    <tr>\n",
       "      <th>2</th>\n",
       "      <td>3</td>\n",
       "      <td>또한 강연이 끝난 후 각 국의 업무 담당자들로부터 사전 접수한 질문과 함께 현장에서...</td>\n",
       "      <td>질의응답에 사전 접수된 질문은 답변이 제한된다.</td>\n",
       "    </tr>\n",
       "    <tr>\n",
       "      <th>3</th>\n",
       "      <td>4</td>\n",
       "      <td>수험생들은 각 상담부스에서 입시전문가나 입학사정관과 상담함으로써 수시모집 지원전략을...</td>\n",
       "      <td>수험생들은 입시전문가와 입학사정관에게 수시모집 지원전략에 대한 도움을 받을 수 있다.</td>\n",
       "    </tr>\n",
       "    <tr>\n",
       "      <th>4</th>\n",
       "      <td>5</td>\n",
       "      <td>콜린은 매우 친절하고 응답이 빠릅니다.</td>\n",
       "      <td>콜린이 숙소의 호스트입니다.</td>\n",
       "    </tr>\n",
       "  </tbody>\n",
       "</table>\n",
       "</div>"
      ],
      "text/plain": [
       "   index                                            premise  \\\n",
       "0      1                             진짜 사람하나 캐리어하나만 들어갈수있어요   \n",
       "1      2     그린 아메리카는 우선 대형 초콜릿 제조업체들을 대상으로 설득작업을 벌이고 있습니다.   \n",
       "2      3  또한 강연이 끝난 후 각 국의 업무 담당자들로부터 사전 접수한 질문과 함께 현장에서...   \n",
       "3      4  수험생들은 각 상담부스에서 입시전문가나 입학사정관과 상담함으로써 수시모집 지원전략을...   \n",
       "4      5                              콜린은 매우 친절하고 응답이 빠릅니다.   \n",
       "\n",
       "                                        hypothesis  \n",
       "0                                  캐리어는 들어갈 수 없어요.  \n",
       "1                          초콜릿을 만드는 대형 제조업체가 존재한다.  \n",
       "2                       질의응답에 사전 접수된 질문은 답변이 제한된다.  \n",
       "3  수험생들은 입시전문가와 입학사정관에게 수시모집 지원전략에 대한 도움을 받을 수 있다.  \n",
       "4                                  콜린이 숙소의 호스트입니다.  "
      ]
     },
     "execution_count": 5,
     "metadata": {},
     "output_type": "execute_result"
    }
   ],
   "source": [
    "test.head()"
   ]
  },
  {
   "cell_type": "code",
   "execution_count": 6,
   "id": "db0b4bf6",
   "metadata": {
    "scrolled": true
   },
   "outputs": [
    {
     "data": {
      "text/html": [
       "<div>\n",
       "<style scoped>\n",
       "    .dataframe tbody tr th:only-of-type {\n",
       "        vertical-align: middle;\n",
       "    }\n",
       "\n",
       "    .dataframe tbody tr th {\n",
       "        vertical-align: top;\n",
       "    }\n",
       "\n",
       "    .dataframe thead th {\n",
       "        text-align: right;\n",
       "    }\n",
       "</style>\n",
       "<table border=\"1\" class=\"dataframe\">\n",
       "  <thead>\n",
       "    <tr style=\"text-align: right;\">\n",
       "      <th></th>\n",
       "      <th>sentence1</th>\n",
       "      <th>sentence2</th>\n",
       "      <th>gold_label</th>\n",
       "    </tr>\n",
       "  </thead>\n",
       "  <tbody>\n",
       "    <tr>\n",
       "      <th>0</th>\n",
       "      <td>개념적으로 크림 스키밍은 제품과 지리라는 두 가지 기본 차원을 가지고 있다.</td>\n",
       "      <td>제품과 지리학은 크림 스키밍을 작동시키는 것이다.</td>\n",
       "      <td>neutral</td>\n",
       "    </tr>\n",
       "    <tr>\n",
       "      <th>1</th>\n",
       "      <td>시즌 중에 알고 있는 거 알아? 네 레벨에서 다음 레벨로 잃어버리는 거야 브레이브스...</td>\n",
       "      <td>사람들이 기억하면 다음 수준으로 물건을 잃는다.</td>\n",
       "      <td>entailment</td>\n",
       "    </tr>\n",
       "    <tr>\n",
       "      <th>2</th>\n",
       "      <td>우리 번호 중 하나가 당신의 지시를 세밀하게 수행할 것이다.</td>\n",
       "      <td>우리 팀의 일원이 당신의 명령을 엄청나게 정확하게 실행할 것이다.</td>\n",
       "      <td>entailment</td>\n",
       "    </tr>\n",
       "    <tr>\n",
       "      <th>3</th>\n",
       "      <td>어떻게 아세요? 이 모든 것이 다시 그들의 정보다.</td>\n",
       "      <td>이 정보는 그들의 것이다.</td>\n",
       "      <td>entailment</td>\n",
       "    </tr>\n",
       "    <tr>\n",
       "      <th>4</th>\n",
       "      <td>그래, 만약 네가 테니스화 몇 개를 사러 간다면, 나는 왜 그들이 100달러대에서 ...</td>\n",
       "      <td>테니스화의 가격은 다양하다.</td>\n",
       "      <td>neutral</td>\n",
       "    </tr>\n",
       "  </tbody>\n",
       "</table>\n",
       "</div>"
      ],
      "text/plain": [
       "                                           sentence1  \\\n",
       "0         개념적으로 크림 스키밍은 제품과 지리라는 두 가지 기본 차원을 가지고 있다.   \n",
       "1  시즌 중에 알고 있는 거 알아? 네 레벨에서 다음 레벨로 잃어버리는 거야 브레이브스...   \n",
       "2                  우리 번호 중 하나가 당신의 지시를 세밀하게 수행할 것이다.   \n",
       "3                       어떻게 아세요? 이 모든 것이 다시 그들의 정보다.   \n",
       "4  그래, 만약 네가 테니스화 몇 개를 사러 간다면, 나는 왜 그들이 100달러대에서 ...   \n",
       "\n",
       "                              sentence2  gold_label  \n",
       "0           제품과 지리학은 크림 스키밍을 작동시키는 것이다.     neutral  \n",
       "1            사람들이 기억하면 다음 수준으로 물건을 잃는다.  entailment  \n",
       "2  우리 팀의 일원이 당신의 명령을 엄청나게 정확하게 실행할 것이다.  entailment  \n",
       "3                        이 정보는 그들의 것이다.  entailment  \n",
       "4                       테니스화의 가격은 다양하다.     neutral  "
      ]
     },
     "execution_count": 6,
     "metadata": {},
     "output_type": "execute_result"
    }
   ],
   "source": [
    "train_multinli.head()"
   ]
  },
  {
   "cell_type": "code",
   "execution_count": 7,
   "id": "af1f3706",
   "metadata": {},
   "outputs": [
    {
     "data": {
      "text/html": [
       "<div>\n",
       "<style scoped>\n",
       "    .dataframe tbody tr th:only-of-type {\n",
       "        vertical-align: middle;\n",
       "    }\n",
       "\n",
       "    .dataframe tbody tr th {\n",
       "        vertical-align: top;\n",
       "    }\n",
       "\n",
       "    .dataframe thead th {\n",
       "        text-align: right;\n",
       "    }\n",
       "</style>\n",
       "<table border=\"1\" class=\"dataframe\">\n",
       "  <thead>\n",
       "    <tr style=\"text-align: right;\">\n",
       "      <th></th>\n",
       "      <th>sentence1</th>\n",
       "      <th>sentence2</th>\n",
       "      <th>gold_label</th>\n",
       "    </tr>\n",
       "  </thead>\n",
       "  <tbody>\n",
       "    <tr>\n",
       "      <th>0</th>\n",
       "      <td>말을 탄 사람이 고장난 비행기 위로 뛰어오른다.</td>\n",
       "      <td>한 사람이 경쟁을 위해 말을 훈련시키고 있다.</td>\n",
       "      <td>neutral</td>\n",
       "    </tr>\n",
       "    <tr>\n",
       "      <th>1</th>\n",
       "      <td>말을 탄 사람이 고장난 비행기 위로 뛰어오른다.</td>\n",
       "      <td>한 사람이 식당에서 오믈렛을 주문하고 있다.</td>\n",
       "      <td>contradiction</td>\n",
       "    </tr>\n",
       "    <tr>\n",
       "      <th>2</th>\n",
       "      <td>말을 탄 사람이 고장난 비행기 위로 뛰어오른다.</td>\n",
       "      <td>사람은 야외에서 말을 타고 있다.</td>\n",
       "      <td>entailment</td>\n",
       "    </tr>\n",
       "    <tr>\n",
       "      <th>3</th>\n",
       "      <td>카메라에 웃고 손을 흔드는 아이들</td>\n",
       "      <td>그들은 부모님을 보고 웃고 있다</td>\n",
       "      <td>neutral</td>\n",
       "    </tr>\n",
       "    <tr>\n",
       "      <th>4</th>\n",
       "      <td>카메라에 웃고 손을 흔드는 아이들</td>\n",
       "      <td>아이들이 있다</td>\n",
       "      <td>entailment</td>\n",
       "    </tr>\n",
       "  </tbody>\n",
       "</table>\n",
       "</div>"
      ],
      "text/plain": [
       "                    sentence1                  sentence2     gold_label\n",
       "0  말을 탄 사람이 고장난 비행기 위로 뛰어오른다.  한 사람이 경쟁을 위해 말을 훈련시키고 있다.        neutral\n",
       "1  말을 탄 사람이 고장난 비행기 위로 뛰어오른다.   한 사람이 식당에서 오믈렛을 주문하고 있다.  contradiction\n",
       "2  말을 탄 사람이 고장난 비행기 위로 뛰어오른다.         사람은 야외에서 말을 타고 있다.     entailment\n",
       "3          카메라에 웃고 손을 흔드는 아이들          그들은 부모님을 보고 웃고 있다        neutral\n",
       "4          카메라에 웃고 손을 흔드는 아이들                    아이들이 있다     entailment"
      ]
     },
     "execution_count": 7,
     "metadata": {},
     "output_type": "execute_result"
    }
   ],
   "source": [
    "train_snli.head()"
   ]
  },
  {
   "cell_type": "code",
   "execution_count": 8,
   "id": "1cd28c12",
   "metadata": {
    "scrolled": true
   },
   "outputs": [
    {
     "name": "stdout",
     "output_type": "stream",
     "text": [
      "train shape => (19996, 4) \n",
      "test shape => (5000, 3)\n",
      "train_multinli => (385494, 3)\n",
      "train_snli => (550152, 3)\n"
     ]
    }
   ],
   "source": [
    "print(f\"train shape => {train.shape} \\ntest shape => {test.shape}\")\n",
    "print(f\"train_multinli => {train_multinli.shape}\")\n",
    "print(f\"train_snli => {train_snli.shape}\")"
   ]
  },
  {
   "cell_type": "code",
   "execution_count": 9,
   "id": "144fa413",
   "metadata": {},
   "outputs": [],
   "source": [
    "train.drop(['index'], axis=1, inplace=True)"
   ]
  },
  {
   "cell_type": "code",
   "execution_count": 10,
   "id": "82976279",
   "metadata": {},
   "outputs": [
    {
     "data": {
      "text/plain": [
       "Index(['premise', 'hypothesis', 'label'], dtype='object')"
      ]
     },
     "execution_count": 10,
     "metadata": {},
     "output_type": "execute_result"
    }
   ],
   "source": [
    "train.columns"
   ]
  },
  {
   "cell_type": "code",
   "execution_count": 11,
   "id": "c54bc24f",
   "metadata": {},
   "outputs": [],
   "source": [
    "train_multinli.rename(columns={'sentence1':'premise', 'sentence2':'hypothesis', 'gold_label':'label'}, inplace=True)"
   ]
  },
  {
   "cell_type": "code",
   "execution_count": 12,
   "id": "2d52e2ac",
   "metadata": {},
   "outputs": [],
   "source": [
    "train_snli.rename(columns={'sentence1':'premise', 'sentence2':'hypothesis', 'gold_label':'label'}, inplace=True)"
   ]
  },
  {
   "cell_type": "code",
   "execution_count": 13,
   "id": "b032e999",
   "metadata": {},
   "outputs": [],
   "source": [
    "train_all = pd.concat([train, train_snli], ignore_index=True)"
   ]
  },
  {
   "cell_type": "markdown",
   "id": "3233db4f",
   "metadata": {},
   "source": [
    "### 훈련 데이터 결측치 계산  \n",
    "결측치가 존재해 제거하는 과정을 진행."
   ]
  },
  {
   "cell_type": "code",
   "execution_count": 15,
   "id": "ef841a10",
   "metadata": {},
   "outputs": [
    {
     "data": {
      "text/plain": [
       "premise       0\n",
       "hypothesis    6\n",
       "label         0\n",
       "dtype: int64"
      ]
     },
     "execution_count": 15,
     "metadata": {},
     "output_type": "execute_result"
    }
   ],
   "source": [
    "train_all.isnull().sum()"
   ]
  },
  {
   "cell_type": "code",
   "execution_count": 16,
   "id": "e51703d6",
   "metadata": {},
   "outputs": [
    {
     "data": {
      "text/plain": [
       "(570148, 3)"
      ]
     },
     "execution_count": 16,
     "metadata": {},
     "output_type": "execute_result"
    }
   ],
   "source": [
    "train_all.shape"
   ]
  },
  {
   "cell_type": "code",
   "execution_count": 17,
   "id": "3f31d066",
   "metadata": {},
   "outputs": [],
   "source": [
    "train_all.dropna(inplace=True)"
   ]
  },
  {
   "cell_type": "code",
   "execution_count": 18,
   "id": "4ea829b4",
   "metadata": {},
   "outputs": [
    {
     "data": {
      "text/plain": [
       "premise       0\n",
       "hypothesis    0\n",
       "label         0\n",
       "dtype: int64"
      ]
     },
     "execution_count": 18,
     "metadata": {},
     "output_type": "execute_result"
    }
   ],
   "source": [
    "train_all.isnull().sum()"
   ]
  },
  {
   "cell_type": "code",
   "execution_count": 19,
   "id": "813a5379",
   "metadata": {},
   "outputs": [
    {
     "data": {
      "text/plain": [
       "(570142, 3)"
      ]
     },
     "execution_count": 19,
     "metadata": {},
     "output_type": "execute_result"
    }
   ],
   "source": [
    "train_all.shape"
   ]
  },
  {
   "cell_type": "code",
   "execution_count": 20,
   "id": "17125924",
   "metadata": {},
   "outputs": [
    {
     "data": {
      "text/html": [
       "<div>\n",
       "<style scoped>\n",
       "    .dataframe tbody tr th:only-of-type {\n",
       "        vertical-align: middle;\n",
       "    }\n",
       "\n",
       "    .dataframe tbody tr th {\n",
       "        vertical-align: top;\n",
       "    }\n",
       "\n",
       "    .dataframe thead th {\n",
       "        text-align: right;\n",
       "    }\n",
       "</style>\n",
       "<table border=\"1\" class=\"dataframe\">\n",
       "  <thead>\n",
       "    <tr style=\"text-align: right;\">\n",
       "      <th></th>\n",
       "      <th>premise</th>\n",
       "      <th>hypothesis</th>\n",
       "      <th>label</th>\n",
       "    </tr>\n",
       "  </thead>\n",
       "  <tbody>\n",
       "    <tr>\n",
       "      <th>570143</th>\n",
       "      <td>네 명의 더러운 맨발의 아이들.</td>\n",
       "      <td>4명의 아이들이 '가장 깨끗한 발'로 상을 받았다</td>\n",
       "      <td>contradiction</td>\n",
       "    </tr>\n",
       "    <tr>\n",
       "      <th>570144</th>\n",
       "      <td>네 명의 더러운 맨발의 아이들.</td>\n",
       "      <td>네 명의 노숙자 아이들이 신발을 도둑맞아서 그들의 발이 더러워졌다.</td>\n",
       "      <td>neutral</td>\n",
       "    </tr>\n",
       "    <tr>\n",
       "      <th>570145</th>\n",
       "      <td>한 남자가 아름다운 푸른 물에서 바디슈트를 입고 서핑을 하고 있다.</td>\n",
       "      <td>바디슈트를 입은 남자가 서핑 대회에 참가하고 있다.</td>\n",
       "      <td>neutral</td>\n",
       "    </tr>\n",
       "    <tr>\n",
       "      <th>570146</th>\n",
       "      <td>한 남자가 아름다운 푸른 물에서 바디슈트를 입고 서핑을 하고 있다.</td>\n",
       "      <td>비즈니스 슈트를 입은 남자가 이사회로 향하고 있다.</td>\n",
       "      <td>contradiction</td>\n",
       "    </tr>\n",
       "    <tr>\n",
       "      <th>570147</th>\n",
       "      <td>한 남자가 아름다운 푸른 물에서 바디슈트를 입고 서핑을 하고 있다.</td>\n",
       "      <td>아름다운 푸른 물 위에는 바디슈트를 입은 남자가 서핑을 하고 있다.</td>\n",
       "      <td>entailment</td>\n",
       "    </tr>\n",
       "  </tbody>\n",
       "</table>\n",
       "</div>"
      ],
      "text/plain": [
       "                                      premise  \\\n",
       "570143                      네 명의 더러운 맨발의 아이들.   \n",
       "570144                      네 명의 더러운 맨발의 아이들.   \n",
       "570145  한 남자가 아름다운 푸른 물에서 바디슈트를 입고 서핑을 하고 있다.   \n",
       "570146  한 남자가 아름다운 푸른 물에서 바디슈트를 입고 서핑을 하고 있다.   \n",
       "570147  한 남자가 아름다운 푸른 물에서 바디슈트를 입고 서핑을 하고 있다.   \n",
       "\n",
       "                                   hypothesis          label  \n",
       "570143            4명의 아이들이 '가장 깨끗한 발'로 상을 받았다  contradiction  \n",
       "570144  네 명의 노숙자 아이들이 신발을 도둑맞아서 그들의 발이 더러워졌다.        neutral  \n",
       "570145           바디슈트를 입은 남자가 서핑 대회에 참가하고 있다.        neutral  \n",
       "570146           비즈니스 슈트를 입은 남자가 이사회로 향하고 있다.  contradiction  \n",
       "570147  아름다운 푸른 물 위에는 바디슈트를 입은 남자가 서핑을 하고 있다.     entailment  "
      ]
     },
     "execution_count": 20,
     "metadata": {},
     "output_type": "execute_result"
    }
   ],
   "source": [
    "train_all.tail()"
   ]
  },
  {
   "cell_type": "code",
   "execution_count": 21,
   "id": "b23cbcf9",
   "metadata": {},
   "outputs": [],
   "source": [
    "# train_target = train_all[30000:30010]"
   ]
  },
  {
   "cell_type": "code",
   "execution_count": 22,
   "id": "8378da7e",
   "metadata": {},
   "outputs": [],
   "source": [
    "# train_target.reset_index(inplace=True, drop=True)"
   ]
  },
  {
   "cell_type": "code",
   "execution_count": 23,
   "id": "39c5aaf3",
   "metadata": {},
   "outputs": [],
   "source": [
    "# train_target"
   ]
  },
  {
   "cell_type": "markdown",
   "id": "c7c52e08",
   "metadata": {},
   "source": [
    "### LabelEncoder를 활용해 categorical features를 encode함\n",
    "contradiction => 0  \n",
    "entailment => 1  \n",
    "neutral => 2"
   ]
  },
  {
   "cell_type": "code",
   "execution_count": 24,
   "id": "90d611c0",
   "metadata": {},
   "outputs": [],
   "source": [
    "categorical_cols = ['label']\n",
    "for e in categorical_cols:\n",
    "    le = LabelEncoder()\n",
    "    train_all[e] = le.fit_transform(train_all[e])"
   ]
  },
  {
   "cell_type": "code",
   "execution_count": 25,
   "id": "5f97655d",
   "metadata": {},
   "outputs": [
    {
     "data": {
      "text/html": [
       "<div>\n",
       "<style scoped>\n",
       "    .dataframe tbody tr th:only-of-type {\n",
       "        vertical-align: middle;\n",
       "    }\n",
       "\n",
       "    .dataframe tbody tr th {\n",
       "        vertical-align: top;\n",
       "    }\n",
       "\n",
       "    .dataframe thead th {\n",
       "        text-align: right;\n",
       "    }\n",
       "</style>\n",
       "<table border=\"1\" class=\"dataframe\">\n",
       "  <thead>\n",
       "    <tr style=\"text-align: right;\">\n",
       "      <th></th>\n",
       "      <th>premise</th>\n",
       "      <th>hypothesis</th>\n",
       "      <th>label</th>\n",
       "    </tr>\n",
       "  </thead>\n",
       "  <tbody>\n",
       "    <tr>\n",
       "      <th>0</th>\n",
       "      <td>삼성은 자작극을 벌인 2명에게 형사 고소 등의 법적 대응을 검토 중이라고 하였으나,...</td>\n",
       "      <td>자작극을 벌인 이는 3명이다.</td>\n",
       "      <td>0</td>\n",
       "    </tr>\n",
       "    <tr>\n",
       "      <th>1</th>\n",
       "      <td>이를 위해 예측적 범죄예방 시스템을 구축하고 고도화한다.</td>\n",
       "      <td>예측적 범죄예방 시스템 구축하고 고도화하는 것은 목적이 있기 때문이다.</td>\n",
       "      <td>1</td>\n",
       "    </tr>\n",
       "    <tr>\n",
       "      <th>2</th>\n",
       "      <td>광주광역시가 재개발 정비사업 원주민들에 대한 종합대책을 마련하는 등 원주민 보호에 ...</td>\n",
       "      <td>원주민들은 종합대책에 만족했다.</td>\n",
       "      <td>2</td>\n",
       "    </tr>\n",
       "    <tr>\n",
       "      <th>3</th>\n",
       "      <td>진정 소비자와 직원들에게 사랑 받는 기업으로 오래 지속되고 싶으면, 이런 상황에서는...</td>\n",
       "      <td>이런 상황에서 책임 있는 모습을 보여주는 기업은 아주 드물다.</td>\n",
       "      <td>2</td>\n",
       "    </tr>\n",
       "    <tr>\n",
       "      <th>4</th>\n",
       "      <td>이번 증설로 코오롱인더스트리는 기존 생산량 7만7000톤에서 1만6800톤이 늘어나...</td>\n",
       "      <td>코오롱 인더스트리는 총 9만 3800톤의 생산 능력을 확보했다.</td>\n",
       "      <td>1</td>\n",
       "    </tr>\n",
       "  </tbody>\n",
       "</table>\n",
       "</div>"
      ],
      "text/plain": [
       "                                             premise  \\\n",
       "0  삼성은 자작극을 벌인 2명에게 형사 고소 등의 법적 대응을 검토 중이라고 하였으나,...   \n",
       "1                    이를 위해 예측적 범죄예방 시스템을 구축하고 고도화한다.   \n",
       "2  광주광역시가 재개발 정비사업 원주민들에 대한 종합대책을 마련하는 등 원주민 보호에 ...   \n",
       "3  진정 소비자와 직원들에게 사랑 받는 기업으로 오래 지속되고 싶으면, 이런 상황에서는...   \n",
       "4  이번 증설로 코오롱인더스트리는 기존 생산량 7만7000톤에서 1만6800톤이 늘어나...   \n",
       "\n",
       "                                hypothesis  label  \n",
       "0                         자작극을 벌인 이는 3명이다.      0  \n",
       "1  예측적 범죄예방 시스템 구축하고 고도화하는 것은 목적이 있기 때문이다.      1  \n",
       "2                        원주민들은 종합대책에 만족했다.      2  \n",
       "3       이런 상황에서 책임 있는 모습을 보여주는 기업은 아주 드물다.      2  \n",
       "4      코오롱 인더스트리는 총 9만 3800톤의 생산 능력을 확보했다.      1  "
      ]
     },
     "execution_count": 25,
     "metadata": {},
     "output_type": "execute_result"
    }
   ],
   "source": [
    "train_all.head()"
   ]
  },
  {
   "cell_type": "code",
   "execution_count": 26,
   "id": "19ad8ab1",
   "metadata": {},
   "outputs": [
    {
     "data": {
      "text/html": [
       "<div>\n",
       "<style scoped>\n",
       "    .dataframe tbody tr th:only-of-type {\n",
       "        vertical-align: middle;\n",
       "    }\n",
       "\n",
       "    .dataframe tbody tr th {\n",
       "        vertical-align: top;\n",
       "    }\n",
       "\n",
       "    .dataframe thead th {\n",
       "        text-align: right;\n",
       "    }\n",
       "</style>\n",
       "<table border=\"1\" class=\"dataframe\">\n",
       "  <thead>\n",
       "    <tr style=\"text-align: right;\">\n",
       "      <th></th>\n",
       "      <th>premise</th>\n",
       "      <th>hypothesis</th>\n",
       "      <th>label</th>\n",
       "    </tr>\n",
       "  </thead>\n",
       "  <tbody>\n",
       "    <tr>\n",
       "      <th>570143</th>\n",
       "      <td>네 명의 더러운 맨발의 아이들.</td>\n",
       "      <td>4명의 아이들이 '가장 깨끗한 발'로 상을 받았다</td>\n",
       "      <td>0</td>\n",
       "    </tr>\n",
       "    <tr>\n",
       "      <th>570144</th>\n",
       "      <td>네 명의 더러운 맨발의 아이들.</td>\n",
       "      <td>네 명의 노숙자 아이들이 신발을 도둑맞아서 그들의 발이 더러워졌다.</td>\n",
       "      <td>2</td>\n",
       "    </tr>\n",
       "    <tr>\n",
       "      <th>570145</th>\n",
       "      <td>한 남자가 아름다운 푸른 물에서 바디슈트를 입고 서핑을 하고 있다.</td>\n",
       "      <td>바디슈트를 입은 남자가 서핑 대회에 참가하고 있다.</td>\n",
       "      <td>2</td>\n",
       "    </tr>\n",
       "    <tr>\n",
       "      <th>570146</th>\n",
       "      <td>한 남자가 아름다운 푸른 물에서 바디슈트를 입고 서핑을 하고 있다.</td>\n",
       "      <td>비즈니스 슈트를 입은 남자가 이사회로 향하고 있다.</td>\n",
       "      <td>0</td>\n",
       "    </tr>\n",
       "    <tr>\n",
       "      <th>570147</th>\n",
       "      <td>한 남자가 아름다운 푸른 물에서 바디슈트를 입고 서핑을 하고 있다.</td>\n",
       "      <td>아름다운 푸른 물 위에는 바디슈트를 입은 남자가 서핑을 하고 있다.</td>\n",
       "      <td>1</td>\n",
       "    </tr>\n",
       "  </tbody>\n",
       "</table>\n",
       "</div>"
      ],
      "text/plain": [
       "                                      premise  \\\n",
       "570143                      네 명의 더러운 맨발의 아이들.   \n",
       "570144                      네 명의 더러운 맨발의 아이들.   \n",
       "570145  한 남자가 아름다운 푸른 물에서 바디슈트를 입고 서핑을 하고 있다.   \n",
       "570146  한 남자가 아름다운 푸른 물에서 바디슈트를 입고 서핑을 하고 있다.   \n",
       "570147  한 남자가 아름다운 푸른 물에서 바디슈트를 입고 서핑을 하고 있다.   \n",
       "\n",
       "                                   hypothesis  label  \n",
       "570143            4명의 아이들이 '가장 깨끗한 발'로 상을 받았다      0  \n",
       "570144  네 명의 노숙자 아이들이 신발을 도둑맞아서 그들의 발이 더러워졌다.      2  \n",
       "570145           바디슈트를 입은 남자가 서핑 대회에 참가하고 있다.      2  \n",
       "570146           비즈니스 슈트를 입은 남자가 이사회로 향하고 있다.      0  \n",
       "570147  아름다운 푸른 물 위에는 바디슈트를 입은 남자가 서핑을 하고 있다.      1  "
      ]
     },
     "execution_count": 26,
     "metadata": {},
     "output_type": "execute_result"
    }
   ],
   "source": [
    "train_all.tail()"
   ]
  },
  {
   "cell_type": "code",
   "execution_count": 27,
   "id": "f9e1b076",
   "metadata": {
    "scrolled": true
   },
   "outputs": [
    {
     "data": {
      "text/plain": [
       "array([0, 1, 2, ..., 2, 0, 1])"
      ]
     },
     "execution_count": 27,
     "metadata": {},
     "output_type": "execute_result"
    }
   ],
   "source": [
    "train_all['label'].values"
   ]
  },
  {
   "cell_type": "code",
   "execution_count": 28,
   "id": "a6360b77",
   "metadata": {},
   "outputs": [
    {
     "data": {
      "text/plain": [
       "570142"
      ]
     },
     "execution_count": 28,
     "metadata": {},
     "output_type": "execute_result"
    }
   ],
   "source": [
    "len(train_all['premise'].values)"
   ]
  },
  {
   "cell_type": "code",
   "execution_count": 29,
   "id": "b276ccc3",
   "metadata": {},
   "outputs": [
    {
     "data": {
      "text/plain": [
       "570142"
      ]
     },
     "execution_count": 29,
     "metadata": {},
     "output_type": "execute_result"
    }
   ],
   "source": [
    "len(train_all['hypothesis'].values)"
   ]
  },
  {
   "cell_type": "code",
   "execution_count": 30,
   "id": "cb795047",
   "metadata": {},
   "outputs": [
    {
     "data": {
      "text/plain": [
       "570142"
      ]
     },
     "execution_count": 30,
     "metadata": {},
     "output_type": "execute_result"
    }
   ],
   "source": [
    "len(train_all['label'].values)"
   ]
  },
  {
   "cell_type": "markdown",
   "id": "76809a08",
   "metadata": {},
   "source": [
    "### 라벨값이 balaced 한지 imbalanced 한지 확인하는 visualization\n",
    "만약 학습 데이터가 imbalanced 하다면, 추가적인 고민이 필요하지만  \n",
    "시각화 결과 클래스 값들이 고르게 분포되어 있음."
   ]
  },
  {
   "cell_type": "code",
   "execution_count": 31,
   "id": "56852407",
   "metadata": {},
   "outputs": [
    {
     "data": {
      "image/png": "[encoded data removed]",
      "text/plain": [
       "<Figure size 432x288 with 1 Axes>"
      ]
     },
     "metadata": {},
     "output_type": "display_data"
    }
   ],
   "source": [
    "sns.set_theme(style=\"darkgrid\")\n",
    "ax = sns.countplot(x=\"label\", data=train_all)"
   ]
  },
  {
   "cell_type": "code",
   "execution_count": 32,
   "id": "8dd4a3de",
   "metadata": {},
   "outputs": [
    {
     "data": {
      "image/png": "[encoded data removed]",
      "text/plain": [
       "<Figure size 360x360 with 1 Axes>"
      ]
     },
     "metadata": {},
     "output_type": "display_data"
    }
   ],
   "source": [
    "labels, frequencies = np.unique(train_all.label.values, return_counts=True)\n",
    "plt.figure(figsize=(5,5))\n",
    "plt.pie(frequencies, labels = labels, autopct= '%1.1f%%')\n",
    "plt.show()"
   ]
  },
  {
   "cell_type": "markdown",
   "id": "cbbfe994",
   "metadata": {},
   "source": [
    "## Modeling - KoELECTRA"
   ]
  },
  {
   "cell_type": "code",
   "execution_count": 33,
   "id": "e002c4cd",
   "metadata": {},
   "outputs": [],
   "source": [
    "def model_KoELECTRA():\n",
    "    with strategy.scope():\n",
    "        encoder = TFElectraModel.from_pretrained(\"monologg/koelectra-base-v3-discriminator\", from_pt=True)\n",
    "\n",
    "        input_layer = Input(shape=(100,), dtype=tf.int32, name=\"input_layer\")\n",
    "        sequence_output = encoder(input_layer)[0]\n",
    "\n",
    "        cls_token = sequence_output[:, 0, :]\n",
    "\n",
    "        output_layer = Dense(3, activation='softmax')(cls_token)\n",
    "\n",
    "        model = Model(inputs=input_layer, outputs=output_layer)\n",
    "        model.compile(Adam(lr=1e-5), loss='sparse_categorical_crossentropy', metrics=['accuracy'])\n",
    "    \n",
    "    return model"
   ]
  },
  {
   "cell_type": "code",
   "execution_count": 34,
   "id": "e63e05af",
   "metadata": {},
   "outputs": [
    {
     "name": "stderr",
     "output_type": "stream",
     "text": [
      "Some weights of the PyTorch model were not used when initializing the TF 2.0 model TFElectraModel: ['discriminator_predictions.dense.weight', 'discriminator_predictions.dense_prediction.weight', 'discriminator_predictions.dense.bias', 'discriminator_predictions.dense_prediction.bias', 'electra.embeddings.position_ids']\n",
      "- This IS expected if you are initializing TFElectraModel from a PyTorch model trained on another task or with another architecture (e.g. initializing a TFBertForSequenceClassification model from a BertForPreTraining model).\n",
      "- This IS NOT expected if you are initializing TFElectraModel from a PyTorch model that you expect to be exactly identical (e.g. initializing a TFBertForSequenceClassification model from a BertForSequenceClassification model).\n",
      "All the weights of TFElectraModel were initialized from the PyTorch model.\n",
      "If your task is similar to the task the model of the checkpoint was trained on, you can already use TFElectraModel for predictions without further training.\n"
     ]
    },
    {
     "name": "stdout",
     "output_type": "stream",
     "text": [
      "WARNING:tensorflow:From C:\\Users\\Home\\AppData\\Roaming\\Python\\Python38\\site-packages\\tensorflow\\python\\ops\\array_ops.py:5043: calling gather (from tensorflow.python.ops.array_ops) with validate_indices is deprecated and will be removed in a future version.\n",
      "Instructions for updating:\n",
      "The `validate_indices` argument has no effect. Indices are always validated on CPU and never validated on GPU.\n"
     ]
    },
    {
     "name": "stderr",
     "output_type": "stream",
     "text": [
      "C:\\Users\\Home\\AppData\\Roaming\\Python\\Python38\\site-packages\\tensorflow\\python\\keras\\optimizer_v2\\optimizer_v2.py:374: UserWarning: The `lr` argument is deprecated, use `learning_rate` instead.\n",
      "  warnings.warn(\n"
     ]
    }
   ],
   "source": [
    "model = model_KoELECTRA()"
   ]
  },
  {
   "cell_type": "code",
   "execution_count": 35,
   "id": "2fee687d",
   "metadata": {},
   "outputs": [],
   "source": [
    "tokenizer = ElectraTokenizer.from_pretrained(\"monologg/koelectra-base-v3-discriminator\")"
   ]
  },
  {
   "cell_type": "code",
   "execution_count": 36,
   "id": "495e1dd2",
   "metadata": {},
   "outputs": [],
   "source": [
    "train_data = train_all[['premise', 'hypothesis']].values.tolist()\n",
    "test_data = test[['premise', 'hypothesis']].values.tolist()"
   ]
  },
  {
   "cell_type": "markdown",
   "id": "0e2c4f09",
   "metadata": {},
   "source": [
    "### 패딩 적절 길이 구하기"
   ]
  },
  {
   "cell_type": "code",
   "execution_count": 37,
   "id": "bf049b3a",
   "metadata": {},
   "outputs": [],
   "source": [
    "train_encoded = tokenizer.batch_encode_plus(train_data)\n",
    "test_encoded = tokenizer.batch_encode_plus(test_data)"
   ]
  },
  {
   "cell_type": "code",
   "execution_count": 38,
   "id": "4f166701",
   "metadata": {},
   "outputs": [
    {
     "name": "stdout",
     "output_type": "stream",
     "text": [
      "토큰 길이 평균: 32.0048440211287\n",
      "토큰 길이 최대: 130\n",
      "토큰 길이 표준편차: 9.36505535157535\n"
     ]
    }
   ],
   "source": [
    "cal_length = train_encoded['input_ids'] + test_encoded['input_ids']\n",
    "\n",
    "num_tokens = [len(tokens) for tokens in cal_length]\n",
    "num_tokens = np.array(num_tokens)\n",
    "\n",
    "# 평균값, 최댓값, 표준편차\n",
    "print(f\"토큰 길이 평균: {np.mean(num_tokens)}\")\n",
    "print(f\"토큰 길이 최대: {np.max(num_tokens)}\")\n",
    "print(f\"토큰 길이 표준편차: {np.std(num_tokens)}\")"
   ]
  },
  {
   "cell_type": "code",
   "execution_count": 39,
   "id": "7099b879",
   "metadata": {},
   "outputs": [],
   "source": [
    "test_num_tokens = [len(tokens) for tokens in test_encoded['input_ids']]"
   ]
  },
  {
   "cell_type": "code",
   "execution_count": 40,
   "id": "b6ccc26d",
   "metadata": {},
   "outputs": [
    {
     "name": "stdout",
     "output_type": "stream",
     "text": [
      "토큰 길이 최대: 98\n"
     ]
    }
   ],
   "source": [
    "# 평균값, 최댓값, 표준편차\n",
    "print(f\"토큰 길이 최대: {np.max(test_num_tokens)}\")"
   ]
  },
  {
   "cell_type": "code",
   "execution_count": 41,
   "id": "23cb9320",
   "metadata": {
    "scrolled": true
   },
   "outputs": [
    {
     "data": {
      "image/png": "[encoded data removed]",
      "text/plain": [
       "<Figure size 432x288 with 1 Axes>"
      ]
     },
     "metadata": {},
     "output_type": "display_data"
    }
   ],
   "source": [
    "plt.title('all text length')\n",
    "plt.hist(num_tokens, bins=100)\n",
    "plt.xlabel('length of samples')\n",
    "plt.ylabel('number of samples')\n",
    "plt.show()"
   ]
  },
  {
   "cell_type": "code",
   "execution_count": 42,
   "id": "57fa1234",
   "metadata": {},
   "outputs": [],
   "source": [
    "select_length = 100"
   ]
  },
  {
   "cell_type": "code",
   "execution_count": 43,
   "id": "31558f72",
   "metadata": {},
   "outputs": [],
   "source": [
    "def below_threshold_len(max_len, nested_list):\n",
    "  cnt = 0\n",
    "  for s in nested_list:\n",
    "    if(len(s) <= max_len):\n",
    "        cnt = cnt + 1\n",
    "  print('전체 샘플 중 길이가 %s 이하인 샘플의 비율: %s'%(max_len, (cnt / len(nested_list))))"
   ]
  },
  {
   "cell_type": "code",
   "execution_count": 44,
   "id": "2ada24d2",
   "metadata": {
    "scrolled": true
   },
   "outputs": [
    {
     "name": "stdout",
     "output_type": "stream",
     "text": [
      "전체 샘플 중 길이가 100 이하인 샘플의 비율: 0.9998417782043391\n"
     ]
    }
   ],
   "source": [
    "below_threshold_len(select_length, cal_length)"
   ]
  },
  {
   "cell_type": "markdown",
   "id": "32a17344",
   "metadata": {},
   "source": [
    "#### 훈련 데이터에서 60 근처의 수로 지정하면 적절한 길이 값이지만,  \n",
    "#### 테스트 데이터에서 최대 길이가 98이기 때문에 100으로 설정했습니다.  \n",
    "#### 테스트 데이터는 5000개 고정으로 버릴 수 없기 때문에 이와 같이 진행했습니다.  "
   ]
  },
  {
   "cell_type": "markdown",
   "id": "ffa26591",
   "metadata": {},
   "source": [
    "### 패딩 길이 설정 후 적정 길이보다 큰 데이터 삭제"
   ]
  },
  {
   "cell_type": "code",
   "execution_count": 45,
   "id": "362c146c",
   "metadata": {},
   "outputs": [],
   "source": [
    "temp = []\n",
    "for i in range(len(train_encoded['input_ids'])):\n",
    "    if len(train_encoded['input_ids'][i]) > select_length:\n",
    "        temp.append(i)\n",
    "\n",
    "temp.reverse()\n",
    "\n",
    "for i in temp:\n",
    "    del train_data[i]\n",
    "    train_all.drop(train_all.index[i], inplace=True)\n",
    "    \n",
    "temp = []\n",
    "for i in range(len(test_encoded['input_ids'])):\n",
    "    if len(test_encoded['input_ids'][i]) > select_length:\n",
    "        temp.append(i)\n",
    "\n",
    "temp.reverse()\n",
    "\n",
    "for i in temp:\n",
    "    del test_data[i]"
   ]
  },
  {
   "cell_type": "code",
   "execution_count": 46,
   "id": "878cc077",
   "metadata": {},
   "outputs": [
    {
     "data": {
      "text/plain": [
       "570051"
      ]
     },
     "execution_count": 46,
     "metadata": {},
     "output_type": "execute_result"
    }
   ],
   "source": [
    "len(train_data)"
   ]
  },
  {
   "cell_type": "code",
   "execution_count": 47,
   "id": "3e48f522",
   "metadata": {},
   "outputs": [
    {
     "data": {
      "text/plain": [
       "5000"
      ]
     },
     "execution_count": 47,
     "metadata": {},
     "output_type": "execute_result"
    }
   ],
   "source": [
    "len(test_data)"
   ]
  },
  {
   "cell_type": "code",
   "execution_count": 48,
   "id": "3ca8028b",
   "metadata": {},
   "outputs": [
    {
     "data": {
      "text/plain": [
       "570051"
      ]
     },
     "execution_count": 48,
     "metadata": {},
     "output_type": "execute_result"
    }
   ],
   "source": [
    "len(train_all)"
   ]
  },
  {
   "cell_type": "code",
   "execution_count": 49,
   "id": "a683bc4e",
   "metadata": {},
   "outputs": [
    {
     "data": {
      "text/html": [
       "<div>\n",
       "<style scoped>\n",
       "    .dataframe tbody tr th:only-of-type {\n",
       "        vertical-align: middle;\n",
       "    }\n",
       "\n",
       "    .dataframe tbody tr th {\n",
       "        vertical-align: top;\n",
       "    }\n",
       "\n",
       "    .dataframe thead th {\n",
       "        text-align: right;\n",
       "    }\n",
       "</style>\n",
       "<table border=\"1\" class=\"dataframe\">\n",
       "  <thead>\n",
       "    <tr style=\"text-align: right;\">\n",
       "      <th></th>\n",
       "      <th>premise</th>\n",
       "      <th>hypothesis</th>\n",
       "      <th>label</th>\n",
       "    </tr>\n",
       "  </thead>\n",
       "  <tbody>\n",
       "    <tr>\n",
       "      <th>0</th>\n",
       "      <td>삼성은 자작극을 벌인 2명에게 형사 고소 등의 법적 대응을 검토 중이라고 하였으나,...</td>\n",
       "      <td>자작극을 벌인 이는 3명이다.</td>\n",
       "      <td>0</td>\n",
       "    </tr>\n",
       "    <tr>\n",
       "      <th>1</th>\n",
       "      <td>이를 위해 예측적 범죄예방 시스템을 구축하고 고도화한다.</td>\n",
       "      <td>예측적 범죄예방 시스템 구축하고 고도화하는 것은 목적이 있기 때문이다.</td>\n",
       "      <td>1</td>\n",
       "    </tr>\n",
       "    <tr>\n",
       "      <th>2</th>\n",
       "      <td>광주광역시가 재개발 정비사업 원주민들에 대한 종합대책을 마련하는 등 원주민 보호에 ...</td>\n",
       "      <td>원주민들은 종합대책에 만족했다.</td>\n",
       "      <td>2</td>\n",
       "    </tr>\n",
       "    <tr>\n",
       "      <th>3</th>\n",
       "      <td>진정 소비자와 직원들에게 사랑 받는 기업으로 오래 지속되고 싶으면, 이런 상황에서는...</td>\n",
       "      <td>이런 상황에서 책임 있는 모습을 보여주는 기업은 아주 드물다.</td>\n",
       "      <td>2</td>\n",
       "    </tr>\n",
       "    <tr>\n",
       "      <th>4</th>\n",
       "      <td>이번 증설로 코오롱인더스트리는 기존 생산량 7만7000톤에서 1만6800톤이 늘어나...</td>\n",
       "      <td>코오롱 인더스트리는 총 9만 3800톤의 생산 능력을 확보했다.</td>\n",
       "      <td>1</td>\n",
       "    </tr>\n",
       "  </tbody>\n",
       "</table>\n",
       "</div>"
      ],
      "text/plain": [
       "                                             premise  \\\n",
       "0  삼성은 자작극을 벌인 2명에게 형사 고소 등의 법적 대응을 검토 중이라고 하였으나,...   \n",
       "1                    이를 위해 예측적 범죄예방 시스템을 구축하고 고도화한다.   \n",
       "2  광주광역시가 재개발 정비사업 원주민들에 대한 종합대책을 마련하는 등 원주민 보호에 ...   \n",
       "3  진정 소비자와 직원들에게 사랑 받는 기업으로 오래 지속되고 싶으면, 이런 상황에서는...   \n",
       "4  이번 증설로 코오롱인더스트리는 기존 생산량 7만7000톤에서 1만6800톤이 늘어나...   \n",
       "\n",
       "                                hypothesis  label  \n",
       "0                         자작극을 벌인 이는 3명이다.      0  \n",
       "1  예측적 범죄예방 시스템 구축하고 고도화하는 것은 목적이 있기 때문이다.      1  \n",
       "2                        원주민들은 종합대책에 만족했다.      2  \n",
       "3       이런 상황에서 책임 있는 모습을 보여주는 기업은 아주 드물다.      2  \n",
       "4      코오롱 인더스트리는 총 9만 3800톤의 생산 능력을 확보했다.      1  "
      ]
     },
     "execution_count": 49,
     "metadata": {},
     "output_type": "execute_result"
    }
   ],
   "source": [
    "train_all.head()"
   ]
  },
  {
   "cell_type": "code",
   "execution_count": 50,
   "id": "26b8e610",
   "metadata": {
    "scrolled": true
   },
   "outputs": [
    {
     "data": {
      "text/html": [
       "<div>\n",
       "<style scoped>\n",
       "    .dataframe tbody tr th:only-of-type {\n",
       "        vertical-align: middle;\n",
       "    }\n",
       "\n",
       "    .dataframe tbody tr th {\n",
       "        vertical-align: top;\n",
       "    }\n",
       "\n",
       "    .dataframe thead th {\n",
       "        text-align: right;\n",
       "    }\n",
       "</style>\n",
       "<table border=\"1\" class=\"dataframe\">\n",
       "  <thead>\n",
       "    <tr style=\"text-align: right;\">\n",
       "      <th></th>\n",
       "      <th>premise</th>\n",
       "      <th>hypothesis</th>\n",
       "      <th>label</th>\n",
       "    </tr>\n",
       "  </thead>\n",
       "  <tbody>\n",
       "    <tr>\n",
       "      <th>570143</th>\n",
       "      <td>네 명의 더러운 맨발의 아이들.</td>\n",
       "      <td>4명의 아이들이 '가장 깨끗한 발'로 상을 받았다</td>\n",
       "      <td>0</td>\n",
       "    </tr>\n",
       "    <tr>\n",
       "      <th>570144</th>\n",
       "      <td>네 명의 더러운 맨발의 아이들.</td>\n",
       "      <td>네 명의 노숙자 아이들이 신발을 도둑맞아서 그들의 발이 더러워졌다.</td>\n",
       "      <td>2</td>\n",
       "    </tr>\n",
       "    <tr>\n",
       "      <th>570145</th>\n",
       "      <td>한 남자가 아름다운 푸른 물에서 바디슈트를 입고 서핑을 하고 있다.</td>\n",
       "      <td>바디슈트를 입은 남자가 서핑 대회에 참가하고 있다.</td>\n",
       "      <td>2</td>\n",
       "    </tr>\n",
       "    <tr>\n",
       "      <th>570146</th>\n",
       "      <td>한 남자가 아름다운 푸른 물에서 바디슈트를 입고 서핑을 하고 있다.</td>\n",
       "      <td>비즈니스 슈트를 입은 남자가 이사회로 향하고 있다.</td>\n",
       "      <td>0</td>\n",
       "    </tr>\n",
       "    <tr>\n",
       "      <th>570147</th>\n",
       "      <td>한 남자가 아름다운 푸른 물에서 바디슈트를 입고 서핑을 하고 있다.</td>\n",
       "      <td>아름다운 푸른 물 위에는 바디슈트를 입은 남자가 서핑을 하고 있다.</td>\n",
       "      <td>1</td>\n",
       "    </tr>\n",
       "  </tbody>\n",
       "</table>\n",
       "</div>"
      ],
      "text/plain": [
       "                                      premise  \\\n",
       "570143                      네 명의 더러운 맨발의 아이들.   \n",
       "570144                      네 명의 더러운 맨발의 아이들.   \n",
       "570145  한 남자가 아름다운 푸른 물에서 바디슈트를 입고 서핑을 하고 있다.   \n",
       "570146  한 남자가 아름다운 푸른 물에서 바디슈트를 입고 서핑을 하고 있다.   \n",
       "570147  한 남자가 아름다운 푸른 물에서 바디슈트를 입고 서핑을 하고 있다.   \n",
       "\n",
       "                                   hypothesis  label  \n",
       "570143            4명의 아이들이 '가장 깨끗한 발'로 상을 받았다      0  \n",
       "570144  네 명의 노숙자 아이들이 신발을 도둑맞아서 그들의 발이 더러워졌다.      2  \n",
       "570145           바디슈트를 입은 남자가 서핑 대회에 참가하고 있다.      2  \n",
       "570146           비즈니스 슈트를 입은 남자가 이사회로 향하고 있다.      0  \n",
       "570147  아름다운 푸른 물 위에는 바디슈트를 입은 남자가 서핑을 하고 있다.      1  "
      ]
     },
     "execution_count": 50,
     "metadata": {},
     "output_type": "execute_result"
    }
   ],
   "source": [
    "train_all.tail()"
   ]
  },
  {
   "cell_type": "markdown",
   "id": "603f7102",
   "metadata": {},
   "source": [
    "### 최종 모델링"
   ]
  },
  {
   "cell_type": "code",
   "execution_count": 51,
   "id": "a0a0f5b5",
   "metadata": {},
   "outputs": [],
   "source": [
    "train_encoded = tokenizer.batch_encode_plus(train_data, padding='max_length', max_length=select_length)\n",
    "test_encoded = tokenizer.batch_encode_plus(test_data, padding='max_length', max_length=select_length)"
   ]
  },
  {
   "cell_type": "code",
   "execution_count": 52,
   "id": "91b26fec",
   "metadata": {},
   "outputs": [],
   "source": [
    "x_train, x_valid, y_train, y_valid = train_test_split(train_encoded['input_ids'], train_all.label.values, test_size=0.2)\n",
    "x_test = test_encoded['input_ids']"
   ]
  },
  {
   "cell_type": "code",
   "execution_count": 53,
   "id": "09b75f86",
   "metadata": {
    "scrolled": true
   },
   "outputs": [],
   "source": [
    "train_dataset = (tf.data.Dataset.from_tensor_slices((x_train, y_train)).repeat().shuffle(2048).batch(20 * strategy.num_replicas_in_sync).prefetch(tf.data.experimental.AUTOTUNE))\n",
    "valid_dataset = (tf.data.Dataset.from_tensor_slices((x_valid, y_valid)).batch(20 * strategy.num_replicas_in_sync).cache().prefetch(tf.data.experimental.AUTOTUNE))\n",
    "test_dataset = (tf.data.Dataset.from_tensor_slices(x_test).batch(20 * strategy.num_replicas_in_sync))"
   ]
  },
  {
   "cell_type": "code",
   "execution_count": 54,
   "id": "86cb4c72",
   "metadata": {},
   "outputs": [
    {
     "name": "stdout",
     "output_type": "stream",
     "text": [
      "Model: \"model\"\n",
      "_________________________________________________________________\n",
      "Layer (type)                 Output Shape              Param #   \n",
      "=================================================================\n",
      "input_layer (InputLayer)     [(None, 100)]             0         \n",
      "_________________________________________________________________\n",
      "tf_electra_model (TFElectraM TFBaseModelOutputWithPast 112330752 \n",
      "_________________________________________________________________\n",
      "tf.__operators__.getitem (Sl (None, 768)               0         \n",
      "_________________________________________________________________\n",
      "dense (Dense)                (None, 3)                 2307      \n",
      "=================================================================\n",
      "Total params: 112,333,059\n",
      "Trainable params: 112,333,059\n",
      "Non-trainable params: 0\n",
      "_________________________________________________________________\n"
     ]
    }
   ],
   "source": [
    "model.summary()"
   ]
  },
  {
   "cell_type": "code",
   "execution_count": 56,
   "id": "3f30aa4b",
   "metadata": {},
   "outputs": [
    {
     "name": "stdout",
     "output_type": "stream",
     "text": [
      "Epoch 1/50\n",
      "999/999 [==============================] - 618s 608ms/step - loss: 0.7177 - accuracy: 0.6774 - val_loss: 0.5288 - val_accuracy: 0.7949\n",
      "Epoch 2/50\n",
      "999/999 [==============================] - 601s 602ms/step - loss: 0.5383 - accuracy: 0.7915 - val_loss: 0.4995 - val_accuracy: 0.8098\n",
      "Epoch 3/50\n",
      "999/999 [==============================] - 603s 604ms/step - loss: 0.5112 - accuracy: 0.8017 - val_loss: 0.4701 - val_accuracy: 0.8176\n",
      "Epoch 4/50\n",
      "999/999 [==============================] - 602s 603ms/step - loss: 0.4777 - accuracy: 0.8169 - val_loss: 0.4624 - val_accuracy: 0.8236\n",
      "Epoch 5/50\n",
      "999/999 [==============================] - 602s 603ms/step - loss: 0.4649 - accuracy: 0.8208 - val_loss: 0.4443 - val_accuracy: 0.8297\n",
      "Epoch 6/50\n",
      "999/999 [==============================] - 602s 603ms/step - loss: 0.4682 - accuracy: 0.8174 - val_loss: 0.4470 - val_accuracy: 0.8314\n",
      "Epoch 7/50\n",
      "999/999 [==============================] - 601s 602ms/step - loss: 0.4629 - accuracy: 0.8236 - val_loss: 0.4401 - val_accuracy: 0.8348\n",
      "Epoch 8/50\n",
      "999/999 [==============================] - 604s 605ms/step - loss: 0.4528 - accuracy: 0.8268 - val_loss: 0.4324 - val_accuracy: 0.8365\n",
      "Epoch 9/50\n",
      "999/999 [==============================] - 604s 605ms/step - loss: 0.4452 - accuracy: 0.8284 - val_loss: 0.4314 - val_accuracy: 0.8393\n",
      "Epoch 10/50\n",
      "999/999 [==============================] - 604s 605ms/step - loss: 0.4435 - accuracy: 0.8310 - val_loss: 0.4224 - val_accuracy: 0.8409\n",
      "Epoch 11/50\n",
      "999/999 [==============================] - 604s 605ms/step - loss: 0.4362 - accuracy: 0.8308 - val_loss: 0.4098 - val_accuracy: 0.8443\n",
      "Epoch 12/50\n",
      "999/999 [==============================] - 600s 601ms/step - loss: 0.4246 - accuracy: 0.8384 - val_loss: 0.4119 - val_accuracy: 0.8452\n",
      "Epoch 13/50\n",
      "999/999 [==============================] - 602s 603ms/step - loss: 0.4279 - accuracy: 0.8345 - val_loss: 0.4357 - val_accuracy: 0.8410\n",
      "Epoch 00013: early stopping\n"
     ]
    }
   ],
   "source": [
    "from tensorflow.keras.callbacks import EarlyStopping\n",
    "\n",
    "es = EarlyStopping(monitor='val_loss', mode='min', verbose=1, patience = 2)\n",
    "\n",
    "history = model.fit(train_dataset,steps_per_epoch=len(train) // 20 * strategy.num_replicas_in_sync,\n",
    "                    validation_data=valid_dataset,epochs= 50, callbacks=[es])"
   ]
  },
  {
   "cell_type": "code",
   "execution_count": 71,
   "id": "a6aea3ca",
   "metadata": {},
   "outputs": [
    {
     "data": {
      "image/png": "[encoded data removed]",
      "text/plain": [
       "<Figure size 432x288 with 1 Axes>"
      ]
     },
     "metadata": {},
     "output_type": "display_data"
    }
   ],
   "source": [
    "plt.plot(history.history['loss'], label='train')\n",
    "plt.plot(history.history['val_loss'], label='test')\n",
    "plt.legend()\n",
    "plt.show()"
   ]
  },
  {
   "cell_type": "code",
   "execution_count": 57,
   "id": "35b01b75",
   "metadata": {},
   "outputs": [
    {
     "name": "stdout",
     "output_type": "stream",
     "text": [
      "250/250 [==============================] - 23s 71ms/step\n"
     ]
    }
   ],
   "source": [
    "predictions = model.predict(test_dataset, verbose=1)"
   ]
  },
  {
   "cell_type": "code",
   "execution_count": 58,
   "id": "964a4816",
   "metadata": {},
   "outputs": [],
   "source": [
    "predictions_final = predictions.argmax(axis=1)"
   ]
  },
  {
   "cell_type": "code",
   "execution_count": 59,
   "id": "9e5dab2f",
   "metadata": {},
   "outputs": [
    {
     "data": {
      "text/plain": [
       "5000"
      ]
     },
     "execution_count": 59,
     "metadata": {},
     "output_type": "execute_result"
    }
   ],
   "source": [
    "len(predictions_final)"
   ]
  },
  {
   "cell_type": "code",
   "execution_count": 60,
   "id": "fbee0448",
   "metadata": {},
   "outputs": [],
   "source": [
    "list1 = [i for i in range(5000)]"
   ]
  },
  {
   "cell_type": "code",
   "execution_count": 61,
   "id": "0381aa16",
   "metadata": {},
   "outputs": [],
   "source": [
    "list2 = predictions_final"
   ]
  },
  {
   "cell_type": "code",
   "execution_count": 62,
   "id": "4543d007",
   "metadata": {},
   "outputs": [],
   "source": [
    "submission = pd.DataFrame({'index':list1,\n",
    "                           'label':list2})"
   ]
  },
  {
   "cell_type": "code",
   "execution_count": 63,
   "id": "5c78c204",
   "metadata": {},
   "outputs": [
    {
     "data": {
      "text/html": [
       "<div>\n",
       "<style scoped>\n",
       "    .dataframe tbody tr th:only-of-type {\n",
       "        vertical-align: middle;\n",
       "    }\n",
       "\n",
       "    .dataframe tbody tr th {\n",
       "        vertical-align: top;\n",
       "    }\n",
       "\n",
       "    .dataframe thead th {\n",
       "        text-align: right;\n",
       "    }\n",
       "</style>\n",
       "<table border=\"1\" class=\"dataframe\">\n",
       "  <thead>\n",
       "    <tr style=\"text-align: right;\">\n",
       "      <th></th>\n",
       "      <th>index</th>\n",
       "      <th>label</th>\n",
       "    </tr>\n",
       "  </thead>\n",
       "  <tbody>\n",
       "    <tr>\n",
       "      <th>0</th>\n",
       "      <td>0</td>\n",
       "      <td>0</td>\n",
       "    </tr>\n",
       "    <tr>\n",
       "      <th>1</th>\n",
       "      <td>1</td>\n",
       "      <td>1</td>\n",
       "    </tr>\n",
       "    <tr>\n",
       "      <th>2</th>\n",
       "      <td>2</td>\n",
       "      <td>0</td>\n",
       "    </tr>\n",
       "    <tr>\n",
       "      <th>3</th>\n",
       "      <td>3</td>\n",
       "      <td>1</td>\n",
       "    </tr>\n",
       "    <tr>\n",
       "      <th>4</th>\n",
       "      <td>4</td>\n",
       "      <td>2</td>\n",
       "    </tr>\n",
       "    <tr>\n",
       "      <th>...</th>\n",
       "      <td>...</td>\n",
       "      <td>...</td>\n",
       "    </tr>\n",
       "    <tr>\n",
       "      <th>4995</th>\n",
       "      <td>4995</td>\n",
       "      <td>0</td>\n",
       "    </tr>\n",
       "    <tr>\n",
       "      <th>4996</th>\n",
       "      <td>4996</td>\n",
       "      <td>0</td>\n",
       "    </tr>\n",
       "    <tr>\n",
       "      <th>4997</th>\n",
       "      <td>4997</td>\n",
       "      <td>2</td>\n",
       "    </tr>\n",
       "    <tr>\n",
       "      <th>4998</th>\n",
       "      <td>4998</td>\n",
       "      <td>0</td>\n",
       "    </tr>\n",
       "    <tr>\n",
       "      <th>4999</th>\n",
       "      <td>4999</td>\n",
       "      <td>0</td>\n",
       "    </tr>\n",
       "  </tbody>\n",
       "</table>\n",
       "<p>5000 rows × 2 columns</p>\n",
       "</div>"
      ],
      "text/plain": [
       "      index  label\n",
       "0         0      0\n",
       "1         1      1\n",
       "2         2      0\n",
       "3         3      1\n",
       "4         4      2\n",
       "...     ...    ...\n",
       "4995   4995      0\n",
       "4996   4996      0\n",
       "4997   4997      2\n",
       "4998   4998      0\n",
       "4999   4999      0\n",
       "\n",
       "[5000 rows x 2 columns]"
      ]
     },
     "execution_count": 63,
     "metadata": {},
     "output_type": "execute_result"
    }
   ],
   "source": [
    "submission"
   ]
  },
  {
   "cell_type": "code",
   "execution_count": 64,
   "id": "cc4f4ed5",
   "metadata": {},
   "outputs": [],
   "source": [
    "# contradiction => 0 entailment => 1 neutral => 2\n",
    "submission['label'].replace(0, 'contradiction', inplace=True)\n",
    "submission['label'].replace(1, 'entailment', inplace=True)\n",
    "submission['label'].replace(2, 'neutral', inplace=True)"
   ]
  },
  {
   "cell_type": "code",
   "execution_count": 65,
   "id": "12ad36b5",
   "metadata": {},
   "outputs": [
    {
     "data": {
      "text/html": [
       "<div>\n",
       "<style scoped>\n",
       "    .dataframe tbody tr th:only-of-type {\n",
       "        vertical-align: middle;\n",
       "    }\n",
       "\n",
       "    .dataframe tbody tr th {\n",
       "        vertical-align: top;\n",
       "    }\n",
       "\n",
       "    .dataframe thead th {\n",
       "        text-align: right;\n",
       "    }\n",
       "</style>\n",
       "<table border=\"1\" class=\"dataframe\">\n",
       "  <thead>\n",
       "    <tr style=\"text-align: right;\">\n",
       "      <th></th>\n",
       "      <th>index</th>\n",
       "      <th>label</th>\n",
       "    </tr>\n",
       "  </thead>\n",
       "  <tbody>\n",
       "    <tr>\n",
       "      <th>0</th>\n",
       "      <td>0</td>\n",
       "      <td>contradiction</td>\n",
       "    </tr>\n",
       "    <tr>\n",
       "      <th>1</th>\n",
       "      <td>1</td>\n",
       "      <td>entailment</td>\n",
       "    </tr>\n",
       "    <tr>\n",
       "      <th>2</th>\n",
       "      <td>2</td>\n",
       "      <td>contradiction</td>\n",
       "    </tr>\n",
       "    <tr>\n",
       "      <th>3</th>\n",
       "      <td>3</td>\n",
       "      <td>entailment</td>\n",
       "    </tr>\n",
       "    <tr>\n",
       "      <th>4</th>\n",
       "      <td>4</td>\n",
       "      <td>neutral</td>\n",
       "    </tr>\n",
       "    <tr>\n",
       "      <th>...</th>\n",
       "      <td>...</td>\n",
       "      <td>...</td>\n",
       "    </tr>\n",
       "    <tr>\n",
       "      <th>4995</th>\n",
       "      <td>4995</td>\n",
       "      <td>contradiction</td>\n",
       "    </tr>\n",
       "    <tr>\n",
       "      <th>4996</th>\n",
       "      <td>4996</td>\n",
       "      <td>contradiction</td>\n",
       "    </tr>\n",
       "    <tr>\n",
       "      <th>4997</th>\n",
       "      <td>4997</td>\n",
       "      <td>neutral</td>\n",
       "    </tr>\n",
       "    <tr>\n",
       "      <th>4998</th>\n",
       "      <td>4998</td>\n",
       "      <td>contradiction</td>\n",
       "    </tr>\n",
       "    <tr>\n",
       "      <th>4999</th>\n",
       "      <td>4999</td>\n",
       "      <td>contradiction</td>\n",
       "    </tr>\n",
       "  </tbody>\n",
       "</table>\n",
       "<p>5000 rows × 2 columns</p>\n",
       "</div>"
      ],
      "text/plain": [
       "      index          label\n",
       "0         0  contradiction\n",
       "1         1     entailment\n",
       "2         2  contradiction\n",
       "3         3     entailment\n",
       "4         4        neutral\n",
       "...     ...            ...\n",
       "4995   4995  contradiction\n",
       "4996   4996  contradiction\n",
       "4997   4997        neutral\n",
       "4998   4998  contradiction\n",
       "4999   4999  contradiction\n",
       "\n",
       "[5000 rows x 2 columns]"
      ]
     },
     "execution_count": 65,
     "metadata": {},
     "output_type": "execute_result"
    }
   ],
   "source": [
    "submission"
   ]
  },
  {
   "cell_type": "markdown",
   "id": "38662449",
   "metadata": {},
   "source": [
    "## versus previous submission"
   ]
  },
  {
   "cell_type": "code",
   "execution_count": 66,
   "id": "883924ca",
   "metadata": {},
   "outputs": [],
   "source": [
    "previous = pd.read_csv('../submission/submission_KoELECTRAv2.csv')"
   ]
  },
  {
   "cell_type": "code",
   "execution_count": 67,
   "id": "9ef68faa",
   "metadata": {},
   "outputs": [
    {
     "data": {
      "text/plain": [
       "0          entailment\n",
       "1          entailment\n",
       "2       contradiction\n",
       "3          entailment\n",
       "4             neutral\n",
       "            ...      \n",
       "4995    contradiction\n",
       "4996    contradiction\n",
       "4997          neutral\n",
       "4998    contradiction\n",
       "4999    contradiction\n",
       "Name: label, Length: 5000, dtype: object"
      ]
     },
     "execution_count": 67,
     "metadata": {},
     "output_type": "execute_result"
    }
   ],
   "source": [
    "previous['label']"
   ]
  },
  {
   "cell_type": "code",
   "execution_count": 68,
   "id": "bad5bdfe",
   "metadata": {
    "scrolled": true
   },
   "outputs": [
    {
     "data": {
      "text/plain": [
       "0       contradiction\n",
       "1          entailment\n",
       "2       contradiction\n",
       "3          entailment\n",
       "4             neutral\n",
       "            ...      \n",
       "4995    contradiction\n",
       "4996    contradiction\n",
       "4997          neutral\n",
       "4998    contradiction\n",
       "4999    contradiction\n",
       "Name: label, Length: 5000, dtype: object"
      ]
     },
     "execution_count": 68,
     "metadata": {},
     "output_type": "execute_result"
    }
   ],
   "source": [
    "submission['label']"
   ]
  },
  {
   "cell_type": "code",
   "execution_count": 69,
   "id": "9d0dc530",
   "metadata": {},
   "outputs": [
    {
     "name": "stdout",
     "output_type": "stream",
     "text": [
      "이전 제출 파일과의 유사도:87.82%\n"
     ]
    }
   ],
   "source": [
    "cnt_equal = 0\n",
    "cnt_diff = 0\n",
    "for i in range(5000):\n",
    "    if previous['label'][i] == submission['label'][i]:\n",
    "        cnt_equal += 1\n",
    "    else: cnt_diff += 1\n",
    "\n",
    "similarity = cnt_equal/(cnt_equal+cnt_diff) * 100\n",
    "print(f\"이전 제출 파일과의 유사도:{similarity}%\")"
   ]
  },
  {
   "cell_type": "code",
   "execution_count": 70,
   "id": "b2f88962",
   "metadata": {},
   "outputs": [],
   "source": [
    "submission.to_csv(\"../submission/submission_KoELECTRAv3.csv\", index = False)"
   ]
  },
  {
   "cell_type": "code",
   "execution_count": null,
   "id": "c071afd8",
   "metadata": {},
   "outputs": [],
   "source": [
    "# model.save('competition_KoELECTRA_v2.h5')\n",
    "# Load model code\n",
    "# new_model = tf.keras.models.load_model('competition_BERT_v1.h5')\n",
    "# test_loss, test_acc = new_model.evaluate(x,  y, verbose=2)"
   ]
  }
 ],
 "metadata": {
  "kernelspec": {
   "display_name": "Python 3 (ipykernel)",
   "language": "python",
   "name": "python3"
  },
  "language_info": {
   "codemirror_mode": {
    "name": "ipython",
    "version": 3
   },
   "file_extension": ".py",
   "mimetype": "text/x-python",
   "name": "python",
   "nbconvert_exporter": "python",
   "pygments_lexer": "ipython3",
   "version": "3.8.5"
  }
 },
 "nbformat": 4,
 "nbformat_minor": 5
}
