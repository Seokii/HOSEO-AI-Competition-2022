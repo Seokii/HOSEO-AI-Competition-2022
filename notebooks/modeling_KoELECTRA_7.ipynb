{
 "cells": [
  {
   "cell_type": "markdown",
   "id": "0306a798",
   "metadata": {},
   "source": [
    "## Import Libraries"
   ]
  },
  {
   "cell_type": "code",
   "execution_count": 1,
   "id": "151ddb59",
   "metadata": {},
   "outputs": [],
   "source": [
    "import numpy as np\n",
    "import pandas as pd\n",
    "import seaborn as sns\n",
    "import matplotlib.pyplot as plt\n",
    "\n",
    "from transformers import AutoTokenizer, AutoModel, TFAutoModel, ElectraModel, ElectraTokenizer\n",
    "from transformers import TFElectraModel\n",
    "import tensorflow as tf\n",
    "from tensorflow.keras.layers import Dense,Input, Dropout, ReLU, BatchNormalization\n",
    "from tensorflow.keras.models import Model\n",
    "from tensorflow.keras.optimizers import Adam\n",
    "\n",
    "from sklearn.preprocessing import LabelEncoder\n",
    "from sklearn.model_selection import train_test_split"
   ]
  },
  {
   "cell_type": "code",
   "execution_count": 2,
   "id": "048d0d65",
   "metadata": {},
   "outputs": [],
   "source": [
    "strategy = tf.distribute.get_strategy()"
   ]
  },
  {
   "cell_type": "markdown",
   "id": "820287d6",
   "metadata": {},
   "source": [
    "## Load Dataset"
   ]
  },
  {
   "cell_type": "code",
   "execution_count": 3,
   "id": "73756656",
   "metadata": {},
   "outputs": [],
   "source": [
    "train = pd.read_csv(\"../dataset/train.csv\", encoding='CP949')\n",
    "test = pd.read_csv(\"../dataset/test.csv\", encoding='CP949')\n",
    "sub = pd.read_csv(\"../dataset/test.csv\", encoding='CP949')"
   ]
  },
  {
   "cell_type": "code",
   "execution_count": 23,
   "id": "49cb2198",
   "metadata": {},
   "outputs": [
    {
     "name": "stderr",
     "output_type": "stream",
     "text": [
      "C:\\ProgramData\\Anaconda3\\lib\\site-packages\\IPython\\core\\interactiveshell.py:3444: FutureWarning: The error_bad_lines argument has been deprecated and will be removed in a future version.\n",
      "\n",
      "\n",
      "  exec(code_obj, self.user_global_ns, self.user_ns)\n",
      "b'Skipping line 24426: expected 3 fields, saw 4\\nSkipping line 156343: expected 3 fields, saw 4\\nSkipping line 218766: expected 3 fields, saw 4\\nSkipping line 232318: expected 3 fields, saw 4\\nSkipping line 253493: expected 3 fields, saw 4\\n'\n",
      "b'Skipping line 265734: expected 3 fields, saw 4\\nSkipping line 282588: expected 3 fields, saw 4\\nSkipping line 350969: expected 3 fields, saw 4\\n'\n"
     ]
    }
   ],
   "source": [
    "multinli = pd.read_csv(\"../dataset/kornli/multinli.train.ko.tsv\", delimiter='\\t', error_bad_lines=False)"
   ]
  },
  {
   "cell_type": "code",
   "execution_count": 24,
   "id": "e8471fc1",
   "metadata": {},
   "outputs": [
    {
     "data": {
      "text/plain": [
       "(385494, 3)"
      ]
     },
     "execution_count": 24,
     "metadata": {},
     "output_type": "execute_result"
    }
   ],
   "source": [
    "multinli.shape"
   ]
  },
  {
   "cell_type": "markdown",
   "id": "bc15a6b4",
   "metadata": {},
   "source": [
    "## EDA"
   ]
  },
  {
   "cell_type": "markdown",
   "id": "400e28c0",
   "metadata": {},
   "source": [
    "### .head() 함수로 데이터셋에 대한 기본 정보 확인"
   ]
  },
  {
   "cell_type": "code",
   "execution_count": 4,
   "id": "ce9eecea",
   "metadata": {},
   "outputs": [
    {
     "data": {
      "text/html": [
       "<div>\n",
       "<style scoped>\n",
       "    .dataframe tbody tr th:only-of-type {\n",
       "        vertical-align: middle;\n",
       "    }\n",
       "\n",
       "    .dataframe tbody tr th {\n",
       "        vertical-align: top;\n",
       "    }\n",
       "\n",
       "    .dataframe thead th {\n",
       "        text-align: right;\n",
       "    }\n",
       "</style>\n",
       "<table border=\"1\" class=\"dataframe\">\n",
       "  <thead>\n",
       "    <tr style=\"text-align: right;\">\n",
       "      <th></th>\n",
       "      <th>index</th>\n",
       "      <th>premise</th>\n",
       "      <th>hypothesis</th>\n",
       "      <th>label</th>\n",
       "    </tr>\n",
       "  </thead>\n",
       "  <tbody>\n",
       "    <tr>\n",
       "      <th>0</th>\n",
       "      <td>1</td>\n",
       "      <td>삼성은 자작극을 벌인 2명에게 형사 고소 등의 법적 대응을 검토 중이라고 하였으나,...</td>\n",
       "      <td>자작극을 벌인 이는 3명이다.</td>\n",
       "      <td>contradiction</td>\n",
       "    </tr>\n",
       "    <tr>\n",
       "      <th>1</th>\n",
       "      <td>2</td>\n",
       "      <td>이를 위해 예측적 범죄예방 시스템을 구축하고 고도화한다.</td>\n",
       "      <td>예측적 범죄예방 시스템 구축하고 고도화하는 것은 목적이 있기 때문이다.</td>\n",
       "      <td>entailment</td>\n",
       "    </tr>\n",
       "    <tr>\n",
       "      <th>2</th>\n",
       "      <td>3</td>\n",
       "      <td>광주광역시가 재개발 정비사업 원주민들에 대한 종합대책을 마련하는 등 원주민 보호에 ...</td>\n",
       "      <td>원주민들은 종합대책에 만족했다.</td>\n",
       "      <td>neutral</td>\n",
       "    </tr>\n",
       "    <tr>\n",
       "      <th>3</th>\n",
       "      <td>4</td>\n",
       "      <td>진정 소비자와 직원들에게 사랑 받는 기업으로 오래 지속되고 싶으면, 이런 상황에서는...</td>\n",
       "      <td>이런 상황에서 책임 있는 모습을 보여주는 기업은 아주 드물다.</td>\n",
       "      <td>neutral</td>\n",
       "    </tr>\n",
       "    <tr>\n",
       "      <th>4</th>\n",
       "      <td>5</td>\n",
       "      <td>이번 증설로 코오롱인더스트리는 기존 생산량 7만7000톤에서 1만6800톤이 늘어나...</td>\n",
       "      <td>코오롱 인더스트리는 총 9만 3800톤의 생산 능력을 확보했다.</td>\n",
       "      <td>entailment</td>\n",
       "    </tr>\n",
       "  </tbody>\n",
       "</table>\n",
       "</div>"
      ],
      "text/plain": [
       "   index                                            premise  \\\n",
       "0      1  삼성은 자작극을 벌인 2명에게 형사 고소 등의 법적 대응을 검토 중이라고 하였으나,...   \n",
       "1      2                    이를 위해 예측적 범죄예방 시스템을 구축하고 고도화한다.   \n",
       "2      3  광주광역시가 재개발 정비사업 원주민들에 대한 종합대책을 마련하는 등 원주민 보호에 ...   \n",
       "3      4  진정 소비자와 직원들에게 사랑 받는 기업으로 오래 지속되고 싶으면, 이런 상황에서는...   \n",
       "4      5  이번 증설로 코오롱인더스트리는 기존 생산량 7만7000톤에서 1만6800톤이 늘어나...   \n",
       "\n",
       "                                hypothesis          label  \n",
       "0                         자작극을 벌인 이는 3명이다.  contradiction  \n",
       "1  예측적 범죄예방 시스템 구축하고 고도화하는 것은 목적이 있기 때문이다.     entailment  \n",
       "2                        원주민들은 종합대책에 만족했다.        neutral  \n",
       "3       이런 상황에서 책임 있는 모습을 보여주는 기업은 아주 드물다.        neutral  \n",
       "4      코오롱 인더스트리는 총 9만 3800톤의 생산 능력을 확보했다.     entailment  "
      ]
     },
     "execution_count": 4,
     "metadata": {},
     "output_type": "execute_result"
    }
   ],
   "source": [
    "train.head()"
   ]
  },
  {
   "cell_type": "code",
   "execution_count": 5,
   "id": "d1d1c1f8",
   "metadata": {},
   "outputs": [
    {
     "data": {
      "text/html": [
       "<div>\n",
       "<style scoped>\n",
       "    .dataframe tbody tr th:only-of-type {\n",
       "        vertical-align: middle;\n",
       "    }\n",
       "\n",
       "    .dataframe tbody tr th {\n",
       "        vertical-align: top;\n",
       "    }\n",
       "\n",
       "    .dataframe thead th {\n",
       "        text-align: right;\n",
       "    }\n",
       "</style>\n",
       "<table border=\"1\" class=\"dataframe\">\n",
       "  <thead>\n",
       "    <tr style=\"text-align: right;\">\n",
       "      <th></th>\n",
       "      <th>index</th>\n",
       "      <th>premise</th>\n",
       "      <th>hypothesis</th>\n",
       "    </tr>\n",
       "  </thead>\n",
       "  <tbody>\n",
       "    <tr>\n",
       "      <th>0</th>\n",
       "      <td>1</td>\n",
       "      <td>진짜 사람하나 캐리어하나만 들어갈수있어요</td>\n",
       "      <td>캐리어는 들어갈 수 없어요.</td>\n",
       "    </tr>\n",
       "    <tr>\n",
       "      <th>1</th>\n",
       "      <td>2</td>\n",
       "      <td>그린 아메리카는 우선 대형 초콜릿 제조업체들을 대상으로 설득작업을 벌이고 있습니다.</td>\n",
       "      <td>초콜릿을 만드는 대형 제조업체가 존재한다.</td>\n",
       "    </tr>\n",
       "    <tr>\n",
       "      <th>2</th>\n",
       "      <td>3</td>\n",
       "      <td>또한 강연이 끝난 후 각 국의 업무 담당자들로부터 사전 접수한 질문과 함께 현장에서...</td>\n",
       "      <td>질의응답에 사전 접수된 질문은 답변이 제한된다.</td>\n",
       "    </tr>\n",
       "    <tr>\n",
       "      <th>3</th>\n",
       "      <td>4</td>\n",
       "      <td>수험생들은 각 상담부스에서 입시전문가나 입학사정관과 상담함으로써 수시모집 지원전략을...</td>\n",
       "      <td>수험생들은 입시전문가와 입학사정관에게 수시모집 지원전략에 대한 도움을 받을 수 있다.</td>\n",
       "    </tr>\n",
       "    <tr>\n",
       "      <th>4</th>\n",
       "      <td>5</td>\n",
       "      <td>콜린은 매우 친절하고 응답이 빠릅니다.</td>\n",
       "      <td>콜린이 숙소의 호스트입니다.</td>\n",
       "    </tr>\n",
       "  </tbody>\n",
       "</table>\n",
       "</div>"
      ],
      "text/plain": [
       "   index                                            premise  \\\n",
       "0      1                             진짜 사람하나 캐리어하나만 들어갈수있어요   \n",
       "1      2     그린 아메리카는 우선 대형 초콜릿 제조업체들을 대상으로 설득작업을 벌이고 있습니다.   \n",
       "2      3  또한 강연이 끝난 후 각 국의 업무 담당자들로부터 사전 접수한 질문과 함께 현장에서...   \n",
       "3      4  수험생들은 각 상담부스에서 입시전문가나 입학사정관과 상담함으로써 수시모집 지원전략을...   \n",
       "4      5                              콜린은 매우 친절하고 응답이 빠릅니다.   \n",
       "\n",
       "                                        hypothesis  \n",
       "0                                  캐리어는 들어갈 수 없어요.  \n",
       "1                          초콜릿을 만드는 대형 제조업체가 존재한다.  \n",
       "2                       질의응답에 사전 접수된 질문은 답변이 제한된다.  \n",
       "3  수험생들은 입시전문가와 입학사정관에게 수시모집 지원전략에 대한 도움을 받을 수 있다.  \n",
       "4                                  콜린이 숙소의 호스트입니다.  "
      ]
     },
     "execution_count": 5,
     "metadata": {},
     "output_type": "execute_result"
    }
   ],
   "source": [
    "test.head()"
   ]
  },
  {
   "cell_type": "code",
   "execution_count": 6,
   "id": "c580009b",
   "metadata": {},
   "outputs": [
    {
     "data": {
      "text/html": [
       "<div>\n",
       "<style scoped>\n",
       "    .dataframe tbody tr th:only-of-type {\n",
       "        vertical-align: middle;\n",
       "    }\n",
       "\n",
       "    .dataframe tbody tr th {\n",
       "        vertical-align: top;\n",
       "    }\n",
       "\n",
       "    .dataframe thead th {\n",
       "        text-align: right;\n",
       "    }\n",
       "</style>\n",
       "<table border=\"1\" class=\"dataframe\">\n",
       "  <thead>\n",
       "    <tr style=\"text-align: right;\">\n",
       "      <th></th>\n",
       "      <th>index</th>\n",
       "      <th>premise</th>\n",
       "      <th>hypothesis</th>\n",
       "    </tr>\n",
       "  </thead>\n",
       "  <tbody>\n",
       "    <tr>\n",
       "      <th>0</th>\n",
       "      <td>1</td>\n",
       "      <td>진짜 사람하나 캐리어하나만 들어갈수있어요</td>\n",
       "      <td>캐리어는 들어갈 수 없어요.</td>\n",
       "    </tr>\n",
       "    <tr>\n",
       "      <th>1</th>\n",
       "      <td>2</td>\n",
       "      <td>그린 아메리카는 우선 대형 초콜릿 제조업체들을 대상으로 설득작업을 벌이고 있습니다.</td>\n",
       "      <td>초콜릿을 만드는 대형 제조업체가 존재한다.</td>\n",
       "    </tr>\n",
       "    <tr>\n",
       "      <th>2</th>\n",
       "      <td>3</td>\n",
       "      <td>또한 강연이 끝난 후 각 국의 업무 담당자들로부터 사전 접수한 질문과 함께 현장에서...</td>\n",
       "      <td>질의응답에 사전 접수된 질문은 답변이 제한된다.</td>\n",
       "    </tr>\n",
       "    <tr>\n",
       "      <th>3</th>\n",
       "      <td>4</td>\n",
       "      <td>수험생들은 각 상담부스에서 입시전문가나 입학사정관과 상담함으로써 수시모집 지원전략을...</td>\n",
       "      <td>수험생들은 입시전문가와 입학사정관에게 수시모집 지원전략에 대한 도움을 받을 수 있다.</td>\n",
       "    </tr>\n",
       "    <tr>\n",
       "      <th>4</th>\n",
       "      <td>5</td>\n",
       "      <td>콜린은 매우 친절하고 응답이 빠릅니다.</td>\n",
       "      <td>콜린이 숙소의 호스트입니다.</td>\n",
       "    </tr>\n",
       "  </tbody>\n",
       "</table>\n",
       "</div>"
      ],
      "text/plain": [
       "   index                                            premise  \\\n",
       "0      1                             진짜 사람하나 캐리어하나만 들어갈수있어요   \n",
       "1      2     그린 아메리카는 우선 대형 초콜릿 제조업체들을 대상으로 설득작업을 벌이고 있습니다.   \n",
       "2      3  또한 강연이 끝난 후 각 국의 업무 담당자들로부터 사전 접수한 질문과 함께 현장에서...   \n",
       "3      4  수험생들은 각 상담부스에서 입시전문가나 입학사정관과 상담함으로써 수시모집 지원전략을...   \n",
       "4      5                              콜린은 매우 친절하고 응답이 빠릅니다.   \n",
       "\n",
       "                                        hypothesis  \n",
       "0                                  캐리어는 들어갈 수 없어요.  \n",
       "1                          초콜릿을 만드는 대형 제조업체가 존재한다.  \n",
       "2                       질의응답에 사전 접수된 질문은 답변이 제한된다.  \n",
       "3  수험생들은 입시전문가와 입학사정관에게 수시모집 지원전략에 대한 도움을 받을 수 있다.  \n",
       "4                                  콜린이 숙소의 호스트입니다.  "
      ]
     },
     "execution_count": 6,
     "metadata": {},
     "output_type": "execute_result"
    }
   ],
   "source": [
    "sub.head()"
   ]
  },
  {
   "cell_type": "markdown",
   "id": "8b8fd43d",
   "metadata": {},
   "source": [
    "train 19996개, test 5000개"
   ]
  },
  {
   "cell_type": "code",
   "execution_count": 7,
   "id": "1cd28c12",
   "metadata": {
    "scrolled": true
   },
   "outputs": [
    {
     "name": "stdout",
     "output_type": "stream",
     "text": [
      "train shape => (19996, 4) \n",
      "test shape => (5000, 3)\n"
     ]
    }
   ],
   "source": [
    "print(f\"train shape => {train.shape} \\ntest shape => {test.shape}\")"
   ]
  },
  {
   "cell_type": "code",
   "execution_count": 8,
   "id": "144fa413",
   "metadata": {},
   "outputs": [
    {
     "data": {
      "text/plain": [
       "Index(['index', 'premise', 'hypothesis', 'label'], dtype='object')"
      ]
     },
     "execution_count": 8,
     "metadata": {},
     "output_type": "execute_result"
    }
   ],
   "source": [
    "train.columns"
   ]
  },
  {
   "cell_type": "markdown",
   "id": "c7c52e08",
   "metadata": {},
   "source": [
    "### LabelEncoder를 활용해 categorical features를 encode함\n",
    "contradiction => 0  \n",
    "entailment => 1  \n",
    "neutral => 2"
   ]
  },
  {
   "cell_type": "code",
   "execution_count": 9,
   "id": "90d611c0",
   "metadata": {},
   "outputs": [],
   "source": [
    "categorical_cols = ['label']\n",
    "for e in categorical_cols:\n",
    "    le = LabelEncoder()\n",
    "    train[e] = le.fit_transform(train[e])"
   ]
  },
  {
   "cell_type": "code",
   "execution_count": 10,
   "id": "5f97655d",
   "metadata": {},
   "outputs": [
    {
     "data": {
      "text/html": [
       "<div>\n",
       "<style scoped>\n",
       "    .dataframe tbody tr th:only-of-type {\n",
       "        vertical-align: middle;\n",
       "    }\n",
       "\n",
       "    .dataframe tbody tr th {\n",
       "        vertical-align: top;\n",
       "    }\n",
       "\n",
       "    .dataframe thead th {\n",
       "        text-align: right;\n",
       "    }\n",
       "</style>\n",
       "<table border=\"1\" class=\"dataframe\">\n",
       "  <thead>\n",
       "    <tr style=\"text-align: right;\">\n",
       "      <th></th>\n",
       "      <th>index</th>\n",
       "      <th>premise</th>\n",
       "      <th>hypothesis</th>\n",
       "      <th>label</th>\n",
       "    </tr>\n",
       "  </thead>\n",
       "  <tbody>\n",
       "    <tr>\n",
       "      <th>0</th>\n",
       "      <td>1</td>\n",
       "      <td>삼성은 자작극을 벌인 2명에게 형사 고소 등의 법적 대응을 검토 중이라고 하였으나,...</td>\n",
       "      <td>자작극을 벌인 이는 3명이다.</td>\n",
       "      <td>0</td>\n",
       "    </tr>\n",
       "    <tr>\n",
       "      <th>1</th>\n",
       "      <td>2</td>\n",
       "      <td>이를 위해 예측적 범죄예방 시스템을 구축하고 고도화한다.</td>\n",
       "      <td>예측적 범죄예방 시스템 구축하고 고도화하는 것은 목적이 있기 때문이다.</td>\n",
       "      <td>1</td>\n",
       "    </tr>\n",
       "    <tr>\n",
       "      <th>2</th>\n",
       "      <td>3</td>\n",
       "      <td>광주광역시가 재개발 정비사업 원주민들에 대한 종합대책을 마련하는 등 원주민 보호에 ...</td>\n",
       "      <td>원주민들은 종합대책에 만족했다.</td>\n",
       "      <td>2</td>\n",
       "    </tr>\n",
       "    <tr>\n",
       "      <th>3</th>\n",
       "      <td>4</td>\n",
       "      <td>진정 소비자와 직원들에게 사랑 받는 기업으로 오래 지속되고 싶으면, 이런 상황에서는...</td>\n",
       "      <td>이런 상황에서 책임 있는 모습을 보여주는 기업은 아주 드물다.</td>\n",
       "      <td>2</td>\n",
       "    </tr>\n",
       "    <tr>\n",
       "      <th>4</th>\n",
       "      <td>5</td>\n",
       "      <td>이번 증설로 코오롱인더스트리는 기존 생산량 7만7000톤에서 1만6800톤이 늘어나...</td>\n",
       "      <td>코오롱 인더스트리는 총 9만 3800톤의 생산 능력을 확보했다.</td>\n",
       "      <td>1</td>\n",
       "    </tr>\n",
       "  </tbody>\n",
       "</table>\n",
       "</div>"
      ],
      "text/plain": [
       "   index                                            premise  \\\n",
       "0      1  삼성은 자작극을 벌인 2명에게 형사 고소 등의 법적 대응을 검토 중이라고 하였으나,...   \n",
       "1      2                    이를 위해 예측적 범죄예방 시스템을 구축하고 고도화한다.   \n",
       "2      3  광주광역시가 재개발 정비사업 원주민들에 대한 종합대책을 마련하는 등 원주민 보호에 ...   \n",
       "3      4  진정 소비자와 직원들에게 사랑 받는 기업으로 오래 지속되고 싶으면, 이런 상황에서는...   \n",
       "4      5  이번 증설로 코오롱인더스트리는 기존 생산량 7만7000톤에서 1만6800톤이 늘어나...   \n",
       "\n",
       "                                hypothesis  label  \n",
       "0                         자작극을 벌인 이는 3명이다.      0  \n",
       "1  예측적 범죄예방 시스템 구축하고 고도화하는 것은 목적이 있기 때문이다.      1  \n",
       "2                        원주민들은 종합대책에 만족했다.      2  \n",
       "3       이런 상황에서 책임 있는 모습을 보여주는 기업은 아주 드물다.      2  \n",
       "4      코오롱 인더스트리는 총 9만 3800톤의 생산 능력을 확보했다.      1  "
      ]
     },
     "execution_count": 10,
     "metadata": {},
     "output_type": "execute_result"
    }
   ],
   "source": [
    "train.head()"
   ]
  },
  {
   "cell_type": "code",
   "execution_count": 11,
   "id": "f9e1b076",
   "metadata": {
    "scrolled": true
   },
   "outputs": [
    {
     "data": {
      "text/plain": [
       "array([0, 1, 2, ..., 1, 2, 1])"
      ]
     },
     "execution_count": 11,
     "metadata": {},
     "output_type": "execute_result"
    }
   ],
   "source": [
    "train['label'].values"
   ]
  },
  {
   "cell_type": "markdown",
   "id": "76809a08",
   "metadata": {},
   "source": [
    "### 라벨값이 balaced 한지 imbalanced 한지 확인하는 visualization\n",
    "만약 학습 데이터가 imbalanced 하다면, 추가적인 고민이 필요하지만  \n",
    "시각화 결과 클래스 값들이 고르게 분포되어 있음."
   ]
  },
  {
   "cell_type": "code",
   "execution_count": 12,
   "id": "56852407",
   "metadata": {},
   "outputs": [
    {
     "data": {
      "image/png": "[encoded data removed]",
      "text/plain": [
       "<Figure size 432x288 with 1 Axes>"
      ]
     },
     "metadata": {},
     "output_type": "display_data"
    }
   ],
   "source": [
    "sns.set_theme(style=\"darkgrid\")\n",
    "ax = sns.countplot(x=\"label\", data=train)"
   ]
  },
  {
   "cell_type": "code",
   "execution_count": 13,
   "id": "8dd4a3de",
   "metadata": {},
   "outputs": [
    {
     "data": {
      "image/png": "[encoded data removed]",
      "text/plain": [
       "<Figure size 360x360 with 1 Axes>"
      ]
     },
     "metadata": {},
     "output_type": "display_data"
    }
   ],
   "source": [
    "labels, frequencies = np.unique(train.label.values, return_counts=True)\n",
    "plt.figure(figsize=(5,5))\n",
    "plt.pie(frequencies, labels = labels, autopct= '%1.1f%%')\n",
    "plt.show()"
   ]
  },
  {
   "cell_type": "markdown",
   "id": "f764a68d",
   "metadata": {},
   "source": [
    "### 훈련 데이터 결측치 계산  \n",
    "없음"
   ]
  },
  {
   "cell_type": "code",
   "execution_count": 14,
   "id": "6b82bebc",
   "metadata": {},
   "outputs": [
    {
     "data": {
      "text/plain": [
       "index         0\n",
       "premise       0\n",
       "hypothesis    0\n",
       "label         0\n",
       "dtype: int64"
      ]
     },
     "execution_count": 14,
     "metadata": {},
     "output_type": "execute_result"
    }
   ],
   "source": [
    "train.isnull().sum()"
   ]
  },
  {
   "cell_type": "markdown",
   "id": "cbbfe994",
   "metadata": {},
   "source": [
    "## Modeling - KoELECTRA"
   ]
  },
  {
   "cell_type": "code",
   "execution_count": 15,
   "id": "e002c4cd",
   "metadata": {},
   "outputs": [],
   "source": [
    "def model_KoELECTRA():\n",
    "    with strategy.scope():\n",
    "        encoder = TFElectraModel.from_pretrained(\"monologg/koelectra-base-v3-discriminator\", from_pt=True)\n",
    "\n",
    "        input_layer = Input(shape=(100,), dtype=tf.int32, name=\"input_layer\")\n",
    "        sequence_output = encoder(input_layer)[0]\n",
    "\n",
    "        cls_token = sequence_output[:, 0, :]\n",
    "        \n",
    "        dense_layer_1 = Dense(512, activation='ReLU')(cls_token)\n",
    "        \n",
    "        dense_layer_2 = Dense(256, activation='ReLU')(dense_layer_1)\n",
    "        \n",
    "        dense_layer_3 = Dense(128, activation='ReLU')(dense_layer_2)\n",
    "        \n",
    "        dense_layer_4 = Dense(64, activation='ReLU')(dense_layer_3)\n",
    "        \n",
    "        dense_layer_5 = Dense(32, activation='ReLU')(dense_layer_4)\n",
    "        dropout_layer_1 = Dropout(rate=0.5)(dense_layer_5)\n",
    "        \n",
    "        output_layer = Dense(3, activation='softmax')(dropout_layer_1)\n",
    "\n",
    "        model = Model(inputs=input_layer, outputs=output_layer)\n",
    "        model.compile(Adam(lr=1e-5), loss='sparse_categorical_crossentropy', metrics=['accuracy'])\n",
    "    \n",
    "    return model"
   ]
  },
  {
   "cell_type": "code",
   "execution_count": 16,
   "id": "e63e05af",
   "metadata": {},
   "outputs": [
    {
     "name": "stderr",
     "output_type": "stream",
     "text": [
      "Some weights of the PyTorch model were not used when initializing the TF 2.0 model TFElectraModel: ['discriminator_predictions.dense.bias', 'discriminator_predictions.dense_prediction.weight', 'discriminator_predictions.dense.weight', 'discriminator_predictions.dense_prediction.bias', 'electra.embeddings.position_ids']\n",
      "- This IS expected if you are initializing TFElectraModel from a PyTorch model trained on another task or with another architecture (e.g. initializing a TFBertForSequenceClassification model from a BertForPreTraining model).\n",
      "- This IS NOT expected if you are initializing TFElectraModel from a PyTorch model that you expect to be exactly identical (e.g. initializing a TFBertForSequenceClassification model from a BertForSequenceClassification model).\n",
      "All the weights of TFElectraModel were initialized from the PyTorch model.\n",
      "If your task is similar to the task the model of the checkpoint was trained on, you can already use TFElectraModel for predictions without further training.\n"
     ]
    },
    {
     "name": "stdout",
     "output_type": "stream",
     "text": [
      "WARNING:tensorflow:From C:\\Users\\Home\\AppData\\Roaming\\Python\\Python38\\site-packages\\tensorflow\\python\\ops\\array_ops.py:5043: calling gather (from tensorflow.python.ops.array_ops) with validate_indices is deprecated and will be removed in a future version.\n",
      "Instructions for updating:\n",
      "The `validate_indices` argument has no effect. Indices are always validated on CPU and never validated on GPU.\n"
     ]
    },
    {
     "name": "stderr",
     "output_type": "stream",
     "text": [
      "C:\\Users\\Home\\AppData\\Roaming\\Python\\Python38\\site-packages\\tensorflow\\python\\keras\\optimizer_v2\\optimizer_v2.py:374: UserWarning: The `lr` argument is deprecated, use `learning_rate` instead.\n",
      "  warnings.warn(\n"
     ]
    }
   ],
   "source": [
    "model = model_KoELECTRA()"
   ]
  },
  {
   "cell_type": "code",
   "execution_count": 17,
   "id": "2fee687d",
   "metadata": {},
   "outputs": [],
   "source": [
    "tokenizer = ElectraTokenizer.from_pretrained(\"monologg/koelectra-base-v3-discriminator\")"
   ]
  },
  {
   "cell_type": "code",
   "execution_count": 18,
   "id": "495e1dd2",
   "metadata": {},
   "outputs": [],
   "source": [
    "train_data = train[['premise', 'hypothesis']].values.tolist()\n",
    "test_data = test[['premise', 'hypothesis']].values.tolist()"
   ]
  },
  {
   "cell_type": "code",
   "execution_count": 19,
   "id": "a0a0f5b5",
   "metadata": {},
   "outputs": [],
   "source": [
    "train_encoded = tokenizer.batch_encode_plus(train_data, padding='max_length', max_length=100)\n",
    "test_encoded = tokenizer.batch_encode_plus(test_data, padding='max_length', max_length=100)"
   ]
  },
  {
   "cell_type": "code",
   "execution_count": 20,
   "id": "91b26fec",
   "metadata": {},
   "outputs": [],
   "source": [
    "x_train, x_valid, y_train, y_valid = train_test_split(train_encoded['input_ids'], train.label.values, test_size=0.2, stratify=train.label.values)\n",
    "x_test = test_encoded['input_ids']"
   ]
  },
  {
   "cell_type": "code",
   "execution_count": 21,
   "id": "09b75f86",
   "metadata": {},
   "outputs": [],
   "source": [
    "train_dataset = (tf.data.Dataset.from_tensor_slices((x_train, y_train)).repeat().shuffle(2048).batch(20 * strategy.num_replicas_in_sync).prefetch(tf.data.experimental.AUTOTUNE))\n",
    "valid_dataset = (tf.data.Dataset.from_tensor_slices((x_valid, y_valid)).batch(20 * strategy.num_replicas_in_sync).cache().prefetch(tf.data.experimental.AUTOTUNE))\n",
    "test_dataset = (tf.data.Dataset.from_tensor_slices(x_test).batch(20 * strategy.num_replicas_in_sync))"
   ]
  },
  {
   "cell_type": "code",
   "execution_count": 22,
   "id": "86cb4c72",
   "metadata": {
    "scrolled": true
   },
   "outputs": [
    {
     "name": "stdout",
     "output_type": "stream",
     "text": [
      "Model: \"model\"\n",
      "_________________________________________________________________\n",
      "Layer (type)                 Output Shape              Param #   \n",
      "=================================================================\n",
      "input_layer (InputLayer)     [(None, 100)]             0         \n",
      "_________________________________________________________________\n",
      "tf_electra_model (TFElectraM TFBaseModelOutputWithPast 112330752 \n",
      "_________________________________________________________________\n",
      "tf.__operators__.getitem (Sl (None, 768)               0         \n",
      "_________________________________________________________________\n",
      "dense (Dense)                (None, 512)               393728    \n",
      "_________________________________________________________________\n",
      "dense_1 (Dense)              (None, 256)               131328    \n",
      "_________________________________________________________________\n",
      "dense_2 (Dense)              (None, 128)               32896     \n",
      "_________________________________________________________________\n",
      "dense_3 (Dense)              (None, 64)                8256      \n",
      "_________________________________________________________________\n",
      "dense_4 (Dense)              (None, 32)                2080      \n",
      "_________________________________________________________________\n",
      "dropout_37 (Dropout)         (None, 32)                0         \n",
      "_________________________________________________________________\n",
      "dense_5 (Dense)              (None, 3)                 99        \n",
      "=================================================================\n",
      "Total params: 112,899,139\n",
      "Trainable params: 112,899,139\n",
      "Non-trainable params: 0\n",
      "_________________________________________________________________\n"
     ]
    }
   ],
   "source": [
    "model.summary()"
   ]
  },
  {
   "cell_type": "code",
   "execution_count": 26,
   "id": "1224ab6c",
   "metadata": {},
   "outputs": [
    {
     "name": "stdout",
     "output_type": "stream",
     "text": [
      "Epoch 1/20\n",
      "999/999 [==============================] - 234s 223ms/step - loss: 0.7584 - accuracy: 0.6762 - val_loss: 0.4439 - val_accuracy: 0.8553\n",
      "Epoch 2/20\n",
      "999/999 [==============================] - 221s 221ms/step - loss: 0.4499 - accuracy: 0.8494 - val_loss: 0.4043 - val_accuracy: 0.8708\n",
      "Epoch 3/20\n",
      "999/999 [==============================] - 223s 224ms/step - loss: 0.3064 - accuracy: 0.9005 - val_loss: 0.4167 - val_accuracy: 0.8723\n",
      "Epoch 4/20\n",
      "999/999 [==============================] - 222s 222ms/step - loss: 0.2205 - accuracy: 0.9332 - val_loss: 0.4567 - val_accuracy: 0.8840\n",
      "Epoch 00004: early stopping\n"
     ]
    }
   ],
   "source": [
    "from tensorflow.keras.callbacks import EarlyStopping\n",
    "\n",
    "es = EarlyStopping(monitor='val_loss', mode='min', verbose=1, patience = 2)\n",
    "\n",
    "history = model.fit(train_dataset,steps_per_epoch=len(train) // 20 * strategy.num_replicas_in_sync,\n",
    "                    validation_data=valid_dataset,epochs= 20, callbacks=[es])"
   ]
  },
  {
   "cell_type": "code",
   "execution_count": 27,
   "id": "7132a508",
   "metadata": {},
   "outputs": [
    {
     "data": {
      "image/png": "[encoded data removed]",
      "text/plain": [
       "<Figure size 432x288 with 1 Axes>"
      ]
     },
     "metadata": {},
     "output_type": "display_data"
    }
   ],
   "source": [
    "plt.plot(history.history['loss'], label='train')\n",
    "plt.plot(history.history['val_loss'], label='test')\n",
    "plt.legend()\n",
    "plt.show()"
   ]
  },
  {
   "cell_type": "code",
   "execution_count": 28,
   "id": "35b01b75",
   "metadata": {},
   "outputs": [
    {
     "name": "stdout",
     "output_type": "stream",
     "text": [
      "250/250 [==============================] - 20s 71ms/step\n"
     ]
    }
   ],
   "source": [
    "predictions = model.predict(test_dataset, verbose=1)"
   ]
  },
  {
   "cell_type": "code",
   "execution_count": 29,
   "id": "964a4816",
   "metadata": {},
   "outputs": [],
   "source": [
    "predictions_final = predictions.argmax(axis=1)"
   ]
  },
  {
   "cell_type": "code",
   "execution_count": 30,
   "id": "9e5dab2f",
   "metadata": {},
   "outputs": [
    {
     "data": {
      "text/plain": [
       "5000"
      ]
     },
     "execution_count": 30,
     "metadata": {},
     "output_type": "execute_result"
    }
   ],
   "source": [
    "len(predictions_final)"
   ]
  },
  {
   "cell_type": "code",
   "execution_count": 31,
   "id": "fbee0448",
   "metadata": {},
   "outputs": [],
   "source": [
    "list1 = [i for i in range(5000)]"
   ]
  },
  {
   "cell_type": "code",
   "execution_count": 32,
   "id": "0381aa16",
   "metadata": {},
   "outputs": [],
   "source": [
    "list2 = predictions_final"
   ]
  },
  {
   "cell_type": "code",
   "execution_count": 33,
   "id": "4543d007",
   "metadata": {},
   "outputs": [],
   "source": [
    "submission = pd.DataFrame({'index':list1,\n",
    "                           'label':list2})"
   ]
  },
  {
   "cell_type": "code",
   "execution_count": 34,
   "id": "5c78c204",
   "metadata": {},
   "outputs": [
    {
     "data": {
      "text/html": [
       "<div>\n",
       "<style scoped>\n",
       "    .dataframe tbody tr th:only-of-type {\n",
       "        vertical-align: middle;\n",
       "    }\n",
       "\n",
       "    .dataframe tbody tr th {\n",
       "        vertical-align: top;\n",
       "    }\n",
       "\n",
       "    .dataframe thead th {\n",
       "        text-align: right;\n",
       "    }\n",
       "</style>\n",
       "<table border=\"1\" class=\"dataframe\">\n",
       "  <thead>\n",
       "    <tr style=\"text-align: right;\">\n",
       "      <th></th>\n",
       "      <th>index</th>\n",
       "      <th>label</th>\n",
       "    </tr>\n",
       "  </thead>\n",
       "  <tbody>\n",
       "    <tr>\n",
       "      <th>0</th>\n",
       "      <td>0</td>\n",
       "      <td>0</td>\n",
       "    </tr>\n",
       "    <tr>\n",
       "      <th>1</th>\n",
       "      <td>1</td>\n",
       "      <td>1</td>\n",
       "    </tr>\n",
       "    <tr>\n",
       "      <th>2</th>\n",
       "      <td>2</td>\n",
       "      <td>0</td>\n",
       "    </tr>\n",
       "    <tr>\n",
       "      <th>3</th>\n",
       "      <td>3</td>\n",
       "      <td>1</td>\n",
       "    </tr>\n",
       "    <tr>\n",
       "      <th>4</th>\n",
       "      <td>4</td>\n",
       "      <td>2</td>\n",
       "    </tr>\n",
       "    <tr>\n",
       "      <th>...</th>\n",
       "      <td>...</td>\n",
       "      <td>...</td>\n",
       "    </tr>\n",
       "    <tr>\n",
       "      <th>4995</th>\n",
       "      <td>4995</td>\n",
       "      <td>2</td>\n",
       "    </tr>\n",
       "    <tr>\n",
       "      <th>4996</th>\n",
       "      <td>4996</td>\n",
       "      <td>0</td>\n",
       "    </tr>\n",
       "    <tr>\n",
       "      <th>4997</th>\n",
       "      <td>4997</td>\n",
       "      <td>2</td>\n",
       "    </tr>\n",
       "    <tr>\n",
       "      <th>4998</th>\n",
       "      <td>4998</td>\n",
       "      <td>0</td>\n",
       "    </tr>\n",
       "    <tr>\n",
       "      <th>4999</th>\n",
       "      <td>4999</td>\n",
       "      <td>0</td>\n",
       "    </tr>\n",
       "  </tbody>\n",
       "</table>\n",
       "<p>5000 rows × 2 columns</p>\n",
       "</div>"
      ],
      "text/plain": [
       "      index  label\n",
       "0         0      0\n",
       "1         1      1\n",
       "2         2      0\n",
       "3         3      1\n",
       "4         4      2\n",
       "...     ...    ...\n",
       "4995   4995      2\n",
       "4996   4996      0\n",
       "4997   4997      2\n",
       "4998   4998      0\n",
       "4999   4999      0\n",
       "\n",
       "[5000 rows x 2 columns]"
      ]
     },
     "execution_count": 34,
     "metadata": {},
     "output_type": "execute_result"
    }
   ],
   "source": [
    "submission"
   ]
  },
  {
   "cell_type": "code",
   "execution_count": 35,
   "id": "cc4f4ed5",
   "metadata": {},
   "outputs": [],
   "source": [
    "# contradiction => 0 entailment => 1 neutral => 2\n",
    "submission['label'].replace(0, 'contradiction', inplace=True)\n",
    "submission['label'].replace(1, 'entailment', inplace=True)\n",
    "submission['label'].replace(2, 'neutral', inplace=True)"
   ]
  },
  {
   "cell_type": "code",
   "execution_count": 36,
   "id": "12ad36b5",
   "metadata": {},
   "outputs": [
    {
     "data": {
      "text/html": [
       "<div>\n",
       "<style scoped>\n",
       "    .dataframe tbody tr th:only-of-type {\n",
       "        vertical-align: middle;\n",
       "    }\n",
       "\n",
       "    .dataframe tbody tr th {\n",
       "        vertical-align: top;\n",
       "    }\n",
       "\n",
       "    .dataframe thead th {\n",
       "        text-align: right;\n",
       "    }\n",
       "</style>\n",
       "<table border=\"1\" class=\"dataframe\">\n",
       "  <thead>\n",
       "    <tr style=\"text-align: right;\">\n",
       "      <th></th>\n",
       "      <th>index</th>\n",
       "      <th>label</th>\n",
       "    </tr>\n",
       "  </thead>\n",
       "  <tbody>\n",
       "    <tr>\n",
       "      <th>0</th>\n",
       "      <td>0</td>\n",
       "      <td>contradiction</td>\n",
       "    </tr>\n",
       "    <tr>\n",
       "      <th>1</th>\n",
       "      <td>1</td>\n",
       "      <td>entailment</td>\n",
       "    </tr>\n",
       "    <tr>\n",
       "      <th>2</th>\n",
       "      <td>2</td>\n",
       "      <td>contradiction</td>\n",
       "    </tr>\n",
       "    <tr>\n",
       "      <th>3</th>\n",
       "      <td>3</td>\n",
       "      <td>entailment</td>\n",
       "    </tr>\n",
       "    <tr>\n",
       "      <th>4</th>\n",
       "      <td>4</td>\n",
       "      <td>neutral</td>\n",
       "    </tr>\n",
       "    <tr>\n",
       "      <th>...</th>\n",
       "      <td>...</td>\n",
       "      <td>...</td>\n",
       "    </tr>\n",
       "    <tr>\n",
       "      <th>4995</th>\n",
       "      <td>4995</td>\n",
       "      <td>neutral</td>\n",
       "    </tr>\n",
       "    <tr>\n",
       "      <th>4996</th>\n",
       "      <td>4996</td>\n",
       "      <td>contradiction</td>\n",
       "    </tr>\n",
       "    <tr>\n",
       "      <th>4997</th>\n",
       "      <td>4997</td>\n",
       "      <td>neutral</td>\n",
       "    </tr>\n",
       "    <tr>\n",
       "      <th>4998</th>\n",
       "      <td>4998</td>\n",
       "      <td>contradiction</td>\n",
       "    </tr>\n",
       "    <tr>\n",
       "      <th>4999</th>\n",
       "      <td>4999</td>\n",
       "      <td>contradiction</td>\n",
       "    </tr>\n",
       "  </tbody>\n",
       "</table>\n",
       "<p>5000 rows × 2 columns</p>\n",
       "</div>"
      ],
      "text/plain": [
       "      index          label\n",
       "0         0  contradiction\n",
       "1         1     entailment\n",
       "2         2  contradiction\n",
       "3         3     entailment\n",
       "4         4        neutral\n",
       "...     ...            ...\n",
       "4995   4995        neutral\n",
       "4996   4996  contradiction\n",
       "4997   4997        neutral\n",
       "4998   4998  contradiction\n",
       "4999   4999  contradiction\n",
       "\n",
       "[5000 rows x 2 columns]"
      ]
     },
     "execution_count": 36,
     "metadata": {},
     "output_type": "execute_result"
    }
   ],
   "source": [
    "submission"
   ]
  },
  {
   "cell_type": "markdown",
   "id": "38662449",
   "metadata": {},
   "source": [
    "## versus previous submission(v4)"
   ]
  },
  {
   "cell_type": "code",
   "execution_count": 37,
   "id": "883924ca",
   "metadata": {},
   "outputs": [],
   "source": [
    "previous = pd.read_csv('../submission/submission_KoELECTRAv4.csv')"
   ]
  },
  {
   "cell_type": "code",
   "execution_count": 38,
   "id": "9ef68faa",
   "metadata": {},
   "outputs": [
    {
     "data": {
      "text/plain": [
       "0       contradiction\n",
       "1          entailment\n",
       "2       contradiction\n",
       "3          entailment\n",
       "4             neutral\n",
       "            ...      \n",
       "4995          neutral\n",
       "4996    contradiction\n",
       "4997          neutral\n",
       "4998    contradiction\n",
       "4999    contradiction\n",
       "Name: label, Length: 5000, dtype: object"
      ]
     },
     "execution_count": 38,
     "metadata": {},
     "output_type": "execute_result"
    }
   ],
   "source": [
    "previous['label']"
   ]
  },
  {
   "cell_type": "code",
   "execution_count": 39,
   "id": "bad5bdfe",
   "metadata": {
    "scrolled": true
   },
   "outputs": [
    {
     "data": {
      "text/plain": [
       "0       contradiction\n",
       "1          entailment\n",
       "2       contradiction\n",
       "3          entailment\n",
       "4             neutral\n",
       "            ...      \n",
       "4995          neutral\n",
       "4996    contradiction\n",
       "4997          neutral\n",
       "4998    contradiction\n",
       "4999    contradiction\n",
       "Name: label, Length: 5000, dtype: object"
      ]
     },
     "execution_count": 39,
     "metadata": {},
     "output_type": "execute_result"
    }
   ],
   "source": [
    "submission['label']"
   ]
  },
  {
   "cell_type": "code",
   "execution_count": 40,
   "id": "9d0dc530",
   "metadata": {},
   "outputs": [
    {
     "name": "stdout",
     "output_type": "stream",
     "text": [
      "이전 제출 파일과의 유사도:92.88%\n"
     ]
    }
   ],
   "source": [
    "cnt_equal = 0\n",
    "cnt_diff = 0\n",
    "for i in range(5000):\n",
    "    if previous['label'][i] == submission['label'][i]:\n",
    "        cnt_equal += 1\n",
    "    else: cnt_diff += 1\n",
    "\n",
    "similarity = cnt_equal/(cnt_equal+cnt_diff) * 100\n",
    "print(f\"이전 제출 파일과의 유사도:{similarity}%\")"
   ]
  },
  {
   "cell_type": "code",
   "execution_count": 41,
   "id": "b2f88962",
   "metadata": {},
   "outputs": [],
   "source": [
    "submission.to_csv(\"../submission/submission_KoELECTRAv8.csv\", index = False)"
   ]
  },
  {
   "cell_type": "code",
   "execution_count": 42,
   "id": "c071afd8",
   "metadata": {},
   "outputs": [],
   "source": [
    "# model.save('competition_KoELECTRA_v2.h5')\n",
    "# Load model code\n",
    "# new_model = tf.keras.models.load_model('competition_BERT_v1.h5')\n",
    "# test_loss, test_acc = new_model.evaluate(x,  y, verbose=2)"
   ]
  }
 ],
 "metadata": {
  "kernelspec": {
   "display_name": "Python 3 (ipykernel)",
   "language": "python",
   "name": "python3"
  },
  "language_info": {
   "codemirror_mode": {
    "name": "ipython",
    "version": 3
   },
   "file_extension": ".py",
   "mimetype": "text/x-python",
   "name": "python",
   "nbconvert_exporter": "python",
   "pygments_lexer": "ipython3",
   "version": "3.8.5"
  }
 },
 "nbformat": 4,
 "nbformat_minor": 5
}
