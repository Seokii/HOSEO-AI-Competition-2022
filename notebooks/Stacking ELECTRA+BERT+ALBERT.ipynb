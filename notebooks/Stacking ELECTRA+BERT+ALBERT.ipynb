{
 "cells": [
  {
   "cell_type": "markdown",
   "id": "27ade102",
   "metadata": {},
   "source": [
    "## 0. Import"
   ]
  },
  {
   "cell_type": "code",
   "execution_count": 1,
   "id": "18579186",
   "metadata": {},
   "outputs": [],
   "source": [
    "import numpy as np\n",
    "import pandas as pd\n",
    "import seaborn as sns\n",
    "import matplotlib.pyplot as plt\n",
    "\n",
    "import tensorflow as tf\n",
    "from tensorflow.keras.layers import Dense,Input\n",
    "from tensorflow.keras.models import Model\n",
    "from tensorflow.keras.optimizers import Adam\n",
    "from transformers import TFBertModel, TFAlbertModel, TFElectraModel, TFDistilBertModel, DistilBertModel\n",
    "from transformers import ElectraTokenizer, BertTokenizerFast\n",
    "\n",
    "from sklearn.preprocessing import LabelEncoder\n",
    "from sklearn.model_selection import train_test_split\n",
    "from sklearn.metrics import accuracy_score"
   ]
  },
  {
   "cell_type": "code",
   "execution_count": 2,
   "id": "cbf36deb",
   "metadata": {},
   "outputs": [],
   "source": [
    "strategy = tf.distribute.get_strategy()"
   ]
  },
  {
   "cell_type": "markdown",
   "id": "959f893b",
   "metadata": {},
   "source": [
    "## 1. Load Dataset"
   ]
  },
  {
   "cell_type": "code",
   "execution_count": 3,
   "id": "5714ea1a",
   "metadata": {},
   "outputs": [],
   "source": [
    "train = pd.read_csv(\"../dataset/train.csv\", encoding='CP949')\n",
    "test = pd.read_csv(\"../dataset/test.csv\", encoding='CP949')"
   ]
  },
  {
   "cell_type": "markdown",
   "id": "ef7a1305",
   "metadata": {},
   "source": [
    "## 2. EDA"
   ]
  },
  {
   "cell_type": "markdown",
   "id": "7feb376c",
   "metadata": {},
   "source": [
    "### 2.1. LabelEncoder을 통해 str형태의 label을 숫자로 변환"
   ]
  },
  {
   "cell_type": "code",
   "execution_count": 4,
   "id": "57954a32",
   "metadata": {},
   "outputs": [],
   "source": [
    "categorical_cols = ['label']\n",
    "for e in categorical_cols:\n",
    "    le = LabelEncoder()\n",
    "    train[e] = le.fit_transform(train[e])"
   ]
  },
  {
   "cell_type": "code",
   "execution_count": 5,
   "id": "98a525d8",
   "metadata": {},
   "outputs": [
    {
     "data": {
      "text/html": [
       "<div>\n",
       "<style scoped>\n",
       "    .dataframe tbody tr th:only-of-type {\n",
       "        vertical-align: middle;\n",
       "    }\n",
       "\n",
       "    .dataframe tbody tr th {\n",
       "        vertical-align: top;\n",
       "    }\n",
       "\n",
       "    .dataframe thead th {\n",
       "        text-align: right;\n",
       "    }\n",
       "</style>\n",
       "<table border=\"1\" class=\"dataframe\">\n",
       "  <thead>\n",
       "    <tr style=\"text-align: right;\">\n",
       "      <th></th>\n",
       "      <th>index</th>\n",
       "      <th>premise</th>\n",
       "      <th>hypothesis</th>\n",
       "      <th>label</th>\n",
       "    </tr>\n",
       "  </thead>\n",
       "  <tbody>\n",
       "    <tr>\n",
       "      <th>0</th>\n",
       "      <td>1</td>\n",
       "      <td>삼성은 자작극을 벌인 2명에게 형사 고소 등의 법적 대응을 검토 중이라고 하였으나,...</td>\n",
       "      <td>자작극을 벌인 이는 3명이다.</td>\n",
       "      <td>0</td>\n",
       "    </tr>\n",
       "    <tr>\n",
       "      <th>1</th>\n",
       "      <td>2</td>\n",
       "      <td>이를 위해 예측적 범죄예방 시스템을 구축하고 고도화한다.</td>\n",
       "      <td>예측적 범죄예방 시스템 구축하고 고도화하는 것은 목적이 있기 때문이다.</td>\n",
       "      <td>1</td>\n",
       "    </tr>\n",
       "    <tr>\n",
       "      <th>2</th>\n",
       "      <td>3</td>\n",
       "      <td>광주광역시가 재개발 정비사업 원주민들에 대한 종합대책을 마련하는 등 원주민 보호에 ...</td>\n",
       "      <td>원주민들은 종합대책에 만족했다.</td>\n",
       "      <td>2</td>\n",
       "    </tr>\n",
       "    <tr>\n",
       "      <th>3</th>\n",
       "      <td>4</td>\n",
       "      <td>진정 소비자와 직원들에게 사랑 받는 기업으로 오래 지속되고 싶으면, 이런 상황에서는...</td>\n",
       "      <td>이런 상황에서 책임 있는 모습을 보여주는 기업은 아주 드물다.</td>\n",
       "      <td>2</td>\n",
       "    </tr>\n",
       "    <tr>\n",
       "      <th>4</th>\n",
       "      <td>5</td>\n",
       "      <td>이번 증설로 코오롱인더스트리는 기존 생산량 7만7000톤에서 1만6800톤이 늘어나...</td>\n",
       "      <td>코오롱 인더스트리는 총 9만 3800톤의 생산 능력을 확보했다.</td>\n",
       "      <td>1</td>\n",
       "    </tr>\n",
       "  </tbody>\n",
       "</table>\n",
       "</div>"
      ],
      "text/plain": [
       "   index                                            premise  \\\n",
       "0      1  삼성은 자작극을 벌인 2명에게 형사 고소 등의 법적 대응을 검토 중이라고 하였으나,...   \n",
       "1      2                    이를 위해 예측적 범죄예방 시스템을 구축하고 고도화한다.   \n",
       "2      3  광주광역시가 재개발 정비사업 원주민들에 대한 종합대책을 마련하는 등 원주민 보호에 ...   \n",
       "3      4  진정 소비자와 직원들에게 사랑 받는 기업으로 오래 지속되고 싶으면, 이런 상황에서는...   \n",
       "4      5  이번 증설로 코오롱인더스트리는 기존 생산량 7만7000톤에서 1만6800톤이 늘어나...   \n",
       "\n",
       "                                hypothesis  label  \n",
       "0                         자작극을 벌인 이는 3명이다.      0  \n",
       "1  예측적 범죄예방 시스템 구축하고 고도화하는 것은 목적이 있기 때문이다.      1  \n",
       "2                        원주민들은 종합대책에 만족했다.      2  \n",
       "3       이런 상황에서 책임 있는 모습을 보여주는 기업은 아주 드물다.      2  \n",
       "4      코오롱 인더스트리는 총 9만 3800톤의 생산 능력을 확보했다.      1  "
      ]
     },
     "execution_count": 5,
     "metadata": {},
     "output_type": "execute_result"
    }
   ],
   "source": [
    "train.head()"
   ]
  },
  {
   "cell_type": "markdown",
   "id": "c3eac0fe",
   "metadata": {},
   "source": [
    "### 훈련 데이터의 결측치 확인"
   ]
  },
  {
   "cell_type": "code",
   "execution_count": 6,
   "id": "9246553b",
   "metadata": {
    "scrolled": true
   },
   "outputs": [
    {
     "data": {
      "text/plain": [
       "index         0\n",
       "premise       0\n",
       "hypothesis    0\n",
       "label         0\n",
       "dtype: int64"
      ]
     },
     "execution_count": 6,
     "metadata": {},
     "output_type": "execute_result"
    }
   ],
   "source": [
    "train.isnull().sum()"
   ]
  },
  {
   "cell_type": "markdown",
   "id": "ff59d416",
   "metadata": {},
   "source": [
    "### 클래스의 불균형이 있는지 시각화하여 확인"
   ]
  },
  {
   "cell_type": "code",
   "execution_count": 7,
   "id": "4d386fc3",
   "metadata": {},
   "outputs": [
    {
     "data": {
      "image/png": "[encoded data removed]",
      "text/plain": [
       "<Figure size 432x288 with 1 Axes>"
      ]
     },
     "metadata": {},
     "output_type": "display_data"
    }
   ],
   "source": [
    "sns.set_theme(style=\"darkgrid\")\n",
    "ax = sns.countplot(x=\"label\", data=train)"
   ]
  },
  {
   "cell_type": "code",
   "execution_count": 8,
   "id": "50565f39",
   "metadata": {},
   "outputs": [
    {
     "data": {
      "image/png": "[encoded data removed]",
      "text/plain": [
       "<Figure size 360x360 with 1 Axes>"
      ]
     },
     "metadata": {},
     "output_type": "display_data"
    }
   ],
   "source": [
    "labels, frequencies = np.unique(train.label.values, return_counts=True)\n",
    "plt.figure(figsize=(5,5))\n",
    "plt.pie(frequencies, labels = labels, autopct= '%1.1f%%')\n",
    "plt.show()"
   ]
  },
  {
   "cell_type": "markdown",
   "id": "7e7a3ccc",
   "metadata": {},
   "source": [
    "## 3. Modeling"
   ]
  },
  {
   "cell_type": "markdown",
   "id": "c37287d5",
   "metadata": {},
   "source": [
    "최종 목표인 Stacking Ensemble을 적용하기 위해서 개별 모델 3가지를 구현했습니다.  \n",
    "각각 사전학습된 ELECTRA, BERT, ALBERT 모델에 대해 fine-tune을 적용했습니다.  \n",
    "이전 electra 개별 모델 구현 파일에서 토크나이징 후 조정할 패딩의 길이를 100으로 정했습니다.  \n",
    "따라서, 각각의 모델들의 input_layer의 shape을 (100,)으로 지정했습니다.  "
   ]
  },
  {
   "cell_type": "markdown",
   "id": "8d9117d9",
   "metadata": {},
   "source": [
    "### 3.1 개별 모델 구현 함수"
   ]
  },
  {
   "cell_type": "code",
   "execution_count": null,
   "id": "45c01b01",
   "metadata": {},
   "outputs": [],
   "source": [
    "def model_KoELECTRA():\n",
    "    with strategy.scope():\n",
    "        encoder = TFElectraModel.from_pretrained(\"monologg/koelectra-base-v3-discriminator\", from_pt=True)\n",
    "\n",
    "        input_layer = Input(shape=(100,), dtype=tf.int32, name=\"input_layer\")\n",
    "        sequence_output = encoder(input_layer)[0]\n",
    "\n",
    "        cls_token = sequence_output[:, 0, :]\n",
    "\n",
    "        output_layer = Dense(3, activation='softmax')(cls_token)\n",
    "\n",
    "        model = Model(inputs=input_layer, outputs=output_layer)\n",
    "        model.compile(Adam(lr=1e-5), loss='sparse_categorical_crossentropy', metrics=['accuracy'])\n",
    "    \n",
    "    return model\n",
    "\n",
    "def model_BERT():\n",
    "    with strategy.scope():\n",
    "        encoder = TFBertModel.from_pretrained(\"kykim/bert-kor-base\")\n",
    "\n",
    "        input_layer = Input(shape=(100,), dtype=tf.int32, name=\"input_layer\")\n",
    "        sequence_output = encoder(input_layer)[0]\n",
    "\n",
    "        cls_token = sequence_output[:, 0, :]\n",
    "\n",
    "        output_layer = Dense(3, activation='softmax')(cls_token)\n",
    "\n",
    "        model = Model(inputs=input_layer, outputs=output_layer)\n",
    "        model.compile(Adam(lr=1e-5), loss='sparse_categorical_crossentropy', metrics=['accuracy'])\n",
    "    \n",
    "    return model\n",
    "\n",
    "def model_ALBERT():\n",
    "    with strategy.scope():\n",
    "        encoder = TFAlbertModel.from_pretrained(\"kykim/albert-kor-base\")\n",
    "\n",
    "        input_layer = Input(shape=(100,), dtype=tf.int32, name=\"input_layer\")\n",
    "        sequence_output = encoder(input_layer)[0]\n",
    "\n",
    "        cls_token = sequence_output[:, 0, :]\n",
    "\n",
    "        output_layer = Dense(3, activation='softmax')(cls_token)\n",
    "\n",
    "        model = Model(inputs=input_layer, outputs=output_layer)\n",
    "        model.compile(Adam(lr=1e-5), loss='sparse_categorical_crossentropy', metrics=['accuracy'])\n",
    "    \n",
    "    return model"
   ]
  },
  {
   "cell_type": "markdown",
   "id": "f936aca6",
   "metadata": {},
   "source": [
    "### 3.2 구현한 모델, 토크나이저 선언"
   ]
  },
  {
   "cell_type": "code",
   "execution_count": 10,
   "id": "d7bea482",
   "metadata": {},
   "outputs": [
    {
     "name": "stderr",
     "output_type": "stream",
     "text": [
      "All model checkpoint layers were used when initializing TFBertModel.\n",
      "\n",
      "All the layers of TFBertModel were initialized from the model checkpoint at kykim/bert-kor-base.\n",
      "If your task is similar to the task the model of the checkpoint was trained on, you can already use TFBertModel for predictions without further training.\n"
     ]
    },
    {
     "name": "stdout",
     "output_type": "stream",
     "text": [
      "WARNING:tensorflow:The parameters `output_attentions`, `output_hidden_states` and `use_cache` cannot be updated when calling a model.They have to be set to True/False in the config object (i.e.: `config=XConfig.from_pretrained('name', output_attentions=True)`).\n",
      "WARNING:tensorflow:AutoGraph could not transform <bound method Socket.send of <zmq.Socket(zmq.PUSH) at 0x23cdf6fa940>> and will run it as-is.\n",
      "Please report this to the TensorFlow team. When filing the bug, set the verbosity to 10 (on Linux, `export AUTOGRAPH_VERBOSITY=10`) and attach the full output.\n",
      "Cause: module, class, method, function, traceback, frame, or code object was expected, got cython_function_or_method\n",
      "To silence this warning, decorate the function with @tf.autograph.experimental.do_not_convert\n",
      "WARNING: AutoGraph could not transform <bound method Socket.send of <zmq.Socket(zmq.PUSH) at 0x23cdf6fa940>> and will run it as-is.\n",
      "Please report this to the TensorFlow team. When filing the bug, set the verbosity to 10 (on Linux, `export AUTOGRAPH_VERBOSITY=10`) and attach the full output.\n",
      "Cause: module, class, method, function, traceback, frame, or code object was expected, got cython_function_or_method\n",
      "To silence this warning, decorate the function with @tf.autograph.experimental.do_not_convert\n",
      "WARNING:tensorflow:The parameter `return_dict` cannot be set in graph mode and will always be set to `True`.\n",
      "WARNING:tensorflow:From C:\\Users\\Home\\AppData\\Roaming\\Python\\Python38\\site-packages\\tensorflow\\python\\ops\\array_ops.py:5043: calling gather (from tensorflow.python.ops.array_ops) with validate_indices is deprecated and will be removed in a future version.\n",
      "Instructions for updating:\n",
      "The `validate_indices` argument has no effect. Indices are always validated on CPU and never validated on GPU.\n"
     ]
    },
    {
     "name": "stderr",
     "output_type": "stream",
     "text": [
      "C:\\Users\\Home\\AppData\\Roaming\\Python\\Python38\\site-packages\\tensorflow\\python\\keras\\optimizer_v2\\optimizer_v2.py:374: UserWarning: The `lr` argument is deprecated, use `learning_rate` instead.\n",
      "  warnings.warn(\n",
      "All model checkpoint layers were used when initializing TFAlbertModel.\n",
      "\n",
      "All the layers of TFAlbertModel were initialized from the model checkpoint at kykim/albert-kor-base.\n",
      "If your task is similar to the task the model of the checkpoint was trained on, you can already use TFAlbertModel for predictions without further training.\n"
     ]
    },
    {
     "name": "stdout",
     "output_type": "stream",
     "text": [
      "WARNING:tensorflow:The parameters `output_attentions`, `output_hidden_states` and `use_cache` cannot be updated when calling a model.They have to be set to True/False in the config object (i.e.: `config=XConfig.from_pretrained('name', output_attentions=True)`).\n",
      "WARNING:tensorflow:The parameter `return_dict` cannot be set in graph mode and will always be set to `True`.\n"
     ]
    },
    {
     "name": "stderr",
     "output_type": "stream",
     "text": [
      "Some weights of the PyTorch model were not used when initializing the TF 2.0 model TFElectraModel: ['electra.embeddings.position_ids', 'discriminator_predictions.dense_prediction.weight', 'discriminator_predictions.dense.bias', 'discriminator_predictions.dense.weight', 'discriminator_predictions.dense_prediction.bias']\n",
      "- This IS expected if you are initializing TFElectraModel from a PyTorch model trained on another task or with another architecture (e.g. initializing a TFBertForSequenceClassification model from a BertForPreTraining model).\n",
      "- This IS NOT expected if you are initializing TFElectraModel from a PyTorch model that you expect to be exactly identical (e.g. initializing a TFBertForSequenceClassification model from a BertForSequenceClassification model).\n",
      "All the weights of TFElectraModel were initialized from the PyTorch model.\n",
      "If your task is similar to the task the model of the checkpoint was trained on, you can already use TFElectraModel for predictions without further training.\n"
     ]
    },
    {
     "name": "stdout",
     "output_type": "stream",
     "text": [
      "WARNING:tensorflow:The parameters `output_attentions`, `output_hidden_states` and `use_cache` cannot be updated when calling a model.They have to be set to True/False in the config object (i.e.: `config=XConfig.from_pretrained('name', output_attentions=True)`).\n",
      "WARNING:tensorflow:The parameter `return_dict` cannot be set in graph mode and will always be set to `True`.\n"
     ]
    }
   ],
   "source": [
    "model_bert = model_BERT()\n",
    "model_albert = model_ALBERT()\n",
    "model_electra = model_KoELECTRA()"
   ]
  },
  {
   "cell_type": "code",
   "execution_count": 11,
   "id": "d50e44dc",
   "metadata": {},
   "outputs": [],
   "source": [
    "tokenizer_bert = BertTokenizerFast.from_pretrained(\"kykim/bert-kor-base\")\n",
    "tokenizer_albert = BertTokenizerFast.from_pretrained(\"kykim/albert-kor-base\")\n",
    "tokenizer_electra = ElectraTokenizer.from_pretrained(\"monologg/koelectra-base-v3-discriminator\")"
   ]
  },
  {
   "cell_type": "markdown",
   "id": "0d10fe4c",
   "metadata": {},
   "source": [
    "### 3.3 훈련 데이터 전처리"
   ]
  },
  {
   "cell_type": "markdown",
   "id": "8932f154",
   "metadata": {},
   "source": [
    "훈련데이터에 대해 각 문장에 대한 인코딩을 수행하고 패딩을 맞춰주는 전처리 작업을 진행합니다.  \n",
    "훈련데이터를 7:3 비율로 훈련데이터와 검증데이터를 나눕니다.  \n",
    "검증데이터는 각 개별 모델로 예측을 진행하고, 클래스에 대한 예측 확률 값들과 예측 클래스 값들을 통해 앙상블 데이터로 사용하게 됩니다.  \n",
    "따라서, 최종 제출할 대상이 되는 테스트 데이터에 대해서도 예측을 하고 예측 확률 값들과 클래스를 저장하는 같은 과정을 거치게 됩니다.  "
   ]
  },
  {
   "cell_type": "code",
   "execution_count": 12,
   "id": "6aa84328",
   "metadata": {},
   "outputs": [],
   "source": [
    "train_data = train[['premise', 'hypothesis']].values.tolist()\n",
    "test_data = test[['premise', 'hypothesis']].values.tolist()"
   ]
  },
  {
   "cell_type": "markdown",
   "id": "e8c9f17d",
   "metadata": {},
   "source": [
    "#### 3.3.1 ELECTRA 모델링"
   ]
  },
  {
   "cell_type": "code",
   "execution_count": 13,
   "id": "741cf57b",
   "metadata": {},
   "outputs": [],
   "source": [
    "train_encoded_electra = tokenizer_electra.batch_encode_plus(train_data, padding='max_length', max_length=100)\n",
    "test_encoded_electra = tokenizer_electra.batch_encode_plus(test_data, padding='max_length', max_length=100)"
   ]
  },
  {
   "cell_type": "code",
   "execution_count": 14,
   "id": "6ef97fa3",
   "metadata": {},
   "outputs": [],
   "source": [
    "x_train, x_valid, y_train, y_valid = train_test_split(train_encoded_electra['input_ids'], train.label.values, test_size=0.3, shuffle=False)\n",
    "x_test = test_encoded_electra['input_ids']"
   ]
  },
  {
   "cell_type": "code",
   "execution_count": 15,
   "id": "5cb71ea5",
   "metadata": {},
   "outputs": [],
   "source": [
    "# x_train, y_train = train_encoded_electra['input_ids'], train.label.values\n",
    "# x_test = test_encoded_electra['input_ids']"
   ]
  },
  {
   "cell_type": "code",
   "execution_count": 16,
   "id": "6919c4c1",
   "metadata": {},
   "outputs": [],
   "source": [
    "train_dataset = (tf.data.Dataset.from_tensor_slices((x_train, y_train)).repeat().shuffle(2048).batch(20 * strategy.num_replicas_in_sync).prefetch(tf.data.experimental.AUTOTUNE))\n",
    "valid_dataset = (tf.data.Dataset.from_tensor_slices((x_valid, y_valid)).batch(20 * strategy.num_replicas_in_sync).cache().prefetch(tf.data.experimental.AUTOTUNE))\n",
    "test_dataset = (tf.data.Dataset.from_tensor_slices(x_test).batch(20 * strategy.num_replicas_in_sync))"
   ]
  },
  {
   "cell_type": "code",
   "execution_count": 17,
   "id": "ed15eac2",
   "metadata": {},
   "outputs": [
    {
     "name": "stdout",
     "output_type": "stream",
     "text": [
      "Epoch 1/3\n",
      "WARNING:tensorflow:The parameters `output_attentions`, `output_hidden_states` and `use_cache` cannot be updated when calling a model.They have to be set to True/False in the config object (i.e.: `config=XConfig.from_pretrained('name', output_attentions=True)`).\n",
      "WARNING:tensorflow:The parameter `return_dict` cannot be set in graph mode and will always be set to `True`.\n",
      "WARNING:tensorflow:The parameters `output_attentions`, `output_hidden_states` and `use_cache` cannot be updated when calling a model.They have to be set to True/False in the config object (i.e.: `config=XConfig.from_pretrained('name', output_attentions=True)`).\n",
      "WARNING:tensorflow:The parameter `return_dict` cannot be set in graph mode and will always be set to `True`.\n",
      "999/999 [==============================] - ETA: 0s - loss: 0.5184 - accuracy: 0.7837WARNING:tensorflow:The parameters `output_attentions`, `output_hidden_states` and `use_cache` cannot be updated when calling a model.They have to be set to True/False in the config object (i.e.: `config=XConfig.from_pretrained('name', output_attentions=True)`).\n",
      "WARNING:tensorflow:The parameter `return_dict` cannot be set in graph mode and will always be set to `True`.\n",
      "999/999 [==============================] - 385s 378ms/step - loss: 0.5184 - accuracy: 0.7837 - val_loss: 0.4014 - val_accuracy: 0.8570\n",
      "Epoch 2/3\n",
      "999/999 [==============================] - 375s 375ms/step - loss: 0.2313 - accuracy: 0.9172 - val_loss: 0.4548 - val_accuracy: 0.8635\n",
      "Epoch 3/3\n",
      "999/999 [==============================] - 375s 375ms/step - loss: 0.1124 - accuracy: 0.9635 - val_loss: 0.5173 - val_accuracy: 0.8656\n"
     ]
    }
   ],
   "source": [
    "history_electra = model_electra.fit(train_dataset,steps_per_epoch=len(train) // 20 * strategy.num_replicas_in_sync,\n",
    "                                     validation_data=valid_dataset,epochs= 3)"
   ]
  },
  {
   "cell_type": "code",
   "execution_count": 18,
   "id": "e68900dd",
   "metadata": {},
   "outputs": [],
   "source": [
    "# history_electra = model_electra.fit(train_dataset,steps_per_epoch=len(train) // 20 * strategy.num_replicas_in_sync,\n",
    "#                                     epochs= 3)"
   ]
  },
  {
   "cell_type": "code",
   "execution_count": 19,
   "id": "3820331b",
   "metadata": {},
   "outputs": [
    {
     "name": "stdout",
     "output_type": "stream",
     "text": [
      "WARNING:tensorflow:The parameters `output_attentions`, `output_hidden_states` and `use_cache` cannot be updated when calling a model.They have to be set to True/False in the config object (i.e.: `config=XConfig.from_pretrained('name', output_attentions=True)`).\n",
      "WARNING:tensorflow:The parameter `return_dict` cannot be set in graph mode and will always be set to `True`.\n",
      "188/188 [==============================] - 28s 148ms/step\n"
     ]
    }
   ],
   "source": [
    "electra_pred = model_electra.predict(x_valid, verbose=1)\n",
    "electra_pred_class = np.argmax(electra_pred, axis=1)"
   ]
  },
  {
   "cell_type": "code",
   "execution_count": 21,
   "id": "533c99ab",
   "metadata": {},
   "outputs": [
    {
     "name": "stdout",
     "output_type": "stream",
     "text": [
      "250/250 [==============================] - 26s 104ms/step\n"
     ]
    }
   ],
   "source": [
    "test_pred_electra = model_electra.predict(test_dataset, verbose=1)\n",
    "test_pred_electra_class = np.argmax(test_pred_electra, axis=1)"
   ]
  },
  {
   "cell_type": "markdown",
   "id": "577282f9",
   "metadata": {},
   "source": [
    "#### 3.3.2 BERT, ALBERT 모델링"
   ]
  },
  {
   "cell_type": "code",
   "execution_count": 22,
   "id": "95c4b309",
   "metadata": {},
   "outputs": [],
   "source": [
    "train_encoded_bert = tokenizer_bert.batch_encode_plus(train_data, padding='max_length', max_length=100)\n",
    "test_encoded_bert = tokenizer_bert.batch_encode_plus(test_data, padding='max_length', max_length=100)"
   ]
  },
  {
   "cell_type": "code",
   "execution_count": 23,
   "id": "4fd285c8",
   "metadata": {},
   "outputs": [],
   "source": [
    "x_train, x_valid, y_train, y_valid = train_test_split(train_encoded_bert['input_ids'], train.label.values, test_size=0.3, shuffle=False)\n",
    "x_test = test_encoded_bert['input_ids']"
   ]
  },
  {
   "cell_type": "code",
   "execution_count": 24,
   "id": "7e25bf22",
   "metadata": {},
   "outputs": [],
   "source": [
    "# x_train, y_train = train_encoded_bert['input_ids'], train.label.values\n",
    "# x_test = test_encoded_bert['input_ids']"
   ]
  },
  {
   "cell_type": "code",
   "execution_count": 25,
   "id": "177c8e77",
   "metadata": {},
   "outputs": [],
   "source": [
    "train_dataset = (tf.data.Dataset.from_tensor_slices((x_train, y_train)).repeat().shuffle(2048).batch(20 * strategy.num_replicas_in_sync).prefetch(tf.data.experimental.AUTOTUNE))\n",
    "valid_dataset = (tf.data.Dataset.from_tensor_slices((x_valid, y_valid)).batch(20 * strategy.num_replicas_in_sync).cache().prefetch(tf.data.experimental.AUTOTUNE))\n",
    "test_dataset = (tf.data.Dataset.from_tensor_slices(x_test).batch(20 * strategy.num_replicas_in_sync))"
   ]
  },
  {
   "cell_type": "code",
   "execution_count": 26,
   "id": "408a2b86",
   "metadata": {},
   "outputs": [
    {
     "name": "stdout",
     "output_type": "stream",
     "text": [
      "Epoch 1/3\n",
      "WARNING:tensorflow:The parameters `output_attentions`, `output_hidden_states` and `use_cache` cannot be updated when calling a model.They have to be set to True/False in the config object (i.e.: `config=XConfig.from_pretrained('name', output_attentions=True)`).\n",
      "WARNING:tensorflow:The parameter `return_dict` cannot be set in graph mode and will always be set to `True`.\n",
      "WARNING:tensorflow:Gradients do not exist for variables ['tf_bert_model/bert/pooler/dense/kernel:0', 'tf_bert_model/bert/pooler/dense/bias:0'] when minimizing the loss.\n",
      "WARNING:tensorflow:The parameters `output_attentions`, `output_hidden_states` and `use_cache` cannot be updated when calling a model.They have to be set to True/False in the config object (i.e.: `config=XConfig.from_pretrained('name', output_attentions=True)`).\n",
      "WARNING:tensorflow:The parameter `return_dict` cannot be set in graph mode and will always be set to `True`.\n",
      "WARNING:tensorflow:Gradients do not exist for variables ['tf_bert_model/bert/pooler/dense/kernel:0', 'tf_bert_model/bert/pooler/dense/bias:0'] when minimizing the loss.\n",
      "999/999 [==============================] - ETA: 0s - loss: 0.6827 - accuracy: 0.7061WARNING:tensorflow:The parameters `output_attentions`, `output_hidden_states` and `use_cache` cannot be updated when calling a model.They have to be set to True/False in the config object (i.e.: `config=XConfig.from_pretrained('name', output_attentions=True)`).\n",
      "WARNING:tensorflow:The parameter `return_dict` cannot be set in graph mode and will always be set to `True`.\n",
      "999/999 [==============================] - 400s 392ms/step - loss: 0.6827 - accuracy: 0.7061 - val_loss: 0.5025 - val_accuracy: 0.8118\n",
      "Epoch 2/3\n",
      "999/999 [==============================] - 384s 385ms/step - loss: 0.3488 - accuracy: 0.8702 - val_loss: 0.5261 - val_accuracy: 0.8211\n",
      "Epoch 3/3\n",
      "999/999 [==============================] - 299s 299ms/step - loss: 0.1830 - accuracy: 0.9350 - val_loss: 0.6903 - val_accuracy: 0.8245\n",
      "Epoch 1/3\n",
      "WARNING:tensorflow:The parameters `output_attentions`, `output_hidden_states` and `use_cache` cannot be updated when calling a model.They have to be set to True/False in the config object (i.e.: `config=XConfig.from_pretrained('name', output_attentions=True)`).\n",
      "WARNING:tensorflow:The parameter `return_dict` cannot be set in graph mode and will always be set to `True`.\n",
      "WARNING:tensorflow:Gradients do not exist for variables ['tf_albert_model/albert/pooler/kernel:0', 'tf_albert_model/albert/pooler/bias:0'] when minimizing the loss.\n",
      "WARNING:tensorflow:The parameters `output_attentions`, `output_hidden_states` and `use_cache` cannot be updated when calling a model.They have to be set to True/False in the config object (i.e.: `config=XConfig.from_pretrained('name', output_attentions=True)`).\n",
      "WARNING:tensorflow:The parameter `return_dict` cannot be set in graph mode and will always be set to `True`.\n",
      "WARNING:tensorflow:Gradients do not exist for variables ['tf_albert_model/albert/pooler/kernel:0', 'tf_albert_model/albert/pooler/bias:0'] when minimizing the loss.\n",
      "999/999 [==============================] - ETA: 0s - loss: 0.7425 - accuracy: 0.6624WARNING:tensorflow:The parameters `output_attentions`, `output_hidden_states` and `use_cache` cannot be updated when calling a model.They have to be set to True/False in the config object (i.e.: `config=XConfig.from_pretrained('name', output_attentions=True)`).\n",
      "WARNING:tensorflow:The parameter `return_dict` cannot be set in graph mode and will always be set to `True`.\n",
      "999/999 [==============================] - 305s 293ms/step - loss: 0.7425 - accuracy: 0.6624 - val_loss: 0.5737 - val_accuracy: 0.7741\n",
      "Epoch 2/3\n",
      "999/999 [==============================] - 290s 291ms/step - loss: 0.3636 - accuracy: 0.8640 - val_loss: 0.6125 - val_accuracy: 0.7883\n",
      "Epoch 3/3\n",
      "999/999 [==============================] - 292s 293ms/step - loss: 0.1378 - accuracy: 0.9529 - val_loss: 0.8724 - val_accuracy: 0.7843\n"
     ]
    }
   ],
   "source": [
    "history_bert = model_bert.fit(train_dataset,steps_per_epoch=len(train) // 20 * strategy.num_replicas_in_sync,\n",
    "                              validation_data=valid_dataset, epochs= 3)\n",
    "\n",
    "history_albert = model_albert.fit(train_dataset,steps_per_epoch=len(train) // 20 * strategy.num_replicas_in_sync,\n",
    "                                  validation_data=valid_dataset, epochs= 3)"
   ]
  },
  {
   "cell_type": "code",
   "execution_count": 27,
   "id": "621b3da0",
   "metadata": {},
   "outputs": [
    {
     "name": "stdout",
     "output_type": "stream",
     "text": [
      "WARNING:tensorflow:The parameters `output_attentions`, `output_hidden_states` and `use_cache` cannot be updated when calling a model.They have to be set to True/False in the config object (i.e.: `config=XConfig.from_pretrained('name', output_attentions=True)`).\n",
      "WARNING:tensorflow:The parameter `return_dict` cannot be set in graph mode and will always be set to `True`.\n",
      "188/188 [==============================] - 28s 144ms/step\n",
      "WARNING:tensorflow:The parameters `output_attentions`, `output_hidden_states` and `use_cache` cannot be updated when calling a model.They have to be set to True/False in the config object (i.e.: `config=XConfig.from_pretrained('name', output_attentions=True)`).\n",
      "WARNING:tensorflow:The parameter `return_dict` cannot be set in graph mode and will always be set to `True`.\n"
     ]
    }
   ],
   "source": [
    "bert_pred = model_bert.predict(x_valid, verbose=1)\n",
    "albert_pred = model_albert.predict(x_valid)"
   ]
  },
  {
   "cell_type": "code",
   "execution_count": 28,
   "id": "0a079c4d",
   "metadata": {},
   "outputs": [],
   "source": [
    "bert_pred_class = np.argmax(bert_pred, axis=1)\n",
    "albert_pred_class = np.argmax(albert_pred, axis=1)"
   ]
  },
  {
   "cell_type": "code",
   "execution_count": 29,
   "id": "b90fc004",
   "metadata": {},
   "outputs": [
    {
     "name": "stdout",
     "output_type": "stream",
     "text": [
      "250/250 [==============================] - 35s 141ms/step\n",
      "250/250 [==============================] - 36s 146ms/step\n"
     ]
    }
   ],
   "source": [
    "test_pred_bert = model_bert.predict(test_dataset, verbose=1)\n",
    "test_pred_albert = model_albert.predict(test_dataset, verbose=1)\n",
    "\n",
    "test_pred_bert_class = np.argmax(test_pred_bert, axis=1)\n",
    "test_pred_albert_class = np.argmax(test_pred_albert, axis=1)"
   ]
  },
  {
   "cell_type": "code",
   "execution_count": 30,
   "id": "c589f670",
   "metadata": {},
   "outputs": [],
   "source": [
    "# print('bert 정확도: {0:.4f}'.format(accuracy_score(y_valid, bert_pred_class)))\n",
    "# print('albert 정확도: {0:.4f}'.format(accuracy_score(y_valid, albert_pred_class)))"
   ]
  },
  {
   "cell_type": "markdown",
   "id": "c908aeb1",
   "metadata": {},
   "source": [
    "## 4. Stacking Ensemble learning"
   ]
  },
  {
   "cell_type": "markdown",
   "id": "213614f0",
   "metadata": {},
   "source": [
    "이전에 구했었던 검증 데이터에 대해 개별 모델로 예측한 메타데이터를 생성하여 스태킹 앙상블에 대한 훈련 데이터를 만들었습니다.  \n",
    "또한, 최종 예측할 테스트 데이터에 대한 개별 모델 예측 메타데이터도 생성했습니다.  \n",
    "만들어진 메타 데이터 학습을 하며 Stacking 앙상블을, 최종 판별 모델을 XGBoost를 사용하며 Boosting 앙상블을 적용했습니다.  \n",
    "이렇게 만들어진 XGBoost 모델을 통해 테스트 메타 데이터에 똑같이 적용함으로써 최종 예측을 진행했습니다.  "
   ]
  },
  {
   "cell_type": "markdown",
   "id": "ce0ff920",
   "metadata": {},
   "source": [
    "### 4.1 메타 데이터 생성"
   ]
  },
  {
   "cell_type": "code",
   "execution_count": 31,
   "id": "02268c03",
   "metadata": {},
   "outputs": [
    {
     "name": "stdout",
     "output_type": "stream",
     "text": [
      "(12, 5999)\n"
     ]
    }
   ],
   "source": [
    "meta_data = np.array([\n",
    "    np.transpose(electra_pred)[0], np.transpose(electra_pred)[1], np.transpose(electra_pred)[2], electra_pred_class,\n",
    "    np.transpose(bert_pred)[0], np.transpose(bert_pred)[1], np.transpose(bert_pred)[2], bert_pred_class,\n",
    "    np.transpose(albert_pred)[0], np.transpose(albert_pred)[1], np.transpose(albert_pred)[2], albert_pred_class\n",
    "])\n",
    "print(meta_data.shape)"
   ]
  },
  {
   "cell_type": "code",
   "execution_count": 32,
   "id": "3c5e7296",
   "metadata": {},
   "outputs": [
    {
     "name": "stdout",
     "output_type": "stream",
     "text": [
      "(5999, 12)\n"
     ]
    }
   ],
   "source": [
    "meta_data = np.transpose(meta_data)\n",
    "print(meta_data.shape)"
   ]
  },
  {
   "cell_type": "markdown",
   "id": "06e659a5",
   "metadata": {},
   "source": [
    "### 4.2 XGBoost Modeling"
   ]
  },
  {
   "cell_type": "code",
   "execution_count": 33,
   "id": "b7af7025",
   "metadata": {},
   "outputs": [],
   "source": [
    "from xgboost import XGBClassifier\n",
    "\n",
    "xgb_final = XGBClassifier(silent=False,\n",
    "                          n_estimators = 10000,\n",
    "                          booster='gbtree',\n",
    "                          tree_method='gpu_hist',\n",
    "                          preidctor= 'gpu_predictor',\n",
    "                          learning_rate=0.02,\n",
    "                          objective='multi:softmax',\n",
    "                          max_depth = 8,\n",
    "                          subsample = 0.8,\n",
    "                          random_state=42)"
   ]
  },
  {
   "cell_type": "code",
   "execution_count": 34,
   "id": "d0884cdb",
   "metadata": {},
   "outputs": [
    {
     "name": "stdout",
     "output_type": "stream",
     "text": [
      "[12:29:00] WARNING: C:/Users/Administrator/workspace/xgboost-win64_release_1.4.0/src/learner.cc:573: \n",
      "Parameters: { \"preidctor\", \"silent\" } might not be used.\n",
      "\n",
      "  This may not be accurate due to some parameters are only used in language bindings but\n",
      "  passed down to XGBoost core.  Or some parameters are not used but slip through this\n",
      "  verification. Please open an issue if you find above cases.\n",
      "\n",
      "\n"
     ]
    },
    {
     "name": "stderr",
     "output_type": "stream",
     "text": [
      "C:\\ProgramData\\Anaconda3\\lib\\site-packages\\xgboost\\sklearn.py:1146: UserWarning: The use of label encoder in XGBClassifier is deprecated and will be removed in a future release. To remove this warning, do the following: 1) Pass option use_label_encoder=False when constructing XGBClassifier object; and 2) Encode your labels (y) as integers starting with 0, i.e. 0, 1, 2, ..., [num_class - 1].\n",
      "  warnings.warn(label_encoder_deprecation_msg, UserWarning)\n"
     ]
    },
    {
     "name": "stdout",
     "output_type": "stream",
     "text": [
      "[12:29:00] WARNING: C:/Users/Administrator/workspace/xgboost-win64_release_1.4.0/src/learner.cc:1095: Starting in XGBoost 1.3.0, the default evaluation metric used with the objective 'multi:softprob' was changed from 'merror' to 'mlogloss'. Explicitly set eval_metric if you'd like to restore the old behavior.\n"
     ]
    }
   ],
   "source": [
    "final_model = xgb_final.fit(meta_data, y_valid)"
   ]
  },
  {
   "cell_type": "code",
   "execution_count": 35,
   "id": "4a1176cd",
   "metadata": {},
   "outputs": [],
   "source": [
    "final = final_model.predict(meta_data)"
   ]
  },
  {
   "cell_type": "code",
   "execution_count": 36,
   "id": "2da2a1b2",
   "metadata": {},
   "outputs": [
    {
     "name": "stdout",
     "output_type": "stream",
     "text": [
      "최종 메타 모델의 예측 정확도: 1.0000\n"
     ]
    }
   ],
   "source": [
    "print('최종 메타 모델의 예측 정확도: {0:.4f}'.format(accuracy_score(y_valid , final)))"
   ]
  },
  {
   "cell_type": "code",
   "execution_count": 37,
   "id": "18987edb",
   "metadata": {},
   "outputs": [
    {
     "data": {
      "text/plain": [
       "array([2, 1, 2, ..., 1, 2, 1])"
      ]
     },
     "execution_count": 37,
     "metadata": {},
     "output_type": "execute_result"
    }
   ],
   "source": [
    "final"
   ]
  },
  {
   "cell_type": "code",
   "execution_count": 38,
   "id": "db2447ba",
   "metadata": {},
   "outputs": [
    {
     "data": {
      "text/plain": [
       "5999"
      ]
     },
     "execution_count": 38,
     "metadata": {},
     "output_type": "execute_result"
    }
   ],
   "source": [
    "len(final)"
   ]
  },
  {
   "cell_type": "markdown",
   "id": "ff16e9ee",
   "metadata": {},
   "source": [
    "### 4.3 최종 예측 메타 데이터 생성 및 최종 판별 진행"
   ]
  },
  {
   "cell_type": "code",
   "execution_count": 41,
   "id": "58a716d3",
   "metadata": {},
   "outputs": [
    {
     "name": "stdout",
     "output_type": "stream",
     "text": [
      "(12, 5000)\n"
     ]
    }
   ],
   "source": [
    "test_meta_data = np.array([\n",
    "    np.transpose(test_pred_electra)[0], np.transpose(test_pred_electra)[1], np.transpose(test_pred_electra)[2], test_pred_electra_class,\n",
    "    np.transpose(test_pred_bert)[0], np.transpose(test_pred_bert)[1], np.transpose(test_pred_bert)[2], test_pred_bert_class,\n",
    "    np.transpose(test_pred_albert)[0], np.transpose(test_pred_albert)[1], np.transpose(test_pred_albert)[2], test_pred_albert_class\n",
    "])\n",
    "print(meta_data.shape)"
   ]
  },
  {
   "cell_type": "code",
   "execution_count": 46,
   "id": "098caf12",
   "metadata": {},
   "outputs": [
    {
     "name": "stdout",
     "output_type": "stream",
     "text": [
      "(12, 5000)\n"
     ]
    }
   ],
   "source": [
    "test_meta_data = np.transpose(test_meta_data)\n",
    "print(meta_data.shape)"
   ]
  },
  {
   "cell_type": "code",
   "execution_count": 47,
   "id": "f6253ffc",
   "metadata": {},
   "outputs": [],
   "source": [
    "predictions = final_model.predict(test_meta_data)"
   ]
  },
  {
   "cell_type": "code",
   "execution_count": 48,
   "id": "caa97aa7",
   "metadata": {},
   "outputs": [
    {
     "data": {
      "text/plain": [
       "array([0, 1, 0, ..., 2, 0, 0])"
      ]
     },
     "execution_count": 48,
     "metadata": {},
     "output_type": "execute_result"
    }
   ],
   "source": [
    "predictions"
   ]
  },
  {
   "cell_type": "code",
   "execution_count": 49,
   "id": "5a258d30",
   "metadata": {},
   "outputs": [],
   "source": [
    "list1 = [i for i in range(5000)]"
   ]
  },
  {
   "cell_type": "code",
   "execution_count": 51,
   "id": "dd4b009f",
   "metadata": {},
   "outputs": [],
   "source": [
    "list2 = predictions"
   ]
  },
  {
   "cell_type": "code",
   "execution_count": 52,
   "id": "6b927352",
   "metadata": {},
   "outputs": [],
   "source": [
    "submission = pd.DataFrame({'index':list1,\n",
    "                           'label':list2})"
   ]
  },
  {
   "cell_type": "code",
   "execution_count": 53,
   "id": "ed241997",
   "metadata": {},
   "outputs": [
    {
     "data": {
      "text/html": [
       "<div>\n",
       "<style scoped>\n",
       "    .dataframe tbody tr th:only-of-type {\n",
       "        vertical-align: middle;\n",
       "    }\n",
       "\n",
       "    .dataframe tbody tr th {\n",
       "        vertical-align: top;\n",
       "    }\n",
       "\n",
       "    .dataframe thead th {\n",
       "        text-align: right;\n",
       "    }\n",
       "</style>\n",
       "<table border=\"1\" class=\"dataframe\">\n",
       "  <thead>\n",
       "    <tr style=\"text-align: right;\">\n",
       "      <th></th>\n",
       "      <th>index</th>\n",
       "      <th>label</th>\n",
       "    </tr>\n",
       "  </thead>\n",
       "  <tbody>\n",
       "    <tr>\n",
       "      <th>0</th>\n",
       "      <td>0</td>\n",
       "      <td>0</td>\n",
       "    </tr>\n",
       "    <tr>\n",
       "      <th>1</th>\n",
       "      <td>1</td>\n",
       "      <td>1</td>\n",
       "    </tr>\n",
       "    <tr>\n",
       "      <th>2</th>\n",
       "      <td>2</td>\n",
       "      <td>0</td>\n",
       "    </tr>\n",
       "    <tr>\n",
       "      <th>3</th>\n",
       "      <td>3</td>\n",
       "      <td>1</td>\n",
       "    </tr>\n",
       "    <tr>\n",
       "      <th>4</th>\n",
       "      <td>4</td>\n",
       "      <td>2</td>\n",
       "    </tr>\n",
       "    <tr>\n",
       "      <th>...</th>\n",
       "      <td>...</td>\n",
       "      <td>...</td>\n",
       "    </tr>\n",
       "    <tr>\n",
       "      <th>4995</th>\n",
       "      <td>4995</td>\n",
       "      <td>2</td>\n",
       "    </tr>\n",
       "    <tr>\n",
       "      <th>4996</th>\n",
       "      <td>4996</td>\n",
       "      <td>0</td>\n",
       "    </tr>\n",
       "    <tr>\n",
       "      <th>4997</th>\n",
       "      <td>4997</td>\n",
       "      <td>2</td>\n",
       "    </tr>\n",
       "    <tr>\n",
       "      <th>4998</th>\n",
       "      <td>4998</td>\n",
       "      <td>0</td>\n",
       "    </tr>\n",
       "    <tr>\n",
       "      <th>4999</th>\n",
       "      <td>4999</td>\n",
       "      <td>0</td>\n",
       "    </tr>\n",
       "  </tbody>\n",
       "</table>\n",
       "<p>5000 rows × 2 columns</p>\n",
       "</div>"
      ],
      "text/plain": [
       "      index  label\n",
       "0         0      0\n",
       "1         1      1\n",
       "2         2      0\n",
       "3         3      1\n",
       "4         4      2\n",
       "...     ...    ...\n",
       "4995   4995      2\n",
       "4996   4996      0\n",
       "4997   4997      2\n",
       "4998   4998      0\n",
       "4999   4999      0\n",
       "\n",
       "[5000 rows x 2 columns]"
      ]
     },
     "execution_count": 53,
     "metadata": {},
     "output_type": "execute_result"
    }
   ],
   "source": [
    "submission"
   ]
  },
  {
   "cell_type": "code",
   "execution_count": 54,
   "id": "01e4f40c",
   "metadata": {},
   "outputs": [],
   "source": [
    "# contradiction => 0 entailment => 1 neutral => 2\n",
    "submission['label'].replace(0, 'contradiction', inplace=True)\n",
    "submission['label'].replace(1, 'entailment', inplace=True)\n",
    "submission['label'].replace(2, 'neutral', inplace=True)"
   ]
  },
  {
   "cell_type": "markdown",
   "id": "53835607",
   "metadata": {},
   "source": [
    "## 5. versus Previous submission"
   ]
  },
  {
   "cell_type": "markdown",
   "id": "af5cd538",
   "metadata": {},
   "source": [
    "리더보드에 올렸던 88%의 탐지율을 달성했던 csv파일과 유사도 비교를 진행했습니다.  \n",
    "유사도가 90%이며, 성능이 어느 정도 올라갈 것이라는 판단을 할 수 있습니다."
   ]
  },
  {
   "cell_type": "code",
   "execution_count": 55,
   "id": "75e9db5a",
   "metadata": {},
   "outputs": [],
   "source": [
    "previous = pd.read_csv('../submission/submission_KoELECTRAv4.csv')"
   ]
  },
  {
   "cell_type": "code",
   "execution_count": 56,
   "id": "5d33b7b5",
   "metadata": {},
   "outputs": [
    {
     "data": {
      "text/plain": [
       "0       contradiction\n",
       "1          entailment\n",
       "2       contradiction\n",
       "3          entailment\n",
       "4             neutral\n",
       "            ...      \n",
       "4995          neutral\n",
       "4996    contradiction\n",
       "4997          neutral\n",
       "4998    contradiction\n",
       "4999    contradiction\n",
       "Name: label, Length: 5000, dtype: object"
      ]
     },
     "execution_count": 56,
     "metadata": {},
     "output_type": "execute_result"
    }
   ],
   "source": [
    "previous['label']"
   ]
  },
  {
   "cell_type": "code",
   "execution_count": 57,
   "id": "51bfdacb",
   "metadata": {},
   "outputs": [
    {
     "data": {
      "text/plain": [
       "0       contradiction\n",
       "1          entailment\n",
       "2       contradiction\n",
       "3          entailment\n",
       "4             neutral\n",
       "            ...      \n",
       "4995          neutral\n",
       "4996    contradiction\n",
       "4997          neutral\n",
       "4998    contradiction\n",
       "4999    contradiction\n",
       "Name: label, Length: 5000, dtype: object"
      ]
     },
     "execution_count": 57,
     "metadata": {},
     "output_type": "execute_result"
    }
   ],
   "source": [
    "submission['label']"
   ]
  },
  {
   "cell_type": "code",
   "execution_count": 58,
   "id": "d66adb8b",
   "metadata": {},
   "outputs": [
    {
     "name": "stdout",
     "output_type": "stream",
     "text": [
      "이전 제출 파일과의 유사도:90.44%\n"
     ]
    }
   ],
   "source": [
    "cnt_equal = 0\n",
    "cnt_diff = 0\n",
    "for i in range(5000):\n",
    "    if previous['label'][i] == submission['label'][i]:\n",
    "        cnt_equal += 1\n",
    "    else: cnt_diff += 1\n",
    "\n",
    "similarity = cnt_equal/(cnt_equal+cnt_diff) * 100\n",
    "print(f\"이전 제출 파일과의 유사도:{similarity}%\")"
   ]
  },
  {
   "cell_type": "code",
   "execution_count": 59,
   "id": "8f6216fd",
   "metadata": {},
   "outputs": [],
   "source": [
    "submission.to_csv(\"../submission/submission_stacking_v1.csv\", index = False)"
   ]
  },
  {
   "cell_type": "code",
   "execution_count": null,
   "id": "96285c95",
   "metadata": {},
   "outputs": [],
   "source": [
    "# model.save('competition_stacking_v1.h5')\n",
    "# Load model code\n",
    "# new_model = tf.keras.models.load_model('competition_stacking_v1.h5')\n",
    "# test_loss, test_acc = new_model.evaluate(x,  y, verbose=2)"
   ]
  }
 ],
 "metadata": {
  "kernelspec": {
   "display_name": "Python 3 (ipykernel)",
   "language": "python",
   "name": "python3"
  },
  "language_info": {
   "codemirror_mode": {
    "name": "ipython",
    "version": 3
   },
   "file_extension": ".py",
   "mimetype": "text/x-python",
   "name": "python",
   "nbconvert_exporter": "python",
   "pygments_lexer": "ipython3",
   "version": "3.8.5"
  }
 },
 "nbformat": 4,
 "nbformat_minor": 5
}
