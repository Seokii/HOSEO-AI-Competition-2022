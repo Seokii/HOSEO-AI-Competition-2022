{
 "cells": [
  {
   "cell_type": "markdown",
   "id": "27ade102",
   "metadata": {},
   "source": [
    "## 0. Import"
   ]
  },
  {
   "cell_type": "code",
   "execution_count": 1,
   "id": "18579186",
   "metadata": {},
   "outputs": [],
   "source": [
    "import numpy as np\n",
    "import pandas as pd\n",
    "import seaborn as sns\n",
    "import matplotlib.pyplot as plt\n",
    "\n",
    "import tensorflow as tf\n",
    "from tensorflow.keras.layers import Dense,Input\n",
    "from tensorflow.keras.models import Model\n",
    "from tensorflow.keras.optimizers import Adam\n",
    "from transformers import TFBertModel, TFAlbertModel, TFElectraModel, TFDistilBertModel, DistilBertModel\n",
    "from transformers import ElectraTokenizer, BertTokenizerFast\n",
    "\n",
    "from sklearn.preprocessing import LabelEncoder\n",
    "from sklearn.model_selection import train_test_split\n",
    "from sklearn.metrics import accuracy_score\n",
    "\n",
    "import datasets\n",
    "from datasets import load_dataset, load_metric, ClassLabel, Sequence"
   ]
  },
  {
   "cell_type": "code",
   "execution_count": 2,
   "id": "cbf36deb",
   "metadata": {},
   "outputs": [],
   "source": [
    "strategy = tf.distribute.get_strategy()"
   ]
  },
  {
   "cell_type": "markdown",
   "id": "959f893b",
   "metadata": {},
   "source": [
    "## 1. Load Dataset"
   ]
  },
  {
   "cell_type": "code",
   "execution_count": 3,
   "id": "5714ea1a",
   "metadata": {},
   "outputs": [],
   "source": [
    "train = pd.read_csv(\"../dataset/train.csv\", encoding='CP949')\n",
    "test = pd.read_csv(\"../dataset/test.csv\", encoding='CP949')\n",
    "#train_multinli = pd.read_csv('../dataset/kornli/multinli.train.ko.tsv', delimiter='\\t', error_bad_lines=False)\n",
    "#train_snli = pd.read_csv('../dataset/kornli/snli_1.0_train.ko.tsv', delimiter='\\t')\n",
    "# datasets = load_dataset(\"klue\", \"nli\")"
   ]
  },
  {
   "cell_type": "code",
   "execution_count": 4,
   "id": "d16627c2",
   "metadata": {
    "scrolled": true
   },
   "outputs": [
    {
     "data": {
      "text/html": [
       "<div>\n",
       "<style scoped>\n",
       "    .dataframe tbody tr th:only-of-type {\n",
       "        vertical-align: middle;\n",
       "    }\n",
       "\n",
       "    .dataframe tbody tr th {\n",
       "        vertical-align: top;\n",
       "    }\n",
       "\n",
       "    .dataframe thead th {\n",
       "        text-align: right;\n",
       "    }\n",
       "</style>\n",
       "<table border=\"1\" class=\"dataframe\">\n",
       "  <thead>\n",
       "    <tr style=\"text-align: right;\">\n",
       "      <th></th>\n",
       "      <th>index</th>\n",
       "      <th>premise</th>\n",
       "      <th>hypothesis</th>\n",
       "      <th>label</th>\n",
       "    </tr>\n",
       "  </thead>\n",
       "  <tbody>\n",
       "    <tr>\n",
       "      <th>0</th>\n",
       "      <td>1</td>\n",
       "      <td>삼성은 자작극을 벌인 2명에게 형사 고소 등의 법적 대응을 검토 중이라고 하였으나,...</td>\n",
       "      <td>자작극을 벌인 이는 3명이다.</td>\n",
       "      <td>contradiction</td>\n",
       "    </tr>\n",
       "    <tr>\n",
       "      <th>1</th>\n",
       "      <td>2</td>\n",
       "      <td>이를 위해 예측적 범죄예방 시스템을 구축하고 고도화한다.</td>\n",
       "      <td>예측적 범죄예방 시스템 구축하고 고도화하는 것은 목적이 있기 때문이다.</td>\n",
       "      <td>entailment</td>\n",
       "    </tr>\n",
       "    <tr>\n",
       "      <th>2</th>\n",
       "      <td>3</td>\n",
       "      <td>광주광역시가 재개발 정비사업 원주민들에 대한 종합대책을 마련하는 등 원주민 보호에 ...</td>\n",
       "      <td>원주민들은 종합대책에 만족했다.</td>\n",
       "      <td>neutral</td>\n",
       "    </tr>\n",
       "    <tr>\n",
       "      <th>3</th>\n",
       "      <td>4</td>\n",
       "      <td>진정 소비자와 직원들에게 사랑 받는 기업으로 오래 지속되고 싶으면, 이런 상황에서는...</td>\n",
       "      <td>이런 상황에서 책임 있는 모습을 보여주는 기업은 아주 드물다.</td>\n",
       "      <td>neutral</td>\n",
       "    </tr>\n",
       "    <tr>\n",
       "      <th>4</th>\n",
       "      <td>5</td>\n",
       "      <td>이번 증설로 코오롱인더스트리는 기존 생산량 7만7000톤에서 1만6800톤이 늘어나...</td>\n",
       "      <td>코오롱 인더스트리는 총 9만 3800톤의 생산 능력을 확보했다.</td>\n",
       "      <td>entailment</td>\n",
       "    </tr>\n",
       "  </tbody>\n",
       "</table>\n",
       "</div>"
      ],
      "text/plain": [
       "   index                                            premise  \\\n",
       "0      1  삼성은 자작극을 벌인 2명에게 형사 고소 등의 법적 대응을 검토 중이라고 하였으나,...   \n",
       "1      2                    이를 위해 예측적 범죄예방 시스템을 구축하고 고도화한다.   \n",
       "2      3  광주광역시가 재개발 정비사업 원주민들에 대한 종합대책을 마련하는 등 원주민 보호에 ...   \n",
       "3      4  진정 소비자와 직원들에게 사랑 받는 기업으로 오래 지속되고 싶으면, 이런 상황에서는...   \n",
       "4      5  이번 증설로 코오롱인더스트리는 기존 생산량 7만7000톤에서 1만6800톤이 늘어나...   \n",
       "\n",
       "                                hypothesis          label  \n",
       "0                         자작극을 벌인 이는 3명이다.  contradiction  \n",
       "1  예측적 범죄예방 시스템 구축하고 고도화하는 것은 목적이 있기 때문이다.     entailment  \n",
       "2                        원주민들은 종합대책에 만족했다.        neutral  \n",
       "3       이런 상황에서 책임 있는 모습을 보여주는 기업은 아주 드물다.        neutral  \n",
       "4      코오롱 인더스트리는 총 9만 3800톤의 생산 능력을 확보했다.     entailment  "
      ]
     },
     "execution_count": 4,
     "metadata": {},
     "output_type": "execute_result"
    }
   ],
   "source": [
    "train.head()"
   ]
  },
  {
   "cell_type": "code",
   "execution_count": 5,
   "id": "d1cdd2c9",
   "metadata": {
    "scrolled": false
   },
   "outputs": [
    {
     "data": {
      "text/html": [
       "<div>\n",
       "<style scoped>\n",
       "    .dataframe tbody tr th:only-of-type {\n",
       "        vertical-align: middle;\n",
       "    }\n",
       "\n",
       "    .dataframe tbody tr th {\n",
       "        vertical-align: top;\n",
       "    }\n",
       "\n",
       "    .dataframe thead th {\n",
       "        text-align: right;\n",
       "    }\n",
       "</style>\n",
       "<table border=\"1\" class=\"dataframe\">\n",
       "  <thead>\n",
       "    <tr style=\"text-align: right;\">\n",
       "      <th></th>\n",
       "      <th>index</th>\n",
       "      <th>premise</th>\n",
       "      <th>hypothesis</th>\n",
       "    </tr>\n",
       "  </thead>\n",
       "  <tbody>\n",
       "    <tr>\n",
       "      <th>0</th>\n",
       "      <td>1</td>\n",
       "      <td>진짜 사람하나 캐리어하나만 들어갈수있어요</td>\n",
       "      <td>캐리어는 들어갈 수 없어요.</td>\n",
       "    </tr>\n",
       "    <tr>\n",
       "      <th>1</th>\n",
       "      <td>2</td>\n",
       "      <td>그린 아메리카는 우선 대형 초콜릿 제조업체들을 대상으로 설득작업을 벌이고 있습니다.</td>\n",
       "      <td>초콜릿을 만드는 대형 제조업체가 존재한다.</td>\n",
       "    </tr>\n",
       "    <tr>\n",
       "      <th>2</th>\n",
       "      <td>3</td>\n",
       "      <td>또한 강연이 끝난 후 각 국의 업무 담당자들로부터 사전 접수한 질문과 함께 현장에서...</td>\n",
       "      <td>질의응답에 사전 접수된 질문은 답변이 제한된다.</td>\n",
       "    </tr>\n",
       "    <tr>\n",
       "      <th>3</th>\n",
       "      <td>4</td>\n",
       "      <td>수험생들은 각 상담부스에서 입시전문가나 입학사정관과 상담함으로써 수시모집 지원전략을...</td>\n",
       "      <td>수험생들은 입시전문가와 입학사정관에게 수시모집 지원전략에 대한 도움을 받을 수 있다.</td>\n",
       "    </tr>\n",
       "    <tr>\n",
       "      <th>4</th>\n",
       "      <td>5</td>\n",
       "      <td>콜린은 매우 친절하고 응답이 빠릅니다.</td>\n",
       "      <td>콜린이 숙소의 호스트입니다.</td>\n",
       "    </tr>\n",
       "  </tbody>\n",
       "</table>\n",
       "</div>"
      ],
      "text/plain": [
       "   index                                            premise  \\\n",
       "0      1                             진짜 사람하나 캐리어하나만 들어갈수있어요   \n",
       "1      2     그린 아메리카는 우선 대형 초콜릿 제조업체들을 대상으로 설득작업을 벌이고 있습니다.   \n",
       "2      3  또한 강연이 끝난 후 각 국의 업무 담당자들로부터 사전 접수한 질문과 함께 현장에서...   \n",
       "3      4  수험생들은 각 상담부스에서 입시전문가나 입학사정관과 상담함으로써 수시모집 지원전략을...   \n",
       "4      5                              콜린은 매우 친절하고 응답이 빠릅니다.   \n",
       "\n",
       "                                        hypothesis  \n",
       "0                                  캐리어는 들어갈 수 없어요.  \n",
       "1                          초콜릿을 만드는 대형 제조업체가 존재한다.  \n",
       "2                       질의응답에 사전 접수된 질문은 답변이 제한된다.  \n",
       "3  수험생들은 입시전문가와 입학사정관에게 수시모집 지원전략에 대한 도움을 받을 수 있다.  \n",
       "4                                  콜린이 숙소의 호스트입니다.  "
      ]
     },
     "execution_count": 5,
     "metadata": {},
     "output_type": "execute_result"
    }
   ],
   "source": [
    "test.head()"
   ]
  },
  {
   "cell_type": "code",
   "execution_count": 6,
   "id": "1d428035",
   "metadata": {},
   "outputs": [],
   "source": [
    "#train_multinli.head()"
   ]
  },
  {
   "cell_type": "code",
   "execution_count": 7,
   "id": "bc148a0a",
   "metadata": {},
   "outputs": [],
   "source": [
    "#train_snli.head()"
   ]
  },
  {
   "cell_type": "code",
   "execution_count": 8,
   "id": "fdceb418",
   "metadata": {},
   "outputs": [],
   "source": [
    "# arr_premise = datasets[\"train\"][\"premise\"] + datasets[\"validation\"][\"premise\"]\n",
    "# arr_hypothesis = datasets[\"train\"][\"hypothesis\"] + datasets[\"validation\"][\"hypothesis\"]\n",
    "# arr_label = datasets[\"train\"][\"label\"] + datasets[\"validation\"][\"label\"]"
   ]
  },
  {
   "cell_type": "code",
   "execution_count": 9,
   "id": "37d43c29",
   "metadata": {},
   "outputs": [],
   "source": [
    "# klue_data = pd.DataFrame({\"premise\":arr_premise,\n",
    "#                          \"hypothesis\":arr_hypothesis,\n",
    "#                         \"label\":arr_label})"
   ]
  },
  {
   "cell_type": "code",
   "execution_count": 10,
   "id": "64102022",
   "metadata": {},
   "outputs": [],
   "source": [
    "# for i in range(len(klue_data)):\n",
    "#     if klue_data['label'][i] == 0:\n",
    "#         klue_data['label'][i] = 'entailment'\n",
    "#     elif klue_data['label'][i] == 1:\n",
    "#         klue_data['label'][i] = 'neutral'\n",
    "#     elif klue_data['label'][i] == 2:\n",
    "#         klue_data['label'][i] = 'contradiction'"
   ]
  },
  {
   "cell_type": "code",
   "execution_count": 11,
   "id": "f14b2453",
   "metadata": {},
   "outputs": [],
   "source": [
    "# klue_data.head()"
   ]
  },
  {
   "cell_type": "code",
   "execution_count": 12,
   "id": "4421b7db",
   "metadata": {},
   "outputs": [
    {
     "name": "stdout",
     "output_type": "stream",
     "text": [
      "train shape => (19996, 4) \n",
      "test shape => (5000, 3)\n"
     ]
    }
   ],
   "source": [
    "print(f\"train shape => {train.shape} \\ntest shape => {test.shape}\")\n",
    "#print(f\"train_multinli => {train_multinli.shape}\")\n",
    "#print(f\"train_snli => {train_snli.shape}\")\n",
    "# print(f\"klue_dataset => {klue_data.shape}\")"
   ]
  },
  {
   "cell_type": "code",
   "execution_count": 13,
   "id": "b5cc375f",
   "metadata": {},
   "outputs": [],
   "source": [
    "train.drop(['index'], axis=1, inplace=True)"
   ]
  },
  {
   "cell_type": "code",
   "execution_count": null,
   "id": "06b29d1d",
   "metadata": {},
   "outputs": [],
   "source": [
    "#train_multinli.rename(columns={'sentence1':'premise', 'sentence2':'hypothesis', 'gold_label':'label'}, inplace=True)"
   ]
  },
  {
   "cell_type": "code",
   "execution_count": null,
   "id": "501d0347",
   "metadata": {},
   "outputs": [],
   "source": [
    "#train_snli.rename(columns={'sentence1':'premise', 'sentence2':'hypothesis', 'gold_label':'label'}, inplace=True)"
   ]
  },
  {
   "cell_type": "code",
   "execution_count": 14,
   "id": "ae0ca01d",
   "metadata": {},
   "outputs": [],
   "source": [
    "train_target1 = train\n",
    "#train_target2 = train_multinli.sample(5000, random_state=42)\n",
    "#train_target3 = train_snli.sample(5000, random_state=42)\n",
    "# train_target4 = klue_data"
   ]
  },
  {
   "cell_type": "code",
   "execution_count": 15,
   "id": "1b21a885",
   "metadata": {},
   "outputs": [],
   "source": [
    "train_all = pd.concat([train_target1], ignore_index=True)"
   ]
  },
  {
   "cell_type": "code",
   "execution_count": 16,
   "id": "94041c86",
   "metadata": {},
   "outputs": [],
   "source": [
    "train_all = train_all.sample(frac=1).reset_index(drop=True)"
   ]
  },
  {
   "cell_type": "code",
   "execution_count": 17,
   "id": "91fa2f8d",
   "metadata": {},
   "outputs": [
    {
     "data": {
      "text/html": [
       "<div>\n",
       "<style scoped>\n",
       "    .dataframe tbody tr th:only-of-type {\n",
       "        vertical-align: middle;\n",
       "    }\n",
       "\n",
       "    .dataframe tbody tr th {\n",
       "        vertical-align: top;\n",
       "    }\n",
       "\n",
       "    .dataframe thead th {\n",
       "        text-align: right;\n",
       "    }\n",
       "</style>\n",
       "<table border=\"1\" class=\"dataframe\">\n",
       "  <thead>\n",
       "    <tr style=\"text-align: right;\">\n",
       "      <th></th>\n",
       "      <th>premise</th>\n",
       "      <th>hypothesis</th>\n",
       "      <th>label</th>\n",
       "    </tr>\n",
       "  </thead>\n",
       "  <tbody>\n",
       "    <tr>\n",
       "      <th>0</th>\n",
       "      <td>쏟아지는 빗속에서 길 잃은 새끼고양이 한 마리가 찾아든다.</td>\n",
       "      <td>쏟아지는 빗속에는 아무것도 없었다.</td>\n",
       "      <td>contradiction</td>\n",
       "    </tr>\n",
       "    <tr>\n",
       "      <th>1</th>\n",
       "      <td>시작부터 마지막까지 눈을 돌릴수없게 만드는 영화 배우들이 연기와 좋은 각본이 빛을 발한다</td>\n",
       "      <td>처음부터 끝까지 눈을 돌릴 수 없게 만드는 영화이다.</td>\n",
       "      <td>entailment</td>\n",
       "    </tr>\n",
       "    <tr>\n",
       "      <th>2</th>\n",
       "      <td>교통도 편하고 근처에 슈퍼도 가까워요.</td>\n",
       "      <td>슈퍼는 매우 멀리 떨어져 있어요.</td>\n",
       "      <td>contradiction</td>\n",
       "    </tr>\n",
       "    <tr>\n",
       "      <th>3</th>\n",
       "      <td>호스트분의 친절하고 빠른응답에 감사드립니다.</td>\n",
       "      <td>호스트분의 응답이 너무 느려서 짜증이 많이 났습니다.</td>\n",
       "      <td>contradiction</td>\n",
       "    </tr>\n",
       "    <tr>\n",
       "      <th>4</th>\n",
       "      <td>로비가 프랑스로 파병된 사이에 세실리아는 집에서 나와 로비가 돌아오기를 기다리면서 ...</td>\n",
       "      <td>로비는 세실리아의 남자친구이다.</td>\n",
       "      <td>neutral</td>\n",
       "    </tr>\n",
       "  </tbody>\n",
       "</table>\n",
       "</div>"
      ],
      "text/plain": [
       "                                             premise  \\\n",
       "0                   쏟아지는 빗속에서 길 잃은 새끼고양이 한 마리가 찾아든다.   \n",
       "1  시작부터 마지막까지 눈을 돌릴수없게 만드는 영화 배우들이 연기와 좋은 각본이 빛을 발한다   \n",
       "2                              교통도 편하고 근처에 슈퍼도 가까워요.   \n",
       "3                           호스트분의 친절하고 빠른응답에 감사드립니다.   \n",
       "4  로비가 프랑스로 파병된 사이에 세실리아는 집에서 나와 로비가 돌아오기를 기다리면서 ...   \n",
       "\n",
       "                      hypothesis          label  \n",
       "0            쏟아지는 빗속에는 아무것도 없었다.  contradiction  \n",
       "1  처음부터 끝까지 눈을 돌릴 수 없게 만드는 영화이다.     entailment  \n",
       "2             슈퍼는 매우 멀리 떨어져 있어요.  contradiction  \n",
       "3  호스트분의 응답이 너무 느려서 짜증이 많이 났습니다.  contradiction  \n",
       "4              로비는 세실리아의 남자친구이다.        neutral  "
      ]
     },
     "execution_count": 17,
     "metadata": {},
     "output_type": "execute_result"
    }
   ],
   "source": [
    "train_all.head()"
   ]
  },
  {
   "cell_type": "code",
   "execution_count": 18,
   "id": "87c22798",
   "metadata": {},
   "outputs": [
    {
     "data": {
      "text/html": [
       "<div>\n",
       "<style scoped>\n",
       "    .dataframe tbody tr th:only-of-type {\n",
       "        vertical-align: middle;\n",
       "    }\n",
       "\n",
       "    .dataframe tbody tr th {\n",
       "        vertical-align: top;\n",
       "    }\n",
       "\n",
       "    .dataframe thead th {\n",
       "        text-align: right;\n",
       "    }\n",
       "</style>\n",
       "<table border=\"1\" class=\"dataframe\">\n",
       "  <thead>\n",
       "    <tr style=\"text-align: right;\">\n",
       "      <th></th>\n",
       "      <th>premise</th>\n",
       "      <th>hypothesis</th>\n",
       "      <th>label</th>\n",
       "    </tr>\n",
       "  </thead>\n",
       "  <tbody>\n",
       "    <tr>\n",
       "      <th>19991</th>\n",
       "      <td>광주시내 곳곳에 오월의 상징 이팝나무가 흐드러지게 피었습니다.</td>\n",
       "      <td>이팝나무는 시에서 적극적으로 심어놓았다.</td>\n",
       "      <td>neutral</td>\n",
       "    </tr>\n",
       "    <tr>\n",
       "      <th>19992</th>\n",
       "      <td>진도군이 최근 군내면 둔전리 금골마루에서 지역주민들의 안전과 생활편의를 제공하기 위...</td>\n",
       "      <td>금골권역단위 종합정비사업 금골마루 개관식은 금골마을에서 열렸다.</td>\n",
       "      <td>entailment</td>\n",
       "    </tr>\n",
       "    <tr>\n",
       "      <th>19993</th>\n",
       "      <td>이번 사고가 발생한 지점은 30년 전에 마지막으로 보수공사를 하였던 것으로 알려졌다.</td>\n",
       "      <td>사고가 발생한 지점은 보수 공사를 한지 10년이 넘었다.</td>\n",
       "      <td>entailment</td>\n",
       "    </tr>\n",
       "    <tr>\n",
       "      <th>19994</th>\n",
       "      <td>서민이 애용하는 주류와 제과 제품군 가격이 일제히 오르면서 라면 업계의 인상 합류 ...</td>\n",
       "      <td>라면 업계는 아직 가격을 올리지 않았다.</td>\n",
       "      <td>entailment</td>\n",
       "    </tr>\n",
       "    <tr>\n",
       "      <th>19995</th>\n",
       "      <td>머코프사의 프로그래머인 웨일런 파크는 월라이더 프로젝트에 참여하게 된다.</td>\n",
       "      <td>웨일런 파크는 머코프사에서 프로그래머로 일한다.</td>\n",
       "      <td>entailment</td>\n",
       "    </tr>\n",
       "  </tbody>\n",
       "</table>\n",
       "</div>"
      ],
      "text/plain": [
       "                                                 premise  \\\n",
       "19991                 광주시내 곳곳에 오월의 상징 이팝나무가 흐드러지게 피었습니다.   \n",
       "19992  진도군이 최근 군내면 둔전리 금골마루에서 지역주민들의 안전과 생활편의를 제공하기 위...   \n",
       "19993    이번 사고가 발생한 지점은 30년 전에 마지막으로 보수공사를 하였던 것으로 알려졌다.   \n",
       "19994  서민이 애용하는 주류와 제과 제품군 가격이 일제히 오르면서 라면 업계의 인상 합류 ...   \n",
       "19995           머코프사의 프로그래머인 웨일런 파크는 월라이더 프로젝트에 참여하게 된다.   \n",
       "\n",
       "                                hypothesis       label  \n",
       "19991               이팝나무는 시에서 적극적으로 심어놓았다.     neutral  \n",
       "19992  금골권역단위 종합정비사업 금골마루 개관식은 금골마을에서 열렸다.  entailment  \n",
       "19993      사고가 발생한 지점은 보수 공사를 한지 10년이 넘었다.  entailment  \n",
       "19994               라면 업계는 아직 가격을 올리지 않았다.  entailment  \n",
       "19995           웨일런 파크는 머코프사에서 프로그래머로 일한다.  entailment  "
      ]
     },
     "execution_count": 18,
     "metadata": {},
     "output_type": "execute_result"
    }
   ],
   "source": [
    "train_all.tail()"
   ]
  },
  {
   "cell_type": "code",
   "execution_count": 19,
   "id": "8160b30b",
   "metadata": {},
   "outputs": [],
   "source": [
    "train_all = train_all.astype({'label':'str'})"
   ]
  },
  {
   "cell_type": "markdown",
   "id": "ef7a1305",
   "metadata": {},
   "source": [
    "## 2. EDA"
   ]
  },
  {
   "cell_type": "markdown",
   "id": "7feb376c",
   "metadata": {},
   "source": [
    "### 2.1. LabelEncoder을 통해 str형태의 label을 숫자로 변환"
   ]
  },
  {
   "cell_type": "code",
   "execution_count": 20,
   "id": "57954a32",
   "metadata": {},
   "outputs": [],
   "source": [
    "categorical_cols = ['label']\n",
    "for e in categorical_cols:\n",
    "    le = LabelEncoder()\n",
    "    train_all[e] = le.fit_transform(train_all[e])"
   ]
  },
  {
   "cell_type": "code",
   "execution_count": 21,
   "id": "98a525d8",
   "metadata": {},
   "outputs": [
    {
     "data": {
      "text/html": [
       "<div>\n",
       "<style scoped>\n",
       "    .dataframe tbody tr th:only-of-type {\n",
       "        vertical-align: middle;\n",
       "    }\n",
       "\n",
       "    .dataframe tbody tr th {\n",
       "        vertical-align: top;\n",
       "    }\n",
       "\n",
       "    .dataframe thead th {\n",
       "        text-align: right;\n",
       "    }\n",
       "</style>\n",
       "<table border=\"1\" class=\"dataframe\">\n",
       "  <thead>\n",
       "    <tr style=\"text-align: right;\">\n",
       "      <th></th>\n",
       "      <th>premise</th>\n",
       "      <th>hypothesis</th>\n",
       "      <th>label</th>\n",
       "    </tr>\n",
       "  </thead>\n",
       "  <tbody>\n",
       "    <tr>\n",
       "      <th>0</th>\n",
       "      <td>쏟아지는 빗속에서 길 잃은 새끼고양이 한 마리가 찾아든다.</td>\n",
       "      <td>쏟아지는 빗속에는 아무것도 없었다.</td>\n",
       "      <td>0</td>\n",
       "    </tr>\n",
       "    <tr>\n",
       "      <th>1</th>\n",
       "      <td>시작부터 마지막까지 눈을 돌릴수없게 만드는 영화 배우들이 연기와 좋은 각본이 빛을 발한다</td>\n",
       "      <td>처음부터 끝까지 눈을 돌릴 수 없게 만드는 영화이다.</td>\n",
       "      <td>1</td>\n",
       "    </tr>\n",
       "    <tr>\n",
       "      <th>2</th>\n",
       "      <td>교통도 편하고 근처에 슈퍼도 가까워요.</td>\n",
       "      <td>슈퍼는 매우 멀리 떨어져 있어요.</td>\n",
       "      <td>0</td>\n",
       "    </tr>\n",
       "    <tr>\n",
       "      <th>3</th>\n",
       "      <td>호스트분의 친절하고 빠른응답에 감사드립니다.</td>\n",
       "      <td>호스트분의 응답이 너무 느려서 짜증이 많이 났습니다.</td>\n",
       "      <td>0</td>\n",
       "    </tr>\n",
       "    <tr>\n",
       "      <th>4</th>\n",
       "      <td>로비가 프랑스로 파병된 사이에 세실리아는 집에서 나와 로비가 돌아오기를 기다리면서 ...</td>\n",
       "      <td>로비는 세실리아의 남자친구이다.</td>\n",
       "      <td>2</td>\n",
       "    </tr>\n",
       "  </tbody>\n",
       "</table>\n",
       "</div>"
      ],
      "text/plain": [
       "                                             premise  \\\n",
       "0                   쏟아지는 빗속에서 길 잃은 새끼고양이 한 마리가 찾아든다.   \n",
       "1  시작부터 마지막까지 눈을 돌릴수없게 만드는 영화 배우들이 연기와 좋은 각본이 빛을 발한다   \n",
       "2                              교통도 편하고 근처에 슈퍼도 가까워요.   \n",
       "3                           호스트분의 친절하고 빠른응답에 감사드립니다.   \n",
       "4  로비가 프랑스로 파병된 사이에 세실리아는 집에서 나와 로비가 돌아오기를 기다리면서 ...   \n",
       "\n",
       "                      hypothesis  label  \n",
       "0            쏟아지는 빗속에는 아무것도 없었다.      0  \n",
       "1  처음부터 끝까지 눈을 돌릴 수 없게 만드는 영화이다.      1  \n",
       "2             슈퍼는 매우 멀리 떨어져 있어요.      0  \n",
       "3  호스트분의 응답이 너무 느려서 짜증이 많이 났습니다.      0  \n",
       "4              로비는 세실리아의 남자친구이다.      2  "
      ]
     },
     "execution_count": 21,
     "metadata": {},
     "output_type": "execute_result"
    }
   ],
   "source": [
    "train_all.head()"
   ]
  },
  {
   "cell_type": "markdown",
   "id": "c3eac0fe",
   "metadata": {},
   "source": [
    "### 훈련 데이터의 결측치 확인"
   ]
  },
  {
   "cell_type": "code",
   "execution_count": 22,
   "id": "9246553b",
   "metadata": {
    "scrolled": true
   },
   "outputs": [
    {
     "data": {
      "text/plain": [
       "premise       0\n",
       "hypothesis    0\n",
       "label         0\n",
       "dtype: int64"
      ]
     },
     "execution_count": 22,
     "metadata": {},
     "output_type": "execute_result"
    }
   ],
   "source": [
    "train_all.isnull().sum()"
   ]
  },
  {
   "cell_type": "code",
   "execution_count": 23,
   "id": "d720e28c",
   "metadata": {},
   "outputs": [],
   "source": [
    "train_all.dropna(inplace=True)"
   ]
  },
  {
   "cell_type": "code",
   "execution_count": 24,
   "id": "2efc6c1b",
   "metadata": {},
   "outputs": [
    {
     "data": {
      "text/plain": [
       "premise       0\n",
       "hypothesis    0\n",
       "label         0\n",
       "dtype: int64"
      ]
     },
     "execution_count": 24,
     "metadata": {},
     "output_type": "execute_result"
    }
   ],
   "source": [
    "train_all.isnull().sum()"
   ]
  },
  {
   "cell_type": "code",
   "execution_count": 25,
   "id": "ebc6e00c",
   "metadata": {},
   "outputs": [
    {
     "data": {
      "text/plain": [
       "19996"
      ]
     },
     "execution_count": 25,
     "metadata": {},
     "output_type": "execute_result"
    }
   ],
   "source": [
    "len(train_all)"
   ]
  },
  {
   "cell_type": "markdown",
   "id": "ff59d416",
   "metadata": {},
   "source": [
    "### 클래스의 불균형이 있는지 시각화하여 확인"
   ]
  },
  {
   "cell_type": "code",
   "execution_count": 26,
   "id": "4d386fc3",
   "metadata": {},
   "outputs": [
    {
     "data": {
      "image/png": "[encoded data removed]",
      "text/plain": [
       "<Figure size 432x288 with 1 Axes>"
      ]
     },
     "metadata": {},
     "output_type": "display_data"
    }
   ],
   "source": [
    "sns.set_theme(style=\"darkgrid\")\n",
    "ax = sns.countplot(x=\"label\", data=train)"
   ]
  },
  {
   "cell_type": "code",
   "execution_count": 27,
   "id": "50565f39",
   "metadata": {},
   "outputs": [
    {
     "data": {
      "image/png": "[encoded data removed]",
      "text/plain": [
       "<Figure size 360x360 with 1 Axes>"
      ]
     },
     "metadata": {},
     "output_type": "display_data"
    }
   ],
   "source": [
    "labels, frequencies = np.unique(train.label.values, return_counts=True)\n",
    "plt.figure(figsize=(5,5))\n",
    "plt.pie(frequencies, labels = labels, autopct= '%1.1f%%')\n",
    "plt.show()"
   ]
  },
  {
   "cell_type": "markdown",
   "id": "7e7a3ccc",
   "metadata": {},
   "source": [
    "## 3. Modeling"
   ]
  },
  {
   "cell_type": "markdown",
   "id": "c37287d5",
   "metadata": {},
   "source": [
    "최종 목표인 Stacking Ensemble을 적용하기 위해서 개별 모델 3가지를 구현했습니다.  \n",
    "각각 사전학습된 ELECTRA, BERT, ALBERT 모델에 대해 fine-tune을 적용했습니다.  \n",
    "이전 electra 개별 모델 구현 파일에서 토크나이징 후 조정할 패딩의 길이를 100으로 정했습니다.  \n",
    "따라서, 각각의 모델들의 input_layer의 shape을 (100,)으로 지정했습니다.  "
   ]
  },
  {
   "cell_type": "markdown",
   "id": "8d9117d9",
   "metadata": {},
   "source": [
    "### 3.1 개별 모델 구현 함수"
   ]
  },
  {
   "cell_type": "code",
   "execution_count": 29,
   "id": "45c01b01",
   "metadata": {},
   "outputs": [],
   "source": [
    "def model_KoELECTRA():\n",
    "    with strategy.scope():\n",
    "        encoder = TFElectraModel.from_pretrained(\"monologg/koelectra-base-v3-discriminator\", from_pt=True)\n",
    "\n",
    "        input_layer = Input(shape=(100,), dtype=tf.int32, name=\"input_layer\")\n",
    "        sequence_output = encoder(input_layer)[0]\n",
    "\n",
    "        cls_token = sequence_output[:, 0, :]\n",
    "\n",
    "        output_layer = Dense(3, activation='softmax')(cls_token)\n",
    "\n",
    "        model = Model(inputs=input_layer, outputs=output_layer)\n",
    "        model.compile(Adam(lr=1e-5), loss='sparse_categorical_crossentropy', metrics=['accuracy'])\n",
    "    \n",
    "    return model\n",
    "\n",
    "def model_BERT():\n",
    "    with strategy.scope():\n",
    "        encoder = TFBertModel.from_pretrained(\"kykim/bert-kor-base\")\n",
    "\n",
    "        input_layer = Input(shape=(100,), dtype=tf.int32, name=\"input_layer\")\n",
    "        sequence_output = encoder(input_layer)[0]\n",
    "\n",
    "        cls_token = sequence_output[:, 0, :]\n",
    "\n",
    "        output_layer = Dense(3, activation='softmax')(cls_token)\n",
    "\n",
    "        model = Model(inputs=input_layer, outputs=output_layer)\n",
    "        model.compile(Adam(lr=1e-5), loss='sparse_categorical_crossentropy', metrics=['accuracy'])\n",
    "    \n",
    "    return model\n",
    "\n",
    "def model_ALBERT():\n",
    "    with strategy.scope():\n",
    "        encoder = TFAlbertModel.from_pretrained(\"kykim/albert-kor-base\")\n",
    "\n",
    "        input_layer = Input(shape=(100,), dtype=tf.int32, name=\"input_layer\")\n",
    "        sequence_output = encoder(input_layer)[0]\n",
    "\n",
    "        cls_token = sequence_output[:, 0, :]\n",
    "\n",
    "        output_layer = Dense(3, activation='softmax')(cls_token)\n",
    "\n",
    "        model = Model(inputs=input_layer, outputs=output_layer)\n",
    "        model.compile(Adam(lr=1e-5), loss='sparse_categorical_crossentropy', metrics=['accuracy'])\n",
    "    \n",
    "    return model"
   ]
  },
  {
   "cell_type": "markdown",
   "id": "f936aca6",
   "metadata": {},
   "source": [
    "### 3.2 구현한 모델, 토크나이저 선언"
   ]
  },
  {
   "cell_type": "code",
   "execution_count": 30,
   "id": "d7bea482",
   "metadata": {},
   "outputs": [
    {
     "name": "stderr",
     "output_type": "stream",
     "text": [
      "All model checkpoint layers were used when initializing TFBertModel.\n",
      "\n",
      "All the layers of TFBertModel were initialized from the model checkpoint at kykim/bert-kor-base.\n",
      "If your task is similar to the task the model of the checkpoint was trained on, you can already use TFBertModel for predictions without further training.\n"
     ]
    },
    {
     "name": "stdout",
     "output_type": "stream",
     "text": [
      "WARNING:tensorflow:The parameters `output_attentions`, `output_hidden_states` and `use_cache` cannot be updated when calling a model.They have to be set to True/False in the config object (i.e.: `config=XConfig.from_pretrained('name', output_attentions=True)`).\n",
      "WARNING:tensorflow:AutoGraph could not transform <bound method Socket.send of <zmq.Socket(zmq.PUSH) at 0x23064607dc0>> and will run it as-is.\n",
      "Please report this to the TensorFlow team. When filing the bug, set the verbosity to 10 (on Linux, `export AUTOGRAPH_VERBOSITY=10`) and attach the full output.\n",
      "Cause: module, class, method, function, traceback, frame, or code object was expected, got cython_function_or_method\n",
      "To silence this warning, decorate the function with @tf.autograph.experimental.do_not_convert\n",
      "WARNING: AutoGraph could not transform <bound method Socket.send of <zmq.Socket(zmq.PUSH) at 0x23064607dc0>> and will run it as-is.\n",
      "Please report this to the TensorFlow team. When filing the bug, set the verbosity to 10 (on Linux, `export AUTOGRAPH_VERBOSITY=10`) and attach the full output.\n",
      "Cause: module, class, method, function, traceback, frame, or code object was expected, got cython_function_or_method\n",
      "To silence this warning, decorate the function with @tf.autograph.experimental.do_not_convert\n",
      "WARNING:tensorflow:The parameter `return_dict` cannot be set in graph mode and will always be set to `True`.\n",
      "WARNING:tensorflow:From C:\\Users\\Home\\AppData\\Roaming\\Python\\Python38\\site-packages\\tensorflow\\python\\ops\\array_ops.py:5043: calling gather (from tensorflow.python.ops.array_ops) with validate_indices is deprecated and will be removed in a future version.\n",
      "Instructions for updating:\n",
      "The `validate_indices` argument has no effect. Indices are always validated on CPU and never validated on GPU.\n"
     ]
    },
    {
     "name": "stderr",
     "output_type": "stream",
     "text": [
      "C:\\Users\\Home\\AppData\\Roaming\\Python\\Python38\\site-packages\\tensorflow\\python\\keras\\optimizer_v2\\optimizer_v2.py:374: UserWarning: The `lr` argument is deprecated, use `learning_rate` instead.\n",
      "  warnings.warn(\n",
      "All model checkpoint layers were used when initializing TFAlbertModel.\n",
      "\n",
      "All the layers of TFAlbertModel were initialized from the model checkpoint at kykim/albert-kor-base.\n",
      "If your task is similar to the task the model of the checkpoint was trained on, you can already use TFAlbertModel for predictions without further training.\n"
     ]
    },
    {
     "name": "stdout",
     "output_type": "stream",
     "text": [
      "WARNING:tensorflow:The parameters `output_attentions`, `output_hidden_states` and `use_cache` cannot be updated when calling a model.They have to be set to True/False in the config object (i.e.: `config=XConfig.from_pretrained('name', output_attentions=True)`).\n",
      "WARNING:tensorflow:The parameter `return_dict` cannot be set in graph mode and will always be set to `True`.\n"
     ]
    },
    {
     "name": "stderr",
     "output_type": "stream",
     "text": [
      "Some weights of the PyTorch model were not used when initializing the TF 2.0 model TFElectraModel: ['discriminator_predictions.dense.bias', 'discriminator_predictions.dense_prediction.bias', 'electra.embeddings.position_ids', 'discriminator_predictions.dense.weight', 'discriminator_predictions.dense_prediction.weight']\n",
      "- This IS expected if you are initializing TFElectraModel from a PyTorch model trained on another task or with another architecture (e.g. initializing a TFBertForSequenceClassification model from a BertForPreTraining model).\n",
      "- This IS NOT expected if you are initializing TFElectraModel from a PyTorch model that you expect to be exactly identical (e.g. initializing a TFBertForSequenceClassification model from a BertForSequenceClassification model).\n",
      "All the weights of TFElectraModel were initialized from the PyTorch model.\n",
      "If your task is similar to the task the model of the checkpoint was trained on, you can already use TFElectraModel for predictions without further training.\n"
     ]
    },
    {
     "name": "stdout",
     "output_type": "stream",
     "text": [
      "WARNING:tensorflow:The parameters `output_attentions`, `output_hidden_states` and `use_cache` cannot be updated when calling a model.They have to be set to True/False in the config object (i.e.: `config=XConfig.from_pretrained('name', output_attentions=True)`).\n",
      "WARNING:tensorflow:The parameter `return_dict` cannot be set in graph mode and will always be set to `True`.\n"
     ]
    }
   ],
   "source": [
    "model_bert = model_BERT()\n",
    "model_albert = model_ALBERT()\n",
    "model_electra = model_KoELECTRA()"
   ]
  },
  {
   "cell_type": "code",
   "execution_count": 31,
   "id": "d50e44dc",
   "metadata": {},
   "outputs": [],
   "source": [
    "tokenizer_bert = BertTokenizerFast.from_pretrained(\"kykim/bert-kor-base\")\n",
    "tokenizer_albert = BertTokenizerFast.from_pretrained(\"kykim/albert-kor-base\")\n",
    "tokenizer_electra = ElectraTokenizer.from_pretrained(\"monologg/koelectra-base-v3-discriminator\")"
   ]
  },
  {
   "cell_type": "markdown",
   "id": "0d10fe4c",
   "metadata": {},
   "source": [
    "### 3.3 훈련 데이터 전처리"
   ]
  },
  {
   "cell_type": "markdown",
   "id": "8932f154",
   "metadata": {},
   "source": [
    "훈련데이터에 대해 각 문장에 대한 인코딩을 수행하고 패딩을 맞춰주는 전처리 작업을 진행합니다.  \n",
    "토크나이징이 진행된 문장들에 대해 평균, 최대, 표준편차, 시각화를 통해 적절한 패딩 길이를 계산합니다.  \n",
    "그 이후, 훈련데이터를 7:3 비율로 훈련데이터와 검증데이터를 나눕니다.  \n",
    "검증데이터는 각 개별 모델로 예측을 진행하고, 클래스에 대한 예측 확률 값들과 예측 클래스 값들을 통해 앙상블 데이터로 사용하게 됩니다.  \n",
    "따라서, 최종 제출할 대상이 되는 테스트 데이터에 대해서도 예측을 하고 예측 확률 값들과 클래스를 저장하는 같은 과정을 거치게 됩니다.  "
   ]
  },
  {
   "cell_type": "markdown",
   "id": "85dac34a",
   "metadata": {},
   "source": [
    "#### 패딩 적절 길이 구하기"
   ]
  },
  {
   "cell_type": "markdown",
   "id": "34a82b82",
   "metadata": {},
   "source": [
    "ELECTRA 모델과 BERT기반 두 가지의 모델로 패딩값을 정해야하기 때문에,  \n",
    "각각의 토크나이저를 사용해 두 번 계산하여 패딩 길이를 구했습니다.  \n",
    "첫 번째 ELECTRA 모델의 경우 평균 길이 40, 최대 길이 1680, 표준편차 17로 측정되었습니다.  \n",
    "최종 예측해야할 테스트 파일의 경우 토큰의 최대 길이가 98이기 때문에 100의 길이가 적절하다고 판단했습니다.  \n",
    "따라서, 100이상이 되는 훈련 데이터는 삭제했습니다.  \n",
    "BERT 모델에 대해서도 똑같은 과정을 진행했습니다.  "
   ]
  },
  {
   "cell_type": "code",
   "execution_count": 32,
   "id": "bd97bdc9",
   "metadata": {},
   "outputs": [],
   "source": [
    "train_data = train_all[['premise', 'hypothesis']].values.tolist()\n",
    "test_data = test[['premise', 'hypothesis']].values.tolist()"
   ]
  },
  {
   "cell_type": "markdown",
   "id": "82edceab",
   "metadata": {},
   "source": [
    "#### ELECTRA"
   ]
  },
  {
   "cell_type": "code",
   "execution_count": 33,
   "id": "4a9764f8",
   "metadata": {
    "scrolled": true
   },
   "outputs": [],
   "source": [
    "train_encoded_electra = tokenizer_electra.batch_encode_plus(train_data)\n",
    "test_encoded_electra = tokenizer_electra.batch_encode_plus(test_data)"
   ]
  },
  {
   "cell_type": "code",
   "execution_count": 34,
   "id": "f988bbb0",
   "metadata": {},
   "outputs": [
    {
     "name": "stdout",
     "output_type": "stream",
     "text": [
      "토큰 길이 평균: 40.551728276524244\n",
      "토큰 길이 최대: 98\n",
      "토큰 길이 표준편차: 13.612017136898697\n"
     ]
    }
   ],
   "source": [
    "cal_length = train_encoded_electra['input_ids'] + test_encoded_electra['input_ids']\n",
    "\n",
    "num_tokens = [len(tokens) for tokens in cal_length]\n",
    "num_tokens = np.array(num_tokens)\n",
    "\n",
    "# 평균값, 최댓값, 표준편차\n",
    "print(f\"토큰 길이 평균: {np.mean(num_tokens)}\")\n",
    "print(f\"토큰 길이 최대: {np.max(num_tokens)}\")\n",
    "print(f\"토큰 길이 표준편차: {np.std(num_tokens)}\")"
   ]
  },
  {
   "cell_type": "code",
   "execution_count": 35,
   "id": "859c01e4",
   "metadata": {},
   "outputs": [
    {
     "name": "stdout",
     "output_type": "stream",
     "text": [
      "토큰 길이 최대: 98\n"
     ]
    }
   ],
   "source": [
    "test_num_tokens_electra = [len(tokens) for tokens in test_encoded_electra['input_ids']]\n",
    "print(f\"토큰 길이 최대: {np.max(test_num_tokens_electra)}\")"
   ]
  },
  {
   "cell_type": "code",
   "execution_count": 36,
   "id": "d75d4dd0",
   "metadata": {
    "scrolled": false
   },
   "outputs": [
    {
     "data": {
      "image/png": "[encoded data removed]",
      "text/plain": [
       "<Figure size 432x288 with 1 Axes>"
      ]
     },
     "metadata": {},
     "output_type": "display_data"
    }
   ],
   "source": [
    "plt.title('all text length')\n",
    "plt.hist(num_tokens, bins=100)\n",
    "plt.xlabel('length of samples')\n",
    "plt.ylabel('number of samples')\n",
    "plt.show()"
   ]
  },
  {
   "cell_type": "code",
   "execution_count": 37,
   "id": "539e91fe",
   "metadata": {},
   "outputs": [],
   "source": [
    "select_length = 100"
   ]
  },
  {
   "cell_type": "code",
   "execution_count": 38,
   "id": "f993bacb",
   "metadata": {},
   "outputs": [],
   "source": [
    "def below_threshold_len(max_len, nested_list):\n",
    "  cnt = 0\n",
    "  for s in nested_list:\n",
    "    if(len(s) <= max_len):\n",
    "        cnt = cnt + 1\n",
    "  print('전체 샘플 중 길이가 %s 이하인 샘플의 비율: %s'%(max_len, (cnt / len(nested_list))))"
   ]
  },
  {
   "cell_type": "code",
   "execution_count": 39,
   "id": "536e62b1",
   "metadata": {},
   "outputs": [
    {
     "name": "stdout",
     "output_type": "stream",
     "text": [
      "전체 샘플 중 길이가 100 이하인 샘플의 비율: 1.0\n"
     ]
    }
   ],
   "source": [
    "below_threshold_len(select_length, cal_length)"
   ]
  },
  {
   "cell_type": "markdown",
   "id": "2e57ca1b",
   "metadata": {},
   "source": [
    "#### 길이가 100 이상인 데이터에 대해 삭제 진행  "
   ]
  },
  {
   "cell_type": "code",
   "execution_count": 40,
   "id": "749ba2df",
   "metadata": {},
   "outputs": [],
   "source": [
    "temp = []\n",
    "for i in range(len(train_encoded_electra['input_ids'])):\n",
    "    if len(train_encoded_electra['input_ids'][i]) > select_length:\n",
    "        temp.append(i)\n",
    "\n",
    "temp.reverse()\n",
    "\n",
    "for i in temp:\n",
    "    del train_data[i]\n",
    "    train_all.drop(train_all.index[i], inplace=True)\n",
    "    \n",
    "temp = []\n",
    "for i in range(len(test_encoded_electra['input_ids'])):\n",
    "    if len(test_encoded_electra['input_ids'][i]) > select_length:\n",
    "        temp.append(i)\n",
    "\n",
    "temp.reverse()\n",
    "\n",
    "for i in temp:\n",
    "    del test_data[i]\n",
    "    test.drop(test.index[i], inplace=True)"
   ]
  },
  {
   "cell_type": "markdown",
   "id": "6aa7706c",
   "metadata": {},
   "source": [
    "#### BERT, ALBERT"
   ]
  },
  {
   "cell_type": "code",
   "execution_count": 41,
   "id": "c30c1c9a",
   "metadata": {},
   "outputs": [],
   "source": [
    "train_encoded_bert = tokenizer_electra.batch_encode_plus(train_data)\n",
    "test_encoded_bert = tokenizer_electra.batch_encode_plus(test_data)"
   ]
  },
  {
   "cell_type": "code",
   "execution_count": 42,
   "id": "529c42a8",
   "metadata": {},
   "outputs": [
    {
     "name": "stdout",
     "output_type": "stream",
     "text": [
      "토큰 길이 평균: 40.5627125425085\n",
      "토큰 길이 최대: 98\n",
      "토큰 길이 표준편차: 13.621406919583547\n"
     ]
    }
   ],
   "source": [
    "cal_length = train_encoded_bert['input_ids'] + train_encoded_bert['input_ids']\n",
    "\n",
    "num_tokens = [len(tokens) for tokens in cal_length]\n",
    "num_tokens = np.array(num_tokens)\n",
    "\n",
    "# 평균값, 최댓값, 표준편차\n",
    "print(f\"토큰 길이 평균: {np.mean(num_tokens)}\")\n",
    "print(f\"토큰 길이 최대: {np.max(num_tokens)}\")\n",
    "print(f\"토큰 길이 표준편차: {np.std(num_tokens)}\")"
   ]
  },
  {
   "cell_type": "code",
   "execution_count": 43,
   "id": "dcd113e2",
   "metadata": {},
   "outputs": [
    {
     "name": "stdout",
     "output_type": "stream",
     "text": [
      "토큰 길이 최대: 98\n"
     ]
    }
   ],
   "source": [
    "test_num_tokens_bert = [len(tokens) for tokens in test_encoded_bert['input_ids']]\n",
    "print(f\"토큰 길이 최대: {np.max(test_num_tokens_bert)}\")"
   ]
  },
  {
   "cell_type": "code",
   "execution_count": 44,
   "id": "bb630607",
   "metadata": {},
   "outputs": [
    {
     "data": {
      "image/png": "[encoded data removed]",
      "text/plain": [
       "<Figure size 432x288 with 1 Axes>"
      ]
     },
     "metadata": {},
     "output_type": "display_data"
    }
   ],
   "source": [
    "plt.title('all text length')\n",
    "plt.hist(num_tokens, bins=100)\n",
    "plt.xlabel('length of samples')\n",
    "plt.ylabel('number of samples')\n",
    "plt.show()"
   ]
  },
  {
   "cell_type": "markdown",
   "id": "60191e53",
   "metadata": {},
   "source": [
    "#### 길이가 100 이상인 데이터에 대해 삭제 진행  "
   ]
  },
  {
   "cell_type": "code",
   "execution_count": 45,
   "id": "ca48a67c",
   "metadata": {},
   "outputs": [],
   "source": [
    "temp = []\n",
    "for i in range(len(train_encoded_bert['input_ids'])):\n",
    "    if len(train_encoded_bert['input_ids'][i]) > select_length:\n",
    "        temp.append(i)\n",
    "\n",
    "temp.reverse()\n",
    "\n",
    "for i in temp:\n",
    "    del train_data[i]\n",
    "    train_all.drop(train_all.index[i], inplace=True)\n",
    "    \n",
    "temp = []\n",
    "for i in range(len(test_encoded_bert['input_ids'])):\n",
    "    if len(test_encoded_bert['input_ids'][i]) > select_length:\n",
    "        temp.append(i)\n",
    "\n",
    "temp.reverse()\n",
    "\n",
    "for i in temp:\n",
    "    del test_data[i]\n",
    "    test.drop(test.index[i], inplace=True)"
   ]
  },
  {
   "cell_type": "code",
   "execution_count": 46,
   "id": "c967b786",
   "metadata": {},
   "outputs": [
    {
     "name": "stdout",
     "output_type": "stream",
     "text": [
      "전체 샘플 중 길이가 100 이하인 샘플의 비율: 1.0\n"
     ]
    }
   ],
   "source": [
    "below_threshold_len(select_length, cal_length)"
   ]
  },
  {
   "cell_type": "code",
   "execution_count": 47,
   "id": "6ed92f4f",
   "metadata": {},
   "outputs": [
    {
     "data": {
      "text/plain": [
       "19996"
      ]
     },
     "execution_count": 47,
     "metadata": {},
     "output_type": "execute_result"
    }
   ],
   "source": [
    "len(train_data)"
   ]
  },
  {
   "cell_type": "code",
   "execution_count": 48,
   "id": "c34247fe",
   "metadata": {},
   "outputs": [
    {
     "data": {
      "text/plain": [
       "5000"
      ]
     },
     "execution_count": 48,
     "metadata": {},
     "output_type": "execute_result"
    }
   ],
   "source": [
    "len(test_data)"
   ]
  },
  {
   "cell_type": "markdown",
   "id": "e8c9f17d",
   "metadata": {},
   "source": [
    "#### 3.3.1 ELECTRA 모델링"
   ]
  },
  {
   "cell_type": "code",
   "execution_count": 49,
   "id": "741cf57b",
   "metadata": {},
   "outputs": [],
   "source": [
    "train_encoded_electra = tokenizer_electra.batch_encode_plus(train_data, padding='max_length', max_length=100)\n",
    "test_encoded_electra = tokenizer_electra.batch_encode_plus(test_data, padding='max_length', max_length=100)"
   ]
  },
  {
   "cell_type": "code",
   "execution_count": 50,
   "id": "4adbc3dc",
   "metadata": {},
   "outputs": [],
   "source": [
    "x_train, x_valid, y_train, y_valid = train_test_split(train_encoded_electra['input_ids'], train_all.label.values, test_size=0.3, shuffle=False)\n",
    "x_test = test_encoded_electra['input_ids']"
   ]
  },
  {
   "cell_type": "code",
   "execution_count": 51,
   "id": "6919c4c1",
   "metadata": {},
   "outputs": [],
   "source": [
    "train_dataset = (tf.data.Dataset.from_tensor_slices((x_train, y_train)).repeat().shuffle(2048).batch(20 * strategy.num_replicas_in_sync).prefetch(tf.data.experimental.AUTOTUNE))\n",
    "valid_dataset = (tf.data.Dataset.from_tensor_slices((x_valid, y_valid)).batch(20 * strategy.num_replicas_in_sync).cache().prefetch(tf.data.experimental.AUTOTUNE))\n",
    "test_dataset = (tf.data.Dataset.from_tensor_slices(x_test).batch(20 * strategy.num_replicas_in_sync))"
   ]
  },
  {
   "cell_type": "code",
   "execution_count": 52,
   "id": "ed15eac2",
   "metadata": {},
   "outputs": [
    {
     "name": "stdout",
     "output_type": "stream",
     "text": [
      "WARNING:tensorflow:The parameters `output_attentions`, `output_hidden_states` and `use_cache` cannot be updated when calling a model.They have to be set to True/False in the config object (i.e.: `config=XConfig.from_pretrained('name', output_attentions=True)`).\n",
      "WARNING:tensorflow:The parameter `return_dict` cannot be set in graph mode and will always be set to `True`.\n",
      "WARNING:tensorflow:The parameters `output_attentions`, `output_hidden_states` and `use_cache` cannot be updated when calling a model.They have to be set to True/False in the config object (i.e.: `config=XConfig.from_pretrained('name', output_attentions=True)`).\n",
      "WARNING:tensorflow:The parameter `return_dict` cannot be set in graph mode and will always be set to `True`.\n",
      "999/999 [==============================] - ETA: 0s - loss: 0.5277 - accuracy: 0.7821WARNING:tensorflow:The parameters `output_attentions`, `output_hidden_states` and `use_cache` cannot be updated when calling a model.They have to be set to True/False in the config object (i.e.: `config=XConfig.from_pretrained('name', output_attentions=True)`).\n",
      "WARNING:tensorflow:The parameter `return_dict` cannot be set in graph mode and will always be set to `True`.\n",
      "999/999 [==============================] - 223s 215ms/step - loss: 0.5277 - accuracy: 0.7821 - val_loss: 0.4057 - val_accuracy: 0.8581\n"
     ]
    }
   ],
   "source": [
    "history_electra = model_electra.fit(train_dataset,steps_per_epoch=len(train) // 20 * strategy.num_replicas_in_sync,\n",
    "                                     validation_data=valid_dataset,epochs= 1)"
   ]
  },
  {
   "cell_type": "markdown",
   "id": "04bafd1e",
   "metadata": {},
   "source": [
    "앙상블 데이터를 만들 electra_pred(클래스에 대한 확률 예측 값들의 배열), electra_pred_class(각 행의 최종 예측 클래스 값들의 배열)  \n",
    "최종 예측을 하기 위한 test_pred_electra (주어진 5000개의 테스트 데이터에 대한 확률 예측 값들의 배열),  \n",
    "test_pred_electra_class (주어진 5000개의 테스트 데이터에 대한 최종 예측 클래스 값들의 배열)"
   ]
  },
  {
   "cell_type": "code",
   "execution_count": 53,
   "id": "3820331b",
   "metadata": {},
   "outputs": [
    {
     "name": "stdout",
     "output_type": "stream",
     "text": [
      "WARNING:tensorflow:The parameters `output_attentions`, `output_hidden_states` and `use_cache` cannot be updated when calling a model.They have to be set to True/False in the config object (i.e.: `config=XConfig.from_pretrained('name', output_attentions=True)`).\n",
      "WARNING:tensorflow:The parameter `return_dict` cannot be set in graph mode and will always be set to `True`.\n",
      "188/188 [==============================] - 16s 81ms/step\n"
     ]
    }
   ],
   "source": [
    "electra_pred = model_electra.predict(x_valid, verbose=1)\n",
    "electra_pred_class = np.argmax(electra_pred, axis=1)"
   ]
  },
  {
   "cell_type": "code",
   "execution_count": 54,
   "id": "533c99ab",
   "metadata": {},
   "outputs": [
    {
     "name": "stdout",
     "output_type": "stream",
     "text": [
      "250/250 [==============================] - 14s 55ms/step\n"
     ]
    }
   ],
   "source": [
    "test_pred_electra = model_electra.predict(test_dataset, verbose=1)\n",
    "test_pred_electra_class = np.argmax(test_pred_electra, axis=1)"
   ]
  },
  {
   "cell_type": "markdown",
   "id": "577282f9",
   "metadata": {},
   "source": [
    "#### 3.3.2 BERT, ALBERT 모델링"
   ]
  },
  {
   "cell_type": "code",
   "execution_count": 55,
   "id": "95c4b309",
   "metadata": {},
   "outputs": [],
   "source": [
    "train_encoded_bert = tokenizer_bert.batch_encode_plus(train_data, padding='max_length', max_length=100)\n",
    "test_encoded_bert = tokenizer_bert.batch_encode_plus(test_data, padding='max_length', max_length=100)"
   ]
  },
  {
   "cell_type": "code",
   "execution_count": 56,
   "id": "4fd285c8",
   "metadata": {},
   "outputs": [],
   "source": [
    "x_train, x_valid, y_train, y_valid = train_test_split(train_encoded_bert['input_ids'], train_all.label.values, test_size=0.3, shuffle=False)\n",
    "x_test = test_encoded_bert['input_ids']"
   ]
  },
  {
   "cell_type": "code",
   "execution_count": 57,
   "id": "177c8e77",
   "metadata": {},
   "outputs": [],
   "source": [
    "train_dataset = (tf.data.Dataset.from_tensor_slices((x_train, y_train)).repeat().shuffle(2048).batch(20 * strategy.num_replicas_in_sync).prefetch(tf.data.experimental.AUTOTUNE))\n",
    "valid_dataset = (tf.data.Dataset.from_tensor_slices((x_valid, y_valid)).batch(20 * strategy.num_replicas_in_sync).cache().prefetch(tf.data.experimental.AUTOTUNE))\n",
    "test_dataset = (tf.data.Dataset.from_tensor_slices(x_test).batch(20 * strategy.num_replicas_in_sync))"
   ]
  },
  {
   "cell_type": "code",
   "execution_count": 58,
   "id": "408a2b86",
   "metadata": {},
   "outputs": [
    {
     "name": "stdout",
     "output_type": "stream",
     "text": [
      "WARNING:tensorflow:The parameters `output_attentions`, `output_hidden_states` and `use_cache` cannot be updated when calling a model.They have to be set to True/False in the config object (i.e.: `config=XConfig.from_pretrained('name', output_attentions=True)`).\n",
      "WARNING:tensorflow:The parameter `return_dict` cannot be set in graph mode and will always be set to `True`.\n",
      "WARNING:tensorflow:Gradients do not exist for variables ['tf_bert_model/bert/pooler/dense/kernel:0', 'tf_bert_model/bert/pooler/dense/bias:0'] when minimizing the loss.\n",
      "WARNING:tensorflow:The parameters `output_attentions`, `output_hidden_states` and `use_cache` cannot be updated when calling a model.They have to be set to True/False in the config object (i.e.: `config=XConfig.from_pretrained('name', output_attentions=True)`).\n",
      "WARNING:tensorflow:The parameter `return_dict` cannot be set in graph mode and will always be set to `True`.\n",
      "WARNING:tensorflow:Gradients do not exist for variables ['tf_bert_model/bert/pooler/dense/kernel:0', 'tf_bert_model/bert/pooler/dense/bias:0'] when minimizing the loss.\n",
      "999/999 [==============================] - ETA: 0s - loss: 0.6888 - accuracy: 0.7045WARNING:tensorflow:The parameters `output_attentions`, `output_hidden_states` and `use_cache` cannot be updated when calling a model.They have to be set to True/False in the config object (i.e.: `config=XConfig.from_pretrained('name', output_attentions=True)`).\n",
      "WARNING:tensorflow:The parameter `return_dict` cannot be set in graph mode and will always be set to `True`.\n",
      "999/999 [==============================] - 230s 222ms/step - loss: 0.6888 - accuracy: 0.7045 - val_loss: 0.5107 - val_accuracy: 0.8083\n",
      "WARNING:tensorflow:The parameters `output_attentions`, `output_hidden_states` and `use_cache` cannot be updated when calling a model.They have to be set to True/False in the config object (i.e.: `config=XConfig.from_pretrained('name', output_attentions=True)`).\n",
      "WARNING:tensorflow:The parameter `return_dict` cannot be set in graph mode and will always be set to `True`.\n",
      "WARNING:tensorflow:Gradients do not exist for variables ['tf_albert_model/albert/pooler/kernel:0', 'tf_albert_model/albert/pooler/bias:0'] when minimizing the loss.\n",
      "WARNING:tensorflow:The parameters `output_attentions`, `output_hidden_states` and `use_cache` cannot be updated when calling a model.They have to be set to True/False in the config object (i.e.: `config=XConfig.from_pretrained('name', output_attentions=True)`).\n",
      "WARNING:tensorflow:The parameter `return_dict` cannot be set in graph mode and will always be set to `True`.\n",
      "WARNING:tensorflow:Gradients do not exist for variables ['tf_albert_model/albert/pooler/kernel:0', 'tf_albert_model/albert/pooler/bias:0'] when minimizing the loss.\n",
      "999/999 [==============================] - ETA: 0s - loss: 0.7415 - accuracy: 0.6641WARNING:tensorflow:The parameters `output_attentions`, `output_hidden_states` and `use_cache` cannot be updated when calling a model.They have to be set to True/False in the config object (i.e.: `config=XConfig.from_pretrained('name', output_attentions=True)`).\n",
      "WARNING:tensorflow:The parameter `return_dict` cannot be set in graph mode and will always be set to `True`.\n",
      "999/999 [==============================] - 223s 214ms/step - loss: 0.7415 - accuracy: 0.6641 - val_loss: 0.5494 - val_accuracy: 0.7798\n"
     ]
    }
   ],
   "source": [
    "history_bert = model_bert.fit(train_dataset,steps_per_epoch=len(train) // 20 * strategy.num_replicas_in_sync,\n",
    "                              validation_data=valid_dataset, epochs= 1)\n",
    "\n",
    "history_albert = model_albert.fit(train_dataset,steps_per_epoch=len(train) // 20 * strategy.num_replicas_in_sync,\n",
    "                                  validation_data=valid_dataset, epochs= 1)"
   ]
  },
  {
   "cell_type": "markdown",
   "id": "0f4f6c66",
   "metadata": {},
   "source": [
    "앙상블 데이터를 만들 bert_pred(클래스에 대한 확률 예측 값들의 배열), bert_pred_class(각 행의 최종 예측 클래스 값들의 배열)  \n",
    "최종 예측을 하기 위한 test_pred_bert (주어진 5000개의 테스트 데이터에 대한 확률 예측 값들의 배열),  \n",
    "test_pred_bert_class (주어진 5000개의 테스트 데이터에 대한 최종 예측 클래스 값들의 배열)  \n",
    "albert 모델도 변수명만 bert에서 albert로 동일합니다.  "
   ]
  },
  {
   "cell_type": "code",
   "execution_count": 59,
   "id": "621b3da0",
   "metadata": {},
   "outputs": [
    {
     "name": "stdout",
     "output_type": "stream",
     "text": [
      "WARNING:tensorflow:The parameters `output_attentions`, `output_hidden_states` and `use_cache` cannot be updated when calling a model.They have to be set to True/False in the config object (i.e.: `config=XConfig.from_pretrained('name', output_attentions=True)`).\n",
      "WARNING:tensorflow:The parameter `return_dict` cannot be set in graph mode and will always be set to `True`.\n",
      "188/188 [==============================] - 15s 78ms/step\n",
      "WARNING:tensorflow:The parameters `output_attentions`, `output_hidden_states` and `use_cache` cannot be updated when calling a model.They have to be set to True/False in the config object (i.e.: `config=XConfig.from_pretrained('name', output_attentions=True)`).\n",
      "WARNING:tensorflow:The parameter `return_dict` cannot be set in graph mode and will always be set to `True`.\n"
     ]
    }
   ],
   "source": [
    "bert_pred = model_bert.predict(x_valid, verbose=1)\n",
    "albert_pred = model_albert.predict(x_valid)"
   ]
  },
  {
   "cell_type": "code",
   "execution_count": 60,
   "id": "0a079c4d",
   "metadata": {},
   "outputs": [],
   "source": [
    "bert_pred_class = np.argmax(bert_pred, axis=1)\n",
    "albert_pred_class = np.argmax(albert_pred, axis=1)"
   ]
  },
  {
   "cell_type": "code",
   "execution_count": 61,
   "id": "b90fc004",
   "metadata": {},
   "outputs": [
    {
     "name": "stdout",
     "output_type": "stream",
     "text": [
      "250/250 [==============================] - 14s 54ms/step\n",
      "250/250 [==============================] - 19s 76ms/step\n"
     ]
    }
   ],
   "source": [
    "test_pred_bert = model_bert.predict(test_dataset, verbose=1)\n",
    "test_pred_albert = model_albert.predict(test_dataset, verbose=1)\n",
    "\n",
    "test_pred_bert_class = np.argmax(test_pred_bert, axis=1)\n",
    "test_pred_albert_class = np.argmax(test_pred_albert, axis=1)"
   ]
  },
  {
   "cell_type": "markdown",
   "id": "c908aeb1",
   "metadata": {},
   "source": [
    "## 4. Stacking & Boosting Ensemble learning"
   ]
  },
  {
   "cell_type": "markdown",
   "id": "213614f0",
   "metadata": {},
   "source": [
    "이전에 구했었던 검증 데이터에 대해 개별 모델로 예측한 메타데이터를 생성하여 스태킹 앙상블에 대한 훈련 데이터를 만들었습니다.  \n",
    "또한, 최종 예측할 테스트 데이터에 대한 개별 모델 예측 메타데이터도 생성했습니다.  \n",
    "만들어진 메타 데이터 학습을 하며 Stacking 앙상블을, 최종 판별 모델을 XGBoost를 사용하며 Boosting 앙상블을 적용했습니다.  \n",
    "이렇게 만들어진 XGBoost 모델을 통해 테스트 메타 데이터에 똑같이 적용함으로써 최종 예측을 진행했습니다.  "
   ]
  },
  {
   "cell_type": "markdown",
   "id": "ce0ff920",
   "metadata": {},
   "source": [
    "### 4.1 메타 데이터 생성"
   ]
  },
  {
   "cell_type": "markdown",
   "id": "6b6c23b8",
   "metadata": {},
   "source": [
    "위에서 구한 electra_pred, electra_pred_class, bert_pred, bert_pred_class, albert_pred, albert_pred_class 변수에 선언된 배열 값들을  \n",
    "활용해 최종 판별 모델 XGBoost에 적용할 앙상블 데이터셋을 만들었습니다.  "
   ]
  },
  {
   "cell_type": "code",
   "execution_count": 62,
   "id": "02268c03",
   "metadata": {},
   "outputs": [
    {
     "name": "stdout",
     "output_type": "stream",
     "text": [
      "(12, 5999)\n"
     ]
    }
   ],
   "source": [
    "meta_data = np.array([\n",
    "    np.transpose(electra_pred)[0], np.transpose(electra_pred)[1], np.transpose(electra_pred)[2], electra_pred_class,\n",
    "    np.transpose(bert_pred)[0], np.transpose(bert_pred)[1], np.transpose(bert_pred)[2], bert_pred_class,\n",
    "    np.transpose(albert_pred)[0], np.transpose(albert_pred)[1], np.transpose(albert_pred)[2], albert_pred_class\n",
    "])\n",
    "print(meta_data.shape)"
   ]
  },
  {
   "cell_type": "code",
   "execution_count": 63,
   "id": "3c5e7296",
   "metadata": {},
   "outputs": [
    {
     "name": "stdout",
     "output_type": "stream",
     "text": [
      "(5999, 12)\n"
     ]
    }
   ],
   "source": [
    "meta_data = np.transpose(meta_data)\n",
    "print(meta_data.shape)"
   ]
  },
  {
   "cell_type": "markdown",
   "id": "06e659a5",
   "metadata": {},
   "source": [
    "### 4.2 XGBoost Modeling"
   ]
  },
  {
   "cell_type": "code",
   "execution_count": 64,
   "id": "b7af7025",
   "metadata": {},
   "outputs": [],
   "source": [
    "from xgboost import XGBClassifier\n",
    "\n",
    "xgb_final = XGBClassifier(silent=False,\n",
    "                          n_estimators = 10000,\n",
    "                          booster='gbtree',\n",
    "                          tree_method='gpu_hist',\n",
    "                          preidctor= 'gpu_predictor',\n",
    "                          learning_rate=0.02,\n",
    "                          objective='multi:softmax',\n",
    "                          max_depth = 8,\n",
    "                          subsample = 0.8,\n",
    "                          random_state=42)"
   ]
  },
  {
   "cell_type": "code",
   "execution_count": 65,
   "id": "d0884cdb",
   "metadata": {},
   "outputs": [
    {
     "name": "stdout",
     "output_type": "stream",
     "text": [
      "[01:01:06] WARNING: C:/Users/Administrator/workspace/xgboost-win64_release_1.4.0/src/learner.cc:573: \n",
      "Parameters: { \"preidctor\", \"silent\" } might not be used.\n",
      "\n",
      "  This may not be accurate due to some parameters are only used in language bindings but\n",
      "  passed down to XGBoost core.  Or some parameters are not used but slip through this\n",
      "  verification. Please open an issue if you find above cases.\n",
      "\n",
      "\n"
     ]
    },
    {
     "name": "stderr",
     "output_type": "stream",
     "text": [
      "C:\\ProgramData\\Anaconda3\\lib\\site-packages\\xgboost\\sklearn.py:1146: UserWarning: The use of label encoder in XGBClassifier is deprecated and will be removed in a future release. To remove this warning, do the following: 1) Pass option use_label_encoder=False when constructing XGBClassifier object; and 2) Encode your labels (y) as integers starting with 0, i.e. 0, 1, 2, ..., [num_class - 1].\n",
      "  warnings.warn(label_encoder_deprecation_msg, UserWarning)\n"
     ]
    },
    {
     "name": "stdout",
     "output_type": "stream",
     "text": [
      "[01:01:07] WARNING: C:/Users/Administrator/workspace/xgboost-win64_release_1.4.0/src/learner.cc:1095: Starting in XGBoost 1.3.0, the default evaluation metric used with the objective 'multi:softprob' was changed from 'merror' to 'mlogloss'. Explicitly set eval_metric if you'd like to restore the old behavior.\n"
     ]
    }
   ],
   "source": [
    "final_model = xgb_final.fit(meta_data, y_valid)"
   ]
  },
  {
   "cell_type": "code",
   "execution_count": 66,
   "id": "4a1176cd",
   "metadata": {},
   "outputs": [],
   "source": [
    "final = final_model.predict(meta_data)"
   ]
  },
  {
   "cell_type": "code",
   "execution_count": 67,
   "id": "2da2a1b2",
   "metadata": {},
   "outputs": [
    {
     "name": "stdout",
     "output_type": "stream",
     "text": [
      "최종 메타 모델의 예측 정확도: 1.0000\n"
     ]
    }
   ],
   "source": [
    "print('최종 메타 모델의 예측 정확도: {0:.4f}'.format(accuracy_score(y_valid , final)))"
   ]
  },
  {
   "cell_type": "code",
   "execution_count": 68,
   "id": "db2447ba",
   "metadata": {},
   "outputs": [
    {
     "data": {
      "text/plain": [
       "5999"
      ]
     },
     "execution_count": 68,
     "metadata": {},
     "output_type": "execute_result"
    }
   ],
   "source": [
    "len(final)"
   ]
  },
  {
   "cell_type": "markdown",
   "id": "ff16e9ee",
   "metadata": {},
   "source": [
    "### 4.3 최종 예측 메타 데이터 생성 및 최종 판별 진행"
   ]
  },
  {
   "cell_type": "code",
   "execution_count": 70,
   "id": "58a716d3",
   "metadata": {},
   "outputs": [
    {
     "name": "stdout",
     "output_type": "stream",
     "text": [
      "(12, 5000)\n"
     ]
    }
   ],
   "source": [
    "test_meta_data = np.array([\n",
    "    np.transpose(test_pred_electra)[0], np.transpose(test_pred_electra)[1], np.transpose(test_pred_electra)[2], test_pred_electra_class,\n",
    "    np.transpose(test_pred_bert)[0], np.transpose(test_pred_bert)[1], np.transpose(test_pred_bert)[2], test_pred_bert_class,\n",
    "    np.transpose(test_pred_albert)[0], np.transpose(test_pred_albert)[1], np.transpose(test_pred_albert)[2], test_pred_albert_class\n",
    "])\n",
    "print(test_meta_data.shape)"
   ]
  },
  {
   "cell_type": "code",
   "execution_count": 71,
   "id": "098caf12",
   "metadata": {},
   "outputs": [
    {
     "name": "stdout",
     "output_type": "stream",
     "text": [
      "(5999, 12)\n"
     ]
    }
   ],
   "source": [
    "test_meta_data = np.transpose(test_meta_data)"
   ]
  },
  {
   "cell_type": "code",
   "execution_count": 72,
   "id": "9f0aef16",
   "metadata": {},
   "outputs": [
    {
     "name": "stdout",
     "output_type": "stream",
     "text": [
      "(5000, 12)\n"
     ]
    }
   ],
   "source": [
    "print(test_meta_data.shape)"
   ]
  },
  {
   "cell_type": "code",
   "execution_count": 73,
   "id": "f6253ffc",
   "metadata": {},
   "outputs": [],
   "source": [
    "predictions = final_model.predict(test_meta_data)"
   ]
  },
  {
   "cell_type": "code",
   "execution_count": 74,
   "id": "caa97aa7",
   "metadata": {},
   "outputs": [
    {
     "data": {
      "text/plain": [
       "array([0, 1, 2, ..., 2, 0, 0])"
      ]
     },
     "execution_count": 74,
     "metadata": {},
     "output_type": "execute_result"
    }
   ],
   "source": [
    "predictions"
   ]
  },
  {
   "cell_type": "code",
   "execution_count": 75,
   "id": "5a258d30",
   "metadata": {},
   "outputs": [],
   "source": [
    "list1 = [i for i in range(5000)]"
   ]
  },
  {
   "cell_type": "code",
   "execution_count": 76,
   "id": "dd4b009f",
   "metadata": {},
   "outputs": [],
   "source": [
    "list2 = predictions"
   ]
  },
  {
   "cell_type": "code",
   "execution_count": 77,
   "id": "6b927352",
   "metadata": {},
   "outputs": [],
   "source": [
    "submission = pd.DataFrame({'index':list1,\n",
    "                           'label':list2})"
   ]
  },
  {
   "cell_type": "code",
   "execution_count": 78,
   "id": "ed241997",
   "metadata": {},
   "outputs": [
    {
     "data": {
      "text/html": [
       "<div>\n",
       "<style scoped>\n",
       "    .dataframe tbody tr th:only-of-type {\n",
       "        vertical-align: middle;\n",
       "    }\n",
       "\n",
       "    .dataframe tbody tr th {\n",
       "        vertical-align: top;\n",
       "    }\n",
       "\n",
       "    .dataframe thead th {\n",
       "        text-align: right;\n",
       "    }\n",
       "</style>\n",
       "<table border=\"1\" class=\"dataframe\">\n",
       "  <thead>\n",
       "    <tr style=\"text-align: right;\">\n",
       "      <th></th>\n",
       "      <th>index</th>\n",
       "      <th>label</th>\n",
       "    </tr>\n",
       "  </thead>\n",
       "  <tbody>\n",
       "    <tr>\n",
       "      <th>0</th>\n",
       "      <td>0</td>\n",
       "      <td>0</td>\n",
       "    </tr>\n",
       "    <tr>\n",
       "      <th>1</th>\n",
       "      <td>1</td>\n",
       "      <td>1</td>\n",
       "    </tr>\n",
       "    <tr>\n",
       "      <th>2</th>\n",
       "      <td>2</td>\n",
       "      <td>2</td>\n",
       "    </tr>\n",
       "    <tr>\n",
       "      <th>3</th>\n",
       "      <td>3</td>\n",
       "      <td>1</td>\n",
       "    </tr>\n",
       "    <tr>\n",
       "      <th>4</th>\n",
       "      <td>4</td>\n",
       "      <td>2</td>\n",
       "    </tr>\n",
       "    <tr>\n",
       "      <th>...</th>\n",
       "      <td>...</td>\n",
       "      <td>...</td>\n",
       "    </tr>\n",
       "    <tr>\n",
       "      <th>4995</th>\n",
       "      <td>4995</td>\n",
       "      <td>0</td>\n",
       "    </tr>\n",
       "    <tr>\n",
       "      <th>4996</th>\n",
       "      <td>4996</td>\n",
       "      <td>0</td>\n",
       "    </tr>\n",
       "    <tr>\n",
       "      <th>4997</th>\n",
       "      <td>4997</td>\n",
       "      <td>2</td>\n",
       "    </tr>\n",
       "    <tr>\n",
       "      <th>4998</th>\n",
       "      <td>4998</td>\n",
       "      <td>0</td>\n",
       "    </tr>\n",
       "    <tr>\n",
       "      <th>4999</th>\n",
       "      <td>4999</td>\n",
       "      <td>0</td>\n",
       "    </tr>\n",
       "  </tbody>\n",
       "</table>\n",
       "<p>5000 rows × 2 columns</p>\n",
       "</div>"
      ],
      "text/plain": [
       "      index  label\n",
       "0         0      0\n",
       "1         1      1\n",
       "2         2      2\n",
       "3         3      1\n",
       "4         4      2\n",
       "...     ...    ...\n",
       "4995   4995      0\n",
       "4996   4996      0\n",
       "4997   4997      2\n",
       "4998   4998      0\n",
       "4999   4999      0\n",
       "\n",
       "[5000 rows x 2 columns]"
      ]
     },
     "execution_count": 78,
     "metadata": {},
     "output_type": "execute_result"
    }
   ],
   "source": [
    "submission"
   ]
  },
  {
   "cell_type": "code",
   "execution_count": 79,
   "id": "01e4f40c",
   "metadata": {},
   "outputs": [],
   "source": [
    "# contradiction => 0 entailment => 1 neutral => 2\n",
    "submission['label'].replace(0, 'contradiction', inplace=True)\n",
    "submission['label'].replace(1, 'entailment', inplace=True)\n",
    "submission['label'].replace(2, 'neutral', inplace=True)"
   ]
  },
  {
   "cell_type": "code",
   "execution_count": 80,
   "id": "8f6216fd",
   "metadata": {},
   "outputs": [],
   "source": [
    "submission.to_csv(\"../submission/submission_stacking_v2.csv\", index = False)"
   ]
  },
  {
   "cell_type": "code",
   "execution_count": 81,
   "id": "96285c95",
   "metadata": {},
   "outputs": [],
   "source": [
    "# model.save('competition_stacking_v1.h5')\n",
    "# Load model code\n",
    "# new_model = tf.keras.models.load_model('competition_stacking_v1.h5')\n",
    "# test_loss, test_acc = new_model.evaluate(x,  y, verbose=2)"
   ]
  }
 ],
 "metadata": {
  "kernelspec": {
   "display_name": "Python 3 (ipykernel)",
   "language": "python",
   "name": "python3"
  },
  "language_info": {
   "codemirror_mode": {
    "name": "ipython",
    "version": 3
   },
   "file_extension": ".py",
   "mimetype": "text/x-python",
   "name": "python",
   "nbconvert_exporter": "python",
   "pygments_lexer": "ipython3",
   "version": "3.8.5"
  }
 },
 "nbformat": 4,
 "nbformat_minor": 5
}
