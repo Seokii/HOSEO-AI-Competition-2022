{
 "cells": [
  {
   "cell_type": "markdown",
   "id": "27ade102",
   "metadata": {},
   "source": [
    "## 0. Import"
   ]
  },
  {
   "cell_type": "code",
   "execution_count": 1,
   "id": "18579186",
   "metadata": {},
   "outputs": [],
   "source": [
    "import numpy as np\n",
    "import pandas as pd\n",
    "import seaborn as sns\n",
    "import matplotlib.pyplot as plt\n",
    "\n",
    "import tensorflow as tf\n",
    "from tensorflow.keras.layers import Dense,Input\n",
    "from tensorflow.keras.models import Model\n",
    "from tensorflow.keras.optimizers import Adam\n",
    "from transformers import TFBertModel, TFAlbertModel, TFElectraModel, TFDistilBertModel, DistilBertModel\n",
    "from transformers import ElectraTokenizer, BertTokenizerFast\n",
    "\n",
    "from sklearn.preprocessing import LabelEncoder\n",
    "from sklearn.model_selection import train_test_split\n",
    "from sklearn.metrics import accuracy_score\n",
    "\n",
    "import datasets\n",
    "from datasets import load_dataset, load_metric, ClassLabel, Sequence"
   ]
  },
  {
   "cell_type": "code",
   "execution_count": 2,
   "id": "cbf36deb",
   "metadata": {},
   "outputs": [],
   "source": [
    "strategy = tf.distribute.get_strategy()"
   ]
  },
  {
   "cell_type": "markdown",
   "id": "959f893b",
   "metadata": {},
   "source": [
    "## 1. Load Dataset"
   ]
  },
  {
   "cell_type": "code",
   "execution_count": 3,
   "id": "5714ea1a",
   "metadata": {},
   "outputs": [
    {
     "name": "stderr",
     "output_type": "stream",
     "text": [
      "C:\\ProgramData\\Anaconda3\\lib\\site-packages\\IPython\\core\\interactiveshell.py:3444: FutureWarning: The error_bad_lines argument has been deprecated and will be removed in a future version.\n",
      "\n",
      "\n",
      "  exec(code_obj, self.user_global_ns, self.user_ns)\n",
      "b'Skipping line 24426: expected 3 fields, saw 4\\nSkipping line 156343: expected 3 fields, saw 4\\nSkipping line 218766: expected 3 fields, saw 4\\nSkipping line 232318: expected 3 fields, saw 4\\nSkipping line 253493: expected 3 fields, saw 4\\n'\n",
      "b'Skipping line 265734: expected 3 fields, saw 4\\nSkipping line 282588: expected 3 fields, saw 4\\nSkipping line 350969: expected 3 fields, saw 4\\n'\n",
      "Reusing dataset klue (C:\\Users\\Home\\.cache\\huggingface\\datasets\\klue\\nli\\1.0.0\\e0fc3bc3de3eb03be2c92d72fd04a60ecc71903f821619cb28ca0e1e29e4233e)\n"
     ]
    },
    {
     "data": {
      "application/vnd.jupyter.widget-view+json": {
       "model_id": "d631c30608674824b22b8f2db378ae18",
       "version_major": 2,
       "version_minor": 0
      },
      "text/plain": [
       "  0%|          | 0/2 [00:00<?, ?it/s]"
      ]
     },
     "metadata": {},
     "output_type": "display_data"
    }
   ],
   "source": [
    "train = pd.read_csv(\"../dataset/train.csv\", encoding='CP949')\n",
    "test = pd.read_csv(\"../dataset/test.csv\", encoding='CP949')\n",
    "train_multinli = pd.read_csv('../dataset/kornli/multinli.train.ko.tsv', delimiter='\\t', error_bad_lines=False)\n",
    "train_snli = pd.read_csv('../dataset/kornli/snli_1.0_train.ko.tsv', delimiter='\\t')\n",
    "datasets = load_dataset(\"klue\", \"nli\")"
   ]
  },
  {
   "cell_type": "code",
   "execution_count": 4,
   "id": "d16627c2",
   "metadata": {
    "scrolled": true
   },
   "outputs": [
    {
     "data": {
      "text/html": [
       "<div>\n",
       "<style scoped>\n",
       "    .dataframe tbody tr th:only-of-type {\n",
       "        vertical-align: middle;\n",
       "    }\n",
       "\n",
       "    .dataframe tbody tr th {\n",
       "        vertical-align: top;\n",
       "    }\n",
       "\n",
       "    .dataframe thead th {\n",
       "        text-align: right;\n",
       "    }\n",
       "</style>\n",
       "<table border=\"1\" class=\"dataframe\">\n",
       "  <thead>\n",
       "    <tr style=\"text-align: right;\">\n",
       "      <th></th>\n",
       "      <th>index</th>\n",
       "      <th>premise</th>\n",
       "      <th>hypothesis</th>\n",
       "      <th>label</th>\n",
       "    </tr>\n",
       "  </thead>\n",
       "  <tbody>\n",
       "    <tr>\n",
       "      <th>0</th>\n",
       "      <td>1</td>\n",
       "      <td>삼성은 자작극을 벌인 2명에게 형사 고소 등의 법적 대응을 검토 중이라고 하였으나,...</td>\n",
       "      <td>자작극을 벌인 이는 3명이다.</td>\n",
       "      <td>contradiction</td>\n",
       "    </tr>\n",
       "    <tr>\n",
       "      <th>1</th>\n",
       "      <td>2</td>\n",
       "      <td>이를 위해 예측적 범죄예방 시스템을 구축하고 고도화한다.</td>\n",
       "      <td>예측적 범죄예방 시스템 구축하고 고도화하는 것은 목적이 있기 때문이다.</td>\n",
       "      <td>entailment</td>\n",
       "    </tr>\n",
       "    <tr>\n",
       "      <th>2</th>\n",
       "      <td>3</td>\n",
       "      <td>광주광역시가 재개발 정비사업 원주민들에 대한 종합대책을 마련하는 등 원주민 보호에 ...</td>\n",
       "      <td>원주민들은 종합대책에 만족했다.</td>\n",
       "      <td>neutral</td>\n",
       "    </tr>\n",
       "    <tr>\n",
       "      <th>3</th>\n",
       "      <td>4</td>\n",
       "      <td>진정 소비자와 직원들에게 사랑 받는 기업으로 오래 지속되고 싶으면, 이런 상황에서는...</td>\n",
       "      <td>이런 상황에서 책임 있는 모습을 보여주는 기업은 아주 드물다.</td>\n",
       "      <td>neutral</td>\n",
       "    </tr>\n",
       "    <tr>\n",
       "      <th>4</th>\n",
       "      <td>5</td>\n",
       "      <td>이번 증설로 코오롱인더스트리는 기존 생산량 7만7000톤에서 1만6800톤이 늘어나...</td>\n",
       "      <td>코오롱 인더스트리는 총 9만 3800톤의 생산 능력을 확보했다.</td>\n",
       "      <td>entailment</td>\n",
       "    </tr>\n",
       "  </tbody>\n",
       "</table>\n",
       "</div>"
      ],
      "text/plain": [
       "   index                                            premise  \\\n",
       "0      1  삼성은 자작극을 벌인 2명에게 형사 고소 등의 법적 대응을 검토 중이라고 하였으나,...   \n",
       "1      2                    이를 위해 예측적 범죄예방 시스템을 구축하고 고도화한다.   \n",
       "2      3  광주광역시가 재개발 정비사업 원주민들에 대한 종합대책을 마련하는 등 원주민 보호에 ...   \n",
       "3      4  진정 소비자와 직원들에게 사랑 받는 기업으로 오래 지속되고 싶으면, 이런 상황에서는...   \n",
       "4      5  이번 증설로 코오롱인더스트리는 기존 생산량 7만7000톤에서 1만6800톤이 늘어나...   \n",
       "\n",
       "                                hypothesis          label  \n",
       "0                         자작극을 벌인 이는 3명이다.  contradiction  \n",
       "1  예측적 범죄예방 시스템 구축하고 고도화하는 것은 목적이 있기 때문이다.     entailment  \n",
       "2                        원주민들은 종합대책에 만족했다.        neutral  \n",
       "3       이런 상황에서 책임 있는 모습을 보여주는 기업은 아주 드물다.        neutral  \n",
       "4      코오롱 인더스트리는 총 9만 3800톤의 생산 능력을 확보했다.     entailment  "
      ]
     },
     "execution_count": 4,
     "metadata": {},
     "output_type": "execute_result"
    }
   ],
   "source": [
    "train.head()"
   ]
  },
  {
   "cell_type": "code",
   "execution_count": 5,
   "id": "d1cdd2c9",
   "metadata": {
    "scrolled": true
   },
   "outputs": [
    {
     "data": {
      "text/html": [
       "<div>\n",
       "<style scoped>\n",
       "    .dataframe tbody tr th:only-of-type {\n",
       "        vertical-align: middle;\n",
       "    }\n",
       "\n",
       "    .dataframe tbody tr th {\n",
       "        vertical-align: top;\n",
       "    }\n",
       "\n",
       "    .dataframe thead th {\n",
       "        text-align: right;\n",
       "    }\n",
       "</style>\n",
       "<table border=\"1\" class=\"dataframe\">\n",
       "  <thead>\n",
       "    <tr style=\"text-align: right;\">\n",
       "      <th></th>\n",
       "      <th>index</th>\n",
       "      <th>premise</th>\n",
       "      <th>hypothesis</th>\n",
       "    </tr>\n",
       "  </thead>\n",
       "  <tbody>\n",
       "    <tr>\n",
       "      <th>0</th>\n",
       "      <td>1</td>\n",
       "      <td>진짜 사람하나 캐리어하나만 들어갈수있어요</td>\n",
       "      <td>캐리어는 들어갈 수 없어요.</td>\n",
       "    </tr>\n",
       "    <tr>\n",
       "      <th>1</th>\n",
       "      <td>2</td>\n",
       "      <td>그린 아메리카는 우선 대형 초콜릿 제조업체들을 대상으로 설득작업을 벌이고 있습니다.</td>\n",
       "      <td>초콜릿을 만드는 대형 제조업체가 존재한다.</td>\n",
       "    </tr>\n",
       "    <tr>\n",
       "      <th>2</th>\n",
       "      <td>3</td>\n",
       "      <td>또한 강연이 끝난 후 각 국의 업무 담당자들로부터 사전 접수한 질문과 함께 현장에서...</td>\n",
       "      <td>질의응답에 사전 접수된 질문은 답변이 제한된다.</td>\n",
       "    </tr>\n",
       "    <tr>\n",
       "      <th>3</th>\n",
       "      <td>4</td>\n",
       "      <td>수험생들은 각 상담부스에서 입시전문가나 입학사정관과 상담함으로써 수시모집 지원전략을...</td>\n",
       "      <td>수험생들은 입시전문가와 입학사정관에게 수시모집 지원전략에 대한 도움을 받을 수 있다.</td>\n",
       "    </tr>\n",
       "    <tr>\n",
       "      <th>4</th>\n",
       "      <td>5</td>\n",
       "      <td>콜린은 매우 친절하고 응답이 빠릅니다.</td>\n",
       "      <td>콜린이 숙소의 호스트입니다.</td>\n",
       "    </tr>\n",
       "  </tbody>\n",
       "</table>\n",
       "</div>"
      ],
      "text/plain": [
       "   index                                            premise  \\\n",
       "0      1                             진짜 사람하나 캐리어하나만 들어갈수있어요   \n",
       "1      2     그린 아메리카는 우선 대형 초콜릿 제조업체들을 대상으로 설득작업을 벌이고 있습니다.   \n",
       "2      3  또한 강연이 끝난 후 각 국의 업무 담당자들로부터 사전 접수한 질문과 함께 현장에서...   \n",
       "3      4  수험생들은 각 상담부스에서 입시전문가나 입학사정관과 상담함으로써 수시모집 지원전략을...   \n",
       "4      5                              콜린은 매우 친절하고 응답이 빠릅니다.   \n",
       "\n",
       "                                        hypothesis  \n",
       "0                                  캐리어는 들어갈 수 없어요.  \n",
       "1                          초콜릿을 만드는 대형 제조업체가 존재한다.  \n",
       "2                       질의응답에 사전 접수된 질문은 답변이 제한된다.  \n",
       "3  수험생들은 입시전문가와 입학사정관에게 수시모집 지원전략에 대한 도움을 받을 수 있다.  \n",
       "4                                  콜린이 숙소의 호스트입니다.  "
      ]
     },
     "execution_count": 5,
     "metadata": {},
     "output_type": "execute_result"
    }
   ],
   "source": [
    "test.head()"
   ]
  },
  {
   "cell_type": "code",
   "execution_count": 6,
   "id": "1d428035",
   "metadata": {},
   "outputs": [
    {
     "data": {
      "text/html": [
       "<div>\n",
       "<style scoped>\n",
       "    .dataframe tbody tr th:only-of-type {\n",
       "        vertical-align: middle;\n",
       "    }\n",
       "\n",
       "    .dataframe tbody tr th {\n",
       "        vertical-align: top;\n",
       "    }\n",
       "\n",
       "    .dataframe thead th {\n",
       "        text-align: right;\n",
       "    }\n",
       "</style>\n",
       "<table border=\"1\" class=\"dataframe\">\n",
       "  <thead>\n",
       "    <tr style=\"text-align: right;\">\n",
       "      <th></th>\n",
       "      <th>sentence1</th>\n",
       "      <th>sentence2</th>\n",
       "      <th>gold_label</th>\n",
       "    </tr>\n",
       "  </thead>\n",
       "  <tbody>\n",
       "    <tr>\n",
       "      <th>0</th>\n",
       "      <td>개념적으로 크림 스키밍은 제품과 지리라는 두 가지 기본 차원을 가지고 있다.</td>\n",
       "      <td>제품과 지리학은 크림 스키밍을 작동시키는 것이다.</td>\n",
       "      <td>neutral</td>\n",
       "    </tr>\n",
       "    <tr>\n",
       "      <th>1</th>\n",
       "      <td>시즌 중에 알고 있는 거 알아? 네 레벨에서 다음 레벨로 잃어버리는 거야 브레이브스...</td>\n",
       "      <td>사람들이 기억하면 다음 수준으로 물건을 잃는다.</td>\n",
       "      <td>entailment</td>\n",
       "    </tr>\n",
       "    <tr>\n",
       "      <th>2</th>\n",
       "      <td>우리 번호 중 하나가 당신의 지시를 세밀하게 수행할 것이다.</td>\n",
       "      <td>우리 팀의 일원이 당신의 명령을 엄청나게 정확하게 실행할 것이다.</td>\n",
       "      <td>entailment</td>\n",
       "    </tr>\n",
       "    <tr>\n",
       "      <th>3</th>\n",
       "      <td>어떻게 아세요? 이 모든 것이 다시 그들의 정보다.</td>\n",
       "      <td>이 정보는 그들의 것이다.</td>\n",
       "      <td>entailment</td>\n",
       "    </tr>\n",
       "    <tr>\n",
       "      <th>4</th>\n",
       "      <td>그래, 만약 네가 테니스화 몇 개를 사러 간다면, 나는 왜 그들이 100달러대에서 ...</td>\n",
       "      <td>테니스화의 가격은 다양하다.</td>\n",
       "      <td>neutral</td>\n",
       "    </tr>\n",
       "  </tbody>\n",
       "</table>\n",
       "</div>"
      ],
      "text/plain": [
       "                                           sentence1  \\\n",
       "0         개념적으로 크림 스키밍은 제품과 지리라는 두 가지 기본 차원을 가지고 있다.   \n",
       "1  시즌 중에 알고 있는 거 알아? 네 레벨에서 다음 레벨로 잃어버리는 거야 브레이브스...   \n",
       "2                  우리 번호 중 하나가 당신의 지시를 세밀하게 수행할 것이다.   \n",
       "3                       어떻게 아세요? 이 모든 것이 다시 그들의 정보다.   \n",
       "4  그래, 만약 네가 테니스화 몇 개를 사러 간다면, 나는 왜 그들이 100달러대에서 ...   \n",
       "\n",
       "                              sentence2  gold_label  \n",
       "0           제품과 지리학은 크림 스키밍을 작동시키는 것이다.     neutral  \n",
       "1            사람들이 기억하면 다음 수준으로 물건을 잃는다.  entailment  \n",
       "2  우리 팀의 일원이 당신의 명령을 엄청나게 정확하게 실행할 것이다.  entailment  \n",
       "3                        이 정보는 그들의 것이다.  entailment  \n",
       "4                       테니스화의 가격은 다양하다.     neutral  "
      ]
     },
     "execution_count": 6,
     "metadata": {},
     "output_type": "execute_result"
    }
   ],
   "source": [
    "train_multinli.head()"
   ]
  },
  {
   "cell_type": "code",
   "execution_count": 7,
   "id": "bc148a0a",
   "metadata": {},
   "outputs": [
    {
     "data": {
      "text/html": [
       "<div>\n",
       "<style scoped>\n",
       "    .dataframe tbody tr th:only-of-type {\n",
       "        vertical-align: middle;\n",
       "    }\n",
       "\n",
       "    .dataframe tbody tr th {\n",
       "        vertical-align: top;\n",
       "    }\n",
       "\n",
       "    .dataframe thead th {\n",
       "        text-align: right;\n",
       "    }\n",
       "</style>\n",
       "<table border=\"1\" class=\"dataframe\">\n",
       "  <thead>\n",
       "    <tr style=\"text-align: right;\">\n",
       "      <th></th>\n",
       "      <th>sentence1</th>\n",
       "      <th>sentence2</th>\n",
       "      <th>gold_label</th>\n",
       "    </tr>\n",
       "  </thead>\n",
       "  <tbody>\n",
       "    <tr>\n",
       "      <th>0</th>\n",
       "      <td>말을 탄 사람이 고장난 비행기 위로 뛰어오른다.</td>\n",
       "      <td>한 사람이 경쟁을 위해 말을 훈련시키고 있다.</td>\n",
       "      <td>neutral</td>\n",
       "    </tr>\n",
       "    <tr>\n",
       "      <th>1</th>\n",
       "      <td>말을 탄 사람이 고장난 비행기 위로 뛰어오른다.</td>\n",
       "      <td>한 사람이 식당에서 오믈렛을 주문하고 있다.</td>\n",
       "      <td>contradiction</td>\n",
       "    </tr>\n",
       "    <tr>\n",
       "      <th>2</th>\n",
       "      <td>말을 탄 사람이 고장난 비행기 위로 뛰어오른다.</td>\n",
       "      <td>사람은 야외에서 말을 타고 있다.</td>\n",
       "      <td>entailment</td>\n",
       "    </tr>\n",
       "    <tr>\n",
       "      <th>3</th>\n",
       "      <td>카메라에 웃고 손을 흔드는 아이들</td>\n",
       "      <td>그들은 부모님을 보고 웃고 있다</td>\n",
       "      <td>neutral</td>\n",
       "    </tr>\n",
       "    <tr>\n",
       "      <th>4</th>\n",
       "      <td>카메라에 웃고 손을 흔드는 아이들</td>\n",
       "      <td>아이들이 있다</td>\n",
       "      <td>entailment</td>\n",
       "    </tr>\n",
       "  </tbody>\n",
       "</table>\n",
       "</div>"
      ],
      "text/plain": [
       "                    sentence1                  sentence2     gold_label\n",
       "0  말을 탄 사람이 고장난 비행기 위로 뛰어오른다.  한 사람이 경쟁을 위해 말을 훈련시키고 있다.        neutral\n",
       "1  말을 탄 사람이 고장난 비행기 위로 뛰어오른다.   한 사람이 식당에서 오믈렛을 주문하고 있다.  contradiction\n",
       "2  말을 탄 사람이 고장난 비행기 위로 뛰어오른다.         사람은 야외에서 말을 타고 있다.     entailment\n",
       "3          카메라에 웃고 손을 흔드는 아이들          그들은 부모님을 보고 웃고 있다        neutral\n",
       "4          카메라에 웃고 손을 흔드는 아이들                    아이들이 있다     entailment"
      ]
     },
     "execution_count": 7,
     "metadata": {},
     "output_type": "execute_result"
    }
   ],
   "source": [
    "train_snli.head()"
   ]
  },
  {
   "cell_type": "code",
   "execution_count": 8,
   "id": "fdceb418",
   "metadata": {},
   "outputs": [],
   "source": [
    "arr_premise = datasets[\"train\"][\"premise\"] + datasets[\"validation\"][\"premise\"]\n",
    "arr_hypothesis = datasets[\"train\"][\"hypothesis\"] + datasets[\"validation\"][\"hypothesis\"]\n",
    "arr_label = datasets[\"train\"][\"label\"] + datasets[\"validation\"][\"label\"]"
   ]
  },
  {
   "cell_type": "code",
   "execution_count": 9,
   "id": "37d43c29",
   "metadata": {},
   "outputs": [],
   "source": [
    "klue_data = pd.DataFrame({\"premise\":arr_premise,\n",
    "                         \"hypothesis\":arr_hypothesis,\n",
    "                         \"label\":arr_label})"
   ]
  },
  {
   "cell_type": "code",
   "execution_count": 10,
   "id": "7dc80346",
   "metadata": {},
   "outputs": [
    {
     "data": {
      "text/html": [
       "<div>\n",
       "<style scoped>\n",
       "    .dataframe tbody tr th:only-of-type {\n",
       "        vertical-align: middle;\n",
       "    }\n",
       "\n",
       "    .dataframe tbody tr th {\n",
       "        vertical-align: top;\n",
       "    }\n",
       "\n",
       "    .dataframe thead th {\n",
       "        text-align: right;\n",
       "    }\n",
       "</style>\n",
       "<table border=\"1\" class=\"dataframe\">\n",
       "  <thead>\n",
       "    <tr style=\"text-align: right;\">\n",
       "      <th></th>\n",
       "      <th>premise</th>\n",
       "      <th>hypothesis</th>\n",
       "      <th>label</th>\n",
       "    </tr>\n",
       "  </thead>\n",
       "  <tbody>\n",
       "    <tr>\n",
       "      <th>0</th>\n",
       "      <td>힛걸 진심 최고다 그 어떤 히어로보다 멋지다</td>\n",
       "      <td>힛걸 진심 최고로 멋지다.</td>\n",
       "      <td>0</td>\n",
       "    </tr>\n",
       "    <tr>\n",
       "      <th>1</th>\n",
       "      <td>100분간 잘껄 그래도 소닉붐땜에 2점준다</td>\n",
       "      <td>100분간 잤다.</td>\n",
       "      <td>2</td>\n",
       "    </tr>\n",
       "    <tr>\n",
       "      <th>2</th>\n",
       "      <td>100분간 잘껄 그래도 소닉붐땜에 2점준다</td>\n",
       "      <td>소닉붐이 정말 멋있었다.</td>\n",
       "      <td>1</td>\n",
       "    </tr>\n",
       "    <tr>\n",
       "      <th>3</th>\n",
       "      <td>100분간 잘껄 그래도 소닉붐땜에 2점준다</td>\n",
       "      <td>100분간 자는게 더 나았을 것 같다.</td>\n",
       "      <td>1</td>\n",
       "    </tr>\n",
       "    <tr>\n",
       "      <th>4</th>\n",
       "      <td>101빌딩 근처에 나름 즐길거리가 많습니다.</td>\n",
       "      <td>101빌딩 근처에서 즐길거리 찾기는 어렵습니다.</td>\n",
       "      <td>2</td>\n",
       "    </tr>\n",
       "  </tbody>\n",
       "</table>\n",
       "</div>"
      ],
      "text/plain": [
       "                    premise                  hypothesis  label\n",
       "0  힛걸 진심 최고다 그 어떤 히어로보다 멋지다              힛걸 진심 최고로 멋지다.      0\n",
       "1   100분간 잘껄 그래도 소닉붐땜에 2점준다                   100분간 잤다.      2\n",
       "2   100분간 잘껄 그래도 소닉붐땜에 2점준다               소닉붐이 정말 멋있었다.      1\n",
       "3   100분간 잘껄 그래도 소닉붐땜에 2점준다       100분간 자는게 더 나았을 것 같다.      1\n",
       "4  101빌딩 근처에 나름 즐길거리가 많습니다.  101빌딩 근처에서 즐길거리 찾기는 어렵습니다.      2"
      ]
     },
     "execution_count": 10,
     "metadata": {},
     "output_type": "execute_result"
    }
   ],
   "source": [
    "klue_data.head()"
   ]
  },
  {
   "cell_type": "code",
   "execution_count": 20,
   "id": "64102022",
   "metadata": {},
   "outputs": [
    {
     "name": "stderr",
     "output_type": "stream",
     "text": [
      "C:\\Users\\Home\\AppData\\Local\\Temp/ipykernel_21832/1386530413.py:3: SettingWithCopyWarning: \n",
      "A value is trying to be set on a copy of a slice from a DataFrame\n",
      "\n",
      "See the caveats in the documentation: https://pandas.pydata.org/pandas-docs/stable/user_guide/indexing.html#returning-a-view-versus-a-copy\n",
      "  klue_data['label'][i] = 'entailment'\n",
      "C:\\ProgramData\\Anaconda3\\lib\\site-packages\\pandas\\core\\indexing.py:1732: SettingWithCopyWarning: \n",
      "A value is trying to be set on a copy of a slice from a DataFrame\n",
      "\n",
      "See the caveats in the documentation: https://pandas.pydata.org/pandas-docs/stable/user_guide/indexing.html#returning-a-view-versus-a-copy\n",
      "  self._setitem_single_block(indexer, value, name)\n"
     ]
    }
   ],
   "source": [
    "for i in range(len(klue_data)):\n",
    "    if klue_data['label'][i] == 0:\n",
    "        klue_data['label'][i] = 'entailment'\n",
    "    elif klue_data['label'][i] == 1:\n",
    "        klue_data['label'][i] = 'neutral'\n",
    "    elif klue_data['label'][i] == 2:\n",
    "        klue_data['label'][i] = 'contradiction'"
   ]
  },
  {
   "cell_type": "code",
   "execution_count": 22,
   "id": "f14b2453",
   "metadata": {},
   "outputs": [
    {
     "data": {
      "text/html": [
       "<div>\n",
       "<style scoped>\n",
       "    .dataframe tbody tr th:only-of-type {\n",
       "        vertical-align: middle;\n",
       "    }\n",
       "\n",
       "    .dataframe tbody tr th {\n",
       "        vertical-align: top;\n",
       "    }\n",
       "\n",
       "    .dataframe thead th {\n",
       "        text-align: right;\n",
       "    }\n",
       "</style>\n",
       "<table border=\"1\" class=\"dataframe\">\n",
       "  <thead>\n",
       "    <tr style=\"text-align: right;\">\n",
       "      <th></th>\n",
       "      <th>premise</th>\n",
       "      <th>hypothesis</th>\n",
       "      <th>label</th>\n",
       "    </tr>\n",
       "  </thead>\n",
       "  <tbody>\n",
       "    <tr>\n",
       "      <th>0</th>\n",
       "      <td>힛걸 진심 최고다 그 어떤 히어로보다 멋지다</td>\n",
       "      <td>힛걸 진심 최고로 멋지다.</td>\n",
       "      <td>entailment</td>\n",
       "    </tr>\n",
       "    <tr>\n",
       "      <th>1</th>\n",
       "      <td>100분간 잘껄 그래도 소닉붐땜에 2점준다</td>\n",
       "      <td>100분간 잤다.</td>\n",
       "      <td>contradiction</td>\n",
       "    </tr>\n",
       "    <tr>\n",
       "      <th>2</th>\n",
       "      <td>100분간 잘껄 그래도 소닉붐땜에 2점준다</td>\n",
       "      <td>소닉붐이 정말 멋있었다.</td>\n",
       "      <td>neutral</td>\n",
       "    </tr>\n",
       "    <tr>\n",
       "      <th>3</th>\n",
       "      <td>100분간 잘껄 그래도 소닉붐땜에 2점준다</td>\n",
       "      <td>100분간 자는게 더 나았을 것 같다.</td>\n",
       "      <td>neutral</td>\n",
       "    </tr>\n",
       "    <tr>\n",
       "      <th>4</th>\n",
       "      <td>101빌딩 근처에 나름 즐길거리가 많습니다.</td>\n",
       "      <td>101빌딩 근처에서 즐길거리 찾기는 어렵습니다.</td>\n",
       "      <td>contradiction</td>\n",
       "    </tr>\n",
       "  </tbody>\n",
       "</table>\n",
       "</div>"
      ],
      "text/plain": [
       "                    premise                  hypothesis          label\n",
       "0  힛걸 진심 최고다 그 어떤 히어로보다 멋지다              힛걸 진심 최고로 멋지다.     entailment\n",
       "1   100분간 잘껄 그래도 소닉붐땜에 2점준다                   100분간 잤다.  contradiction\n",
       "2   100분간 잘껄 그래도 소닉붐땜에 2점준다               소닉붐이 정말 멋있었다.        neutral\n",
       "3   100분간 잘껄 그래도 소닉붐땜에 2점준다       100분간 자는게 더 나았을 것 같다.        neutral\n",
       "4  101빌딩 근처에 나름 즐길거리가 많습니다.  101빌딩 근처에서 즐길거리 찾기는 어렵습니다.  contradiction"
      ]
     },
     "execution_count": 22,
     "metadata": {},
     "output_type": "execute_result"
    }
   ],
   "source": [
    "klue_data.head()"
   ]
  },
  {
   "cell_type": "code",
   "execution_count": 11,
   "id": "4421b7db",
   "metadata": {},
   "outputs": [
    {
     "name": "stdout",
     "output_type": "stream",
     "text": [
      "train shape => (19996, 4) \n",
      "test shape => (5000, 3)\n",
      "train_multinli => (385494, 3)\n",
      "train_snli => (550152, 3)\n",
      "klue_dataset => (27998, 3)\n"
     ]
    }
   ],
   "source": [
    "print(f\"train shape => {train.shape} \\ntest shape => {test.shape}\")\n",
    "print(f\"train_multinli => {train_multinli.shape}\")\n",
    "print(f\"train_snli => {train_snli.shape}\")\n",
    "print(f\"klue_dataset => {klue_data.shape}\")"
   ]
  },
  {
   "cell_type": "code",
   "execution_count": 12,
   "id": "b5cc375f",
   "metadata": {},
   "outputs": [],
   "source": [
    "train.drop(['index'], axis=1, inplace=True)"
   ]
  },
  {
   "cell_type": "code",
   "execution_count": 13,
   "id": "06b29d1d",
   "metadata": {},
   "outputs": [],
   "source": [
    "train_multinli.rename(columns={'sentence1':'premise', 'sentence2':'hypothesis', 'gold_label':'label'}, inplace=True)"
   ]
  },
  {
   "cell_type": "code",
   "execution_count": 14,
   "id": "501d0347",
   "metadata": {},
   "outputs": [],
   "source": [
    "train_snli.rename(columns={'sentence1':'premise', 'sentence2':'hypothesis', 'gold_label':'label'}, inplace=True)"
   ]
  },
  {
   "cell_type": "code",
   "execution_count": 15,
   "id": "ae0ca01d",
   "metadata": {},
   "outputs": [],
   "source": [
    "train_target1 = train\n",
    "train_target2 = train_multinli[:5000]\n",
    "train_target3 = train_snli[:30000]\n",
    "train_target4 = klue_data"
   ]
  },
  {
   "cell_type": "code",
   "execution_count": 23,
   "id": "1b21a885",
   "metadata": {},
   "outputs": [],
   "source": [
    "train_all = pd.concat([train_target1, train_target4], ignore_index=True)"
   ]
  },
  {
   "cell_type": "code",
   "execution_count": 24,
   "id": "91fa2f8d",
   "metadata": {},
   "outputs": [
    {
     "data": {
      "text/html": [
       "<div>\n",
       "<style scoped>\n",
       "    .dataframe tbody tr th:only-of-type {\n",
       "        vertical-align: middle;\n",
       "    }\n",
       "\n",
       "    .dataframe tbody tr th {\n",
       "        vertical-align: top;\n",
       "    }\n",
       "\n",
       "    .dataframe thead th {\n",
       "        text-align: right;\n",
       "    }\n",
       "</style>\n",
       "<table border=\"1\" class=\"dataframe\">\n",
       "  <thead>\n",
       "    <tr style=\"text-align: right;\">\n",
       "      <th></th>\n",
       "      <th>premise</th>\n",
       "      <th>hypothesis</th>\n",
       "      <th>label</th>\n",
       "    </tr>\n",
       "  </thead>\n",
       "  <tbody>\n",
       "    <tr>\n",
       "      <th>0</th>\n",
       "      <td>삼성은 자작극을 벌인 2명에게 형사 고소 등의 법적 대응을 검토 중이라고 하였으나,...</td>\n",
       "      <td>자작극을 벌인 이는 3명이다.</td>\n",
       "      <td>contradiction</td>\n",
       "    </tr>\n",
       "    <tr>\n",
       "      <th>1</th>\n",
       "      <td>이를 위해 예측적 범죄예방 시스템을 구축하고 고도화한다.</td>\n",
       "      <td>예측적 범죄예방 시스템 구축하고 고도화하는 것은 목적이 있기 때문이다.</td>\n",
       "      <td>entailment</td>\n",
       "    </tr>\n",
       "    <tr>\n",
       "      <th>2</th>\n",
       "      <td>광주광역시가 재개발 정비사업 원주민들에 대한 종합대책을 마련하는 등 원주민 보호에 ...</td>\n",
       "      <td>원주민들은 종합대책에 만족했다.</td>\n",
       "      <td>neutral</td>\n",
       "    </tr>\n",
       "    <tr>\n",
       "      <th>3</th>\n",
       "      <td>진정 소비자와 직원들에게 사랑 받는 기업으로 오래 지속되고 싶으면, 이런 상황에서는...</td>\n",
       "      <td>이런 상황에서 책임 있는 모습을 보여주는 기업은 아주 드물다.</td>\n",
       "      <td>neutral</td>\n",
       "    </tr>\n",
       "    <tr>\n",
       "      <th>4</th>\n",
       "      <td>이번 증설로 코오롱인더스트리는 기존 생산량 7만7000톤에서 1만6800톤이 늘어나...</td>\n",
       "      <td>코오롱 인더스트리는 총 9만 3800톤의 생산 능력을 확보했다.</td>\n",
       "      <td>entailment</td>\n",
       "    </tr>\n",
       "  </tbody>\n",
       "</table>\n",
       "</div>"
      ],
      "text/plain": [
       "                                             premise  \\\n",
       "0  삼성은 자작극을 벌인 2명에게 형사 고소 등의 법적 대응을 검토 중이라고 하였으나,...   \n",
       "1                    이를 위해 예측적 범죄예방 시스템을 구축하고 고도화한다.   \n",
       "2  광주광역시가 재개발 정비사업 원주민들에 대한 종합대책을 마련하는 등 원주민 보호에 ...   \n",
       "3  진정 소비자와 직원들에게 사랑 받는 기업으로 오래 지속되고 싶으면, 이런 상황에서는...   \n",
       "4  이번 증설로 코오롱인더스트리는 기존 생산량 7만7000톤에서 1만6800톤이 늘어나...   \n",
       "\n",
       "                                hypothesis          label  \n",
       "0                         자작극을 벌인 이는 3명이다.  contradiction  \n",
       "1  예측적 범죄예방 시스템 구축하고 고도화하는 것은 목적이 있기 때문이다.     entailment  \n",
       "2                        원주민들은 종합대책에 만족했다.        neutral  \n",
       "3       이런 상황에서 책임 있는 모습을 보여주는 기업은 아주 드물다.        neutral  \n",
       "4      코오롱 인더스트리는 총 9만 3800톤의 생산 능력을 확보했다.     entailment  "
      ]
     },
     "execution_count": 24,
     "metadata": {},
     "output_type": "execute_result"
    }
   ],
   "source": [
    "train_all.head()"
   ]
  },
  {
   "cell_type": "code",
   "execution_count": 25,
   "id": "87c22798",
   "metadata": {},
   "outputs": [
    {
     "data": {
      "text/html": [
       "<div>\n",
       "<style scoped>\n",
       "    .dataframe tbody tr th:only-of-type {\n",
       "        vertical-align: middle;\n",
       "    }\n",
       "\n",
       "    .dataframe tbody tr th {\n",
       "        vertical-align: top;\n",
       "    }\n",
       "\n",
       "    .dataframe thead th {\n",
       "        text-align: right;\n",
       "    }\n",
       "</style>\n",
       "<table border=\"1\" class=\"dataframe\">\n",
       "  <thead>\n",
       "    <tr style=\"text-align: right;\">\n",
       "      <th></th>\n",
       "      <th>premise</th>\n",
       "      <th>hypothesis</th>\n",
       "      <th>label</th>\n",
       "    </tr>\n",
       "  </thead>\n",
       "  <tbody>\n",
       "    <tr>\n",
       "      <th>47989</th>\n",
       "      <td>흔히 비자림로라고 불리는 지방도 제1112호선을 넓히는 공사가 1년만에 재개되었다가...</td>\n",
       "      <td>지방도 제1112호선을 넓히는 공사는 중단없이 마무리 되었다.</td>\n",
       "      <td>contradiction</td>\n",
       "    </tr>\n",
       "    <tr>\n",
       "      <th>47990</th>\n",
       "      <td>흔히 비자림로라고 불리는 지방도 제1112호선을 넓히는 공사가 1년만에 재개되었다가...</td>\n",
       "      <td>지방도 제1112호선을 넓히는 공사가 중단된 건 세 번째이다.</td>\n",
       "      <td>neutral</td>\n",
       "    </tr>\n",
       "    <tr>\n",
       "      <th>47991</th>\n",
       "      <td>흔히 비자림로라고 불리는 지방도 제1112호선을 넓히는 공사가 1년만에 재개되었다가...</td>\n",
       "      <td>지방도 제1112호선은 흔히 비자림로라고 불린다.</td>\n",
       "      <td>entailment</td>\n",
       "    </tr>\n",
       "    <tr>\n",
       "      <th>47992</th>\n",
       "      <td>흡연자분들은 발코니가 있는 방이면 발코니에서 흡연이 가능합니다.</td>\n",
       "      <td>비흡연자는 발코니 있는 방이 필요없습니다.</td>\n",
       "      <td>neutral</td>\n",
       "    </tr>\n",
       "    <tr>\n",
       "      <th>47993</th>\n",
       "      <td>흡연자분들은 발코니가 있는 방이면 발코니에서 흡연이 가능합니다.</td>\n",
       "      <td>흡연하려면 발코니 있는 방을 선택하면 됩니다.</td>\n",
       "      <td>entailment</td>\n",
       "    </tr>\n",
       "  </tbody>\n",
       "</table>\n",
       "</div>"
      ],
      "text/plain": [
       "                                                 premise  \\\n",
       "47989  흔히 비자림로라고 불리는 지방도 제1112호선을 넓히는 공사가 1년만에 재개되었다가...   \n",
       "47990  흔히 비자림로라고 불리는 지방도 제1112호선을 넓히는 공사가 1년만에 재개되었다가...   \n",
       "47991  흔히 비자림로라고 불리는 지방도 제1112호선을 넓히는 공사가 1년만에 재개되었다가...   \n",
       "47992                흡연자분들은 발코니가 있는 방이면 발코니에서 흡연이 가능합니다.   \n",
       "47993                흡연자분들은 발코니가 있는 방이면 발코니에서 흡연이 가능합니다.   \n",
       "\n",
       "                               hypothesis          label  \n",
       "47989  지방도 제1112호선을 넓히는 공사는 중단없이 마무리 되었다.  contradiction  \n",
       "47990  지방도 제1112호선을 넓히는 공사가 중단된 건 세 번째이다.        neutral  \n",
       "47991         지방도 제1112호선은 흔히 비자림로라고 불린다.     entailment  \n",
       "47992             비흡연자는 발코니 있는 방이 필요없습니다.        neutral  \n",
       "47993           흡연하려면 발코니 있는 방을 선택하면 됩니다.     entailment  "
      ]
     },
     "execution_count": 25,
     "metadata": {},
     "output_type": "execute_result"
    }
   ],
   "source": [
    "train_all.tail()"
   ]
  },
  {
   "cell_type": "markdown",
   "id": "ef7a1305",
   "metadata": {},
   "source": [
    "## 2. EDA"
   ]
  },
  {
   "cell_type": "markdown",
   "id": "7feb376c",
   "metadata": {},
   "source": [
    "### 2.1. LabelEncoder을 통해 str형태의 label을 숫자로 변환"
   ]
  },
  {
   "cell_type": "code",
   "execution_count": 26,
   "id": "57954a32",
   "metadata": {},
   "outputs": [],
   "source": [
    "categorical_cols = ['label']\n",
    "for e in categorical_cols:\n",
    "    le = LabelEncoder()\n",
    "    train_all[e] = le.fit_transform(train_all[e])"
   ]
  },
  {
   "cell_type": "code",
   "execution_count": 27,
   "id": "98a525d8",
   "metadata": {},
   "outputs": [
    {
     "data": {
      "text/html": [
       "<div>\n",
       "<style scoped>\n",
       "    .dataframe tbody tr th:only-of-type {\n",
       "        vertical-align: middle;\n",
       "    }\n",
       "\n",
       "    .dataframe tbody tr th {\n",
       "        vertical-align: top;\n",
       "    }\n",
       "\n",
       "    .dataframe thead th {\n",
       "        text-align: right;\n",
       "    }\n",
       "</style>\n",
       "<table border=\"1\" class=\"dataframe\">\n",
       "  <thead>\n",
       "    <tr style=\"text-align: right;\">\n",
       "      <th></th>\n",
       "      <th>premise</th>\n",
       "      <th>hypothesis</th>\n",
       "      <th>label</th>\n",
       "    </tr>\n",
       "  </thead>\n",
       "  <tbody>\n",
       "    <tr>\n",
       "      <th>0</th>\n",
       "      <td>삼성은 자작극을 벌인 2명에게 형사 고소 등의 법적 대응을 검토 중이라고 하였으나,...</td>\n",
       "      <td>자작극을 벌인 이는 3명이다.</td>\n",
       "      <td>0</td>\n",
       "    </tr>\n",
       "    <tr>\n",
       "      <th>1</th>\n",
       "      <td>이를 위해 예측적 범죄예방 시스템을 구축하고 고도화한다.</td>\n",
       "      <td>예측적 범죄예방 시스템 구축하고 고도화하는 것은 목적이 있기 때문이다.</td>\n",
       "      <td>1</td>\n",
       "    </tr>\n",
       "    <tr>\n",
       "      <th>2</th>\n",
       "      <td>광주광역시가 재개발 정비사업 원주민들에 대한 종합대책을 마련하는 등 원주민 보호에 ...</td>\n",
       "      <td>원주민들은 종합대책에 만족했다.</td>\n",
       "      <td>2</td>\n",
       "    </tr>\n",
       "    <tr>\n",
       "      <th>3</th>\n",
       "      <td>진정 소비자와 직원들에게 사랑 받는 기업으로 오래 지속되고 싶으면, 이런 상황에서는...</td>\n",
       "      <td>이런 상황에서 책임 있는 모습을 보여주는 기업은 아주 드물다.</td>\n",
       "      <td>2</td>\n",
       "    </tr>\n",
       "    <tr>\n",
       "      <th>4</th>\n",
       "      <td>이번 증설로 코오롱인더스트리는 기존 생산량 7만7000톤에서 1만6800톤이 늘어나...</td>\n",
       "      <td>코오롱 인더스트리는 총 9만 3800톤의 생산 능력을 확보했다.</td>\n",
       "      <td>1</td>\n",
       "    </tr>\n",
       "  </tbody>\n",
       "</table>\n",
       "</div>"
      ],
      "text/plain": [
       "                                             premise  \\\n",
       "0  삼성은 자작극을 벌인 2명에게 형사 고소 등의 법적 대응을 검토 중이라고 하였으나,...   \n",
       "1                    이를 위해 예측적 범죄예방 시스템을 구축하고 고도화한다.   \n",
       "2  광주광역시가 재개발 정비사업 원주민들에 대한 종합대책을 마련하는 등 원주민 보호에 ...   \n",
       "3  진정 소비자와 직원들에게 사랑 받는 기업으로 오래 지속되고 싶으면, 이런 상황에서는...   \n",
       "4  이번 증설로 코오롱인더스트리는 기존 생산량 7만7000톤에서 1만6800톤이 늘어나...   \n",
       "\n",
       "                                hypothesis  label  \n",
       "0                         자작극을 벌인 이는 3명이다.      0  \n",
       "1  예측적 범죄예방 시스템 구축하고 고도화하는 것은 목적이 있기 때문이다.      1  \n",
       "2                        원주민들은 종합대책에 만족했다.      2  \n",
       "3       이런 상황에서 책임 있는 모습을 보여주는 기업은 아주 드물다.      2  \n",
       "4      코오롱 인더스트리는 총 9만 3800톤의 생산 능력을 확보했다.      1  "
      ]
     },
     "execution_count": 27,
     "metadata": {},
     "output_type": "execute_result"
    }
   ],
   "source": [
    "train_all.head()"
   ]
  },
  {
   "cell_type": "markdown",
   "id": "c3eac0fe",
   "metadata": {},
   "source": [
    "### 훈련 데이터의 결측치 확인"
   ]
  },
  {
   "cell_type": "code",
   "execution_count": 28,
   "id": "9246553b",
   "metadata": {
    "scrolled": true
   },
   "outputs": [
    {
     "data": {
      "text/plain": [
       "premise       0\n",
       "hypothesis    0\n",
       "label         0\n",
       "dtype: int64"
      ]
     },
     "execution_count": 28,
     "metadata": {},
     "output_type": "execute_result"
    }
   ],
   "source": [
    "train.isnull().sum()"
   ]
  },
  {
   "cell_type": "markdown",
   "id": "ff59d416",
   "metadata": {},
   "source": [
    "### 클래스의 불균형이 있는지 시각화하여 확인"
   ]
  },
  {
   "cell_type": "code",
   "execution_count": 29,
   "id": "4d386fc3",
   "metadata": {},
   "outputs": [
    {
     "data": {
      "image/png": "[encoded data removed]",
      "text/plain": [
       "<Figure size 432x288 with 1 Axes>"
      ]
     },
     "metadata": {},
     "output_type": "display_data"
    }
   ],
   "source": [
    "sns.set_theme(style=\"darkgrid\")\n",
    "ax = sns.countplot(x=\"label\", data=train)"
   ]
  },
  {
   "cell_type": "code",
   "execution_count": 30,
   "id": "50565f39",
   "metadata": {},
   "outputs": [
    {
     "data": {
      "image/png": "[encoded data removed]",
      "text/plain": [
       "<Figure size 360x360 with 1 Axes>"
      ]
     },
     "metadata": {},
     "output_type": "display_data"
    }
   ],
   "source": [
    "labels, frequencies = np.unique(train.label.values, return_counts=True)\n",
    "plt.figure(figsize=(5,5))\n",
    "plt.pie(frequencies, labels = labels, autopct= '%1.1f%%')\n",
    "plt.show()"
   ]
  },
  {
   "cell_type": "markdown",
   "id": "7e7a3ccc",
   "metadata": {},
   "source": [
    "## 3. Modeling"
   ]
  },
  {
   "cell_type": "markdown",
   "id": "c37287d5",
   "metadata": {},
   "source": [
    "최종 목표인 Stacking Ensemble을 적용하기 위해서 개별 모델 3가지를 구현했습니다.  \n",
    "각각 사전학습된 ELECTRA, BERT, ALBERT 모델에 대해 fine-tune을 적용했습니다.  \n",
    "이전 electra 개별 모델 구현 파일에서 토크나이징 후 조정할 패딩의 길이를 100으로 정했습니다.  \n",
    "따라서, 각각의 모델들의 input_layer의 shape을 (100,)으로 지정했습니다.  "
   ]
  },
  {
   "cell_type": "markdown",
   "id": "8d9117d9",
   "metadata": {},
   "source": [
    "### 3.1 개별 모델 구현 함수"
   ]
  },
  {
   "cell_type": "code",
   "execution_count": 31,
   "id": "45c01b01",
   "metadata": {},
   "outputs": [],
   "source": [
    "def model_KoELECTRA():\n",
    "    with strategy.scope():\n",
    "        encoder = TFElectraModel.from_pretrained(\"monologg/koelectra-base-v3-discriminator\", from_pt=True)\n",
    "\n",
    "        input_layer = Input(shape=(100,), dtype=tf.int32, name=\"input_layer\")\n",
    "        sequence_output = encoder(input_layer)[0]\n",
    "\n",
    "        cls_token = sequence_output[:, 0, :]\n",
    "\n",
    "        output_layer = Dense(3, activation='softmax')(cls_token)\n",
    "\n",
    "        model = Model(inputs=input_layer, outputs=output_layer)\n",
    "        model.compile(Adam(lr=1e-5), loss='sparse_categorical_crossentropy', metrics=['accuracy'])\n",
    "    \n",
    "    return model\n",
    "\n",
    "def model_BERT():\n",
    "    with strategy.scope():\n",
    "        encoder = TFBertModel.from_pretrained(\"kykim/bert-kor-base\")\n",
    "\n",
    "        input_layer = Input(shape=(100,), dtype=tf.int32, name=\"input_layer\")\n",
    "        sequence_output = encoder(input_layer)[0]\n",
    "\n",
    "        cls_token = sequence_output[:, 0, :]\n",
    "\n",
    "        output_layer = Dense(3, activation='softmax')(cls_token)\n",
    "\n",
    "        model = Model(inputs=input_layer, outputs=output_layer)\n",
    "        model.compile(Adam(lr=1e-5), loss='sparse_categorical_crossentropy', metrics=['accuracy'])\n",
    "    \n",
    "    return model\n",
    "\n",
    "def model_ALBERT():\n",
    "    with strategy.scope():\n",
    "        encoder = TFAlbertModel.from_pretrained(\"kykim/albert-kor-base\")\n",
    "\n",
    "        input_layer = Input(shape=(100,), dtype=tf.int32, name=\"input_layer\")\n",
    "        sequence_output = encoder(input_layer)[0]\n",
    "\n",
    "        cls_token = sequence_output[:, 0, :]\n",
    "\n",
    "        output_layer = Dense(3, activation='softmax')(cls_token)\n",
    "\n",
    "        model = Model(inputs=input_layer, outputs=output_layer)\n",
    "        model.compile(Adam(lr=1e-5), loss='sparse_categorical_crossentropy', metrics=['accuracy'])\n",
    "    \n",
    "    return model"
   ]
  },
  {
   "cell_type": "markdown",
   "id": "f936aca6",
   "metadata": {},
   "source": [
    "### 3.2 구현한 모델, 토크나이저 선언"
   ]
  },
  {
   "cell_type": "code",
   "execution_count": 32,
   "id": "d7bea482",
   "metadata": {},
   "outputs": [
    {
     "name": "stderr",
     "output_type": "stream",
     "text": [
      "All model checkpoint layers were used when initializing TFBertModel.\n",
      "\n",
      "All the layers of TFBertModel were initialized from the model checkpoint at kykim/bert-kor-base.\n",
      "If your task is similar to the task the model of the checkpoint was trained on, you can already use TFBertModel for predictions without further training.\n"
     ]
    },
    {
     "name": "stdout",
     "output_type": "stream",
     "text": [
      "WARNING:tensorflow:The parameters `output_attentions`, `output_hidden_states` and `use_cache` cannot be updated when calling a model.They have to be set to True/False in the config object (i.e.: `config=XConfig.from_pretrained('name', output_attentions=True)`).\n",
      "WARNING:tensorflow:AutoGraph could not transform <bound method Socket.send of <zmq.Socket(zmq.PUSH) at 0x221b7bd7dc0>> and will run it as-is.\n",
      "Please report this to the TensorFlow team. When filing the bug, set the verbosity to 10 (on Linux, `export AUTOGRAPH_VERBOSITY=10`) and attach the full output.\n",
      "Cause: module, class, method, function, traceback, frame, or code object was expected, got cython_function_or_method\n",
      "To silence this warning, decorate the function with @tf.autograph.experimental.do_not_convert\n",
      "WARNING: AutoGraph could not transform <bound method Socket.send of <zmq.Socket(zmq.PUSH) at 0x221b7bd7dc0>> and will run it as-is.\n",
      "Please report this to the TensorFlow team. When filing the bug, set the verbosity to 10 (on Linux, `export AUTOGRAPH_VERBOSITY=10`) and attach the full output.\n",
      "Cause: module, class, method, function, traceback, frame, or code object was expected, got cython_function_or_method\n",
      "To silence this warning, decorate the function with @tf.autograph.experimental.do_not_convert\n",
      "WARNING:tensorflow:The parameter `return_dict` cannot be set in graph mode and will always be set to `True`.\n",
      "WARNING:tensorflow:From C:\\Users\\Home\\AppData\\Roaming\\Python\\Python38\\site-packages\\tensorflow\\python\\ops\\array_ops.py:5043: calling gather (from tensorflow.python.ops.array_ops) with validate_indices is deprecated and will be removed in a future version.\n",
      "Instructions for updating:\n",
      "The `validate_indices` argument has no effect. Indices are always validated on CPU and never validated on GPU.\n"
     ]
    },
    {
     "name": "stderr",
     "output_type": "stream",
     "text": [
      "C:\\Users\\Home\\AppData\\Roaming\\Python\\Python38\\site-packages\\tensorflow\\python\\keras\\optimizer_v2\\optimizer_v2.py:374: UserWarning: The `lr` argument is deprecated, use `learning_rate` instead.\n",
      "  warnings.warn(\n",
      "All model checkpoint layers were used when initializing TFAlbertModel.\n",
      "\n",
      "All the layers of TFAlbertModel were initialized from the model checkpoint at kykim/albert-kor-base.\n",
      "If your task is similar to the task the model of the checkpoint was trained on, you can already use TFAlbertModel for predictions without further training.\n"
     ]
    },
    {
     "name": "stdout",
     "output_type": "stream",
     "text": [
      "WARNING:tensorflow:The parameters `output_attentions`, `output_hidden_states` and `use_cache` cannot be updated when calling a model.They have to be set to True/False in the config object (i.e.: `config=XConfig.from_pretrained('name', output_attentions=True)`).\n",
      "WARNING:tensorflow:The parameter `return_dict` cannot be set in graph mode and will always be set to `True`.\n"
     ]
    },
    {
     "name": "stderr",
     "output_type": "stream",
     "text": [
      "Some weights of the PyTorch model were not used when initializing the TF 2.0 model TFElectraModel: ['discriminator_predictions.dense.weight', 'discriminator_predictions.dense.bias', 'discriminator_predictions.dense_prediction.bias', 'discriminator_predictions.dense_prediction.weight', 'electra.embeddings.position_ids']\n",
      "- This IS expected if you are initializing TFElectraModel from a PyTorch model trained on another task or with another architecture (e.g. initializing a TFBertForSequenceClassification model from a BertForPreTraining model).\n",
      "- This IS NOT expected if you are initializing TFElectraModel from a PyTorch model that you expect to be exactly identical (e.g. initializing a TFBertForSequenceClassification model from a BertForSequenceClassification model).\n",
      "All the weights of TFElectraModel were initialized from the PyTorch model.\n",
      "If your task is similar to the task the model of the checkpoint was trained on, you can already use TFElectraModel for predictions without further training.\n"
     ]
    },
    {
     "name": "stdout",
     "output_type": "stream",
     "text": [
      "WARNING:tensorflow:The parameters `output_attentions`, `output_hidden_states` and `use_cache` cannot be updated when calling a model.They have to be set to True/False in the config object (i.e.: `config=XConfig.from_pretrained('name', output_attentions=True)`).\n",
      "WARNING:tensorflow:The parameter `return_dict` cannot be set in graph mode and will always be set to `True`.\n"
     ]
    }
   ],
   "source": [
    "model_bert = model_BERT()\n",
    "model_albert = model_ALBERT()\n",
    "model_electra = model_KoELECTRA()"
   ]
  },
  {
   "cell_type": "code",
   "execution_count": 33,
   "id": "d50e44dc",
   "metadata": {},
   "outputs": [],
   "source": [
    "tokenizer_bert = BertTokenizerFast.from_pretrained(\"kykim/bert-kor-base\")\n",
    "tokenizer_albert = BertTokenizerFast.from_pretrained(\"kykim/albert-kor-base\")\n",
    "tokenizer_electra = ElectraTokenizer.from_pretrained(\"monologg/koelectra-base-v3-discriminator\")"
   ]
  },
  {
   "cell_type": "markdown",
   "id": "0d10fe4c",
   "metadata": {},
   "source": [
    "### 3.3 훈련 데이터 전처리"
   ]
  },
  {
   "cell_type": "markdown",
   "id": "8932f154",
   "metadata": {},
   "source": [
    "훈련데이터에 대해 각 문장에 대한 인코딩을 수행하고 패딩을 맞춰주는 전처리 작업을 진행합니다.  \n",
    "훈련데이터를 7:3 비율로 훈련데이터와 검증데이터를 나눕니다.  \n",
    "검증데이터는 각 개별 모델로 예측을 진행하고, 클래스에 대한 예측 확률 값들과 예측 클래스 값들을 통해 앙상블 데이터로 사용하게 됩니다.  \n",
    "따라서, 최종 제출할 대상이 되는 테스트 데이터에 대해서도 예측을 하고 예측 확률 값들과 클래스를 저장하는 같은 과정을 거치게 됩니다.  "
   ]
  },
  {
   "cell_type": "code",
   "execution_count": 34,
   "id": "6aa84328",
   "metadata": {},
   "outputs": [],
   "source": [
    "train_data = train[['premise', 'hypothesis']].values.tolist()\n",
    "test_data = test[['premise', 'hypothesis']].values.tolist()"
   ]
  },
  {
   "cell_type": "markdown",
   "id": "e8c9f17d",
   "metadata": {},
   "source": [
    "#### 3.3.1 ELECTRA 모델링"
   ]
  },
  {
   "cell_type": "code",
   "execution_count": 35,
   "id": "741cf57b",
   "metadata": {},
   "outputs": [],
   "source": [
    "train_encoded_electra = tokenizer_electra.batch_encode_plus(train_data, padding='max_length', max_length=100)\n",
    "test_encoded_electra = tokenizer_electra.batch_encode_plus(test_data, padding='max_length', max_length=100)"
   ]
  },
  {
   "cell_type": "code",
   "execution_count": null,
   "id": "4adbc3dc",
   "metadata": {},
   "outputs": [],
   "source": [
    "x_train, x_valid, y_train, y_valid = train_test_split(train_encoded_electra['input_ids'], train.label.values, test_size=0.3, shuffle=False)\n",
    "x_test = test_encoded_electra['input_ids']"
   ]
  },
  {
   "cell_type": "code",
   "execution_count": null,
   "id": "6ef97fa3",
   "metadata": {},
   "outputs": [],
   "source": [
    "x_train, x_valid, y_train, y_valid = train_test_split(train_encoded_electra['input_ids'], train.label.values, test_size=0.3, shuffle=False)\n",
    "x_test = test_encoded_electra['input_ids']"
   ]
  },
  {
   "cell_type": "code",
   "execution_count": null,
   "id": "5cb71ea5",
   "metadata": {},
   "outputs": [],
   "source": [
    "# x_train, y_train = train_encoded_electra['input_ids'], train.label.values\n",
    "# x_test = test_encoded_electra['input_ids']"
   ]
  },
  {
   "cell_type": "code",
   "execution_count": null,
   "id": "6919c4c1",
   "metadata": {},
   "outputs": [],
   "source": [
    "train_dataset = (tf.data.Dataset.from_tensor_slices((x_train, y_train)).repeat().shuffle(2048).batch(20 * strategy.num_replicas_in_sync).prefetch(tf.data.experimental.AUTOTUNE))\n",
    "valid_dataset = (tf.data.Dataset.from_tensor_slices((x_valid, y_valid)).batch(20 * strategy.num_replicas_in_sync).cache().prefetch(tf.data.experimental.AUTOTUNE))\n",
    "test_dataset = (tf.data.Dataset.from_tensor_slices(x_test).batch(20 * strategy.num_replicas_in_sync))"
   ]
  },
  {
   "cell_type": "code",
   "execution_count": null,
   "id": "ed15eac2",
   "metadata": {},
   "outputs": [],
   "source": [
    "history_electra = model_electra.fit(train_dataset,steps_per_epoch=len(train) // 20 * strategy.num_replicas_in_sync,\n",
    "                                     validation_data=valid_dataset,epochs= 3)"
   ]
  },
  {
   "cell_type": "code",
   "execution_count": null,
   "id": "e68900dd",
   "metadata": {},
   "outputs": [],
   "source": [
    "# history_electra = model_electra.fit(train_dataset,steps_per_epoch=len(train) // 20 * strategy.num_replicas_in_sync,\n",
    "#                                     epochs= 3)"
   ]
  },
  {
   "cell_type": "code",
   "execution_count": null,
   "id": "3820331b",
   "metadata": {},
   "outputs": [],
   "source": [
    "electra_pred = model_electra.predict(x_valid, verbose=1)\n",
    "electra_pred_class = np.argmax(electra_pred, axis=1)"
   ]
  },
  {
   "cell_type": "code",
   "execution_count": null,
   "id": "533c99ab",
   "metadata": {},
   "outputs": [],
   "source": [
    "test_pred_electra = model_electra.predict(test_dataset, verbose=1)\n",
    "test_pred_electra_class = np.argmax(test_pred_electra, axis=1)"
   ]
  },
  {
   "cell_type": "markdown",
   "id": "577282f9",
   "metadata": {},
   "source": [
    "#### 3.3.2 BERT, ALBERT 모델링"
   ]
  },
  {
   "cell_type": "code",
   "execution_count": null,
   "id": "95c4b309",
   "metadata": {},
   "outputs": [],
   "source": [
    "train_encoded_bert = tokenizer_bert.batch_encode_plus(train_data, padding='max_length', max_length=100)\n",
    "test_encoded_bert = tokenizer_bert.batch_encode_plus(test_data, padding='max_length', max_length=100)"
   ]
  },
  {
   "cell_type": "code",
   "execution_count": null,
   "id": "4fd285c8",
   "metadata": {},
   "outputs": [],
   "source": [
    "x_train, x_valid, y_train, y_valid = train_test_split(train_encoded_bert['input_ids'], train.label.values, test_size=0.3, shuffle=False)\n",
    "x_test = test_encoded_bert['input_ids']"
   ]
  },
  {
   "cell_type": "code",
   "execution_count": null,
   "id": "7e25bf22",
   "metadata": {},
   "outputs": [],
   "source": [
    "# x_train, y_train = train_encoded_bert['input_ids'], train.label.values\n",
    "# x_test = test_encoded_bert['input_ids']"
   ]
  },
  {
   "cell_type": "code",
   "execution_count": null,
   "id": "177c8e77",
   "metadata": {},
   "outputs": [],
   "source": [
    "train_dataset = (tf.data.Dataset.from_tensor_slices((x_train, y_train)).repeat().shuffle(2048).batch(20 * strategy.num_replicas_in_sync).prefetch(tf.data.experimental.AUTOTUNE))\n",
    "valid_dataset = (tf.data.Dataset.from_tensor_slices((x_valid, y_valid)).batch(20 * strategy.num_replicas_in_sync).cache().prefetch(tf.data.experimental.AUTOTUNE))\n",
    "test_dataset = (tf.data.Dataset.from_tensor_slices(x_test).batch(20 * strategy.num_replicas_in_sync))"
   ]
  },
  {
   "cell_type": "code",
   "execution_count": null,
   "id": "408a2b86",
   "metadata": {},
   "outputs": [],
   "source": [
    "history_bert = model_bert.fit(train_dataset,steps_per_epoch=len(train) // 20 * strategy.num_replicas_in_sync,\n",
    "                              validation_data=valid_dataset, epochs= 3)\n",
    "\n",
    "history_albert = model_albert.fit(train_dataset,steps_per_epoch=len(train) // 20 * strategy.num_replicas_in_sync,\n",
    "                                  validation_data=valid_dataset, epochs= 3)"
   ]
  },
  {
   "cell_type": "code",
   "execution_count": null,
   "id": "621b3da0",
   "metadata": {},
   "outputs": [],
   "source": [
    "bert_pred = model_bert.predict(x_valid, verbose=1)\n",
    "albert_pred = model_albert.predict(x_valid)"
   ]
  },
  {
   "cell_type": "code",
   "execution_count": null,
   "id": "0a079c4d",
   "metadata": {},
   "outputs": [],
   "source": [
    "bert_pred_class = np.argmax(bert_pred, axis=1)\n",
    "albert_pred_class = np.argmax(albert_pred, axis=1)"
   ]
  },
  {
   "cell_type": "code",
   "execution_count": null,
   "id": "b90fc004",
   "metadata": {},
   "outputs": [],
   "source": [
    "test_pred_bert = model_bert.predict(test_dataset, verbose=1)\n",
    "test_pred_albert = model_albert.predict(test_dataset, verbose=1)\n",
    "\n",
    "test_pred_bert_class = np.argmax(test_pred_bert, axis=1)\n",
    "test_pred_albert_class = np.argmax(test_pred_albert, axis=1)"
   ]
  },
  {
   "cell_type": "code",
   "execution_count": null,
   "id": "c589f670",
   "metadata": {},
   "outputs": [],
   "source": [
    "# print('bert 정확도: {0:.4f}'.format(accuracy_score(y_valid, bert_pred_class)))\n",
    "# print('albert 정확도: {0:.4f}'.format(accuracy_score(y_valid, albert_pred_class)))"
   ]
  },
  {
   "cell_type": "markdown",
   "id": "c908aeb1",
   "metadata": {},
   "source": [
    "## 4. Stacking Ensemble learning"
   ]
  },
  {
   "cell_type": "markdown",
   "id": "213614f0",
   "metadata": {},
   "source": [
    "이전에 구했었던 검증 데이터에 대해 개별 모델로 예측한 메타데이터를 생성하여 스태킹 앙상블에 대한 훈련 데이터를 만들었습니다.  \n",
    "또한, 최종 예측할 테스트 데이터에 대한 개별 모델 예측 메타데이터도 생성했습니다.  \n",
    "만들어진 메타 데이터 학습을 하며 Stacking 앙상블을, 최종 판별 모델을 XGBoost를 사용하며 Boosting 앙상블을 적용했습니다.  \n",
    "이렇게 만들어진 XGBoost 모델을 통해 테스트 메타 데이터에 똑같이 적용함으로써 최종 예측을 진행했습니다.  "
   ]
  },
  {
   "cell_type": "markdown",
   "id": "ce0ff920",
   "metadata": {},
   "source": [
    "### 4.1 메타 데이터 생성"
   ]
  },
  {
   "cell_type": "code",
   "execution_count": null,
   "id": "02268c03",
   "metadata": {},
   "outputs": [],
   "source": [
    "meta_data = np.array([\n",
    "    np.transpose(electra_pred)[0], np.transpose(electra_pred)[1], np.transpose(electra_pred)[2], electra_pred_class,\n",
    "    np.transpose(bert_pred)[0], np.transpose(bert_pred)[1], np.transpose(bert_pred)[2], bert_pred_class,\n",
    "    np.transpose(albert_pred)[0], np.transpose(albert_pred)[1], np.transpose(albert_pred)[2], albert_pred_class\n",
    "])\n",
    "print(meta_data.shape)"
   ]
  },
  {
   "cell_type": "code",
   "execution_count": null,
   "id": "3c5e7296",
   "metadata": {},
   "outputs": [],
   "source": [
    "meta_data = np.transpose(meta_data)\n",
    "print(meta_data.shape)"
   ]
  },
  {
   "cell_type": "markdown",
   "id": "06e659a5",
   "metadata": {},
   "source": [
    "### 4.2 XGBoost Modeling"
   ]
  },
  {
   "cell_type": "code",
   "execution_count": null,
   "id": "b7af7025",
   "metadata": {},
   "outputs": [],
   "source": [
    "from xgboost import XGBClassifier\n",
    "\n",
    "xgb_final = XGBClassifier(silent=False,\n",
    "                          n_estimators = 10000,\n",
    "                          booster='gbtree',\n",
    "                          tree_method='gpu_hist',\n",
    "                          preidctor= 'gpu_predictor',\n",
    "                          learning_rate=0.02,\n",
    "                          objective='multi:softmax',\n",
    "                          max_depth = 8,\n",
    "                          subsample = 0.8,\n",
    "                          random_state=42)"
   ]
  },
  {
   "cell_type": "code",
   "execution_count": null,
   "id": "d0884cdb",
   "metadata": {},
   "outputs": [],
   "source": [
    "final_model = xgb_final.fit(meta_data, y_valid)"
   ]
  },
  {
   "cell_type": "code",
   "execution_count": null,
   "id": "4a1176cd",
   "metadata": {},
   "outputs": [],
   "source": [
    "final = final_model.predict(meta_data)"
   ]
  },
  {
   "cell_type": "code",
   "execution_count": null,
   "id": "2da2a1b2",
   "metadata": {},
   "outputs": [],
   "source": [
    "print('최종 메타 모델의 예측 정확도: {0:.4f}'.format(accuracy_score(y_valid , final)))"
   ]
  },
  {
   "cell_type": "code",
   "execution_count": null,
   "id": "18987edb",
   "metadata": {},
   "outputs": [],
   "source": [
    "final"
   ]
  },
  {
   "cell_type": "code",
   "execution_count": null,
   "id": "db2447ba",
   "metadata": {},
   "outputs": [],
   "source": [
    "len(final)"
   ]
  },
  {
   "cell_type": "markdown",
   "id": "ff16e9ee",
   "metadata": {},
   "source": [
    "### 4.3 최종 예측 메타 데이터 생성 및 최종 판별 진행"
   ]
  },
  {
   "cell_type": "code",
   "execution_count": null,
   "id": "58a716d3",
   "metadata": {},
   "outputs": [],
   "source": [
    "test_meta_data = np.array([\n",
    "    np.transpose(test_pred_electra)[0], np.transpose(test_pred_electra)[1], np.transpose(test_pred_electra)[2], test_pred_electra_class,\n",
    "    np.transpose(test_pred_bert)[0], np.transpose(test_pred_bert)[1], np.transpose(test_pred_bert)[2], test_pred_bert_class,\n",
    "    np.transpose(test_pred_albert)[0], np.transpose(test_pred_albert)[1], np.transpose(test_pred_albert)[2], test_pred_albert_class\n",
    "])\n",
    "print(meta_data.shape)"
   ]
  },
  {
   "cell_type": "code",
   "execution_count": null,
   "id": "098caf12",
   "metadata": {},
   "outputs": [],
   "source": [
    "test_meta_data = np.transpose(test_meta_data)\n",
    "print(meta_data.shape)"
   ]
  },
  {
   "cell_type": "code",
   "execution_count": null,
   "id": "f6253ffc",
   "metadata": {},
   "outputs": [],
   "source": [
    "predictions = final_model.predict(test_meta_data)"
   ]
  },
  {
   "cell_type": "code",
   "execution_count": null,
   "id": "caa97aa7",
   "metadata": {},
   "outputs": [],
   "source": [
    "predictions"
   ]
  },
  {
   "cell_type": "code",
   "execution_count": null,
   "id": "5a258d30",
   "metadata": {},
   "outputs": [],
   "source": [
    "list1 = [i for i in range(5000)]"
   ]
  },
  {
   "cell_type": "code",
   "execution_count": null,
   "id": "dd4b009f",
   "metadata": {},
   "outputs": [],
   "source": [
    "list2 = predictions"
   ]
  },
  {
   "cell_type": "code",
   "execution_count": null,
   "id": "6b927352",
   "metadata": {},
   "outputs": [],
   "source": [
    "submission = pd.DataFrame({'index':list1,\n",
    "                           'label':list2})"
   ]
  },
  {
   "cell_type": "code",
   "execution_count": null,
   "id": "ed241997",
   "metadata": {},
   "outputs": [],
   "source": [
    "submission"
   ]
  },
  {
   "cell_type": "code",
   "execution_count": null,
   "id": "01e4f40c",
   "metadata": {},
   "outputs": [],
   "source": [
    "# contradiction => 0 entailment => 1 neutral => 2\n",
    "submission['label'].replace(0, 'contradiction', inplace=True)\n",
    "submission['label'].replace(1, 'entailment', inplace=True)\n",
    "submission['label'].replace(2, 'neutral', inplace=True)"
   ]
  },
  {
   "cell_type": "markdown",
   "id": "53835607",
   "metadata": {},
   "source": [
    "## 5. versus Previous submission"
   ]
  },
  {
   "cell_type": "markdown",
   "id": "af5cd538",
   "metadata": {},
   "source": [
    "리더보드에 올렸던 88%의 탐지율을 달성했던 csv파일과 유사도 비교를 진행했습니다.  \n",
    "유사도가 90%이며, 성능이 어느 정도 올라갈 것이라는 판단을 할 수 있습니다."
   ]
  },
  {
   "cell_type": "code",
   "execution_count": null,
   "id": "75e9db5a",
   "metadata": {},
   "outputs": [],
   "source": [
    "previous = pd.read_csv('../submission/submission_KoELECTRAv4.csv')"
   ]
  },
  {
   "cell_type": "code",
   "execution_count": null,
   "id": "5d33b7b5",
   "metadata": {},
   "outputs": [],
   "source": [
    "previous['label']"
   ]
  },
  {
   "cell_type": "code",
   "execution_count": null,
   "id": "51bfdacb",
   "metadata": {},
   "outputs": [],
   "source": [
    "submission['label']"
   ]
  },
  {
   "cell_type": "code",
   "execution_count": null,
   "id": "d66adb8b",
   "metadata": {},
   "outputs": [],
   "source": [
    "cnt_equal = 0\n",
    "cnt_diff = 0\n",
    "for i in range(5000):\n",
    "    if previous['label'][i] == submission['label'][i]:\n",
    "        cnt_equal += 1\n",
    "    else: cnt_diff += 1\n",
    "\n",
    "similarity = cnt_equal/(cnt_equal+cnt_diff) * 100\n",
    "print(f\"이전 제출 파일과의 유사도:{similarity}%\")"
   ]
  },
  {
   "cell_type": "code",
   "execution_count": null,
   "id": "8f6216fd",
   "metadata": {},
   "outputs": [],
   "source": [
    "submission.to_csv(\"../submission/submission_stacking_v1.csv\", index = False)"
   ]
  },
  {
   "cell_type": "code",
   "execution_count": null,
   "id": "96285c95",
   "metadata": {},
   "outputs": [],
   "source": [
    "# model.save('competition_stacking_v1.h5')\n",
    "# Load model code\n",
    "# new_model = tf.keras.models.load_model('competition_stacking_v1.h5')\n",
    "# test_loss, test_acc = new_model.evaluate(x,  y, verbose=2)"
   ]
  },
  {
   "cell_type": "code",
   "execution_count": null,
   "id": "e94d5b67",
   "metadata": {
    "scrolled": true
   },
   "outputs": [],
   "source": [
    "cnt_equal = 0\n",
    "cnt_diff = 0\n",
    "arr = []\n",
    "for i in range(5000):\n",
    "    if previous['label'][i] == submission['label'][i]:\n",
    "        cnt_equal += 1\n",
    "    else:\n",
    "        cnt_diff += 1\n",
    "        arr.append(i)\n",
    "\n",
    "similarity = cnt_equal/(cnt_equal+cnt_diff) * 100\n",
    "print(f\"이전 제출 파일과의 유사도:{similarity}%\")"
   ]
  },
  {
   "cell_type": "code",
   "execution_count": null,
   "id": "be56cf3a",
   "metadata": {
    "scrolled": true
   },
   "outputs": [],
   "source": [
    "arr"
   ]
  },
  {
   "cell_type": "code",
   "execution_count": null,
   "id": "7678134a",
   "metadata": {},
   "outputs": [],
   "source": [
    "arr[100:]"
   ]
  },
  {
   "cell_type": "code",
   "execution_count": null,
   "id": "81a49781",
   "metadata": {},
   "outputs": [],
   "source": [
    "pd.DataFrame({\"index\":arr,\n",
    "             \"\"})"
   ]
  },
  {
   "cell_type": "code",
   "execution_count": null,
   "id": "1b32a069",
   "metadata": {},
   "outputs": [],
   "source": [
    "import datasets\n",
    "from datasets import load_dataset, load_metric, ClassLabel, Sequence"
   ]
  },
  {
   "cell_type": "code",
   "execution_count": null,
   "id": "c115eb3d",
   "metadata": {
    "scrolled": true
   },
   "outputs": [],
   "source": [
    "task = \"nli\"\n",
    "datasets = load_dataset(\"klue\", task)"
   ]
  },
  {
   "cell_type": "code",
   "execution_count": null,
   "id": "efce7531",
   "metadata": {},
   "outputs": [],
   "source": [
    "datasets[\"train\"][0]"
   ]
  },
  {
   "cell_type": "code",
   "execution_count": null,
   "id": "84250879",
   "metadata": {},
   "outputs": [],
   "source": [
    "arr_train_premise = datasets[\"train\"][\"premise\"]"
   ]
  },
  {
   "cell_type": "code",
   "execution_count": null,
   "id": "6688dc67",
   "metadata": {},
   "outputs": [],
   "source": [
    "arr_train_hypothesis = datasets[\"train\"][\"hypothesis\"]"
   ]
  },
  {
   "cell_type": "code",
   "execution_count": null,
   "id": "e727b87c",
   "metadata": {},
   "outputs": [],
   "source": [
    "arr_train_label = datasets[\"train\"][\"label\"]"
   ]
  },
  {
   "cell_type": "code",
   "execution_count": null,
   "id": "e3594eb0",
   "metadata": {},
   "outputs": [],
   "source": [
    "len(arr_train_hypothesis)"
   ]
  },
  {
   "cell_type": "code",
   "execution_count": null,
   "id": "1a1f4078",
   "metadata": {},
   "outputs": [],
   "source": [
    "len(arr_train_hypothesis)"
   ]
  },
  {
   "cell_type": "code",
   "execution_count": null,
   "id": "b307c2ea",
   "metadata": {},
   "outputs": [],
   "source": [
    "len(arr_train_label)"
   ]
  },
  {
   "cell_type": "code",
   "execution_count": null,
   "id": "0590f782",
   "metadata": {},
   "outputs": [],
   "source": [
    "arr2 = datasets[\"\"]"
   ]
  },
  {
   "cell_type": "code",
   "execution_count": null,
   "id": "6293a905",
   "metadata": {},
   "outputs": [],
   "source": [
    "pd.DataFrame({\"prmise\":arr}).to_csv(\"../submission/klue_train.csv\", index = False)"
   ]
  },
  {
   "cell_type": "code",
   "execution_count": null,
   "id": "8b45875c",
   "metadata": {},
   "outputs": [],
   "source": []
  }
 ],
 "metadata": {
  "kernelspec": {
   "display_name": "Python 3 (ipykernel)",
   "language": "python",
   "name": "python3"
  },
  "language_info": {
   "codemirror_mode": {
    "name": "ipython",
    "version": 3
   },
   "file_extension": ".py",
   "mimetype": "text/x-python",
   "name": "python",
   "nbconvert_exporter": "python",
   "pygments_lexer": "ipython3",
   "version": "3.8.5"
  }
 },
 "nbformat": 4,
 "nbformat_minor": 5
}
