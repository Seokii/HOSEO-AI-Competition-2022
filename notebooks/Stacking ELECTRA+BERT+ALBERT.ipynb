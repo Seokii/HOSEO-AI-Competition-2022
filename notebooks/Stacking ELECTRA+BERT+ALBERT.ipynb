{
 "cells": [
  {
   "cell_type": "markdown",
   "id": "27ade102",
   "metadata": {},
   "source": [
    "## 0. Import"
   ]
  },
  {
   "cell_type": "code",
   "execution_count": 1,
   "id": "18579186",
   "metadata": {},
   "outputs": [
    {
     "name": "stderr",
     "output_type": "stream",
     "text": [
      "2022-07-09 18:13:24.721229: I tensorflow/stream_executor/cuda/cuda_gpu_executor.cc:939] successful NUMA node read from SysFS had negative value (-1), but there must be at least one NUMA node, so returning NUMA node zero\n",
      "2022-07-09 18:13:24.732014: I tensorflow/stream_executor/cuda/cuda_gpu_executor.cc:939] successful NUMA node read from SysFS had negative value (-1), but there must be at least one NUMA node, so returning NUMA node zero\n",
      "2022-07-09 18:13:24.732623: I tensorflow/stream_executor/cuda/cuda_gpu_executor.cc:939] successful NUMA node read from SysFS had negative value (-1), but there must be at least one NUMA node, so returning NUMA node zero\n",
      "2022-07-09 18:13:24.759616: I tensorflow/core/platform/cpu_feature_guard.cc:151] This TensorFlow binary is optimized with oneAPI Deep Neural Network Library (oneDNN) to use the following CPU instructions in performance-critical operations:  AVX2 FMA\n",
      "To enable them in other operations, rebuild TensorFlow with the appropriate compiler flags.\n",
      "2022-07-09 18:13:24.760155: I tensorflow/stream_executor/cuda/cuda_gpu_executor.cc:939] successful NUMA node read from SysFS had negative value (-1), but there must be at least one NUMA node, so returning NUMA node zero\n",
      "2022-07-09 18:13:24.760709: I tensorflow/stream_executor/cuda/cuda_gpu_executor.cc:939] successful NUMA node read from SysFS had negative value (-1), but there must be at least one NUMA node, so returning NUMA node zero\n",
      "2022-07-09 18:13:24.761194: I tensorflow/stream_executor/cuda/cuda_gpu_executor.cc:939] successful NUMA node read from SysFS had negative value (-1), but there must be at least one NUMA node, so returning NUMA node zero\n",
      "2022-07-09 18:13:25.162160: I tensorflow/stream_executor/cuda/cuda_gpu_executor.cc:939] successful NUMA node read from SysFS had negative value (-1), but there must be at least one NUMA node, so returning NUMA node zero\n",
      "2022-07-09 18:13:25.162703: I tensorflow/stream_executor/cuda/cuda_gpu_executor.cc:939] successful NUMA node read from SysFS had negative value (-1), but there must be at least one NUMA node, so returning NUMA node zero\n",
      "2022-07-09 18:13:25.163182: I tensorflow/stream_executor/cuda/cuda_gpu_executor.cc:939] successful NUMA node read from SysFS had negative value (-1), but there must be at least one NUMA node, so returning NUMA node zero\n",
      "2022-07-09 18:13:25.163656: I tensorflow/core/common_runtime/gpu/gpu_device.cc:1525] Created device /job:localhost/replica:0/task:0/device:GPU:0 with 21491 MB memory:  -> device: 0, name: NVIDIA TITAN RTX, pci bus id: 0000:01:00.0, compute capability: 7.5\n"
     ]
    }
   ],
   "source": [
    "import numpy as np\n",
    "import pandas as pd\n",
    "import seaborn as sns\n",
    "import matplotlib.pyplot as plt\n",
    "\n",
    "import tensorflow as tf\n",
    "from tensorflow.keras.layers import Dense,Input\n",
    "from tensorflow.keras.models import Model\n",
    "from tensorflow.keras.optimizers import Adam\n",
    "from transformers import TFBertModel, TFAlbertModel, TFElectraModel, TFDistilBertModel, DistilBertModel\n",
    "from transformers import ElectraTokenizer, BertTokenizerFast\n",
    "\n",
    "from sklearn.preprocessing import LabelEncoder\n",
    "from sklearn.model_selection import train_test_split\n",
    "from sklearn.metrics import accuracy_score"
   ]
  },
  {
   "cell_type": "code",
   "execution_count": 2,
   "id": "cbf36deb",
   "metadata": {},
   "outputs": [],
   "source": [
    "strategy = tf.distribute.get_strategy()"
   ]
  },
  {
   "cell_type": "markdown",
   "id": "959f893b",
   "metadata": {},
   "source": [
    "## 1. Load Dataset"
   ]
  },
  {
   "cell_type": "code",
   "execution_count": 3,
   "id": "5714ea1a",
   "metadata": {},
   "outputs": [
    {
     "name": "stderr",
     "output_type": "stream",
     "text": [
      "/tmp/ipykernel_16359/2247244841.py:3: FutureWarning: The error_bad_lines argument has been deprecated and will be removed in a future version. Use on_bad_lines in the future.\n",
      "\n",
      "\n",
      "  train_multinli = pd.read_csv('../dataset/kornli/multinli.train.ko.tsv', delimiter='\\t', error_bad_lines=False)\n",
      "b'Skipping line 24426: expected 3 fields, saw 4\\nSkipping line 156343: expected 3 fields, saw 4\\nSkipping line 218766: expected 3 fields, saw 4\\nSkipping line 232318: expected 3 fields, saw 4\\nSkipping line 253493: expected 3 fields, saw 4\\n'\n",
      "b'Skipping line 265734: expected 3 fields, saw 4\\nSkipping line 282588: expected 3 fields, saw 4\\nSkipping line 350969: expected 3 fields, saw 4\\n'\n"
     ]
    }
   ],
   "source": [
    "train = pd.read_csv(\"../dataset/train.csv\", encoding='CP949')\n",
    "test = pd.read_csv(\"../dataset/test.csv\", encoding='CP949')\n",
    "train_multinli = pd.read_csv('../dataset/kornli/multinli.train.ko.tsv', delimiter='\\t', error_bad_lines=False)\n",
    "train_snli = pd.read_csv('../dataset/kornli/snli_1.0_train.ko.tsv', delimiter='\\t')"
   ]
  },
  {
   "cell_type": "code",
   "execution_count": 4,
   "id": "d16627c2",
   "metadata": {
    "scrolled": true
   },
   "outputs": [
    {
     "data": {
      "text/html": [
       "<div>\n",
       "<style scoped>\n",
       "    .dataframe tbody tr th:only-of-type {\n",
       "        vertical-align: middle;\n",
       "    }\n",
       "\n",
       "    .dataframe tbody tr th {\n",
       "        vertical-align: top;\n",
       "    }\n",
       "\n",
       "    .dataframe thead th {\n",
       "        text-align: right;\n",
       "    }\n",
       "</style>\n",
       "<table border=\"1\" class=\"dataframe\">\n",
       "  <thead>\n",
       "    <tr style=\"text-align: right;\">\n",
       "      <th></th>\n",
       "      <th>index</th>\n",
       "      <th>premise</th>\n",
       "      <th>hypothesis</th>\n",
       "      <th>label</th>\n",
       "    </tr>\n",
       "  </thead>\n",
       "  <tbody>\n",
       "    <tr>\n",
       "      <th>0</th>\n",
       "      <td>1</td>\n",
       "      <td>삼성은 자작극을 벌인 2명에게 형사 고소 등의 법적 대응을 검토 중이라고 하였으나,...</td>\n",
       "      <td>자작극을 벌인 이는 3명이다.</td>\n",
       "      <td>contradiction</td>\n",
       "    </tr>\n",
       "    <tr>\n",
       "      <th>1</th>\n",
       "      <td>2</td>\n",
       "      <td>이를 위해 예측적 범죄예방 시스템을 구축하고 고도화한다.</td>\n",
       "      <td>예측적 범죄예방 시스템 구축하고 고도화하는 것은 목적이 있기 때문이다.</td>\n",
       "      <td>entailment</td>\n",
       "    </tr>\n",
       "    <tr>\n",
       "      <th>2</th>\n",
       "      <td>3</td>\n",
       "      <td>광주광역시가 재개발 정비사업 원주민들에 대한 종합대책을 마련하는 등 원주민 보호에 ...</td>\n",
       "      <td>원주민들은 종합대책에 만족했다.</td>\n",
       "      <td>neutral</td>\n",
       "    </tr>\n",
       "    <tr>\n",
       "      <th>3</th>\n",
       "      <td>4</td>\n",
       "      <td>진정 소비자와 직원들에게 사랑 받는 기업으로 오래 지속되고 싶으면, 이런 상황에서는...</td>\n",
       "      <td>이런 상황에서 책임 있는 모습을 보여주는 기업은 아주 드물다.</td>\n",
       "      <td>neutral</td>\n",
       "    </tr>\n",
       "    <tr>\n",
       "      <th>4</th>\n",
       "      <td>5</td>\n",
       "      <td>이번 증설로 코오롱인더스트리는 기존 생산량 7만7000톤에서 1만6800톤이 늘어나...</td>\n",
       "      <td>코오롱 인더스트리는 총 9만 3800톤의 생산 능력을 확보했다.</td>\n",
       "      <td>entailment</td>\n",
       "    </tr>\n",
       "  </tbody>\n",
       "</table>\n",
       "</div>"
      ],
      "text/plain": [
       "   index                                            premise  \\\n",
       "0      1  삼성은 자작극을 벌인 2명에게 형사 고소 등의 법적 대응을 검토 중이라고 하였으나,...   \n",
       "1      2                    이를 위해 예측적 범죄예방 시스템을 구축하고 고도화한다.   \n",
       "2      3  광주광역시가 재개발 정비사업 원주민들에 대한 종합대책을 마련하는 등 원주민 보호에 ...   \n",
       "3      4  진정 소비자와 직원들에게 사랑 받는 기업으로 오래 지속되고 싶으면, 이런 상황에서는...   \n",
       "4      5  이번 증설로 코오롱인더스트리는 기존 생산량 7만7000톤에서 1만6800톤이 늘어나...   \n",
       "\n",
       "                                hypothesis          label  \n",
       "0                         자작극을 벌인 이는 3명이다.  contradiction  \n",
       "1  예측적 범죄예방 시스템 구축하고 고도화하는 것은 목적이 있기 때문이다.     entailment  \n",
       "2                        원주민들은 종합대책에 만족했다.        neutral  \n",
       "3       이런 상황에서 책임 있는 모습을 보여주는 기업은 아주 드물다.        neutral  \n",
       "4      코오롱 인더스트리는 총 9만 3800톤의 생산 능력을 확보했다.     entailment  "
      ]
     },
     "execution_count": 4,
     "metadata": {},
     "output_type": "execute_result"
    }
   ],
   "source": [
    "train.head()"
   ]
  },
  {
   "cell_type": "code",
   "execution_count": 5,
   "id": "d1cdd2c9",
   "metadata": {
    "scrolled": false
   },
   "outputs": [
    {
     "data": {
      "text/html": [
       "<div>\n",
       "<style scoped>\n",
       "    .dataframe tbody tr th:only-of-type {\n",
       "        vertical-align: middle;\n",
       "    }\n",
       "\n",
       "    .dataframe tbody tr th {\n",
       "        vertical-align: top;\n",
       "    }\n",
       "\n",
       "    .dataframe thead th {\n",
       "        text-align: right;\n",
       "    }\n",
       "</style>\n",
       "<table border=\"1\" class=\"dataframe\">\n",
       "  <thead>\n",
       "    <tr style=\"text-align: right;\">\n",
       "      <th></th>\n",
       "      <th>index</th>\n",
       "      <th>premise</th>\n",
       "      <th>hypothesis</th>\n",
       "    </tr>\n",
       "  </thead>\n",
       "  <tbody>\n",
       "    <tr>\n",
       "      <th>0</th>\n",
       "      <td>1</td>\n",
       "      <td>진짜 사람하나 캐리어하나만 들어갈수있어요</td>\n",
       "      <td>캐리어는 들어갈 수 없어요.</td>\n",
       "    </tr>\n",
       "    <tr>\n",
       "      <th>1</th>\n",
       "      <td>2</td>\n",
       "      <td>그린 아메리카는 우선 대형 초콜릿 제조업체들을 대상으로 설득작업을 벌이고 있습니다.</td>\n",
       "      <td>초콜릿을 만드는 대형 제조업체가 존재한다.</td>\n",
       "    </tr>\n",
       "    <tr>\n",
       "      <th>2</th>\n",
       "      <td>3</td>\n",
       "      <td>또한 강연이 끝난 후 각 국의 업무 담당자들로부터 사전 접수한 질문과 함께 현장에서...</td>\n",
       "      <td>질의응답에 사전 접수된 질문은 답변이 제한된다.</td>\n",
       "    </tr>\n",
       "    <tr>\n",
       "      <th>3</th>\n",
       "      <td>4</td>\n",
       "      <td>수험생들은 각 상담부스에서 입시전문가나 입학사정관과 상담함으로써 수시모집 지원전략을...</td>\n",
       "      <td>수험생들은 입시전문가와 입학사정관에게 수시모집 지원전략에 대한 도움을 받을 수 있다.</td>\n",
       "    </tr>\n",
       "    <tr>\n",
       "      <th>4</th>\n",
       "      <td>5</td>\n",
       "      <td>콜린은 매우 친절하고 응답이 빠릅니다.</td>\n",
       "      <td>콜린이 숙소의 호스트입니다.</td>\n",
       "    </tr>\n",
       "  </tbody>\n",
       "</table>\n",
       "</div>"
      ],
      "text/plain": [
       "   index                                            premise  \\\n",
       "0      1                             진짜 사람하나 캐리어하나만 들어갈수있어요   \n",
       "1      2     그린 아메리카는 우선 대형 초콜릿 제조업체들을 대상으로 설득작업을 벌이고 있습니다.   \n",
       "2      3  또한 강연이 끝난 후 각 국의 업무 담당자들로부터 사전 접수한 질문과 함께 현장에서...   \n",
       "3      4  수험생들은 각 상담부스에서 입시전문가나 입학사정관과 상담함으로써 수시모집 지원전략을...   \n",
       "4      5                              콜린은 매우 친절하고 응답이 빠릅니다.   \n",
       "\n",
       "                                        hypothesis  \n",
       "0                                  캐리어는 들어갈 수 없어요.  \n",
       "1                          초콜릿을 만드는 대형 제조업체가 존재한다.  \n",
       "2                       질의응답에 사전 접수된 질문은 답변이 제한된다.  \n",
       "3  수험생들은 입시전문가와 입학사정관에게 수시모집 지원전략에 대한 도움을 받을 수 있다.  \n",
       "4                                  콜린이 숙소의 호스트입니다.  "
      ]
     },
     "execution_count": 5,
     "metadata": {},
     "output_type": "execute_result"
    }
   ],
   "source": [
    "test.head()"
   ]
  },
  {
   "cell_type": "code",
   "execution_count": 6,
   "id": "1d428035",
   "metadata": {},
   "outputs": [
    {
     "data": {
      "text/html": [
       "<div>\n",
       "<style scoped>\n",
       "    .dataframe tbody tr th:only-of-type {\n",
       "        vertical-align: middle;\n",
       "    }\n",
       "\n",
       "    .dataframe tbody tr th {\n",
       "        vertical-align: top;\n",
       "    }\n",
       "\n",
       "    .dataframe thead th {\n",
       "        text-align: right;\n",
       "    }\n",
       "</style>\n",
       "<table border=\"1\" class=\"dataframe\">\n",
       "  <thead>\n",
       "    <tr style=\"text-align: right;\">\n",
       "      <th></th>\n",
       "      <th>sentence1</th>\n",
       "      <th>sentence2</th>\n",
       "      <th>gold_label</th>\n",
       "    </tr>\n",
       "  </thead>\n",
       "  <tbody>\n",
       "    <tr>\n",
       "      <th>0</th>\n",
       "      <td>개념적으로 크림 스키밍은 제품과 지리라는 두 가지 기본 차원을 가지고 있다.</td>\n",
       "      <td>제품과 지리학은 크림 스키밍을 작동시키는 것이다.</td>\n",
       "      <td>neutral</td>\n",
       "    </tr>\n",
       "    <tr>\n",
       "      <th>1</th>\n",
       "      <td>시즌 중에 알고 있는 거 알아? 네 레벨에서 다음 레벨로 잃어버리는 거야 브레이브스...</td>\n",
       "      <td>사람들이 기억하면 다음 수준으로 물건을 잃는다.</td>\n",
       "      <td>entailment</td>\n",
       "    </tr>\n",
       "    <tr>\n",
       "      <th>2</th>\n",
       "      <td>우리 번호 중 하나가 당신의 지시를 세밀하게 수행할 것이다.</td>\n",
       "      <td>우리 팀의 일원이 당신의 명령을 엄청나게 정확하게 실행할 것이다.</td>\n",
       "      <td>entailment</td>\n",
       "    </tr>\n",
       "    <tr>\n",
       "      <th>3</th>\n",
       "      <td>어떻게 아세요? 이 모든 것이 다시 그들의 정보다.</td>\n",
       "      <td>이 정보는 그들의 것이다.</td>\n",
       "      <td>entailment</td>\n",
       "    </tr>\n",
       "    <tr>\n",
       "      <th>4</th>\n",
       "      <td>그래, 만약 네가 테니스화 몇 개를 사러 간다면, 나는 왜 그들이 100달러대에서 ...</td>\n",
       "      <td>테니스화의 가격은 다양하다.</td>\n",
       "      <td>neutral</td>\n",
       "    </tr>\n",
       "  </tbody>\n",
       "</table>\n",
       "</div>"
      ],
      "text/plain": [
       "                                           sentence1  \\\n",
       "0         개념적으로 크림 스키밍은 제품과 지리라는 두 가지 기본 차원을 가지고 있다.   \n",
       "1  시즌 중에 알고 있는 거 알아? 네 레벨에서 다음 레벨로 잃어버리는 거야 브레이브스...   \n",
       "2                  우리 번호 중 하나가 당신의 지시를 세밀하게 수행할 것이다.   \n",
       "3                       어떻게 아세요? 이 모든 것이 다시 그들의 정보다.   \n",
       "4  그래, 만약 네가 테니스화 몇 개를 사러 간다면, 나는 왜 그들이 100달러대에서 ...   \n",
       "\n",
       "                              sentence2  gold_label  \n",
       "0           제품과 지리학은 크림 스키밍을 작동시키는 것이다.     neutral  \n",
       "1            사람들이 기억하면 다음 수준으로 물건을 잃는다.  entailment  \n",
       "2  우리 팀의 일원이 당신의 명령을 엄청나게 정확하게 실행할 것이다.  entailment  \n",
       "3                        이 정보는 그들의 것이다.  entailment  \n",
       "4                       테니스화의 가격은 다양하다.     neutral  "
      ]
     },
     "execution_count": 6,
     "metadata": {},
     "output_type": "execute_result"
    }
   ],
   "source": [
    "train_multinli.head()"
   ]
  },
  {
   "cell_type": "code",
   "execution_count": 7,
   "id": "bc148a0a",
   "metadata": {},
   "outputs": [
    {
     "data": {
      "text/html": [
       "<div>\n",
       "<style scoped>\n",
       "    .dataframe tbody tr th:only-of-type {\n",
       "        vertical-align: middle;\n",
       "    }\n",
       "\n",
       "    .dataframe tbody tr th {\n",
       "        vertical-align: top;\n",
       "    }\n",
       "\n",
       "    .dataframe thead th {\n",
       "        text-align: right;\n",
       "    }\n",
       "</style>\n",
       "<table border=\"1\" class=\"dataframe\">\n",
       "  <thead>\n",
       "    <tr style=\"text-align: right;\">\n",
       "      <th></th>\n",
       "      <th>sentence1</th>\n",
       "      <th>sentence2</th>\n",
       "      <th>gold_label</th>\n",
       "    </tr>\n",
       "  </thead>\n",
       "  <tbody>\n",
       "    <tr>\n",
       "      <th>0</th>\n",
       "      <td>말을 탄 사람이 고장난 비행기 위로 뛰어오른다.</td>\n",
       "      <td>한 사람이 경쟁을 위해 말을 훈련시키고 있다.</td>\n",
       "      <td>neutral</td>\n",
       "    </tr>\n",
       "    <tr>\n",
       "      <th>1</th>\n",
       "      <td>말을 탄 사람이 고장난 비행기 위로 뛰어오른다.</td>\n",
       "      <td>한 사람이 식당에서 오믈렛을 주문하고 있다.</td>\n",
       "      <td>contradiction</td>\n",
       "    </tr>\n",
       "    <tr>\n",
       "      <th>2</th>\n",
       "      <td>말을 탄 사람이 고장난 비행기 위로 뛰어오른다.</td>\n",
       "      <td>사람은 야외에서 말을 타고 있다.</td>\n",
       "      <td>entailment</td>\n",
       "    </tr>\n",
       "    <tr>\n",
       "      <th>3</th>\n",
       "      <td>카메라에 웃고 손을 흔드는 아이들</td>\n",
       "      <td>그들은 부모님을 보고 웃고 있다</td>\n",
       "      <td>neutral</td>\n",
       "    </tr>\n",
       "    <tr>\n",
       "      <th>4</th>\n",
       "      <td>카메라에 웃고 손을 흔드는 아이들</td>\n",
       "      <td>아이들이 있다</td>\n",
       "      <td>entailment</td>\n",
       "    </tr>\n",
       "  </tbody>\n",
       "</table>\n",
       "</div>"
      ],
      "text/plain": [
       "                    sentence1                  sentence2     gold_label\n",
       "0  말을 탄 사람이 고장난 비행기 위로 뛰어오른다.  한 사람이 경쟁을 위해 말을 훈련시키고 있다.        neutral\n",
       "1  말을 탄 사람이 고장난 비행기 위로 뛰어오른다.   한 사람이 식당에서 오믈렛을 주문하고 있다.  contradiction\n",
       "2  말을 탄 사람이 고장난 비행기 위로 뛰어오른다.         사람은 야외에서 말을 타고 있다.     entailment\n",
       "3          카메라에 웃고 손을 흔드는 아이들          그들은 부모님을 보고 웃고 있다        neutral\n",
       "4          카메라에 웃고 손을 흔드는 아이들                    아이들이 있다     entailment"
      ]
     },
     "execution_count": 7,
     "metadata": {},
     "output_type": "execute_result"
    }
   ],
   "source": [
    "train_snli.head()"
   ]
  },
  {
   "cell_type": "code",
   "execution_count": 8,
   "id": "4421b7db",
   "metadata": {},
   "outputs": [
    {
     "name": "stdout",
     "output_type": "stream",
     "text": [
      "train shape => (19996, 4) \n",
      "test shape => (5000, 3)\n",
      "train_multinli => (385494, 3)\n",
      "train_snli => (550152, 3)\n"
     ]
    }
   ],
   "source": [
    "print(f\"train shape => {train.shape} \\ntest shape => {test.shape}\")\n",
    "print(f\"train_multinli => {train_multinli.shape}\")\n",
    "print(f\"train_snli => {train_snli.shape}\")\n"
   ]
  },
  {
   "cell_type": "code",
   "execution_count": 9,
   "id": "b5cc375f",
   "metadata": {},
   "outputs": [],
   "source": [
    "train.drop(['index'], axis=1, inplace=True)"
   ]
  },
  {
   "cell_type": "code",
   "execution_count": 10,
   "id": "06b29d1d",
   "metadata": {},
   "outputs": [],
   "source": [
    "train_multinli.rename(columns={'sentence1':'premise', 'sentence2':'hypothesis', 'gold_label':'label'}, inplace=True)"
   ]
  },
  {
   "cell_type": "code",
   "execution_count": 11,
   "id": "501d0347",
   "metadata": {},
   "outputs": [],
   "source": [
    "train_snli.rename(columns={'sentence1':'premise', 'sentence2':'hypothesis', 'gold_label':'label'}, inplace=True)"
   ]
  },
  {
   "cell_type": "code",
   "execution_count": 12,
   "id": "ae0ca01d",
   "metadata": {},
   "outputs": [],
   "source": [
    "train_target1 = train\n",
    "train_target2 = train_multinli.sample(5000, random_state=42)\n",
    "train_target3 = train_snli.sample(5000, random_state=42)"
   ]
  },
  {
   "cell_type": "code",
   "execution_count": 13,
   "id": "1b21a885",
   "metadata": {},
   "outputs": [],
   "source": [
    "train_all = pd.concat([train_target1,train_target2,train_target3], ignore_index=True)"
   ]
  },
  {
   "cell_type": "code",
   "execution_count": 14,
   "id": "94041c86",
   "metadata": {},
   "outputs": [],
   "source": [
    "train_all = train_all.sample(frac=1).reset_index(drop=True)"
   ]
  },
  {
   "cell_type": "code",
   "execution_count": 15,
   "id": "91fa2f8d",
   "metadata": {},
   "outputs": [
    {
     "data": {
      "text/html": [
       "<div>\n",
       "<style scoped>\n",
       "    .dataframe tbody tr th:only-of-type {\n",
       "        vertical-align: middle;\n",
       "    }\n",
       "\n",
       "    .dataframe tbody tr th {\n",
       "        vertical-align: top;\n",
       "    }\n",
       "\n",
       "    .dataframe thead th {\n",
       "        text-align: right;\n",
       "    }\n",
       "</style>\n",
       "<table border=\"1\" class=\"dataframe\">\n",
       "  <thead>\n",
       "    <tr style=\"text-align: right;\">\n",
       "      <th></th>\n",
       "      <th>premise</th>\n",
       "      <th>hypothesis</th>\n",
       "      <th>label</th>\n",
       "    </tr>\n",
       "  </thead>\n",
       "  <tbody>\n",
       "    <tr>\n",
       "      <th>0</th>\n",
       "      <td>공개된 영상에 따르면 전동 킥보드를 타고 인도 위 자전거 도로를 지나가던 한 남성이...</td>\n",
       "      <td>이번 킥보드 사고로 여자 어린이가 크게 다쳤다.</td>\n",
       "      <td>neutral</td>\n",
       "    </tr>\n",
       "    <tr>\n",
       "      <th>1</th>\n",
       "      <td>목란 부산점은 서울 연희동에 있는 목란 본점과 달리, 예약 없이도 갈 수 있다.</td>\n",
       "      <td>목란은 부산점과 서울 본점이 전부이다.</td>\n",
       "      <td>neutral</td>\n",
       "    </tr>\n",
       "    <tr>\n",
       "      <th>2</th>\n",
       "      <td>마룬 드레스를 입은 여자가 바닥에 누워 있는 마룬 셔츠를 입은 남자의 팔을 잡아당기...</td>\n",
       "      <td>한 무리의 유아들이 해변에서 놀고 있다.</td>\n",
       "      <td>contradiction</td>\n",
       "    </tr>\n",
       "    <tr>\n",
       "      <th>3</th>\n",
       "      <td>음, 아무것도 생각나지 않아. 그래서 나는 그렇게 생각하지 않아.</td>\n",
       "      <td>오, 물론, 나는 분명히 기억한다</td>\n",
       "      <td>contradiction</td>\n",
       "    </tr>\n",
       "    <tr>\n",
       "      <th>4</th>\n",
       "      <td>그는 경찰수사를 받던중 지난해 12월 지인과 연락을 끊은 채 연고가 없는 광주광역시...</td>\n",
       "      <td>그는 사기혐의로 경찰 수사를 받고 있었다.</td>\n",
       "      <td>neutral</td>\n",
       "    </tr>\n",
       "  </tbody>\n",
       "</table>\n",
       "</div>"
      ],
      "text/plain": [
       "                                             premise  \\\n",
       "0  공개된 영상에 따르면 전동 킥보드를 타고 인도 위 자전거 도로를 지나가던 한 남성이...   \n",
       "1       목란 부산점은 서울 연희동에 있는 목란 본점과 달리, 예약 없이도 갈 수 있다.   \n",
       "2  마룬 드레스를 입은 여자가 바닥에 누워 있는 마룬 셔츠를 입은 남자의 팔을 잡아당기...   \n",
       "3               음, 아무것도 생각나지 않아. 그래서 나는 그렇게 생각하지 않아.   \n",
       "4  그는 경찰수사를 받던중 지난해 12월 지인과 연락을 끊은 채 연고가 없는 광주광역시...   \n",
       "\n",
       "                   hypothesis          label  \n",
       "0  이번 킥보드 사고로 여자 어린이가 크게 다쳤다.        neutral  \n",
       "1       목란은 부산점과 서울 본점이 전부이다.        neutral  \n",
       "2      한 무리의 유아들이 해변에서 놀고 있다.  contradiction  \n",
       "3          오, 물론, 나는 분명히 기억한다  contradiction  \n",
       "4     그는 사기혐의로 경찰 수사를 받고 있었다.        neutral  "
      ]
     },
     "execution_count": 15,
     "metadata": {},
     "output_type": "execute_result"
    }
   ],
   "source": [
    "train_all.head()"
   ]
  },
  {
   "cell_type": "code",
   "execution_count": 16,
   "id": "87c22798",
   "metadata": {},
   "outputs": [
    {
     "data": {
      "text/html": [
       "<div>\n",
       "<style scoped>\n",
       "    .dataframe tbody tr th:only-of-type {\n",
       "        vertical-align: middle;\n",
       "    }\n",
       "\n",
       "    .dataframe tbody tr th {\n",
       "        vertical-align: top;\n",
       "    }\n",
       "\n",
       "    .dataframe thead th {\n",
       "        text-align: right;\n",
       "    }\n",
       "</style>\n",
       "<table border=\"1\" class=\"dataframe\">\n",
       "  <thead>\n",
       "    <tr style=\"text-align: right;\">\n",
       "      <th></th>\n",
       "      <th>premise</th>\n",
       "      <th>hypothesis</th>\n",
       "      <th>label</th>\n",
       "    </tr>\n",
       "  </thead>\n",
       "  <tbody>\n",
       "    <tr>\n",
       "      <th>29991</th>\n",
       "      <td>빨간 재킷을 입은 어린 소녀를 위로하는 젊은 갈색 머리 남자.</td>\n",
       "      <td>젊은 갈색머리 남자가 빨간 재킷을 입은 어린 소녀를 모욕하고 있다.</td>\n",
       "      <td>contradiction</td>\n",
       "    </tr>\n",
       "    <tr>\n",
       "      <th>29992</th>\n",
       "      <td>청나라 말기 중국 광동성에서 보지림이라는 의원과 무관을 운영하고 있는 황기영은 자신...</td>\n",
       "      <td>황기영은 보지림이라는 의원을 운영한다.</td>\n",
       "      <td>entailment</td>\n",
       "    </tr>\n",
       "    <tr>\n",
       "      <th>29993</th>\n",
       "      <td>다행스럽게 형은 면했지만, 계속되는 재판과 주위의 시선에 의해서 많은 것을 잃었다고...</td>\n",
       "      <td>계속되는 재판에 의해서 잃은 것이 많다.</td>\n",
       "      <td>entailment</td>\n",
       "    </tr>\n",
       "    <tr>\n",
       "      <th>29994</th>\n",
       "      <td>인근 숙소에서 모항 해수욕장의 전망을 한 눈에 볼 수 있어 아름다운 경관을 감상하며...</td>\n",
       "      <td>인근 숙소에서 모항 해수욕장의 아름다운 경관을 감상하며 왁자지껄하게 피서를 즐기기 좋다.</td>\n",
       "      <td>contradiction</td>\n",
       "    </tr>\n",
       "    <tr>\n",
       "      <th>29995</th>\n",
       "      <td>연방 CIO는 이 가이드를 위해 인터뷰한 CIO가 직면한 많은 요소를 포함하는 환경...</td>\n",
       "      <td>인터뷰한 CIO는 연방 CIO에 유용한 정보를 제공합니다.</td>\n",
       "      <td>entailment</td>\n",
       "    </tr>\n",
       "  </tbody>\n",
       "</table>\n",
       "</div>"
      ],
      "text/plain": [
       "                                                 premise  \\\n",
       "29991                 빨간 재킷을 입은 어린 소녀를 위로하는 젊은 갈색 머리 남자.   \n",
       "29992  청나라 말기 중국 광동성에서 보지림이라는 의원과 무관을 운영하고 있는 황기영은 자신...   \n",
       "29993  다행스럽게 형은 면했지만, 계속되는 재판과 주위의 시선에 의해서 많은 것을 잃었다고...   \n",
       "29994  인근 숙소에서 모항 해수욕장의 전망을 한 눈에 볼 수 있어 아름다운 경관을 감상하며...   \n",
       "29995  연방 CIO는 이 가이드를 위해 인터뷰한 CIO가 직면한 많은 요소를 포함하는 환경...   \n",
       "\n",
       "                                              hypothesis          label  \n",
       "29991              젊은 갈색머리 남자가 빨간 재킷을 입은 어린 소녀를 모욕하고 있다.  contradiction  \n",
       "29992                              황기영은 보지림이라는 의원을 운영한다.     entailment  \n",
       "29993                             계속되는 재판에 의해서 잃은 것이 많다.     entailment  \n",
       "29994  인근 숙소에서 모항 해수욕장의 아름다운 경관을 감상하며 왁자지껄하게 피서를 즐기기 좋다.  contradiction  \n",
       "29995                   인터뷰한 CIO는 연방 CIO에 유용한 정보를 제공합니다.     entailment  "
      ]
     },
     "execution_count": 16,
     "metadata": {},
     "output_type": "execute_result"
    }
   ],
   "source": [
    "train_all.tail()"
   ]
  },
  {
   "cell_type": "code",
   "execution_count": 17,
   "id": "8160b30b",
   "metadata": {},
   "outputs": [],
   "source": [
    "train_all = train_all.astype({'label':'str'})"
   ]
  },
  {
   "cell_type": "markdown",
   "id": "ef7a1305",
   "metadata": {},
   "source": [
    "## 2. EDA"
   ]
  },
  {
   "cell_type": "markdown",
   "id": "7feb376c",
   "metadata": {},
   "source": [
    "### 2.1. LabelEncoder을 통해 str형태의 label을 숫자로 변환"
   ]
  },
  {
   "cell_type": "code",
   "execution_count": 18,
   "id": "57954a32",
   "metadata": {},
   "outputs": [],
   "source": [
    "categorical_cols = ['label']\n",
    "for e in categorical_cols:\n",
    "    le = LabelEncoder()\n",
    "    train_all[e] = le.fit_transform(train_all[e])"
   ]
  },
  {
   "cell_type": "code",
   "execution_count": 19,
   "id": "98a525d8",
   "metadata": {},
   "outputs": [
    {
     "data": {
      "text/html": [
       "<div>\n",
       "<style scoped>\n",
       "    .dataframe tbody tr th:only-of-type {\n",
       "        vertical-align: middle;\n",
       "    }\n",
       "\n",
       "    .dataframe tbody tr th {\n",
       "        vertical-align: top;\n",
       "    }\n",
       "\n",
       "    .dataframe thead th {\n",
       "        text-align: right;\n",
       "    }\n",
       "</style>\n",
       "<table border=\"1\" class=\"dataframe\">\n",
       "  <thead>\n",
       "    <tr style=\"text-align: right;\">\n",
       "      <th></th>\n",
       "      <th>premise</th>\n",
       "      <th>hypothesis</th>\n",
       "      <th>label</th>\n",
       "    </tr>\n",
       "  </thead>\n",
       "  <tbody>\n",
       "    <tr>\n",
       "      <th>0</th>\n",
       "      <td>공개된 영상에 따르면 전동 킥보드를 타고 인도 위 자전거 도로를 지나가던 한 남성이...</td>\n",
       "      <td>이번 킥보드 사고로 여자 어린이가 크게 다쳤다.</td>\n",
       "      <td>2</td>\n",
       "    </tr>\n",
       "    <tr>\n",
       "      <th>1</th>\n",
       "      <td>목란 부산점은 서울 연희동에 있는 목란 본점과 달리, 예약 없이도 갈 수 있다.</td>\n",
       "      <td>목란은 부산점과 서울 본점이 전부이다.</td>\n",
       "      <td>2</td>\n",
       "    </tr>\n",
       "    <tr>\n",
       "      <th>2</th>\n",
       "      <td>마룬 드레스를 입은 여자가 바닥에 누워 있는 마룬 셔츠를 입은 남자의 팔을 잡아당기...</td>\n",
       "      <td>한 무리의 유아들이 해변에서 놀고 있다.</td>\n",
       "      <td>0</td>\n",
       "    </tr>\n",
       "    <tr>\n",
       "      <th>3</th>\n",
       "      <td>음, 아무것도 생각나지 않아. 그래서 나는 그렇게 생각하지 않아.</td>\n",
       "      <td>오, 물론, 나는 분명히 기억한다</td>\n",
       "      <td>0</td>\n",
       "    </tr>\n",
       "    <tr>\n",
       "      <th>4</th>\n",
       "      <td>그는 경찰수사를 받던중 지난해 12월 지인과 연락을 끊은 채 연고가 없는 광주광역시...</td>\n",
       "      <td>그는 사기혐의로 경찰 수사를 받고 있었다.</td>\n",
       "      <td>2</td>\n",
       "    </tr>\n",
       "  </tbody>\n",
       "</table>\n",
       "</div>"
      ],
      "text/plain": [
       "                                             premise  \\\n",
       "0  공개된 영상에 따르면 전동 킥보드를 타고 인도 위 자전거 도로를 지나가던 한 남성이...   \n",
       "1       목란 부산점은 서울 연희동에 있는 목란 본점과 달리, 예약 없이도 갈 수 있다.   \n",
       "2  마룬 드레스를 입은 여자가 바닥에 누워 있는 마룬 셔츠를 입은 남자의 팔을 잡아당기...   \n",
       "3               음, 아무것도 생각나지 않아. 그래서 나는 그렇게 생각하지 않아.   \n",
       "4  그는 경찰수사를 받던중 지난해 12월 지인과 연락을 끊은 채 연고가 없는 광주광역시...   \n",
       "\n",
       "                   hypothesis  label  \n",
       "0  이번 킥보드 사고로 여자 어린이가 크게 다쳤다.      2  \n",
       "1       목란은 부산점과 서울 본점이 전부이다.      2  \n",
       "2      한 무리의 유아들이 해변에서 놀고 있다.      0  \n",
       "3          오, 물론, 나는 분명히 기억한다      0  \n",
       "4     그는 사기혐의로 경찰 수사를 받고 있었다.      2  "
      ]
     },
     "execution_count": 19,
     "metadata": {},
     "output_type": "execute_result"
    }
   ],
   "source": [
    "train_all.head()"
   ]
  },
  {
   "cell_type": "markdown",
   "id": "c3eac0fe",
   "metadata": {},
   "source": [
    "### 훈련 데이터의 결측치 확인"
   ]
  },
  {
   "cell_type": "code",
   "execution_count": 20,
   "id": "9246553b",
   "metadata": {
    "scrolled": true
   },
   "outputs": [
    {
     "data": {
      "text/plain": [
       "premise       0\n",
       "hypothesis    3\n",
       "label         0\n",
       "dtype: int64"
      ]
     },
     "execution_count": 20,
     "metadata": {},
     "output_type": "execute_result"
    }
   ],
   "source": [
    "train_all.isnull().sum()"
   ]
  },
  {
   "cell_type": "code",
   "execution_count": 21,
   "id": "d720e28c",
   "metadata": {},
   "outputs": [],
   "source": [
    "train_all.dropna(inplace=True)"
   ]
  },
  {
   "cell_type": "code",
   "execution_count": 22,
   "id": "2efc6c1b",
   "metadata": {},
   "outputs": [
    {
     "data": {
      "text/plain": [
       "premise       0\n",
       "hypothesis    0\n",
       "label         0\n",
       "dtype: int64"
      ]
     },
     "execution_count": 22,
     "metadata": {},
     "output_type": "execute_result"
    }
   ],
   "source": [
    "train_all.isnull().sum()"
   ]
  },
  {
   "cell_type": "code",
   "execution_count": 23,
   "id": "ebc6e00c",
   "metadata": {},
   "outputs": [
    {
     "data": {
      "text/plain": [
       "29993"
      ]
     },
     "execution_count": 23,
     "metadata": {},
     "output_type": "execute_result"
    }
   ],
   "source": [
    "len(train_all)"
   ]
  },
  {
   "cell_type": "markdown",
   "id": "ff59d416",
   "metadata": {},
   "source": [
    "### 클래스의 불균형이 있는지 시각화하여 확인"
   ]
  },
  {
   "cell_type": "code",
   "execution_count": 24,
   "id": "4d386fc3",
   "metadata": {},
   "outputs": [
    {
     "data": {
      "image/png": "[encoded data removed]",
      "text/plain": [
       "<Figure size 432x288 with 1 Axes>"
      ]
     },
     "metadata": {},
     "output_type": "display_data"
    }
   ],
   "source": [
    "sns.set_theme(style=\"darkgrid\")\n",
    "ax = sns.countplot(x=\"label\", data=train)"
   ]
  },
  {
   "cell_type": "code",
   "execution_count": 25,
   "id": "50565f39",
   "metadata": {},
   "outputs": [
    {
     "data": {
      "image/png": "[encoded data removed]",
      "text/plain": [
       "<Figure size 360x360 with 1 Axes>"
      ]
     },
     "metadata": {},
     "output_type": "display_data"
    }
   ],
   "source": [
    "labels, frequencies = np.unique(train.label.values, return_counts=True)\n",
    "plt.figure(figsize=(5,5))\n",
    "plt.pie(frequencies, labels = labels, autopct= '%1.1f%%')\n",
    "plt.show()"
   ]
  },
  {
   "cell_type": "markdown",
   "id": "7e7a3ccc",
   "metadata": {},
   "source": [
    "## 3. Modeling"
   ]
  },
  {
   "cell_type": "markdown",
   "id": "c37287d5",
   "metadata": {},
   "source": [
    "최종 목표인 Stacking Ensemble을 적용하기 위해서 개별 모델 3가지를 구현했습니다.  \n",
    "각각 사전학습된 ELECTRA, BERT, ALBERT 모델에 대해 fine-tune을 적용했습니다.  \n",
    "이전 electra 개별 모델 구현 파일에서 토크나이징 후 조정할 패딩의 길이를 100으로 정했습니다.  \n",
    "따라서, 각각의 모델들의 input_layer의 shape을 (100,)으로 지정했습니다.  "
   ]
  },
  {
   "cell_type": "markdown",
   "id": "f936aca6",
   "metadata": {},
   "source": [
    "### 3.1 모델별 토크나이저 선언"
   ]
  },
  {
   "cell_type": "code",
   "execution_count": 26,
   "id": "d50e44dc",
   "metadata": {},
   "outputs": [
    {
     "name": "stderr",
     "output_type": "stream",
     "text": [
      "The tokenizer class you load from this checkpoint is not the same type as the class this function is called from. It may result in unexpected tokenization. \n",
      "The tokenizer class you load from this checkpoint is 'AlbertTokenizerFast'. \n",
      "The class this function is called from is 'BertTokenizer'.\n",
      "The tokenizer class you load from this checkpoint is not the same type as the class this function is called from. It may result in unexpected tokenization. \n",
      "The tokenizer class you load from this checkpoint is 'AlbertTokenizerFast'. \n",
      "The class this function is called from is 'BertTokenizerFast'.\n"
     ]
    }
   ],
   "source": [
    "tokenizer_bert = BertTokenizerFast.from_pretrained(\"kykim/bert-kor-base\")\n",
    "tokenizer_albert = BertTokenizerFast.from_pretrained(\"kykim/albert-kor-base\")\n",
    "tokenizer_electra = ElectraTokenizer.from_pretrained(\"monologg/koelectra-base-v3-discriminator\")"
   ]
  },
  {
   "cell_type": "markdown",
   "id": "0d10fe4c",
   "metadata": {},
   "source": [
    "### 3.2 훈련 데이터 전처리"
   ]
  },
  {
   "cell_type": "markdown",
   "id": "8932f154",
   "metadata": {},
   "source": [
    "훈련데이터에 대해 각 문장에 대한 인코딩을 수행하고 패딩을 맞춰주는 전처리 작업을 진행합니다.  \n",
    "토크나이징이 진행된 문장들에 대해 평균, 최대, 표준편차, 시각화를 통해 적절한 패딩 길이를 계산합니다.  \n",
    "그 이후, 훈련데이터를 7:3 비율로 훈련데이터와 검증데이터를 나눕니다.  \n",
    "검증데이터는 각 개별 모델로 예측을 진행하고, 클래스에 대한 예측 확률 값들과 예측 클래스 값들을 통해 앙상블 데이터로 사용하게 됩니다.  \n",
    "따라서, 최종 제출할 대상이 되는 테스트 데이터에 대해서도 예측을 하고 예측 확률 값들과 클래스를 저장하는 같은 과정을 거치게 됩니다.  "
   ]
  },
  {
   "cell_type": "markdown",
   "id": "85dac34a",
   "metadata": {},
   "source": [
    "#### 패딩 적절 길이 구하기"
   ]
  },
  {
   "cell_type": "markdown",
   "id": "34a82b82",
   "metadata": {},
   "source": [
    "ELECTRA 모델과 BERT기반 두 가지의 모델로 패딩값을 정해야하기 때문에,  \n",
    "각각의 토크나이저를 사용해 두 번 계산하여 패딩 길이를 구했습니다.  \n",
    "첫 번째 ELECTRA 모델의 경우 평균 길이 40, 최대 길이 1680, 표준편차 17로 측정되었습니다.  \n",
    "최종 예측해야할 테스트 파일의 경우 토큰의 최대 길이가 98이기 때문에 100의 길이가 적절하다고 판단했습니다.  \n",
    "따라서, 100이상이 되는 훈련 데이터는 삭제했습니다.  \n",
    "BERT 모델에 대해서도 똑같은 과정을 진행했습니다.  "
   ]
  },
  {
   "cell_type": "code",
   "execution_count": 27,
   "id": "bd97bdc9",
   "metadata": {},
   "outputs": [],
   "source": [
    "train_data = train_all[['premise', 'hypothesis']].values.tolist()\n",
    "test_data = test[['premise', 'hypothesis']].values.tolist()"
   ]
  },
  {
   "cell_type": "markdown",
   "id": "82edceab",
   "metadata": {},
   "source": [
    "#### ELECTRA"
   ]
  },
  {
   "cell_type": "code",
   "execution_count": 28,
   "id": "4a9764f8",
   "metadata": {
    "scrolled": true
   },
   "outputs": [
    {
     "name": "stderr",
     "output_type": "stream",
     "text": [
      "Token indices sequence length is longer than the specified maximum sequence length for this model (1280 > 512). Running this sequence through the model will result in indexing errors\n"
     ]
    }
   ],
   "source": [
    "train_encoded_electra = tokenizer_electra.batch_encode_plus(train_data)\n",
    "test_encoded_electra = tokenizer_electra.batch_encode_plus(test_data)"
   ]
  },
  {
   "cell_type": "code",
   "execution_count": 29,
   "id": "f988bbb0",
   "metadata": {},
   "outputs": [
    {
     "name": "stdout",
     "output_type": "stream",
     "text": [
      "토큰 길이 평균: 40.32646529305861\n",
      "토큰 길이 최대: 2163\n",
      "토큰 길이 표준편차: 20.27479359153581\n"
     ]
    }
   ],
   "source": [
    "cal_length = train_encoded_electra['input_ids'] + test_encoded_electra['input_ids']\n",
    "\n",
    "num_tokens = [len(tokens) for tokens in cal_length]\n",
    "num_tokens = np.array(num_tokens)\n",
    "\n",
    "# 평균값, 최댓값, 표준편차\n",
    "print(f\"토큰 길이 평균: {np.mean(num_tokens)}\")\n",
    "print(f\"토큰 길이 최대: {np.max(num_tokens)}\")\n",
    "print(f\"토큰 길이 표준편차: {np.std(num_tokens)}\")"
   ]
  },
  {
   "cell_type": "code",
   "execution_count": 30,
   "id": "859c01e4",
   "metadata": {},
   "outputs": [
    {
     "name": "stdout",
     "output_type": "stream",
     "text": [
      "토큰 길이 최대: 98\n"
     ]
    }
   ],
   "source": [
    "test_num_tokens_electra = [len(tokens) for tokens in test_encoded_electra['input_ids']]\n",
    "print(f\"토큰 길이 최대: {np.max(test_num_tokens_electra)}\")"
   ]
  },
  {
   "cell_type": "code",
   "execution_count": 31,
   "id": "d75d4dd0",
   "metadata": {
    "scrolled": false
   },
   "outputs": [
    {
     "data": {
      "image/png": "[encoded data removed]",
      "text/plain": [
       "<Figure size 432x288 with 1 Axes>"
      ]
     },
     "metadata": {},
     "output_type": "display_data"
    }
   ],
   "source": [
    "plt.title('all text length')\n",
    "plt.hist(num_tokens, bins=100)\n",
    "plt.xlabel('length of samples')\n",
    "plt.ylabel('number of samples')\n",
    "plt.show()"
   ]
  },
  {
   "cell_type": "code",
   "execution_count": 32,
   "id": "539e91fe",
   "metadata": {},
   "outputs": [],
   "source": [
    "select_length = 100"
   ]
  },
  {
   "cell_type": "code",
   "execution_count": 33,
   "id": "f993bacb",
   "metadata": {},
   "outputs": [],
   "source": [
    "def below_threshold_len(max_len, nested_list):\n",
    "    cnt = 0\n",
    "    for s in nested_list:\n",
    "        if(len(s) <= max_len):\n",
    "            cnt = cnt + 1\n",
    "        \n",
    "    print('전체 샘플 중 길이가 %s 이하인 샘플의 비율: %s'%(max_len, (cnt / len(nested_list))))"
   ]
  },
  {
   "cell_type": "code",
   "execution_count": 34,
   "id": "536e62b1",
   "metadata": {},
   "outputs": [
    {
     "name": "stdout",
     "output_type": "stream",
     "text": [
      "전체 샘플 중 길이가 100 이하인 샘플의 비율: 0.996999399879976\n"
     ]
    }
   ],
   "source": [
    "below_threshold_len(select_length, cal_length)"
   ]
  },
  {
   "cell_type": "markdown",
   "id": "2e57ca1b",
   "metadata": {},
   "source": [
    "#### 길이가 100 이상인 데이터에 대해 삭제 진행  "
   ]
  },
  {
   "cell_type": "code",
   "execution_count": 35,
   "id": "749ba2df",
   "metadata": {},
   "outputs": [],
   "source": [
    "temp = []\n",
    "for i in range(len(train_encoded_electra['input_ids'])):\n",
    "    if len(train_encoded_electra['input_ids'][i]) > select_length:\n",
    "        temp.append(i)\n",
    "\n",
    "temp.reverse()\n",
    "\n",
    "for i in temp:\n",
    "    del train_data[i]\n",
    "    train_all.drop(train_all.index[i], inplace=True)\n",
    "    \n",
    "temp = []\n",
    "for i in range(len(test_encoded_electra['input_ids'])):\n",
    "    if len(test_encoded_electra['input_ids'][i]) > select_length:\n",
    "        temp.append(i)\n",
    "\n",
    "temp.reverse()\n",
    "\n",
    "for i in temp:\n",
    "    del test_data[i]\n",
    "    test.drop(test.index[i], inplace=True)"
   ]
  },
  {
   "cell_type": "markdown",
   "id": "6aa7706c",
   "metadata": {},
   "source": [
    "#### BERT, ALBERT"
   ]
  },
  {
   "cell_type": "code",
   "execution_count": 36,
   "id": "c30c1c9a",
   "metadata": {},
   "outputs": [],
   "source": [
    "train_encoded_bert = tokenizer_electra.batch_encode_plus(train_data)\n",
    "test_encoded_bert = tokenizer_electra.batch_encode_plus(test_data)"
   ]
  },
  {
   "cell_type": "code",
   "execution_count": 37,
   "id": "529c42a8",
   "metadata": {},
   "outputs": [
    {
     "name": "stdout",
     "output_type": "stream",
     "text": [
      "토큰 길이 평균: 39.880252944325484\n",
      "토큰 길이 최대: 100\n",
      "토큰 길이 표준편차: 14.53570378292455\n"
     ]
    }
   ],
   "source": [
    "cal_length = train_encoded_bert['input_ids'] + train_encoded_bert['input_ids']\n",
    "\n",
    "num_tokens = [len(tokens) for tokens in cal_length]\n",
    "num_tokens = np.array(num_tokens)\n",
    "\n",
    "# 평균값, 최댓값, 표준편차\n",
    "print(f\"토큰 길이 평균: {np.mean(num_tokens)}\")\n",
    "print(f\"토큰 길이 최대: {np.max(num_tokens)}\")\n",
    "print(f\"토큰 길이 표준편차: {np.std(num_tokens)}\")"
   ]
  },
  {
   "cell_type": "code",
   "execution_count": 38,
   "id": "dcd113e2",
   "metadata": {},
   "outputs": [
    {
     "name": "stdout",
     "output_type": "stream",
     "text": [
      "토큰 길이 최대: 98\n"
     ]
    }
   ],
   "source": [
    "test_num_tokens_bert = [len(tokens) for tokens in test_encoded_bert['input_ids']]\n",
    "print(f\"토큰 길이 최대: {np.max(test_num_tokens_bert)}\")"
   ]
  },
  {
   "cell_type": "code",
   "execution_count": 39,
   "id": "bb630607",
   "metadata": {},
   "outputs": [
    {
     "data": {
      "image/png": "[encoded data removed]",
      "text/plain": [
       "<Figure size 432x288 with 1 Axes>"
      ]
     },
     "metadata": {},
     "output_type": "display_data"
    }
   ],
   "source": [
    "plt.title('all text length')\n",
    "plt.hist(num_tokens, bins=100)\n",
    "plt.xlabel('length of samples')\n",
    "plt.ylabel('number of samples')\n",
    "plt.show()"
   ]
  },
  {
   "cell_type": "markdown",
   "id": "60191e53",
   "metadata": {},
   "source": [
    "#### 길이가 100 이상인 데이터에 대해 삭제 진행  "
   ]
  },
  {
   "cell_type": "code",
   "execution_count": 40,
   "id": "ca48a67c",
   "metadata": {},
   "outputs": [],
   "source": [
    "temp = []\n",
    "for i in range(len(train_encoded_bert['input_ids'])):\n",
    "    if len(train_encoded_bert['input_ids'][i]) > select_length:\n",
    "        temp.append(i)\n",
    "\n",
    "temp.reverse()\n",
    "\n",
    "for i in temp:\n",
    "    del train_data[i]\n",
    "    train_all.drop(train_all.index[i], inplace=True)\n",
    "    \n",
    "temp = []\n",
    "for i in range(len(test_encoded_bert['input_ids'])):\n",
    "    if len(test_encoded_bert['input_ids'][i]) > select_length:\n",
    "        temp.append(i)\n",
    "\n",
    "temp.reverse()\n",
    "\n",
    "for i in temp:\n",
    "    del test_data[i]\n",
    "    test.drop(test.index[i], inplace=True)"
   ]
  },
  {
   "cell_type": "code",
   "execution_count": 41,
   "id": "c967b786",
   "metadata": {},
   "outputs": [
    {
     "name": "stdout",
     "output_type": "stream",
     "text": [
      "전체 샘플 중 길이가 100 이하인 샘플의 비율: 1.0\n"
     ]
    }
   ],
   "source": [
    "below_threshold_len(select_length, cal_length)"
   ]
  },
  {
   "cell_type": "code",
   "execution_count": 42,
   "id": "6ed92f4f",
   "metadata": {},
   "outputs": [
    {
     "data": {
      "text/plain": [
       "29888"
      ]
     },
     "execution_count": 42,
     "metadata": {},
     "output_type": "execute_result"
    }
   ],
   "source": [
    "len(train_data)"
   ]
  },
  {
   "cell_type": "code",
   "execution_count": 43,
   "id": "c34247fe",
   "metadata": {},
   "outputs": [
    {
     "data": {
      "text/plain": [
       "5000"
      ]
     },
     "execution_count": 43,
     "metadata": {},
     "output_type": "execute_result"
    }
   ],
   "source": [
    "len(test_data)"
   ]
  },
  {
   "cell_type": "markdown",
   "id": "e8c9f17d",
   "metadata": {},
   "source": [
    "#### 3.3.1 ELECTRA 모델링"
   ]
  },
  {
   "cell_type": "code",
   "execution_count": 44,
   "id": "741cf57b",
   "metadata": {},
   "outputs": [],
   "source": [
    "train_encoded_electra = tokenizer_electra.batch_encode_plus(train_data, padding='max_length', max_length=np.max(num_tokens))\n",
    "test_encoded_electra = tokenizer_electra.batch_encode_plus(test_data, padding='max_length', max_length=np.max(num_tokens))"
   ]
  },
  {
   "cell_type": "code",
   "execution_count": 45,
   "id": "67ad2537",
   "metadata": {},
   "outputs": [],
   "source": [
    "cal_length = train_encoded_bert['input_ids']\n",
    "num_tokens = [len(tokens) for tokens in cal_length]\n",
    "num_tokens = np.array(num_tokens)"
   ]
  },
  {
   "cell_type": "code",
   "execution_count": 46,
   "id": "6a1a84d8",
   "metadata": {},
   "outputs": [],
   "source": [
    "train_encoded_electra = tokenizer_electra.batch_encode_plus(train_data, padding='max_length', max_length=100)\n",
    "test_encoded_electra = tokenizer_electra.batch_encode_plus(test_data, padding='max_length', max_length=100)"
   ]
  },
  {
   "cell_type": "code",
   "execution_count": 47,
   "id": "4adbc3dc",
   "metadata": {},
   "outputs": [],
   "source": [
    "x_train, x_valid, y_train, y_valid = train_test_split(train_encoded_electra['input_ids'], train_all.label.values, test_size=0.3, shuffle=False)\n",
    "x_test = test_encoded_electra['input_ids']"
   ]
  },
  {
   "cell_type": "code",
   "execution_count": 48,
   "id": "6919c4c1",
   "metadata": {},
   "outputs": [],
   "source": [
    "train_dataset = (tf.data.Dataset.from_tensor_slices((x_train, y_train)).repeat().shuffle(2048).batch(20 * strategy.num_replicas_in_sync).prefetch(tf.data.experimental.AUTOTUNE))\n",
    "valid_dataset = (tf.data.Dataset.from_tensor_slices((x_valid, y_valid)).batch(20 * strategy.num_replicas_in_sync).cache().prefetch(tf.data.experimental.AUTOTUNE))\n",
    "test_dataset = (tf.data.Dataset.from_tensor_slices(x_test).batch(20 * strategy.num_replicas_in_sync))"
   ]
  },
  {
   "cell_type": "code",
   "execution_count": 49,
   "id": "5d104248",
   "metadata": {},
   "outputs": [],
   "source": [
    "def model_KoELECTRA():\n",
    "    with strategy.scope():\n",
    "        encoder = TFElectraModel.from_pretrained(\"monologg/koelectra-base-v3-discriminator\", from_pt=True)\n",
    "\n",
    "        input_layer = Input(shape=(np.max(num_tokens),), dtype=tf.int32, name=\"input_layer\")\n",
    "        sequence_output = encoder(input_layer)[0]\n",
    "\n",
    "        cls_token = sequence_output[:, 0, :]\n",
    "\n",
    "        output_layer = Dense(3, activation='softmax')(cls_token)\n",
    "\n",
    "        model = Model(inputs=input_layer, outputs=output_layer)\n",
    "        model.compile(Adam(lr=1e-5), loss='sparse_categorical_crossentropy', metrics=['accuracy'])\n",
    "    \n",
    "    return model"
   ]
  },
  {
   "cell_type": "code",
   "execution_count": 50,
   "id": "7229b0d7",
   "metadata": {},
   "outputs": [
    {
     "name": "stderr",
     "output_type": "stream",
     "text": [
      "Some weights of the PyTorch model were not used when initializing the TF 2.0 model TFElectraModel: ['electra.embeddings.position_ids', 'discriminator_predictions.dense_prediction.bias', 'discriminator_predictions.dense.weight', 'discriminator_predictions.dense_prediction.weight', 'discriminator_predictions.dense.bias']\n",
      "- This IS expected if you are initializing TFElectraModel from a PyTorch model trained on another task or with another architecture (e.g. initializing a TFBertForSequenceClassification model from a BertForPreTraining model).\n",
      "- This IS NOT expected if you are initializing TFElectraModel from a PyTorch model that you expect to be exactly identical (e.g. initializing a TFBertForSequenceClassification model from a BertForSequenceClassification model).\n",
      "All the weights of TFElectraModel were initialized from the PyTorch model.\n",
      "If your task is similar to the task the model of the checkpoint was trained on, you can already use TFElectraModel for predictions without further training.\n",
      "/home/twogudack/anaconda3/lib/python3.9/site-packages/keras/optimizer_v2/adam.py:105: UserWarning: The `lr` argument is deprecated, use `learning_rate` instead.\n",
      "  super(Adam, self).__init__(name, **kwargs)\n"
     ]
    }
   ],
   "source": [
    "model_electra = model_KoELECTRA()"
   ]
  },
  {
   "cell_type": "code",
   "execution_count": 51,
   "id": "ed15eac2",
   "metadata": {},
   "outputs": [
    {
     "name": "stdout",
     "output_type": "stream",
     "text": [
      "Epoch 1/3\n",
      "999/999 [==============================] - 206s 197ms/step - loss: 0.7060 - accuracy: 0.6873 - val_loss: 0.5590 - val_accuracy: 0.7855\n",
      "Epoch 2/3\n",
      "999/999 [==============================] - 198s 198ms/step - loss: 0.4803 - accuracy: 0.8142 - val_loss: 0.5043 - val_accuracy: 0.8152\n",
      "Epoch 3/3\n",
      "999/999 [==============================] - 199s 199ms/step - loss: 0.3529 - accuracy: 0.8699 - val_loss: 0.5119 - val_accuracy: 0.8212\n"
     ]
    }
   ],
   "source": [
    "history_electra = model_electra.fit(train_dataset,steps_per_epoch=len(train) // 20 * strategy.num_replicas_in_sync,\n",
    "                                     validation_data=valid_dataset,epochs= 3)"
   ]
  },
  {
   "cell_type": "markdown",
   "id": "04bafd1e",
   "metadata": {},
   "source": [
    "앙상블 데이터를 만들 electra_pred(클래스에 대한 확률 예측 값들의 배열), electra_pred_class(각 행의 최종 예측 클래스 값들의 배열)  \n",
    "최종 예측을 하기 위한 test_pred_electra (주어진 5000개의 테스트 데이터에 대한 확률 예측 값들의 배열),  \n",
    "test_pred_electra_class (주어진 5000개의 테스트 데이터에 대한 최종 예측 클래스 값들의 배열)"
   ]
  },
  {
   "cell_type": "code",
   "execution_count": 52,
   "id": "3820331b",
   "metadata": {},
   "outputs": [
    {
     "name": "stdout",
     "output_type": "stream",
     "text": [
      "281/281 [==============================] - 26s 87ms/step\n"
     ]
    }
   ],
   "source": [
    "electra_pred = model_electra.predict(x_valid, verbose=1)\n",
    "electra_pred_class = np.argmax(electra_pred, axis=1)"
   ]
  },
  {
   "cell_type": "code",
   "execution_count": 53,
   "id": "533c99ab",
   "metadata": {},
   "outputs": [
    {
     "name": "stdout",
     "output_type": "stream",
     "text": [
      "250/250 [==============================] - 17s 62ms/step\n"
     ]
    }
   ],
   "source": [
    "test_pred_electra = model_electra.predict(test_dataset, verbose=1)\n",
    "test_pred_electra_class = np.argmax(test_pred_electra, axis=1)"
   ]
  },
  {
   "cell_type": "markdown",
   "id": "577282f9",
   "metadata": {},
   "source": [
    "#### 3.3.2 BERT, ALBERT 모델링"
   ]
  },
  {
   "cell_type": "code",
   "execution_count": 54,
   "id": "95c4b309",
   "metadata": {},
   "outputs": [],
   "source": [
    "train_encoded_bert = tokenizer_bert.batch_encode_plus(train_data, padding='max_length', max_length=100)\n",
    "test_encoded_bert = tokenizer_bert.batch_encode_plus(test_data, padding='max_length', max_length=100)"
   ]
  },
  {
   "cell_type": "code",
   "execution_count": 55,
   "id": "20884a72",
   "metadata": {},
   "outputs": [],
   "source": [
    "cal_length = train_encoded_bert['input_ids']\n",
    "num_tokens = [len(tokens) for tokens in cal_length]\n",
    "num_tokens = np.array(num_tokens)"
   ]
  },
  {
   "cell_type": "code",
   "execution_count": 56,
   "id": "1d621e68",
   "metadata": {},
   "outputs": [],
   "source": [
    "train_encoded_bert = tokenizer_bert.batch_encode_plus(train_data, padding='max_length', max_length= np.max(num_tokens))\n",
    "test_encoded_bert = tokenizer_bert.batch_encode_plus(test_data, padding='max_length', max_length= np.max(num_tokens))"
   ]
  },
  {
   "cell_type": "code",
   "execution_count": 57,
   "id": "4fd285c8",
   "metadata": {},
   "outputs": [],
   "source": [
    "x_train, x_valid, y_train, y_valid = train_test_split(train_encoded_bert['input_ids'], train_all.label.values, test_size=0.3, shuffle=False)\n",
    "x_test = test_encoded_bert['input_ids']"
   ]
  },
  {
   "cell_type": "code",
   "execution_count": 58,
   "id": "177c8e77",
   "metadata": {},
   "outputs": [],
   "source": [
    "train_dataset = (tf.data.Dataset.from_tensor_slices((x_train, y_train)).repeat().shuffle(2048).batch(20 * strategy.num_replicas_in_sync).prefetch(tf.data.experimental.AUTOTUNE))\n",
    "valid_dataset = (tf.data.Dataset.from_tensor_slices((x_valid, y_valid)).batch(20 * strategy.num_replicas_in_sync).cache().prefetch(tf.data.experimental.AUTOTUNE))\n",
    "test_dataset = (tf.data.Dataset.from_tensor_slices(x_test).batch(20 * strategy.num_replicas_in_sync))"
   ]
  },
  {
   "cell_type": "code",
   "execution_count": 59,
   "id": "e3ff4c3c",
   "metadata": {},
   "outputs": [],
   "source": [
    "def model_BERT():\n",
    "    with strategy.scope():\n",
    "        encoder = TFBertModel.from_pretrained(\"kykim/bert-kor-base\")\n",
    "\n",
    "        input_layer = Input(shape=(np.max(num_tokens),), dtype=tf.int32, name=\"input_layer\")\n",
    "        sequence_output = encoder(input_layer)[0]\n",
    "\n",
    "        cls_token = sequence_output[:, 0, :]\n",
    "\n",
    "        output_layer = Dense(3, activation='softmax')(cls_token)\n",
    "\n",
    "        model = Model(inputs=input_layer, outputs=output_layer)\n",
    "        model.compile(Adam(lr=1e-5), loss='sparse_categorical_crossentropy', metrics=['accuracy'])\n",
    "    \n",
    "    return model\n",
    "\n",
    "def model_ALBERT():\n",
    "    with strategy.scope():\n",
    "        encoder = TFAlbertModel.from_pretrained(\"kykim/albert-kor-base\")\n",
    "\n",
    "        input_layer = Input(shape=(np.max(num_tokens),), dtype=tf.int32, name=\"input_layer\")\n",
    "        sequence_output = encoder(input_layer)[0]\n",
    "\n",
    "        cls_token = sequence_output[:, 0, :]\n",
    "\n",
    "        output_layer = Dense(3, activation='softmax')(cls_token)\n",
    "\n",
    "        model = Model(inputs=input_layer, outputs=output_layer)\n",
    "        model.compile(Adam(lr=1e-5), loss='sparse_categorical_crossentropy', metrics=['accuracy'])\n",
    "    \n",
    "    return model"
   ]
  },
  {
   "cell_type": "code",
   "execution_count": 60,
   "id": "2445b5d7",
   "metadata": {},
   "outputs": [
    {
     "name": "stderr",
     "output_type": "stream",
     "text": [
      "2022-07-09 18:27:28.185959: W tensorflow/core/framework/cpu_allocator_impl.cc:82] Allocation of 129024000 exceeds 10% of free system memory.\n",
      "All model checkpoint layers were used when initializing TFBertModel.\n",
      "\n",
      "All the layers of TFBertModel were initialized from the model checkpoint at kykim/bert-kor-base.\n",
      "If your task is similar to the task the model of the checkpoint was trained on, you can already use TFBertModel for predictions without further training.\n",
      "2022-07-09 18:27:32.628361: W tensorflow/core/framework/cpu_allocator_impl.cc:82] Allocation of 21504000 exceeds 10% of free system memory.\n",
      "All model checkpoint layers were used when initializing TFAlbertModel.\n",
      "\n",
      "All the layers of TFAlbertModel were initialized from the model checkpoint at kykim/albert-kor-base.\n",
      "If your task is similar to the task the model of the checkpoint was trained on, you can already use TFAlbertModel for predictions without further training.\n"
     ]
    }
   ],
   "source": [
    "model_bert = model_BERT()\n",
    "model_albert = model_ALBERT()"
   ]
  },
  {
   "cell_type": "code",
   "execution_count": 61,
   "id": "408a2b86",
   "metadata": {},
   "outputs": [
    {
     "name": "stdout",
     "output_type": "stream",
     "text": [
      "Epoch 1/3\n",
      "WARNING:tensorflow:Gradients do not exist for variables ['tf_bert_model/bert/pooler/dense/kernel:0', 'tf_bert_model/bert/pooler/dense/bias:0'] when minimizing the loss. If you're using `model.compile()`, did you forget to provide a `loss`argument?\n",
      "WARNING:tensorflow:Gradients do not exist for variables ['tf_bert_model/bert/pooler/dense/kernel:0', 'tf_bert_model/bert/pooler/dense/bias:0'] when minimizing the loss. If you're using `model.compile()`, did you forget to provide a `loss`argument?\n",
      "999/999 [==============================] - 215s 205ms/step - loss: 0.8455 - accuracy: 0.6074 - val_loss: 0.5840 - val_accuracy: 0.7655\n",
      "Epoch 2/3\n",
      "999/999 [==============================] - 204s 204ms/step - loss: 0.5290 - accuracy: 0.7879 - val_loss: 0.5794 - val_accuracy: 0.7783\n",
      "Epoch 3/3\n",
      "999/999 [==============================] - 204s 204ms/step - loss: 0.3833 - accuracy: 0.8541 - val_loss: 0.6175 - val_accuracy: 0.7977\n",
      "Epoch 1/3\n",
      "WARNING:tensorflow:Gradients do not exist for variables ['tf_albert_model/albert/pooler/kernel:0', 'tf_albert_model/albert/pooler/bias:0'] when minimizing the loss. If you're using `model.compile()`, did you forget to provide a `loss`argument?\n",
      "WARNING:tensorflow:Gradients do not exist for variables ['tf_albert_model/albert/pooler/kernel:0', 'tf_albert_model/albert/pooler/bias:0'] when minimizing the loss. If you're using `model.compile()`, did you forget to provide a `loss`argument?\n",
      "999/999 [==============================] - 204s 196ms/step - loss: 0.8377 - accuracy: 0.6051 - val_loss: 0.6698 - val_accuracy: 0.7233\n",
      "Epoch 2/3\n",
      "999/999 [==============================] - 194s 194ms/step - loss: 0.5603 - accuracy: 0.7713 - val_loss: 0.6322 - val_accuracy: 0.7418\n",
      "Epoch 3/3\n",
      "999/999 [==============================] - 194s 194ms/step - loss: 0.3870 - accuracy: 0.8534 - val_loss: 0.7109 - val_accuracy: 0.7474\n"
     ]
    }
   ],
   "source": [
    "history_bert = model_bert.fit(train_dataset,steps_per_epoch=len(train) // 20 * strategy.num_replicas_in_sync,\n",
    "                              validation_data=valid_dataset, epochs= 3)\n",
    "\n",
    "history_albert = model_albert.fit(train_dataset,steps_per_epoch=len(train) // 20 * strategy.num_replicas_in_sync,\n",
    "                                  validation_data=valid_dataset, epochs= 3)"
   ]
  },
  {
   "cell_type": "markdown",
   "id": "0f4f6c66",
   "metadata": {},
   "source": [
    "앙상블 데이터를 만들 bert_pred(클래스에 대한 확률 예측 값들의 배열), bert_pred_class(각 행의 최종 예측 클래스 값들의 배열)  \n",
    "최종 예측을 하기 위한 test_pred_bert (주어진 5000개의 테스트 데이터에 대한 확률 예측 값들의 배열),  \n",
    "test_pred_bert_class (주어진 5000개의 테스트 데이터에 대한 최종 예측 클래스 값들의 배열)  \n",
    "albert 모델도 변수명만 bert에서 albert로 동일합니다.  "
   ]
  },
  {
   "cell_type": "code",
   "execution_count": 62,
   "id": "621b3da0",
   "metadata": {},
   "outputs": [
    {
     "name": "stdout",
     "output_type": "stream",
     "text": [
      "281/281 [==============================] - 27s 90ms/step\n"
     ]
    }
   ],
   "source": [
    "bert_pred = model_bert.predict(x_valid, verbose=1)\n",
    "albert_pred = model_albert.predict(x_valid)"
   ]
  },
  {
   "cell_type": "code",
   "execution_count": 63,
   "id": "0a079c4d",
   "metadata": {},
   "outputs": [],
   "source": [
    "bert_pred_class = np.argmax(bert_pred, axis=1)\n",
    "albert_pred_class = np.argmax(albert_pred, axis=1)"
   ]
  },
  {
   "cell_type": "code",
   "execution_count": 64,
   "id": "b90fc004",
   "metadata": {},
   "outputs": [
    {
     "name": "stdout",
     "output_type": "stream",
     "text": [
      "250/250 [==============================] - 18s 64ms/step\n",
      "250/250 [==============================] - 18s 66ms/step\n"
     ]
    }
   ],
   "source": [
    "test_pred_bert = model_bert.predict(test_dataset, verbose=1)\n",
    "test_pred_albert = model_albert.predict(test_dataset, verbose=1)\n",
    "\n",
    "test_pred_bert_class = np.argmax(test_pred_bert, axis=1)\n",
    "test_pred_albert_class = np.argmax(test_pred_albert, axis=1)"
   ]
  },
  {
   "cell_type": "markdown",
   "id": "c908aeb1",
   "metadata": {},
   "source": [
    "## 4. Stacking & Boosting Ensemble learning"
   ]
  },
  {
   "cell_type": "markdown",
   "id": "213614f0",
   "metadata": {},
   "source": [
    "이전에 구했었던 검증 데이터에 대해 개별 모델로 예측한 메타데이터를 생성하여 스태킹 앙상블에 대한 훈련 데이터를 만들었습니다.  \n",
    "또한, 최종 예측할 테스트 데이터에 대한 개별 모델 예측 메타데이터도 생성했습니다.  \n",
    "만들어진 메타 데이터 학습을 하며 Stacking 앙상블을, 최종 판별 모델을 XGBoost를 사용하며 Boosting 앙상블을 적용했습니다.  \n",
    "이렇게 만들어진 XGBoost 모델을 통해 테스트 메타 데이터에 똑같이 적용함으로써 최종 예측을 진행했습니다.  "
   ]
  },
  {
   "cell_type": "markdown",
   "id": "ce0ff920",
   "metadata": {},
   "source": [
    "### 4.1 메타 데이터 생성"
   ]
  },
  {
   "cell_type": "markdown",
   "id": "6b6c23b8",
   "metadata": {},
   "source": [
    "위에서 구한 electra_pred, electra_pred_class, bert_pred, bert_pred_class, albert_pred, albert_pred_class 변수에 선언된 배열 값들을  \n",
    "활용해 최종 판별 모델 XGBoost에 적용할 앙상블 데이터셋을 만들었습니다.  "
   ]
  },
  {
   "cell_type": "code",
   "execution_count": 65,
   "id": "02268c03",
   "metadata": {},
   "outputs": [
    {
     "name": "stdout",
     "output_type": "stream",
     "text": [
      "(12, 8967)\n"
     ]
    }
   ],
   "source": [
    "meta_data = np.array([\n",
    "    np.transpose(electra_pred)[0], np.transpose(electra_pred)[1], np.transpose(electra_pred)[2], electra_pred_class,\n",
    "    np.transpose(bert_pred)[0], np.transpose(bert_pred)[1], np.transpose(bert_pred)[2], bert_pred_class,\n",
    "    np.transpose(albert_pred)[0], np.transpose(albert_pred)[1], np.transpose(albert_pred)[2], albert_pred_class\n",
    "])\n",
    "print(meta_data.shape)"
   ]
  },
  {
   "cell_type": "code",
   "execution_count": 66,
   "id": "3c5e7296",
   "metadata": {},
   "outputs": [
    {
     "name": "stdout",
     "output_type": "stream",
     "text": [
      "(8967, 12)\n"
     ]
    }
   ],
   "source": [
    "meta_data = np.transpose(meta_data)\n",
    "print(meta_data.shape)"
   ]
  },
  {
   "cell_type": "markdown",
   "id": "06e659a5",
   "metadata": {},
   "source": [
    "### 4.2 XGBoost Modeling"
   ]
  },
  {
   "cell_type": "code",
   "execution_count": 67,
   "id": "b7af7025",
   "metadata": {},
   "outputs": [],
   "source": [
    "from xgboost import XGBClassifier\n",
    "\n",
    "xgb_final = XGBClassifier(silent=False,\n",
    "                          n_estimators = 10000,\n",
    "                          booster='gbtree',\n",
    "                          tree_method='gpu_hist',\n",
    "                          preidctor= 'gpu_predictor',\n",
    "                          learning_rate=0.1,\n",
    "                          objective='multi:softmax',\n",
    "                          max_depth = 8,\n",
    "                          subsample = 0.8,\n",
    "                          random_state=42)"
   ]
  },
  {
   "cell_type": "code",
   "execution_count": 68,
   "id": "d0884cdb",
   "metadata": {},
   "outputs": [
    {
     "name": "stdout",
     "output_type": "stream",
     "text": [
      "[18:49:58] WARNING: ../src/learner.cc:627: \n",
      "Parameters: { \"preidctor\", \"silent\" } might not be used.\n",
      "\n",
      "  This could be a false alarm, with some parameters getting used by language bindings but\n",
      "  then being mistakenly passed down to XGBoost core, or some parameter actually being used\n",
      "  but getting flagged wrongly here. Please open an issue if you find any such cases.\n",
      "\n",
      "\n"
     ]
    }
   ],
   "source": [
    "final_model = xgb_final.fit(meta_data, y_valid)"
   ]
  },
  {
   "cell_type": "code",
   "execution_count": 69,
   "id": "4a1176cd",
   "metadata": {},
   "outputs": [],
   "source": [
    "final = final_model.predict(meta_data)"
   ]
  },
  {
   "cell_type": "code",
   "execution_count": 70,
   "id": "2da2a1b2",
   "metadata": {},
   "outputs": [
    {
     "name": "stdout",
     "output_type": "stream",
     "text": [
      "최종 메타 모델의 예측 정확도: 1.0000\n"
     ]
    }
   ],
   "source": [
    "print('최종 메타 모델의 예측 정확도: {0:.4f}'.format(accuracy_score(y_valid , final)))"
   ]
  },
  {
   "cell_type": "code",
   "execution_count": 71,
   "id": "db2447ba",
   "metadata": {},
   "outputs": [
    {
     "data": {
      "text/plain": [
       "8967"
      ]
     },
     "execution_count": 71,
     "metadata": {},
     "output_type": "execute_result"
    }
   ],
   "source": [
    "len(final)"
   ]
  },
  {
   "cell_type": "markdown",
   "id": "ff16e9ee",
   "metadata": {},
   "source": [
    "### 4.3 최종 예측 메타 데이터 생성 및 최종 판별 진행"
   ]
  },
  {
   "cell_type": "code",
   "execution_count": 72,
   "id": "58a716d3",
   "metadata": {},
   "outputs": [
    {
     "name": "stdout",
     "output_type": "stream",
     "text": [
      "(12, 5000)\n"
     ]
    }
   ],
   "source": [
    "test_meta_data = np.array([\n",
    "    np.transpose(test_pred_electra)[0], np.transpose(test_pred_electra)[1], np.transpose(test_pred_electra)[2], test_pred_electra_class,\n",
    "    np.transpose(test_pred_bert)[0], np.transpose(test_pred_bert)[1], np.transpose(test_pred_bert)[2], test_pred_bert_class,\n",
    "    np.transpose(test_pred_albert)[0], np.transpose(test_pred_albert)[1], np.transpose(test_pred_albert)[2], test_pred_albert_class\n",
    "])\n",
    "print(test_meta_data.shape)"
   ]
  },
  {
   "cell_type": "code",
   "execution_count": 73,
   "id": "098caf12",
   "metadata": {},
   "outputs": [],
   "source": [
    "test_meta_data = np.transpose(test_meta_data)"
   ]
  },
  {
   "cell_type": "code",
   "execution_count": 74,
   "id": "9f0aef16",
   "metadata": {},
   "outputs": [
    {
     "name": "stdout",
     "output_type": "stream",
     "text": [
      "(5000, 12)\n"
     ]
    }
   ],
   "source": [
    "print(test_meta_data.shape)"
   ]
  },
  {
   "cell_type": "code",
   "execution_count": 75,
   "id": "f6253ffc",
   "metadata": {},
   "outputs": [],
   "source": [
    "predictions = final_model.predict(test_meta_data)"
   ]
  },
  {
   "cell_type": "code",
   "execution_count": 76,
   "id": "caa97aa7",
   "metadata": {},
   "outputs": [
    {
     "data": {
      "text/plain": [
       "array([0, 1, 2, ..., 2, 0, 0], dtype=int32)"
      ]
     },
     "execution_count": 76,
     "metadata": {},
     "output_type": "execute_result"
    }
   ],
   "source": [
    "predictions"
   ]
  },
  {
   "cell_type": "code",
   "execution_count": 77,
   "id": "5a258d30",
   "metadata": {},
   "outputs": [],
   "source": [
    "list1 = [i for i in range(5000)]"
   ]
  },
  {
   "cell_type": "code",
   "execution_count": 78,
   "id": "dd4b009f",
   "metadata": {},
   "outputs": [],
   "source": [
    "list2 = predictions"
   ]
  },
  {
   "cell_type": "code",
   "execution_count": 79,
   "id": "6b927352",
   "metadata": {},
   "outputs": [],
   "source": [
    "submission = pd.DataFrame({'index':list1,\n",
    "                           'label':list2})"
   ]
  },
  {
   "cell_type": "code",
   "execution_count": 80,
   "id": "ed241997",
   "metadata": {},
   "outputs": [
    {
     "data": {
      "text/html": [
       "<div>\n",
       "<style scoped>\n",
       "    .dataframe tbody tr th:only-of-type {\n",
       "        vertical-align: middle;\n",
       "    }\n",
       "\n",
       "    .dataframe tbody tr th {\n",
       "        vertical-align: top;\n",
       "    }\n",
       "\n",
       "    .dataframe thead th {\n",
       "        text-align: right;\n",
       "    }\n",
       "</style>\n",
       "<table border=\"1\" class=\"dataframe\">\n",
       "  <thead>\n",
       "    <tr style=\"text-align: right;\">\n",
       "      <th></th>\n",
       "      <th>index</th>\n",
       "      <th>label</th>\n",
       "    </tr>\n",
       "  </thead>\n",
       "  <tbody>\n",
       "    <tr>\n",
       "      <th>0</th>\n",
       "      <td>0</td>\n",
       "      <td>0</td>\n",
       "    </tr>\n",
       "    <tr>\n",
       "      <th>1</th>\n",
       "      <td>1</td>\n",
       "      <td>1</td>\n",
       "    </tr>\n",
       "    <tr>\n",
       "      <th>2</th>\n",
       "      <td>2</td>\n",
       "      <td>2</td>\n",
       "    </tr>\n",
       "    <tr>\n",
       "      <th>3</th>\n",
       "      <td>3</td>\n",
       "      <td>1</td>\n",
       "    </tr>\n",
       "    <tr>\n",
       "      <th>4</th>\n",
       "      <td>4</td>\n",
       "      <td>2</td>\n",
       "    </tr>\n",
       "    <tr>\n",
       "      <th>...</th>\n",
       "      <td>...</td>\n",
       "      <td>...</td>\n",
       "    </tr>\n",
       "    <tr>\n",
       "      <th>4995</th>\n",
       "      <td>4995</td>\n",
       "      <td>2</td>\n",
       "    </tr>\n",
       "    <tr>\n",
       "      <th>4996</th>\n",
       "      <td>4996</td>\n",
       "      <td>0</td>\n",
       "    </tr>\n",
       "    <tr>\n",
       "      <th>4997</th>\n",
       "      <td>4997</td>\n",
       "      <td>2</td>\n",
       "    </tr>\n",
       "    <tr>\n",
       "      <th>4998</th>\n",
       "      <td>4998</td>\n",
       "      <td>0</td>\n",
       "    </tr>\n",
       "    <tr>\n",
       "      <th>4999</th>\n",
       "      <td>4999</td>\n",
       "      <td>0</td>\n",
       "    </tr>\n",
       "  </tbody>\n",
       "</table>\n",
       "<p>5000 rows × 2 columns</p>\n",
       "</div>"
      ],
      "text/plain": [
       "      index  label\n",
       "0         0      0\n",
       "1         1      1\n",
       "2         2      2\n",
       "3         3      1\n",
       "4         4      2\n",
       "...     ...    ...\n",
       "4995   4995      2\n",
       "4996   4996      0\n",
       "4997   4997      2\n",
       "4998   4998      0\n",
       "4999   4999      0\n",
       "\n",
       "[5000 rows x 2 columns]"
      ]
     },
     "execution_count": 80,
     "metadata": {},
     "output_type": "execute_result"
    }
   ],
   "source": [
    "submission"
   ]
  },
  {
   "cell_type": "code",
   "execution_count": 81,
   "id": "01e4f40c",
   "metadata": {},
   "outputs": [],
   "source": [
    "# contradiction => 0 entailment => 1 neutral => 2\n",
    "submission['label'].replace(0, 'contradiction', inplace=True)\n",
    "submission['label'].replace(1, 'entailment', inplace=True)\n",
    "submission['label'].replace(2, 'neutral', inplace=True)"
   ]
  },
  {
   "cell_type": "code",
   "execution_count": 82,
   "id": "8f6216fd",
   "metadata": {},
   "outputs": [],
   "source": [
    "submission.to_csv(\"../submission/submission_stacking_v4.csv\", index = False)"
   ]
  },
  {
   "cell_type": "code",
   "execution_count": null,
   "id": "96285c95",
   "metadata": {},
   "outputs": [],
   "source": [
    "# model.save('competition_stacking_v1.h5')\n",
    "# Load model code\n",
    "# new_model = tf.keras.models.load_model('competition_stacking_v1.h5')\n",
    "# test_loss, test_acc = new_model.evaluate(x,  y, verbose=2)"
   ]
  }
 ],
 "metadata": {
  "kernelspec": {
   "display_name": "Python 3 (ipykernel)",
   "language": "python",
   "name": "python3"
  },
  "language_info": {
   "codemirror_mode": {
    "name": "ipython",
    "version": 3
   },
   "file_extension": ".py",
   "mimetype": "text/x-python",
   "name": "python",
   "nbconvert_exporter": "python",
   "pygments_lexer": "ipython3",
   "version": "3.9.12"
  }
 },
 "nbformat": 4,
 "nbformat_minor": 5
}
